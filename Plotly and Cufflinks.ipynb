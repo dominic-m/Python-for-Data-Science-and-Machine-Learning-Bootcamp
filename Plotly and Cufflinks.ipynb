{
 "cells": [
  {
   "cell_type": "markdown",
   "metadata": {},
   "source": [
    "# Plotly and Cufflinks"
   ]
  },
  {
   "cell_type": "markdown",
   "metadata": {},
   "source": [
    "---\n",
    "## Imports and Set-up"
   ]
  },
  {
   "cell_type": "code",
   "execution_count": 23,
   "metadata": {},
   "outputs": [
    {
     "data": {
      "text/html": [
       "<style>.container { width:80% !important; } </style>"
      ],
      "text/plain": [
       "<IPython.core.display.HTML object>"
      ]
     },
     "metadata": {},
     "output_type": "display_data"
    }
   ],
   "source": [
    "#extend the normal jupyter display to use more window width\n",
    "from IPython.core.display import display, HTML\n",
    "display(HTML(\"<style>.container { width:80% !important; } </style>\"))"
   ]
  },
  {
   "cell_type": "code",
   "execution_count": 1,
   "metadata": {},
   "outputs": [],
   "source": [
    "import pandas as pd\n",
    "import numpy as np\n",
    "%matplotlib inline"
   ]
  },
  {
   "cell_type": "code",
   "execution_count": 2,
   "metadata": {},
   "outputs": [
    {
     "name": "stdout",
     "output_type": "stream",
     "text": [
      "4.1.1\n"
     ]
    }
   ],
   "source": [
    "from plotly import __version__\n",
    "from plotly.offline import download_plotlyjs, init_notebook_mode, plot, iplot\n",
    "\n",
    "print(__version__)"
   ]
  },
  {
   "cell_type": "code",
   "execution_count": 3,
   "metadata": {},
   "outputs": [],
   "source": [
    "import cufflinks as cf"
   ]
  },
  {
   "cell_type": "code",
   "execution_count": 6,
   "metadata": {},
   "outputs": [
    {
     "data": {
      "text/html": [
       "        <script type=\"text/javascript\">\n",
       "        window.PlotlyConfig = {MathJaxConfig: 'local'};\n",
       "        if (window.MathJax) {MathJax.Hub.Config({SVG: {font: \"STIX-Web\"}});}\n",
       "        if (typeof require !== 'undefined') {\n",
       "        require.undef(\"plotly\");\n",
       "        requirejs.config({\n",
       "            paths: {\n",
       "                'plotly': ['https://cdn.plot.ly/plotly-latest.min']\n",
       "            }\n",
       "        });\n",
       "        require(['plotly'], function(Plotly) {\n",
       "            window._Plotly = Plotly;\n",
       "        });\n",
       "        }\n",
       "        </script>\n",
       "        "
      ]
     },
     "metadata": {},
     "output_type": "display_data"
    },
    {
     "data": {
      "text/html": [
       "        <script type=\"text/javascript\">\n",
       "        window.PlotlyConfig = {MathJaxConfig: 'local'};\n",
       "        if (window.MathJax) {MathJax.Hub.Config({SVG: {font: \"STIX-Web\"}});}\n",
       "        if (typeof require !== 'undefined') {\n",
       "        require.undef(\"plotly\");\n",
       "        requirejs.config({\n",
       "            paths: {\n",
       "                'plotly': ['https://cdn.plot.ly/plotly-latest.min']\n",
       "            }\n",
       "        });\n",
       "        require(['plotly'], function(Plotly) {\n",
       "            window._Plotly = Plotly;\n",
       "        });\n",
       "        }\n",
       "        </script>\n",
       "        "
      ]
     },
     "metadata": {},
     "output_type": "display_data"
    }
   ],
   "source": [
    "# For Jupyter Notebooks\n",
    "init_notebook_mode(connected=True)\n",
    "# Cufflinks offline use\n",
    "cf.go_offline()"
   ]
  },
  {
   "cell_type": "markdown",
   "metadata": {},
   "source": [
    "---\n",
    "### Fake Data"
   ]
  },
  {
   "cell_type": "code",
   "execution_count": 7,
   "metadata": {},
   "outputs": [],
   "source": [
    "df = pd.DataFrame(np.random.randn(100,4), columns = 'A B C D'.split())"
   ]
  },
  {
   "cell_type": "code",
   "execution_count": 8,
   "metadata": {},
   "outputs": [
    {
     "data": {
      "text/html": [
       "<div>\n",
       "<style scoped>\n",
       "    .dataframe tbody tr th:only-of-type {\n",
       "        vertical-align: middle;\n",
       "    }\n",
       "\n",
       "    .dataframe tbody tr th {\n",
       "        vertical-align: top;\n",
       "    }\n",
       "\n",
       "    .dataframe thead th {\n",
       "        text-align: right;\n",
       "    }\n",
       "</style>\n",
       "<table border=\"1\" class=\"dataframe\">\n",
       "  <thead>\n",
       "    <tr style=\"text-align: right;\">\n",
       "      <th></th>\n",
       "      <th>A</th>\n",
       "      <th>B</th>\n",
       "      <th>C</th>\n",
       "      <th>D</th>\n",
       "    </tr>\n",
       "  </thead>\n",
       "  <tbody>\n",
       "    <tr>\n",
       "      <td>0</td>\n",
       "      <td>1.044969</td>\n",
       "      <td>-0.612287</td>\n",
       "      <td>-0.514253</td>\n",
       "      <td>0.605087</td>\n",
       "    </tr>\n",
       "    <tr>\n",
       "      <td>1</td>\n",
       "      <td>1.401487</td>\n",
       "      <td>1.108187</td>\n",
       "      <td>0.506027</td>\n",
       "      <td>-0.616587</td>\n",
       "    </tr>\n",
       "    <tr>\n",
       "      <td>2</td>\n",
       "      <td>0.277751</td>\n",
       "      <td>0.072373</td>\n",
       "      <td>-1.619958</td>\n",
       "      <td>1.948798</td>\n",
       "    </tr>\n",
       "    <tr>\n",
       "      <td>3</td>\n",
       "      <td>-1.040677</td>\n",
       "      <td>1.406696</td>\n",
       "      <td>1.852059</td>\n",
       "      <td>-0.909873</td>\n",
       "    </tr>\n",
       "    <tr>\n",
       "      <td>4</td>\n",
       "      <td>0.006360</td>\n",
       "      <td>2.677619</td>\n",
       "      <td>-0.065541</td>\n",
       "      <td>-2.492193</td>\n",
       "    </tr>\n",
       "  </tbody>\n",
       "</table>\n",
       "</div>"
      ],
      "text/plain": [
       "          A         B         C         D\n",
       "0  1.044969 -0.612287 -0.514253  0.605087\n",
       "1  1.401487  1.108187  0.506027 -0.616587\n",
       "2  0.277751  0.072373 -1.619958  1.948798\n",
       "3 -1.040677  1.406696  1.852059 -0.909873\n",
       "4  0.006360  2.677619 -0.065541 -2.492193"
      ]
     },
     "execution_count": 8,
     "metadata": {},
     "output_type": "execute_result"
    }
   ],
   "source": [
    "df.head()"
   ]
  },
  {
   "cell_type": "code",
   "execution_count": 9,
   "metadata": {},
   "outputs": [],
   "source": [
    "df2 = pd.DataFrame({'Category':['A','B','C'], 'Values':[32,43,50]})"
   ]
  },
  {
   "cell_type": "code",
   "execution_count": 10,
   "metadata": {},
   "outputs": [
    {
     "data": {
      "text/html": [
       "<div>\n",
       "<style scoped>\n",
       "    .dataframe tbody tr th:only-of-type {\n",
       "        vertical-align: middle;\n",
       "    }\n",
       "\n",
       "    .dataframe tbody tr th {\n",
       "        vertical-align: top;\n",
       "    }\n",
       "\n",
       "    .dataframe thead th {\n",
       "        text-align: right;\n",
       "    }\n",
       "</style>\n",
       "<table border=\"1\" class=\"dataframe\">\n",
       "  <thead>\n",
       "    <tr style=\"text-align: right;\">\n",
       "      <th></th>\n",
       "      <th>Category</th>\n",
       "      <th>Values</th>\n",
       "    </tr>\n",
       "  </thead>\n",
       "  <tbody>\n",
       "    <tr>\n",
       "      <td>0</td>\n",
       "      <td>A</td>\n",
       "      <td>32</td>\n",
       "    </tr>\n",
       "    <tr>\n",
       "      <td>1</td>\n",
       "      <td>B</td>\n",
       "      <td>43</td>\n",
       "    </tr>\n",
       "    <tr>\n",
       "      <td>2</td>\n",
       "      <td>C</td>\n",
       "      <td>50</td>\n",
       "    </tr>\n",
       "  </tbody>\n",
       "</table>\n",
       "</div>"
      ],
      "text/plain": [
       "  Category  Values\n",
       "0        A      32\n",
       "1        B      43\n",
       "2        C      50"
      ]
     },
     "execution_count": 10,
     "metadata": {},
     "output_type": "execute_result"
    }
   ],
   "source": [
    "df2.head()"
   ]
  },
  {
   "cell_type": "markdown",
   "metadata": {},
   "source": [
    "## Using Cufflinks and iplot()\n",
    "\n",
    "* [Scatter](#scatter)\n",
    "* [Bar](#bar)\n",
    "* [Box](#box)\n",
    "* [Spread](#spread)\n",
    "* [Surface](#surface)\n",
    "* [Histogram](#histogram)\n",
    "* [Bubble](#bubble)"
   ]
  },
  {
   "cell_type": "markdown",
   "metadata": {},
   "source": [
    "<a id='scatter'></a>\n",
    "## Scatter"
   ]
  },
  {
   "cell_type": "code",
   "execution_count": 11,
   "metadata": {},
   "outputs": [
    {
     "data": {
      "application/vnd.plotly.v1+json": {
       "config": {
        "linkText": "Export to plot.ly",
        "plotlyServerURL": "https://plot.ly",
        "showLink": true
       },
       "data": [
        {
         "line": {
          "color": "rgba(255, 153, 51, 1.0)",
          "dash": "solid",
          "shape": "linear",
          "width": 1.3
         },
         "marker": {
          "size": 10,
          "symbol": "circle"
         },
         "mode": "markers",
         "name": "B",
         "text": "",
         "type": "scatter",
         "x": [
          1.0449692502051247,
          1.4014865892350301,
          0.2777510317952268,
          -1.0406765670657876,
          0.006359873179908175,
          0.12397386661141808,
          1.4994280432956189,
          -1.9346238092149068,
          0.35775705631885724,
          -0.34733273139125354,
          -1.3373498970995634,
          0.5091515021663505,
          1.6830219082728322,
          0.10537667311719211,
          -2.5140060263209567,
          -0.7889335872294903,
          -0.0793938247201161,
          1.0581598354422561,
          -0.30745406708624323,
          -0.9734821005483372,
          -0.7606620447650821,
          0.021183267166173587,
          -1.7574711218864698,
          -0.9512855259494061,
          0.276338353437027,
          1.0802903181292332,
          0.08603908044689187,
          0.1758005729081879,
          -0.9834799312375738,
          1.2317154884736348,
          -0.38431628365933634,
          -1.3881384191043795,
          -0.9125394169049456,
          -0.06794122752929284,
          -1.0022938850420355,
          -0.5095861337124544,
          -0.2145016229316288,
          -0.1943220846212686,
          -0.06818560747550947,
          -0.11897249361823674,
          -0.6495429422228579,
          0.06269089056141017,
          0.7860879064361281,
          -0.02466660086278837,
          -1.0398428437836782,
          1.961276736519445,
          -0.75184757764632,
          -1.0454232300948676,
          0.08359602149063225,
          -0.044816813695500904,
          -1.857736593010825,
          -0.32146990193714037,
          1.2739521892455514,
          -0.0681200681829437,
          0.05565804637859506,
          -0.9692222211336554,
          0.38286724571536196,
          -0.2831006200212324,
          2.763018694518891,
          -0.2431284914703938,
          0.6895516333352446,
          -0.9594802988637272,
          -0.36534172808055654,
          0.6370985113662331,
          -0.8755116726783624,
          -0.3281051711722991,
          -0.25980975372081383,
          -0.02807393604023754,
          1.773774961703449,
          0.22301815139047637,
          0.32490702837345103,
          0.5769192199507911,
          -0.3559427830466943,
          -0.30962702682606874,
          0.6877374686393355,
          0.4729623462551443,
          -1.3761942534956288,
          -0.36096947072820446,
          0.5562044076399122,
          1.2584082074658807,
          0.45376062650949156,
          1.2140873967387038,
          0.5732739119550228,
          2.3621996474302356,
          0.30980883930255376,
          -1.3104375373247683,
          -0.3006239722533239,
          0.4473291641086172,
          0.45413611270862947,
          1.0204039525647968,
          -1.0879414724793888,
          0.28759734847120055,
          0.10519796793009067,
          -0.5789700813247838,
          0.10266167172467248,
          0.0396210104831097,
          -0.3224039898722025,
          0.4844161425061551,
          0.8549570449938488,
          -0.5909057407999417
         ],
         "y": [
          -0.6122871493742158,
          1.1081871772883127,
          0.07237326664240411,
          1.406695566419615,
          2.677619031027863,
          1.112007896315254,
          -0.042717243892368036,
          0.7591151319917263,
          1.0556520331963073,
          1.2870160271112958,
          1.0403960791303974,
          0.3389096166665409,
          -0.8704406299249163,
          -0.05277500029748561,
          -0.36939451035933046,
          0.021989699598618934,
          1.1444382793684356,
          -0.8927764162249062,
          -0.1628051853947566,
          -0.5432752677219072,
          -1.240592684049764,
          -1.7721162352992212,
          1.9328913219273787,
          2.5947345249856943,
          0.039314714721758216,
          -0.3116962358433378,
          -0.2601966610359773,
          -0.5615995471631422,
          2.8799163670262224,
          0.15733010475255726,
          -0.10534874143218677,
          1.9020147526179778,
          -1.8874958202687249,
          0.2701239367297032,
          -0.4623567400425783,
          -0.9465296338310447,
          -1.306966472110278,
          0.0460281332075379,
          -0.42391723840307133,
          0.32106132358339107,
          -1.357774815758448,
          -0.1983057429079247,
          0.5394666356832476,
          0.27345282349426914,
          1.7115369034552415,
          1.3539777900604741,
          0.41853317042274557,
          0.42272832867468335,
          1.7478578513191985,
          0.2103817558651291,
          -1.1263253595684382,
          -0.20054913121668919,
          -0.44667446570921543,
          0.3582952961244712,
          -0.205638127832226,
          -0.5058332125899551,
          0.046587499309992404,
          -1.1411642331240202,
          2.3549815303843684,
          -1.3147166480097907,
          -1.11288153984668,
          -2.0500677731421284,
          0.21388936815754106,
          0.809410971577199,
          1.8446996235700726,
          -0.3183719938850659,
          -0.38613673683138866,
          -0.5626146532545004,
          0.33272738668322926,
          -0.7360737680381293,
          -0.07820086788220298,
          -0.9239854599721813,
          -0.3422751447747376,
          -0.27439983203656493,
          0.8789170986350728,
          -0.7653109466860576,
          -1.0293486730547823,
          -1.7521978262212234,
          0.22988231823569452,
          0.3452925830352003,
          0.6636820763451339,
          -0.4905628916181519,
          -0.9596968706279292,
          -1.0899108329787122,
          0.21527711643708103,
          0.38782001222417123,
          -2.3328215385791,
          0.2751742167113534,
          1.1775728381813217,
          0.6919533953962174,
          -0.3615718797962593,
          -0.7504278081657234,
          0.3403032080793858,
          -0.839800460389345,
          -0.06837495898684512,
          0.877458070792261,
          0.6542370835529798,
          -0.3644351488624026,
          0.250900416278955,
          -0.5321225014239536
         ]
        }
       ],
       "layout": {
        "legend": {
         "bgcolor": "#F5F6F9",
         "font": {
          "color": "#4D5663"
         }
        },
        "paper_bgcolor": "#F5F6F9",
        "plot_bgcolor": "#F5F6F9",
        "template": {
         "data": {
          "bar": [
           {
            "error_x": {
             "color": "#2a3f5f"
            },
            "error_y": {
             "color": "#2a3f5f"
            },
            "marker": {
             "line": {
              "color": "#E5ECF6",
              "width": 0.5
             }
            },
            "type": "bar"
           }
          ],
          "barpolar": [
           {
            "marker": {
             "line": {
              "color": "#E5ECF6",
              "width": 0.5
             }
            },
            "type": "barpolar"
           }
          ],
          "carpet": [
           {
            "aaxis": {
             "endlinecolor": "#2a3f5f",
             "gridcolor": "white",
             "linecolor": "white",
             "minorgridcolor": "white",
             "startlinecolor": "#2a3f5f"
            },
            "baxis": {
             "endlinecolor": "#2a3f5f",
             "gridcolor": "white",
             "linecolor": "white",
             "minorgridcolor": "white",
             "startlinecolor": "#2a3f5f"
            },
            "type": "carpet"
           }
          ],
          "choropleth": [
           {
            "colorbar": {
             "outlinewidth": 0,
             "ticks": ""
            },
            "type": "choropleth"
           }
          ],
          "contour": [
           {
            "colorbar": {
             "outlinewidth": 0,
             "ticks": ""
            },
            "colorscale": [
             [
              0,
              "#0d0887"
             ],
             [
              0.1111111111111111,
              "#46039f"
             ],
             [
              0.2222222222222222,
              "#7201a8"
             ],
             [
              0.3333333333333333,
              "#9c179e"
             ],
             [
              0.4444444444444444,
              "#bd3786"
             ],
             [
              0.5555555555555556,
              "#d8576b"
             ],
             [
              0.6666666666666666,
              "#ed7953"
             ],
             [
              0.7777777777777778,
              "#fb9f3a"
             ],
             [
              0.8888888888888888,
              "#fdca26"
             ],
             [
              1,
              "#f0f921"
             ]
            ],
            "type": "contour"
           }
          ],
          "contourcarpet": [
           {
            "colorbar": {
             "outlinewidth": 0,
             "ticks": ""
            },
            "type": "contourcarpet"
           }
          ],
          "heatmap": [
           {
            "colorbar": {
             "outlinewidth": 0,
             "ticks": ""
            },
            "colorscale": [
             [
              0,
              "#0d0887"
             ],
             [
              0.1111111111111111,
              "#46039f"
             ],
             [
              0.2222222222222222,
              "#7201a8"
             ],
             [
              0.3333333333333333,
              "#9c179e"
             ],
             [
              0.4444444444444444,
              "#bd3786"
             ],
             [
              0.5555555555555556,
              "#d8576b"
             ],
             [
              0.6666666666666666,
              "#ed7953"
             ],
             [
              0.7777777777777778,
              "#fb9f3a"
             ],
             [
              0.8888888888888888,
              "#fdca26"
             ],
             [
              1,
              "#f0f921"
             ]
            ],
            "type": "heatmap"
           }
          ],
          "heatmapgl": [
           {
            "colorbar": {
             "outlinewidth": 0,
             "ticks": ""
            },
            "colorscale": [
             [
              0,
              "#0d0887"
             ],
             [
              0.1111111111111111,
              "#46039f"
             ],
             [
              0.2222222222222222,
              "#7201a8"
             ],
             [
              0.3333333333333333,
              "#9c179e"
             ],
             [
              0.4444444444444444,
              "#bd3786"
             ],
             [
              0.5555555555555556,
              "#d8576b"
             ],
             [
              0.6666666666666666,
              "#ed7953"
             ],
             [
              0.7777777777777778,
              "#fb9f3a"
             ],
             [
              0.8888888888888888,
              "#fdca26"
             ],
             [
              1,
              "#f0f921"
             ]
            ],
            "type": "heatmapgl"
           }
          ],
          "histogram": [
           {
            "marker": {
             "colorbar": {
              "outlinewidth": 0,
              "ticks": ""
             }
            },
            "type": "histogram"
           }
          ],
          "histogram2d": [
           {
            "colorbar": {
             "outlinewidth": 0,
             "ticks": ""
            },
            "colorscale": [
             [
              0,
              "#0d0887"
             ],
             [
              0.1111111111111111,
              "#46039f"
             ],
             [
              0.2222222222222222,
              "#7201a8"
             ],
             [
              0.3333333333333333,
              "#9c179e"
             ],
             [
              0.4444444444444444,
              "#bd3786"
             ],
             [
              0.5555555555555556,
              "#d8576b"
             ],
             [
              0.6666666666666666,
              "#ed7953"
             ],
             [
              0.7777777777777778,
              "#fb9f3a"
             ],
             [
              0.8888888888888888,
              "#fdca26"
             ],
             [
              1,
              "#f0f921"
             ]
            ],
            "type": "histogram2d"
           }
          ],
          "histogram2dcontour": [
           {
            "colorbar": {
             "outlinewidth": 0,
             "ticks": ""
            },
            "colorscale": [
             [
              0,
              "#0d0887"
             ],
             [
              0.1111111111111111,
              "#46039f"
             ],
             [
              0.2222222222222222,
              "#7201a8"
             ],
             [
              0.3333333333333333,
              "#9c179e"
             ],
             [
              0.4444444444444444,
              "#bd3786"
             ],
             [
              0.5555555555555556,
              "#d8576b"
             ],
             [
              0.6666666666666666,
              "#ed7953"
             ],
             [
              0.7777777777777778,
              "#fb9f3a"
             ],
             [
              0.8888888888888888,
              "#fdca26"
             ],
             [
              1,
              "#f0f921"
             ]
            ],
            "type": "histogram2dcontour"
           }
          ],
          "mesh3d": [
           {
            "colorbar": {
             "outlinewidth": 0,
             "ticks": ""
            },
            "type": "mesh3d"
           }
          ],
          "parcoords": [
           {
            "line": {
             "colorbar": {
              "outlinewidth": 0,
              "ticks": ""
             }
            },
            "type": "parcoords"
           }
          ],
          "scatter": [
           {
            "marker": {
             "colorbar": {
              "outlinewidth": 0,
              "ticks": ""
             }
            },
            "type": "scatter"
           }
          ],
          "scatter3d": [
           {
            "line": {
             "colorbar": {
              "outlinewidth": 0,
              "ticks": ""
             }
            },
            "marker": {
             "colorbar": {
              "outlinewidth": 0,
              "ticks": ""
             }
            },
            "type": "scatter3d"
           }
          ],
          "scattercarpet": [
           {
            "marker": {
             "colorbar": {
              "outlinewidth": 0,
              "ticks": ""
             }
            },
            "type": "scattercarpet"
           }
          ],
          "scattergeo": [
           {
            "marker": {
             "colorbar": {
              "outlinewidth": 0,
              "ticks": ""
             }
            },
            "type": "scattergeo"
           }
          ],
          "scattergl": [
           {
            "marker": {
             "colorbar": {
              "outlinewidth": 0,
              "ticks": ""
             }
            },
            "type": "scattergl"
           }
          ],
          "scattermapbox": [
           {
            "marker": {
             "colorbar": {
              "outlinewidth": 0,
              "ticks": ""
             }
            },
            "type": "scattermapbox"
           }
          ],
          "scatterpolar": [
           {
            "marker": {
             "colorbar": {
              "outlinewidth": 0,
              "ticks": ""
             }
            },
            "type": "scatterpolar"
           }
          ],
          "scatterpolargl": [
           {
            "marker": {
             "colorbar": {
              "outlinewidth": 0,
              "ticks": ""
             }
            },
            "type": "scatterpolargl"
           }
          ],
          "scatterternary": [
           {
            "marker": {
             "colorbar": {
              "outlinewidth": 0,
              "ticks": ""
             }
            },
            "type": "scatterternary"
           }
          ],
          "surface": [
           {
            "colorbar": {
             "outlinewidth": 0,
             "ticks": ""
            },
            "colorscale": [
             [
              0,
              "#0d0887"
             ],
             [
              0.1111111111111111,
              "#46039f"
             ],
             [
              0.2222222222222222,
              "#7201a8"
             ],
             [
              0.3333333333333333,
              "#9c179e"
             ],
             [
              0.4444444444444444,
              "#bd3786"
             ],
             [
              0.5555555555555556,
              "#d8576b"
             ],
             [
              0.6666666666666666,
              "#ed7953"
             ],
             [
              0.7777777777777778,
              "#fb9f3a"
             ],
             [
              0.8888888888888888,
              "#fdca26"
             ],
             [
              1,
              "#f0f921"
             ]
            ],
            "type": "surface"
           }
          ],
          "table": [
           {
            "cells": {
             "fill": {
              "color": "#EBF0F8"
             },
             "line": {
              "color": "white"
             }
            },
            "header": {
             "fill": {
              "color": "#C8D4E3"
             },
             "line": {
              "color": "white"
             }
            },
            "type": "table"
           }
          ]
         },
         "layout": {
          "annotationdefaults": {
           "arrowcolor": "#2a3f5f",
           "arrowhead": 0,
           "arrowwidth": 1
          },
          "colorscale": {
           "diverging": [
            [
             0,
             "#8e0152"
            ],
            [
             0.1,
             "#c51b7d"
            ],
            [
             0.2,
             "#de77ae"
            ],
            [
             0.3,
             "#f1b6da"
            ],
            [
             0.4,
             "#fde0ef"
            ],
            [
             0.5,
             "#f7f7f7"
            ],
            [
             0.6,
             "#e6f5d0"
            ],
            [
             0.7,
             "#b8e186"
            ],
            [
             0.8,
             "#7fbc41"
            ],
            [
             0.9,
             "#4d9221"
            ],
            [
             1,
             "#276419"
            ]
           ],
           "sequential": [
            [
             0,
             "#0d0887"
            ],
            [
             0.1111111111111111,
             "#46039f"
            ],
            [
             0.2222222222222222,
             "#7201a8"
            ],
            [
             0.3333333333333333,
             "#9c179e"
            ],
            [
             0.4444444444444444,
             "#bd3786"
            ],
            [
             0.5555555555555556,
             "#d8576b"
            ],
            [
             0.6666666666666666,
             "#ed7953"
            ],
            [
             0.7777777777777778,
             "#fb9f3a"
            ],
            [
             0.8888888888888888,
             "#fdca26"
            ],
            [
             1,
             "#f0f921"
            ]
           ],
           "sequentialminus": [
            [
             0,
             "#0d0887"
            ],
            [
             0.1111111111111111,
             "#46039f"
            ],
            [
             0.2222222222222222,
             "#7201a8"
            ],
            [
             0.3333333333333333,
             "#9c179e"
            ],
            [
             0.4444444444444444,
             "#bd3786"
            ],
            [
             0.5555555555555556,
             "#d8576b"
            ],
            [
             0.6666666666666666,
             "#ed7953"
            ],
            [
             0.7777777777777778,
             "#fb9f3a"
            ],
            [
             0.8888888888888888,
             "#fdca26"
            ],
            [
             1,
             "#f0f921"
            ]
           ]
          },
          "colorway": [
           "#636efa",
           "#EF553B",
           "#00cc96",
           "#ab63fa",
           "#FFA15A",
           "#19d3f3",
           "#FF6692",
           "#B6E880",
           "#FF97FF",
           "#FECB52"
          ],
          "font": {
           "color": "#2a3f5f"
          },
          "geo": {
           "bgcolor": "white",
           "lakecolor": "white",
           "landcolor": "#E5ECF6",
           "showlakes": true,
           "showland": true,
           "subunitcolor": "white"
          },
          "hoverlabel": {
           "align": "left"
          },
          "hovermode": "closest",
          "mapbox": {
           "style": "light"
          },
          "paper_bgcolor": "white",
          "plot_bgcolor": "#E5ECF6",
          "polar": {
           "angularaxis": {
            "gridcolor": "white",
            "linecolor": "white",
            "ticks": ""
           },
           "bgcolor": "#E5ECF6",
           "radialaxis": {
            "gridcolor": "white",
            "linecolor": "white",
            "ticks": ""
           }
          },
          "scene": {
           "xaxis": {
            "backgroundcolor": "#E5ECF6",
            "gridcolor": "white",
            "gridwidth": 2,
            "linecolor": "white",
            "showbackground": true,
            "ticks": "",
            "zerolinecolor": "white"
           },
           "yaxis": {
            "backgroundcolor": "#E5ECF6",
            "gridcolor": "white",
            "gridwidth": 2,
            "linecolor": "white",
            "showbackground": true,
            "ticks": "",
            "zerolinecolor": "white"
           },
           "zaxis": {
            "backgroundcolor": "#E5ECF6",
            "gridcolor": "white",
            "gridwidth": 2,
            "linecolor": "white",
            "showbackground": true,
            "ticks": "",
            "zerolinecolor": "white"
           }
          },
          "shapedefaults": {
           "line": {
            "color": "#2a3f5f"
           }
          },
          "ternary": {
           "aaxis": {
            "gridcolor": "white",
            "linecolor": "white",
            "ticks": ""
           },
           "baxis": {
            "gridcolor": "white",
            "linecolor": "white",
            "ticks": ""
           },
           "bgcolor": "#E5ECF6",
           "caxis": {
            "gridcolor": "white",
            "linecolor": "white",
            "ticks": ""
           }
          },
          "title": {
           "x": 0.05
          },
          "xaxis": {
           "automargin": true,
           "gridcolor": "white",
           "linecolor": "white",
           "ticks": "",
           "zerolinecolor": "white",
           "zerolinewidth": 2
          },
          "yaxis": {
           "automargin": true,
           "gridcolor": "white",
           "linecolor": "white",
           "ticks": "",
           "zerolinecolor": "white",
           "zerolinewidth": 2
          }
         }
        },
        "title": {
         "font": {
          "color": "#4D5663"
         }
        },
        "xaxis": {
         "gridcolor": "#E1E5ED",
         "showgrid": true,
         "tickfont": {
          "color": "#4D5663"
         },
         "title": {
          "font": {
           "color": "#4D5663"
          },
          "text": ""
         },
         "zerolinecolor": "#E1E5ED"
        },
        "yaxis": {
         "gridcolor": "#E1E5ED",
         "showgrid": true,
         "tickfont": {
          "color": "#4D5663"
         },
         "title": {
          "font": {
           "color": "#4D5663"
          },
          "text": ""
         },
         "zerolinecolor": "#E1E5ED"
        }
       }
      },
      "text/html": [
       "<div>\n",
       "        \n",
       "        \n",
       "            <div id=\"714e1fcf-c2b5-4268-b1e5-97eb4da11c3f\" class=\"plotly-graph-div\" style=\"height:525px; width:100%;\"></div>\n",
       "            <script type=\"text/javascript\">\n",
       "                require([\"plotly\"], function(Plotly) {\n",
       "                    window.PLOTLYENV=window.PLOTLYENV || {};\n",
       "                    window.PLOTLYENV.BASE_URL='https://plot.ly';\n",
       "                    \n",
       "                if (document.getElementById(\"714e1fcf-c2b5-4268-b1e5-97eb4da11c3f\")) {\n",
       "                    Plotly.newPlot(\n",
       "                        '714e1fcf-c2b5-4268-b1e5-97eb4da11c3f',\n",
       "                        [{\"line\": {\"color\": \"rgba(255, 153, 51, 1.0)\", \"dash\": \"solid\", \"shape\": \"linear\", \"width\": 1.3}, \"marker\": {\"size\": 10, \"symbol\": \"circle\"}, \"mode\": \"markers\", \"name\": \"B\", \"text\": \"\", \"type\": \"scatter\", \"x\": [1.0449692502051247, 1.4014865892350301, 0.2777510317952268, -1.0406765670657876, 0.006359873179908175, 0.12397386661141808, 1.4994280432956189, -1.9346238092149068, 0.35775705631885724, -0.34733273139125354, -1.3373498970995634, 0.5091515021663505, 1.6830219082728322, 0.10537667311719211, -2.5140060263209567, -0.7889335872294903, -0.0793938247201161, 1.0581598354422561, -0.30745406708624323, -0.9734821005483372, -0.7606620447650821, 0.021183267166173587, -1.7574711218864698, -0.9512855259494061, 0.276338353437027, 1.0802903181292332, 0.08603908044689187, 0.1758005729081879, -0.9834799312375738, 1.2317154884736348, -0.38431628365933634, -1.3881384191043795, -0.9125394169049456, -0.06794122752929284, -1.0022938850420355, -0.5095861337124544, -0.2145016229316288, -0.1943220846212686, -0.06818560747550947, -0.11897249361823674, -0.6495429422228579, 0.06269089056141017, 0.7860879064361281, -0.02466660086278837, -1.0398428437836782, 1.961276736519445, -0.75184757764632, -1.0454232300948676, 0.08359602149063225, -0.044816813695500904, -1.857736593010825, -0.32146990193714037, 1.2739521892455514, -0.0681200681829437, 0.05565804637859506, -0.9692222211336554, 0.38286724571536196, -0.2831006200212324, 2.763018694518891, -0.2431284914703938, 0.6895516333352446, -0.9594802988637272, -0.36534172808055654, 0.6370985113662331, -0.8755116726783624, -0.3281051711722991, -0.25980975372081383, -0.02807393604023754, 1.773774961703449, 0.22301815139047637, 0.32490702837345103, 0.5769192199507911, -0.3559427830466943, -0.30962702682606874, 0.6877374686393355, 0.4729623462551443, -1.3761942534956288, -0.36096947072820446, 0.5562044076399122, 1.2584082074658807, 0.45376062650949156, 1.2140873967387038, 0.5732739119550228, 2.3621996474302356, 0.30980883930255376, -1.3104375373247683, -0.3006239722533239, 0.4473291641086172, 0.45413611270862947, 1.0204039525647968, -1.0879414724793888, 0.28759734847120055, 0.10519796793009067, -0.5789700813247838, 0.10266167172467248, 0.0396210104831097, -0.3224039898722025, 0.4844161425061551, 0.8549570449938488, -0.5909057407999417], \"y\": [-0.6122871493742158, 1.1081871772883127, 0.07237326664240411, 1.406695566419615, 2.677619031027863, 1.112007896315254, -0.042717243892368036, 0.7591151319917263, 1.0556520331963073, 1.2870160271112958, 1.0403960791303974, 0.3389096166665409, -0.8704406299249163, -0.05277500029748561, -0.36939451035933046, 0.021989699598618934, 1.1444382793684356, -0.8927764162249062, -0.1628051853947566, -0.5432752677219072, -1.240592684049764, -1.7721162352992212, 1.9328913219273787, 2.5947345249856943, 0.039314714721758216, -0.3116962358433378, -0.2601966610359773, -0.5615995471631422, 2.8799163670262224, 0.15733010475255726, -0.10534874143218677, 1.9020147526179778, -1.8874958202687249, 0.2701239367297032, -0.4623567400425783, -0.9465296338310447, -1.306966472110278, 0.0460281332075379, -0.42391723840307133, 0.32106132358339107, -1.357774815758448, -0.1983057429079247, 0.5394666356832476, 0.27345282349426914, 1.7115369034552415, 1.3539777900604741, 0.41853317042274557, 0.42272832867468335, 1.7478578513191985, 0.2103817558651291, -1.1263253595684382, -0.20054913121668919, -0.44667446570921543, 0.3582952961244712, -0.205638127832226, -0.5058332125899551, 0.046587499309992404, -1.1411642331240202, 2.3549815303843684, -1.3147166480097907, -1.11288153984668, -2.0500677731421284, 0.21388936815754106, 0.809410971577199, 1.8446996235700726, -0.3183719938850659, -0.38613673683138866, -0.5626146532545004, 0.33272738668322926, -0.7360737680381293, -0.07820086788220298, -0.9239854599721813, -0.3422751447747376, -0.27439983203656493, 0.8789170986350728, -0.7653109466860576, -1.0293486730547823, -1.7521978262212234, 0.22988231823569452, 0.3452925830352003, 0.6636820763451339, -0.4905628916181519, -0.9596968706279292, -1.0899108329787122, 0.21527711643708103, 0.38782001222417123, -2.3328215385791, 0.2751742167113534, 1.1775728381813217, 0.6919533953962174, -0.3615718797962593, -0.7504278081657234, 0.3403032080793858, -0.839800460389345, -0.06837495898684512, 0.877458070792261, 0.6542370835529798, -0.3644351488624026, 0.250900416278955, -0.5321225014239536]}],\n",
       "                        {\"legend\": {\"bgcolor\": \"#F5F6F9\", \"font\": {\"color\": \"#4D5663\"}}, \"paper_bgcolor\": \"#F5F6F9\", \"plot_bgcolor\": \"#F5F6F9\", \"template\": {\"data\": {\"bar\": [{\"error_x\": {\"color\": \"#2a3f5f\"}, \"error_y\": {\"color\": \"#2a3f5f\"}, \"marker\": {\"line\": {\"color\": \"#E5ECF6\", \"width\": 0.5}}, \"type\": \"bar\"}], \"barpolar\": [{\"marker\": {\"line\": {\"color\": \"#E5ECF6\", \"width\": 0.5}}, \"type\": \"barpolar\"}], \"carpet\": [{\"aaxis\": {\"endlinecolor\": \"#2a3f5f\", \"gridcolor\": \"white\", \"linecolor\": \"white\", \"minorgridcolor\": \"white\", \"startlinecolor\": \"#2a3f5f\"}, \"baxis\": {\"endlinecolor\": \"#2a3f5f\", \"gridcolor\": \"white\", \"linecolor\": \"white\", \"minorgridcolor\": \"white\", \"startlinecolor\": \"#2a3f5f\"}, \"type\": \"carpet\"}], \"choropleth\": [{\"colorbar\": {\"outlinewidth\": 0, \"ticks\": \"\"}, \"type\": \"choropleth\"}], \"contour\": [{\"colorbar\": {\"outlinewidth\": 0, \"ticks\": \"\"}, \"colorscale\": [[0.0, \"#0d0887\"], [0.1111111111111111, \"#46039f\"], [0.2222222222222222, \"#7201a8\"], [0.3333333333333333, \"#9c179e\"], [0.4444444444444444, \"#bd3786\"], [0.5555555555555556, \"#d8576b\"], [0.6666666666666666, \"#ed7953\"], [0.7777777777777778, \"#fb9f3a\"], [0.8888888888888888, \"#fdca26\"], [1.0, \"#f0f921\"]], \"type\": \"contour\"}], \"contourcarpet\": [{\"colorbar\": {\"outlinewidth\": 0, \"ticks\": \"\"}, \"type\": \"contourcarpet\"}], \"heatmap\": [{\"colorbar\": {\"outlinewidth\": 0, \"ticks\": \"\"}, \"colorscale\": [[0.0, \"#0d0887\"], [0.1111111111111111, \"#46039f\"], [0.2222222222222222, \"#7201a8\"], [0.3333333333333333, \"#9c179e\"], [0.4444444444444444, \"#bd3786\"], [0.5555555555555556, \"#d8576b\"], [0.6666666666666666, \"#ed7953\"], [0.7777777777777778, \"#fb9f3a\"], [0.8888888888888888, \"#fdca26\"], [1.0, \"#f0f921\"]], \"type\": \"heatmap\"}], \"heatmapgl\": [{\"colorbar\": {\"outlinewidth\": 0, \"ticks\": \"\"}, \"colorscale\": [[0.0, \"#0d0887\"], [0.1111111111111111, \"#46039f\"], [0.2222222222222222, \"#7201a8\"], [0.3333333333333333, \"#9c179e\"], [0.4444444444444444, \"#bd3786\"], [0.5555555555555556, \"#d8576b\"], [0.6666666666666666, \"#ed7953\"], [0.7777777777777778, \"#fb9f3a\"], [0.8888888888888888, \"#fdca26\"], [1.0, \"#f0f921\"]], \"type\": \"heatmapgl\"}], \"histogram\": [{\"marker\": {\"colorbar\": {\"outlinewidth\": 0, \"ticks\": \"\"}}, \"type\": \"histogram\"}], \"histogram2d\": [{\"colorbar\": {\"outlinewidth\": 0, \"ticks\": \"\"}, \"colorscale\": [[0.0, \"#0d0887\"], [0.1111111111111111, \"#46039f\"], [0.2222222222222222, \"#7201a8\"], [0.3333333333333333, \"#9c179e\"], [0.4444444444444444, \"#bd3786\"], [0.5555555555555556, \"#d8576b\"], [0.6666666666666666, \"#ed7953\"], [0.7777777777777778, \"#fb9f3a\"], [0.8888888888888888, \"#fdca26\"], [1.0, \"#f0f921\"]], \"type\": \"histogram2d\"}], \"histogram2dcontour\": [{\"colorbar\": {\"outlinewidth\": 0, \"ticks\": \"\"}, \"colorscale\": [[0.0, \"#0d0887\"], [0.1111111111111111, \"#46039f\"], [0.2222222222222222, \"#7201a8\"], [0.3333333333333333, \"#9c179e\"], [0.4444444444444444, \"#bd3786\"], [0.5555555555555556, \"#d8576b\"], [0.6666666666666666, \"#ed7953\"], [0.7777777777777778, \"#fb9f3a\"], [0.8888888888888888, \"#fdca26\"], [1.0, \"#f0f921\"]], \"type\": \"histogram2dcontour\"}], \"mesh3d\": [{\"colorbar\": {\"outlinewidth\": 0, \"ticks\": \"\"}, \"type\": \"mesh3d\"}], \"parcoords\": [{\"line\": {\"colorbar\": {\"outlinewidth\": 0, \"ticks\": \"\"}}, \"type\": \"parcoords\"}], \"scatter\": [{\"marker\": {\"colorbar\": {\"outlinewidth\": 0, \"ticks\": \"\"}}, \"type\": \"scatter\"}], \"scatter3d\": [{\"line\": {\"colorbar\": {\"outlinewidth\": 0, \"ticks\": \"\"}}, \"marker\": {\"colorbar\": {\"outlinewidth\": 0, \"ticks\": \"\"}}, \"type\": \"scatter3d\"}], \"scattercarpet\": [{\"marker\": {\"colorbar\": {\"outlinewidth\": 0, \"ticks\": \"\"}}, \"type\": \"scattercarpet\"}], \"scattergeo\": [{\"marker\": {\"colorbar\": {\"outlinewidth\": 0, \"ticks\": \"\"}}, \"type\": \"scattergeo\"}], \"scattergl\": [{\"marker\": {\"colorbar\": {\"outlinewidth\": 0, \"ticks\": \"\"}}, \"type\": \"scattergl\"}], \"scattermapbox\": [{\"marker\": {\"colorbar\": {\"outlinewidth\": 0, \"ticks\": \"\"}}, \"type\": \"scattermapbox\"}], \"scatterpolar\": [{\"marker\": {\"colorbar\": {\"outlinewidth\": 0, \"ticks\": \"\"}}, \"type\": \"scatterpolar\"}], \"scatterpolargl\": [{\"marker\": {\"colorbar\": {\"outlinewidth\": 0, \"ticks\": \"\"}}, \"type\": \"scatterpolargl\"}], \"scatterternary\": [{\"marker\": {\"colorbar\": {\"outlinewidth\": 0, \"ticks\": \"\"}}, \"type\": \"scatterternary\"}], \"surface\": [{\"colorbar\": {\"outlinewidth\": 0, \"ticks\": \"\"}, \"colorscale\": [[0.0, \"#0d0887\"], [0.1111111111111111, \"#46039f\"], [0.2222222222222222, \"#7201a8\"], [0.3333333333333333, \"#9c179e\"], [0.4444444444444444, \"#bd3786\"], [0.5555555555555556, \"#d8576b\"], [0.6666666666666666, \"#ed7953\"], [0.7777777777777778, \"#fb9f3a\"], [0.8888888888888888, \"#fdca26\"], [1.0, \"#f0f921\"]], \"type\": \"surface\"}], \"table\": [{\"cells\": {\"fill\": {\"color\": \"#EBF0F8\"}, \"line\": {\"color\": \"white\"}}, \"header\": {\"fill\": {\"color\": \"#C8D4E3\"}, \"line\": {\"color\": \"white\"}}, \"type\": \"table\"}]}, \"layout\": {\"annotationdefaults\": {\"arrowcolor\": \"#2a3f5f\", \"arrowhead\": 0, \"arrowwidth\": 1}, \"colorscale\": {\"diverging\": [[0, \"#8e0152\"], [0.1, \"#c51b7d\"], [0.2, \"#de77ae\"], [0.3, \"#f1b6da\"], [0.4, \"#fde0ef\"], [0.5, \"#f7f7f7\"], [0.6, \"#e6f5d0\"], [0.7, \"#b8e186\"], [0.8, \"#7fbc41\"], [0.9, \"#4d9221\"], [1, \"#276419\"]], \"sequential\": [[0.0, \"#0d0887\"], [0.1111111111111111, \"#46039f\"], [0.2222222222222222, \"#7201a8\"], [0.3333333333333333, \"#9c179e\"], [0.4444444444444444, \"#bd3786\"], [0.5555555555555556, \"#d8576b\"], [0.6666666666666666, \"#ed7953\"], [0.7777777777777778, \"#fb9f3a\"], [0.8888888888888888, \"#fdca26\"], [1.0, \"#f0f921\"]], \"sequentialminus\": [[0.0, \"#0d0887\"], [0.1111111111111111, \"#46039f\"], [0.2222222222222222, \"#7201a8\"], [0.3333333333333333, \"#9c179e\"], [0.4444444444444444, \"#bd3786\"], [0.5555555555555556, \"#d8576b\"], [0.6666666666666666, \"#ed7953\"], [0.7777777777777778, \"#fb9f3a\"], [0.8888888888888888, \"#fdca26\"], [1.0, \"#f0f921\"]]}, \"colorway\": [\"#636efa\", \"#EF553B\", \"#00cc96\", \"#ab63fa\", \"#FFA15A\", \"#19d3f3\", \"#FF6692\", \"#B6E880\", \"#FF97FF\", \"#FECB52\"], \"font\": {\"color\": \"#2a3f5f\"}, \"geo\": {\"bgcolor\": \"white\", \"lakecolor\": \"white\", \"landcolor\": \"#E5ECF6\", \"showlakes\": true, \"showland\": true, \"subunitcolor\": \"white\"}, \"hoverlabel\": {\"align\": \"left\"}, \"hovermode\": \"closest\", \"mapbox\": {\"style\": \"light\"}, \"paper_bgcolor\": \"white\", \"plot_bgcolor\": \"#E5ECF6\", \"polar\": {\"angularaxis\": {\"gridcolor\": \"white\", \"linecolor\": \"white\", \"ticks\": \"\"}, \"bgcolor\": \"#E5ECF6\", \"radialaxis\": {\"gridcolor\": \"white\", \"linecolor\": \"white\", \"ticks\": \"\"}}, \"scene\": {\"xaxis\": {\"backgroundcolor\": \"#E5ECF6\", \"gridcolor\": \"white\", \"gridwidth\": 2, \"linecolor\": \"white\", \"showbackground\": true, \"ticks\": \"\", \"zerolinecolor\": \"white\"}, \"yaxis\": {\"backgroundcolor\": \"#E5ECF6\", \"gridcolor\": \"white\", \"gridwidth\": 2, \"linecolor\": \"white\", \"showbackground\": true, \"ticks\": \"\", \"zerolinecolor\": \"white\"}, \"zaxis\": {\"backgroundcolor\": \"#E5ECF6\", \"gridcolor\": \"white\", \"gridwidth\": 2, \"linecolor\": \"white\", \"showbackground\": true, \"ticks\": \"\", \"zerolinecolor\": \"white\"}}, \"shapedefaults\": {\"line\": {\"color\": \"#2a3f5f\"}}, \"ternary\": {\"aaxis\": {\"gridcolor\": \"white\", \"linecolor\": \"white\", \"ticks\": \"\"}, \"baxis\": {\"gridcolor\": \"white\", \"linecolor\": \"white\", \"ticks\": \"\"}, \"bgcolor\": \"#E5ECF6\", \"caxis\": {\"gridcolor\": \"white\", \"linecolor\": \"white\", \"ticks\": \"\"}}, \"title\": {\"x\": 0.05}, \"xaxis\": {\"automargin\": true, \"gridcolor\": \"white\", \"linecolor\": \"white\", \"ticks\": \"\", \"zerolinecolor\": \"white\", \"zerolinewidth\": 2}, \"yaxis\": {\"automargin\": true, \"gridcolor\": \"white\", \"linecolor\": \"white\", \"ticks\": \"\", \"zerolinecolor\": \"white\", \"zerolinewidth\": 2}}}, \"title\": {\"font\": {\"color\": \"#4D5663\"}}, \"xaxis\": {\"gridcolor\": \"#E1E5ED\", \"showgrid\": true, \"tickfont\": {\"color\": \"#4D5663\"}, \"title\": {\"font\": {\"color\": \"#4D5663\"}, \"text\": \"\"}, \"zerolinecolor\": \"#E1E5ED\"}, \"yaxis\": {\"gridcolor\": \"#E1E5ED\", \"showgrid\": true, \"tickfont\": {\"color\": \"#4D5663\"}, \"title\": {\"font\": {\"color\": \"#4D5663\"}, \"text\": \"\"}, \"zerolinecolor\": \"#E1E5ED\"}},\n",
       "                        {\"showLink\": true, \"linkText\": \"Export to plot.ly\", \"plotlyServerURL\": \"https://plot.ly\", \"responsive\": true}\n",
       "                    ).then(function(){\n",
       "                            \n",
       "var gd = document.getElementById('714e1fcf-c2b5-4268-b1e5-97eb4da11c3f');\n",
       "var x = new MutationObserver(function (mutations, observer) {{\n",
       "        var display = window.getComputedStyle(gd).display;\n",
       "        if (!display || display === 'none') {{\n",
       "            console.log([gd, 'removed!']);\n",
       "            Plotly.purge(gd);\n",
       "            observer.disconnect();\n",
       "        }}\n",
       "}});\n",
       "\n",
       "// Listen for the removal of the full notebook cells\n",
       "var notebookContainer = gd.closest('#notebook-container');\n",
       "if (notebookContainer) {{\n",
       "    x.observe(notebookContainer, {childList: true});\n",
       "}}\n",
       "\n",
       "// Listen for the clearing of the current output cell\n",
       "var outputEl = gd.closest('.output');\n",
       "if (outputEl) {{\n",
       "    x.observe(outputEl, {childList: true});\n",
       "}}\n",
       "\n",
       "                        })\n",
       "                };\n",
       "                });\n",
       "            </script>\n",
       "        </div>"
      ]
     },
     "metadata": {},
     "output_type": "display_data"
    }
   ],
   "source": [
    "df.iplot(kind = 'scatter', x = 'A', y = 'B', mode = 'markers', size = 10)"
   ]
  },
  {
   "cell_type": "markdown",
   "metadata": {},
   "source": [
    "<a id='bar'></a>\n",
    "## Bar Plots"
   ]
  },
  {
   "cell_type": "code",
   "execution_count": 12,
   "metadata": {},
   "outputs": [
    {
     "data": {
      "application/vnd.plotly.v1+json": {
       "config": {
        "linkText": "Export to plot.ly",
        "plotlyServerURL": "https://plot.ly",
        "showLink": true
       },
       "data": [
        {
         "marker": {
          "color": "rgba(255, 153, 51, 0.6)",
          "line": {
           "color": "rgba(255, 153, 51, 1.0)",
           "width": 1
          }
         },
         "name": "Values",
         "orientation": "v",
         "text": "",
         "type": "bar",
         "x": [
          "A",
          "B",
          "C"
         ],
         "y": [
          32,
          43,
          50
         ]
        }
       ],
       "layout": {
        "legend": {
         "bgcolor": "#F5F6F9",
         "font": {
          "color": "#4D5663"
         }
        },
        "paper_bgcolor": "#F5F6F9",
        "plot_bgcolor": "#F5F6F9",
        "template": {
         "data": {
          "bar": [
           {
            "error_x": {
             "color": "#2a3f5f"
            },
            "error_y": {
             "color": "#2a3f5f"
            },
            "marker": {
             "line": {
              "color": "#E5ECF6",
              "width": 0.5
             }
            },
            "type": "bar"
           }
          ],
          "barpolar": [
           {
            "marker": {
             "line": {
              "color": "#E5ECF6",
              "width": 0.5
             }
            },
            "type": "barpolar"
           }
          ],
          "carpet": [
           {
            "aaxis": {
             "endlinecolor": "#2a3f5f",
             "gridcolor": "white",
             "linecolor": "white",
             "minorgridcolor": "white",
             "startlinecolor": "#2a3f5f"
            },
            "baxis": {
             "endlinecolor": "#2a3f5f",
             "gridcolor": "white",
             "linecolor": "white",
             "minorgridcolor": "white",
             "startlinecolor": "#2a3f5f"
            },
            "type": "carpet"
           }
          ],
          "choropleth": [
           {
            "colorbar": {
             "outlinewidth": 0,
             "ticks": ""
            },
            "type": "choropleth"
           }
          ],
          "contour": [
           {
            "colorbar": {
             "outlinewidth": 0,
             "ticks": ""
            },
            "colorscale": [
             [
              0,
              "#0d0887"
             ],
             [
              0.1111111111111111,
              "#46039f"
             ],
             [
              0.2222222222222222,
              "#7201a8"
             ],
             [
              0.3333333333333333,
              "#9c179e"
             ],
             [
              0.4444444444444444,
              "#bd3786"
             ],
             [
              0.5555555555555556,
              "#d8576b"
             ],
             [
              0.6666666666666666,
              "#ed7953"
             ],
             [
              0.7777777777777778,
              "#fb9f3a"
             ],
             [
              0.8888888888888888,
              "#fdca26"
             ],
             [
              1,
              "#f0f921"
             ]
            ],
            "type": "contour"
           }
          ],
          "contourcarpet": [
           {
            "colorbar": {
             "outlinewidth": 0,
             "ticks": ""
            },
            "type": "contourcarpet"
           }
          ],
          "heatmap": [
           {
            "colorbar": {
             "outlinewidth": 0,
             "ticks": ""
            },
            "colorscale": [
             [
              0,
              "#0d0887"
             ],
             [
              0.1111111111111111,
              "#46039f"
             ],
             [
              0.2222222222222222,
              "#7201a8"
             ],
             [
              0.3333333333333333,
              "#9c179e"
             ],
             [
              0.4444444444444444,
              "#bd3786"
             ],
             [
              0.5555555555555556,
              "#d8576b"
             ],
             [
              0.6666666666666666,
              "#ed7953"
             ],
             [
              0.7777777777777778,
              "#fb9f3a"
             ],
             [
              0.8888888888888888,
              "#fdca26"
             ],
             [
              1,
              "#f0f921"
             ]
            ],
            "type": "heatmap"
           }
          ],
          "heatmapgl": [
           {
            "colorbar": {
             "outlinewidth": 0,
             "ticks": ""
            },
            "colorscale": [
             [
              0,
              "#0d0887"
             ],
             [
              0.1111111111111111,
              "#46039f"
             ],
             [
              0.2222222222222222,
              "#7201a8"
             ],
             [
              0.3333333333333333,
              "#9c179e"
             ],
             [
              0.4444444444444444,
              "#bd3786"
             ],
             [
              0.5555555555555556,
              "#d8576b"
             ],
             [
              0.6666666666666666,
              "#ed7953"
             ],
             [
              0.7777777777777778,
              "#fb9f3a"
             ],
             [
              0.8888888888888888,
              "#fdca26"
             ],
             [
              1,
              "#f0f921"
             ]
            ],
            "type": "heatmapgl"
           }
          ],
          "histogram": [
           {
            "marker": {
             "colorbar": {
              "outlinewidth": 0,
              "ticks": ""
             }
            },
            "type": "histogram"
           }
          ],
          "histogram2d": [
           {
            "colorbar": {
             "outlinewidth": 0,
             "ticks": ""
            },
            "colorscale": [
             [
              0,
              "#0d0887"
             ],
             [
              0.1111111111111111,
              "#46039f"
             ],
             [
              0.2222222222222222,
              "#7201a8"
             ],
             [
              0.3333333333333333,
              "#9c179e"
             ],
             [
              0.4444444444444444,
              "#bd3786"
             ],
             [
              0.5555555555555556,
              "#d8576b"
             ],
             [
              0.6666666666666666,
              "#ed7953"
             ],
             [
              0.7777777777777778,
              "#fb9f3a"
             ],
             [
              0.8888888888888888,
              "#fdca26"
             ],
             [
              1,
              "#f0f921"
             ]
            ],
            "type": "histogram2d"
           }
          ],
          "histogram2dcontour": [
           {
            "colorbar": {
             "outlinewidth": 0,
             "ticks": ""
            },
            "colorscale": [
             [
              0,
              "#0d0887"
             ],
             [
              0.1111111111111111,
              "#46039f"
             ],
             [
              0.2222222222222222,
              "#7201a8"
             ],
             [
              0.3333333333333333,
              "#9c179e"
             ],
             [
              0.4444444444444444,
              "#bd3786"
             ],
             [
              0.5555555555555556,
              "#d8576b"
             ],
             [
              0.6666666666666666,
              "#ed7953"
             ],
             [
              0.7777777777777778,
              "#fb9f3a"
             ],
             [
              0.8888888888888888,
              "#fdca26"
             ],
             [
              1,
              "#f0f921"
             ]
            ],
            "type": "histogram2dcontour"
           }
          ],
          "mesh3d": [
           {
            "colorbar": {
             "outlinewidth": 0,
             "ticks": ""
            },
            "type": "mesh3d"
           }
          ],
          "parcoords": [
           {
            "line": {
             "colorbar": {
              "outlinewidth": 0,
              "ticks": ""
             }
            },
            "type": "parcoords"
           }
          ],
          "scatter": [
           {
            "marker": {
             "colorbar": {
              "outlinewidth": 0,
              "ticks": ""
             }
            },
            "type": "scatter"
           }
          ],
          "scatter3d": [
           {
            "line": {
             "colorbar": {
              "outlinewidth": 0,
              "ticks": ""
             }
            },
            "marker": {
             "colorbar": {
              "outlinewidth": 0,
              "ticks": ""
             }
            },
            "type": "scatter3d"
           }
          ],
          "scattercarpet": [
           {
            "marker": {
             "colorbar": {
              "outlinewidth": 0,
              "ticks": ""
             }
            },
            "type": "scattercarpet"
           }
          ],
          "scattergeo": [
           {
            "marker": {
             "colorbar": {
              "outlinewidth": 0,
              "ticks": ""
             }
            },
            "type": "scattergeo"
           }
          ],
          "scattergl": [
           {
            "marker": {
             "colorbar": {
              "outlinewidth": 0,
              "ticks": ""
             }
            },
            "type": "scattergl"
           }
          ],
          "scattermapbox": [
           {
            "marker": {
             "colorbar": {
              "outlinewidth": 0,
              "ticks": ""
             }
            },
            "type": "scattermapbox"
           }
          ],
          "scatterpolar": [
           {
            "marker": {
             "colorbar": {
              "outlinewidth": 0,
              "ticks": ""
             }
            },
            "type": "scatterpolar"
           }
          ],
          "scatterpolargl": [
           {
            "marker": {
             "colorbar": {
              "outlinewidth": 0,
              "ticks": ""
             }
            },
            "type": "scatterpolargl"
           }
          ],
          "scatterternary": [
           {
            "marker": {
             "colorbar": {
              "outlinewidth": 0,
              "ticks": ""
             }
            },
            "type": "scatterternary"
           }
          ],
          "surface": [
           {
            "colorbar": {
             "outlinewidth": 0,
             "ticks": ""
            },
            "colorscale": [
             [
              0,
              "#0d0887"
             ],
             [
              0.1111111111111111,
              "#46039f"
             ],
             [
              0.2222222222222222,
              "#7201a8"
             ],
             [
              0.3333333333333333,
              "#9c179e"
             ],
             [
              0.4444444444444444,
              "#bd3786"
             ],
             [
              0.5555555555555556,
              "#d8576b"
             ],
             [
              0.6666666666666666,
              "#ed7953"
             ],
             [
              0.7777777777777778,
              "#fb9f3a"
             ],
             [
              0.8888888888888888,
              "#fdca26"
             ],
             [
              1,
              "#f0f921"
             ]
            ],
            "type": "surface"
           }
          ],
          "table": [
           {
            "cells": {
             "fill": {
              "color": "#EBF0F8"
             },
             "line": {
              "color": "white"
             }
            },
            "header": {
             "fill": {
              "color": "#C8D4E3"
             },
             "line": {
              "color": "white"
             }
            },
            "type": "table"
           }
          ]
         },
         "layout": {
          "annotationdefaults": {
           "arrowcolor": "#2a3f5f",
           "arrowhead": 0,
           "arrowwidth": 1
          },
          "colorscale": {
           "diverging": [
            [
             0,
             "#8e0152"
            ],
            [
             0.1,
             "#c51b7d"
            ],
            [
             0.2,
             "#de77ae"
            ],
            [
             0.3,
             "#f1b6da"
            ],
            [
             0.4,
             "#fde0ef"
            ],
            [
             0.5,
             "#f7f7f7"
            ],
            [
             0.6,
             "#e6f5d0"
            ],
            [
             0.7,
             "#b8e186"
            ],
            [
             0.8,
             "#7fbc41"
            ],
            [
             0.9,
             "#4d9221"
            ],
            [
             1,
             "#276419"
            ]
           ],
           "sequential": [
            [
             0,
             "#0d0887"
            ],
            [
             0.1111111111111111,
             "#46039f"
            ],
            [
             0.2222222222222222,
             "#7201a8"
            ],
            [
             0.3333333333333333,
             "#9c179e"
            ],
            [
             0.4444444444444444,
             "#bd3786"
            ],
            [
             0.5555555555555556,
             "#d8576b"
            ],
            [
             0.6666666666666666,
             "#ed7953"
            ],
            [
             0.7777777777777778,
             "#fb9f3a"
            ],
            [
             0.8888888888888888,
             "#fdca26"
            ],
            [
             1,
             "#f0f921"
            ]
           ],
           "sequentialminus": [
            [
             0,
             "#0d0887"
            ],
            [
             0.1111111111111111,
             "#46039f"
            ],
            [
             0.2222222222222222,
             "#7201a8"
            ],
            [
             0.3333333333333333,
             "#9c179e"
            ],
            [
             0.4444444444444444,
             "#bd3786"
            ],
            [
             0.5555555555555556,
             "#d8576b"
            ],
            [
             0.6666666666666666,
             "#ed7953"
            ],
            [
             0.7777777777777778,
             "#fb9f3a"
            ],
            [
             0.8888888888888888,
             "#fdca26"
            ],
            [
             1,
             "#f0f921"
            ]
           ]
          },
          "colorway": [
           "#636efa",
           "#EF553B",
           "#00cc96",
           "#ab63fa",
           "#FFA15A",
           "#19d3f3",
           "#FF6692",
           "#B6E880",
           "#FF97FF",
           "#FECB52"
          ],
          "font": {
           "color": "#2a3f5f"
          },
          "geo": {
           "bgcolor": "white",
           "lakecolor": "white",
           "landcolor": "#E5ECF6",
           "showlakes": true,
           "showland": true,
           "subunitcolor": "white"
          },
          "hoverlabel": {
           "align": "left"
          },
          "hovermode": "closest",
          "mapbox": {
           "style": "light"
          },
          "paper_bgcolor": "white",
          "plot_bgcolor": "#E5ECF6",
          "polar": {
           "angularaxis": {
            "gridcolor": "white",
            "linecolor": "white",
            "ticks": ""
           },
           "bgcolor": "#E5ECF6",
           "radialaxis": {
            "gridcolor": "white",
            "linecolor": "white",
            "ticks": ""
           }
          },
          "scene": {
           "xaxis": {
            "backgroundcolor": "#E5ECF6",
            "gridcolor": "white",
            "gridwidth": 2,
            "linecolor": "white",
            "showbackground": true,
            "ticks": "",
            "zerolinecolor": "white"
           },
           "yaxis": {
            "backgroundcolor": "#E5ECF6",
            "gridcolor": "white",
            "gridwidth": 2,
            "linecolor": "white",
            "showbackground": true,
            "ticks": "",
            "zerolinecolor": "white"
           },
           "zaxis": {
            "backgroundcolor": "#E5ECF6",
            "gridcolor": "white",
            "gridwidth": 2,
            "linecolor": "white",
            "showbackground": true,
            "ticks": "",
            "zerolinecolor": "white"
           }
          },
          "shapedefaults": {
           "line": {
            "color": "#2a3f5f"
           }
          },
          "ternary": {
           "aaxis": {
            "gridcolor": "white",
            "linecolor": "white",
            "ticks": ""
           },
           "baxis": {
            "gridcolor": "white",
            "linecolor": "white",
            "ticks": ""
           },
           "bgcolor": "#E5ECF6",
           "caxis": {
            "gridcolor": "white",
            "linecolor": "white",
            "ticks": ""
           }
          },
          "title": {
           "x": 0.05
          },
          "xaxis": {
           "automargin": true,
           "gridcolor": "white",
           "linecolor": "white",
           "ticks": "",
           "zerolinecolor": "white",
           "zerolinewidth": 2
          },
          "yaxis": {
           "automargin": true,
           "gridcolor": "white",
           "linecolor": "white",
           "ticks": "",
           "zerolinecolor": "white",
           "zerolinewidth": 2
          }
         }
        },
        "title": {
         "font": {
          "color": "#4D5663"
         }
        },
        "xaxis": {
         "gridcolor": "#E1E5ED",
         "showgrid": true,
         "tickfont": {
          "color": "#4D5663"
         },
         "title": {
          "font": {
           "color": "#4D5663"
          },
          "text": ""
         },
         "zerolinecolor": "#E1E5ED"
        },
        "yaxis": {
         "gridcolor": "#E1E5ED",
         "showgrid": true,
         "tickfont": {
          "color": "#4D5663"
         },
         "title": {
          "font": {
           "color": "#4D5663"
          },
          "text": ""
         },
         "zerolinecolor": "#E1E5ED"
        }
       }
      },
      "text/html": [
       "<div>\n",
       "        \n",
       "        \n",
       "            <div id=\"99e66bf7-7a24-4cc3-b97a-0c55ed016594\" class=\"plotly-graph-div\" style=\"height:525px; width:100%;\"></div>\n",
       "            <script type=\"text/javascript\">\n",
       "                require([\"plotly\"], function(Plotly) {\n",
       "                    window.PLOTLYENV=window.PLOTLYENV || {};\n",
       "                    window.PLOTLYENV.BASE_URL='https://plot.ly';\n",
       "                    \n",
       "                if (document.getElementById(\"99e66bf7-7a24-4cc3-b97a-0c55ed016594\")) {\n",
       "                    Plotly.newPlot(\n",
       "                        '99e66bf7-7a24-4cc3-b97a-0c55ed016594',\n",
       "                        [{\"marker\": {\"color\": \"rgba(255, 153, 51, 0.6)\", \"line\": {\"color\": \"rgba(255, 153, 51, 1.0)\", \"width\": 1}}, \"name\": \"Values\", \"orientation\": \"v\", \"text\": \"\", \"type\": \"bar\", \"x\": [\"A\", \"B\", \"C\"], \"y\": [32, 43, 50]}],\n",
       "                        {\"legend\": {\"bgcolor\": \"#F5F6F9\", \"font\": {\"color\": \"#4D5663\"}}, \"paper_bgcolor\": \"#F5F6F9\", \"plot_bgcolor\": \"#F5F6F9\", \"template\": {\"data\": {\"bar\": [{\"error_x\": {\"color\": \"#2a3f5f\"}, \"error_y\": {\"color\": \"#2a3f5f\"}, \"marker\": {\"line\": {\"color\": \"#E5ECF6\", \"width\": 0.5}}, \"type\": \"bar\"}], \"barpolar\": [{\"marker\": {\"line\": {\"color\": \"#E5ECF6\", \"width\": 0.5}}, \"type\": \"barpolar\"}], \"carpet\": [{\"aaxis\": {\"endlinecolor\": \"#2a3f5f\", \"gridcolor\": \"white\", \"linecolor\": \"white\", \"minorgridcolor\": \"white\", \"startlinecolor\": \"#2a3f5f\"}, \"baxis\": {\"endlinecolor\": \"#2a3f5f\", \"gridcolor\": \"white\", \"linecolor\": \"white\", \"minorgridcolor\": \"white\", \"startlinecolor\": \"#2a3f5f\"}, \"type\": \"carpet\"}], \"choropleth\": [{\"colorbar\": {\"outlinewidth\": 0, \"ticks\": \"\"}, \"type\": \"choropleth\"}], \"contour\": [{\"colorbar\": {\"outlinewidth\": 0, \"ticks\": \"\"}, \"colorscale\": [[0.0, \"#0d0887\"], [0.1111111111111111, \"#46039f\"], [0.2222222222222222, \"#7201a8\"], [0.3333333333333333, \"#9c179e\"], [0.4444444444444444, \"#bd3786\"], [0.5555555555555556, \"#d8576b\"], [0.6666666666666666, \"#ed7953\"], [0.7777777777777778, \"#fb9f3a\"], [0.8888888888888888, \"#fdca26\"], [1.0, \"#f0f921\"]], \"type\": \"contour\"}], \"contourcarpet\": [{\"colorbar\": {\"outlinewidth\": 0, \"ticks\": \"\"}, \"type\": \"contourcarpet\"}], \"heatmap\": [{\"colorbar\": {\"outlinewidth\": 0, \"ticks\": \"\"}, \"colorscale\": [[0.0, \"#0d0887\"], [0.1111111111111111, \"#46039f\"], [0.2222222222222222, \"#7201a8\"], [0.3333333333333333, \"#9c179e\"], [0.4444444444444444, \"#bd3786\"], [0.5555555555555556, \"#d8576b\"], [0.6666666666666666, \"#ed7953\"], [0.7777777777777778, \"#fb9f3a\"], [0.8888888888888888, \"#fdca26\"], [1.0, \"#f0f921\"]], \"type\": \"heatmap\"}], \"heatmapgl\": [{\"colorbar\": {\"outlinewidth\": 0, \"ticks\": \"\"}, \"colorscale\": [[0.0, \"#0d0887\"], [0.1111111111111111, \"#46039f\"], [0.2222222222222222, \"#7201a8\"], [0.3333333333333333, \"#9c179e\"], [0.4444444444444444, \"#bd3786\"], [0.5555555555555556, \"#d8576b\"], [0.6666666666666666, \"#ed7953\"], [0.7777777777777778, \"#fb9f3a\"], [0.8888888888888888, \"#fdca26\"], [1.0, \"#f0f921\"]], \"type\": \"heatmapgl\"}], \"histogram\": [{\"marker\": {\"colorbar\": {\"outlinewidth\": 0, \"ticks\": \"\"}}, \"type\": \"histogram\"}], \"histogram2d\": [{\"colorbar\": {\"outlinewidth\": 0, \"ticks\": \"\"}, \"colorscale\": [[0.0, \"#0d0887\"], [0.1111111111111111, \"#46039f\"], [0.2222222222222222, \"#7201a8\"], [0.3333333333333333, \"#9c179e\"], [0.4444444444444444, \"#bd3786\"], [0.5555555555555556, \"#d8576b\"], [0.6666666666666666, \"#ed7953\"], [0.7777777777777778, \"#fb9f3a\"], [0.8888888888888888, \"#fdca26\"], [1.0, \"#f0f921\"]], \"type\": \"histogram2d\"}], \"histogram2dcontour\": [{\"colorbar\": {\"outlinewidth\": 0, \"ticks\": \"\"}, \"colorscale\": [[0.0, \"#0d0887\"], [0.1111111111111111, \"#46039f\"], [0.2222222222222222, \"#7201a8\"], [0.3333333333333333, \"#9c179e\"], [0.4444444444444444, \"#bd3786\"], [0.5555555555555556, \"#d8576b\"], [0.6666666666666666, \"#ed7953\"], [0.7777777777777778, \"#fb9f3a\"], [0.8888888888888888, \"#fdca26\"], [1.0, \"#f0f921\"]], \"type\": \"histogram2dcontour\"}], \"mesh3d\": [{\"colorbar\": {\"outlinewidth\": 0, \"ticks\": \"\"}, \"type\": \"mesh3d\"}], \"parcoords\": [{\"line\": {\"colorbar\": {\"outlinewidth\": 0, \"ticks\": \"\"}}, \"type\": \"parcoords\"}], \"scatter\": [{\"marker\": {\"colorbar\": {\"outlinewidth\": 0, \"ticks\": \"\"}}, \"type\": \"scatter\"}], \"scatter3d\": [{\"line\": {\"colorbar\": {\"outlinewidth\": 0, \"ticks\": \"\"}}, \"marker\": {\"colorbar\": {\"outlinewidth\": 0, \"ticks\": \"\"}}, \"type\": \"scatter3d\"}], \"scattercarpet\": [{\"marker\": {\"colorbar\": {\"outlinewidth\": 0, \"ticks\": \"\"}}, \"type\": \"scattercarpet\"}], \"scattergeo\": [{\"marker\": {\"colorbar\": {\"outlinewidth\": 0, \"ticks\": \"\"}}, \"type\": \"scattergeo\"}], \"scattergl\": [{\"marker\": {\"colorbar\": {\"outlinewidth\": 0, \"ticks\": \"\"}}, \"type\": \"scattergl\"}], \"scattermapbox\": [{\"marker\": {\"colorbar\": {\"outlinewidth\": 0, \"ticks\": \"\"}}, \"type\": \"scattermapbox\"}], \"scatterpolar\": [{\"marker\": {\"colorbar\": {\"outlinewidth\": 0, \"ticks\": \"\"}}, \"type\": \"scatterpolar\"}], \"scatterpolargl\": [{\"marker\": {\"colorbar\": {\"outlinewidth\": 0, \"ticks\": \"\"}}, \"type\": \"scatterpolargl\"}], \"scatterternary\": [{\"marker\": {\"colorbar\": {\"outlinewidth\": 0, \"ticks\": \"\"}}, \"type\": \"scatterternary\"}], \"surface\": [{\"colorbar\": {\"outlinewidth\": 0, \"ticks\": \"\"}, \"colorscale\": [[0.0, \"#0d0887\"], [0.1111111111111111, \"#46039f\"], [0.2222222222222222, \"#7201a8\"], [0.3333333333333333, \"#9c179e\"], [0.4444444444444444, \"#bd3786\"], [0.5555555555555556, \"#d8576b\"], [0.6666666666666666, \"#ed7953\"], [0.7777777777777778, \"#fb9f3a\"], [0.8888888888888888, \"#fdca26\"], [1.0, \"#f0f921\"]], \"type\": \"surface\"}], \"table\": [{\"cells\": {\"fill\": {\"color\": \"#EBF0F8\"}, \"line\": {\"color\": \"white\"}}, \"header\": {\"fill\": {\"color\": \"#C8D4E3\"}, \"line\": {\"color\": \"white\"}}, \"type\": \"table\"}]}, \"layout\": {\"annotationdefaults\": {\"arrowcolor\": \"#2a3f5f\", \"arrowhead\": 0, \"arrowwidth\": 1}, \"colorscale\": {\"diverging\": [[0, \"#8e0152\"], [0.1, \"#c51b7d\"], [0.2, \"#de77ae\"], [0.3, \"#f1b6da\"], [0.4, \"#fde0ef\"], [0.5, \"#f7f7f7\"], [0.6, \"#e6f5d0\"], [0.7, \"#b8e186\"], [0.8, \"#7fbc41\"], [0.9, \"#4d9221\"], [1, \"#276419\"]], \"sequential\": [[0.0, \"#0d0887\"], [0.1111111111111111, \"#46039f\"], [0.2222222222222222, \"#7201a8\"], [0.3333333333333333, \"#9c179e\"], [0.4444444444444444, \"#bd3786\"], [0.5555555555555556, \"#d8576b\"], [0.6666666666666666, \"#ed7953\"], [0.7777777777777778, \"#fb9f3a\"], [0.8888888888888888, \"#fdca26\"], [1.0, \"#f0f921\"]], \"sequentialminus\": [[0.0, \"#0d0887\"], [0.1111111111111111, \"#46039f\"], [0.2222222222222222, \"#7201a8\"], [0.3333333333333333, \"#9c179e\"], [0.4444444444444444, \"#bd3786\"], [0.5555555555555556, \"#d8576b\"], [0.6666666666666666, \"#ed7953\"], [0.7777777777777778, \"#fb9f3a\"], [0.8888888888888888, \"#fdca26\"], [1.0, \"#f0f921\"]]}, \"colorway\": [\"#636efa\", \"#EF553B\", \"#00cc96\", \"#ab63fa\", \"#FFA15A\", \"#19d3f3\", \"#FF6692\", \"#B6E880\", \"#FF97FF\", \"#FECB52\"], \"font\": {\"color\": \"#2a3f5f\"}, \"geo\": {\"bgcolor\": \"white\", \"lakecolor\": \"white\", \"landcolor\": \"#E5ECF6\", \"showlakes\": true, \"showland\": true, \"subunitcolor\": \"white\"}, \"hoverlabel\": {\"align\": \"left\"}, \"hovermode\": \"closest\", \"mapbox\": {\"style\": \"light\"}, \"paper_bgcolor\": \"white\", \"plot_bgcolor\": \"#E5ECF6\", \"polar\": {\"angularaxis\": {\"gridcolor\": \"white\", \"linecolor\": \"white\", \"ticks\": \"\"}, \"bgcolor\": \"#E5ECF6\", \"radialaxis\": {\"gridcolor\": \"white\", \"linecolor\": \"white\", \"ticks\": \"\"}}, \"scene\": {\"xaxis\": {\"backgroundcolor\": \"#E5ECF6\", \"gridcolor\": \"white\", \"gridwidth\": 2, \"linecolor\": \"white\", \"showbackground\": true, \"ticks\": \"\", \"zerolinecolor\": \"white\"}, \"yaxis\": {\"backgroundcolor\": \"#E5ECF6\", \"gridcolor\": \"white\", \"gridwidth\": 2, \"linecolor\": \"white\", \"showbackground\": true, \"ticks\": \"\", \"zerolinecolor\": \"white\"}, \"zaxis\": {\"backgroundcolor\": \"#E5ECF6\", \"gridcolor\": \"white\", \"gridwidth\": 2, \"linecolor\": \"white\", \"showbackground\": true, \"ticks\": \"\", \"zerolinecolor\": \"white\"}}, \"shapedefaults\": {\"line\": {\"color\": \"#2a3f5f\"}}, \"ternary\": {\"aaxis\": {\"gridcolor\": \"white\", \"linecolor\": \"white\", \"ticks\": \"\"}, \"baxis\": {\"gridcolor\": \"white\", \"linecolor\": \"white\", \"ticks\": \"\"}, \"bgcolor\": \"#E5ECF6\", \"caxis\": {\"gridcolor\": \"white\", \"linecolor\": \"white\", \"ticks\": \"\"}}, \"title\": {\"x\": 0.05}, \"xaxis\": {\"automargin\": true, \"gridcolor\": \"white\", \"linecolor\": \"white\", \"ticks\": \"\", \"zerolinecolor\": \"white\", \"zerolinewidth\": 2}, \"yaxis\": {\"automargin\": true, \"gridcolor\": \"white\", \"linecolor\": \"white\", \"ticks\": \"\", \"zerolinecolor\": \"white\", \"zerolinewidth\": 2}}}, \"title\": {\"font\": {\"color\": \"#4D5663\"}}, \"xaxis\": {\"gridcolor\": \"#E1E5ED\", \"showgrid\": true, \"tickfont\": {\"color\": \"#4D5663\"}, \"title\": {\"font\": {\"color\": \"#4D5663\"}, \"text\": \"\"}, \"zerolinecolor\": \"#E1E5ED\"}, \"yaxis\": {\"gridcolor\": \"#E1E5ED\", \"showgrid\": true, \"tickfont\": {\"color\": \"#4D5663\"}, \"title\": {\"font\": {\"color\": \"#4D5663\"}, \"text\": \"\"}, \"zerolinecolor\": \"#E1E5ED\"}},\n",
       "                        {\"showLink\": true, \"linkText\": \"Export to plot.ly\", \"plotlyServerURL\": \"https://plot.ly\", \"responsive\": true}\n",
       "                    ).then(function(){\n",
       "                            \n",
       "var gd = document.getElementById('99e66bf7-7a24-4cc3-b97a-0c55ed016594');\n",
       "var x = new MutationObserver(function (mutations, observer) {{\n",
       "        var display = window.getComputedStyle(gd).display;\n",
       "        if (!display || display === 'none') {{\n",
       "            console.log([gd, 'removed!']);\n",
       "            Plotly.purge(gd);\n",
       "            observer.disconnect();\n",
       "        }}\n",
       "}});\n",
       "\n",
       "// Listen for the removal of the full notebook cells\n",
       "var notebookContainer = gd.closest('#notebook-container');\n",
       "if (notebookContainer) {{\n",
       "    x.observe(notebookContainer, {childList: true});\n",
       "}}\n",
       "\n",
       "// Listen for the clearing of the current output cell\n",
       "var outputEl = gd.closest('.output');\n",
       "if (outputEl) {{\n",
       "    x.observe(outputEl, {childList: true});\n",
       "}}\n",
       "\n",
       "                        })\n",
       "                };\n",
       "                });\n",
       "            </script>\n",
       "        </div>"
      ]
     },
     "metadata": {},
     "output_type": "display_data"
    }
   ],
   "source": [
    "df2.iplot(kind = 'bar', x = 'Category', y = 'Values') "
   ]
  },
  {
   "cell_type": "code",
   "execution_count": 13,
   "metadata": {},
   "outputs": [
    {
     "data": {
      "application/vnd.plotly.v1+json": {
       "config": {
        "linkText": "Export to plot.ly",
        "plotlyServerURL": "https://plot.ly",
        "showLink": true
       },
       "data": [
        {
         "marker": {
          "color": "rgba(255, 153, 51, 0.6)",
          "line": {
           "color": "rgba(255, 153, 51, 1.0)",
           "width": 1
          }
         },
         "name": "None",
         "orientation": "v",
         "text": "",
         "type": "bar",
         "x": [
          "A",
          "B",
          "C",
          "D"
         ],
         "y": [
          100,
          100,
          100,
          100
         ]
        }
       ],
       "layout": {
        "legend": {
         "bgcolor": "#F5F6F9",
         "font": {
          "color": "#4D5663"
         }
        },
        "paper_bgcolor": "#F5F6F9",
        "plot_bgcolor": "#F5F6F9",
        "template": {
         "data": {
          "bar": [
           {
            "error_x": {
             "color": "#2a3f5f"
            },
            "error_y": {
             "color": "#2a3f5f"
            },
            "marker": {
             "line": {
              "color": "#E5ECF6",
              "width": 0.5
             }
            },
            "type": "bar"
           }
          ],
          "barpolar": [
           {
            "marker": {
             "line": {
              "color": "#E5ECF6",
              "width": 0.5
             }
            },
            "type": "barpolar"
           }
          ],
          "carpet": [
           {
            "aaxis": {
             "endlinecolor": "#2a3f5f",
             "gridcolor": "white",
             "linecolor": "white",
             "minorgridcolor": "white",
             "startlinecolor": "#2a3f5f"
            },
            "baxis": {
             "endlinecolor": "#2a3f5f",
             "gridcolor": "white",
             "linecolor": "white",
             "minorgridcolor": "white",
             "startlinecolor": "#2a3f5f"
            },
            "type": "carpet"
           }
          ],
          "choropleth": [
           {
            "colorbar": {
             "outlinewidth": 0,
             "ticks": ""
            },
            "type": "choropleth"
           }
          ],
          "contour": [
           {
            "colorbar": {
             "outlinewidth": 0,
             "ticks": ""
            },
            "colorscale": [
             [
              0,
              "#0d0887"
             ],
             [
              0.1111111111111111,
              "#46039f"
             ],
             [
              0.2222222222222222,
              "#7201a8"
             ],
             [
              0.3333333333333333,
              "#9c179e"
             ],
             [
              0.4444444444444444,
              "#bd3786"
             ],
             [
              0.5555555555555556,
              "#d8576b"
             ],
             [
              0.6666666666666666,
              "#ed7953"
             ],
             [
              0.7777777777777778,
              "#fb9f3a"
             ],
             [
              0.8888888888888888,
              "#fdca26"
             ],
             [
              1,
              "#f0f921"
             ]
            ],
            "type": "contour"
           }
          ],
          "contourcarpet": [
           {
            "colorbar": {
             "outlinewidth": 0,
             "ticks": ""
            },
            "type": "contourcarpet"
           }
          ],
          "heatmap": [
           {
            "colorbar": {
             "outlinewidth": 0,
             "ticks": ""
            },
            "colorscale": [
             [
              0,
              "#0d0887"
             ],
             [
              0.1111111111111111,
              "#46039f"
             ],
             [
              0.2222222222222222,
              "#7201a8"
             ],
             [
              0.3333333333333333,
              "#9c179e"
             ],
             [
              0.4444444444444444,
              "#bd3786"
             ],
             [
              0.5555555555555556,
              "#d8576b"
             ],
             [
              0.6666666666666666,
              "#ed7953"
             ],
             [
              0.7777777777777778,
              "#fb9f3a"
             ],
             [
              0.8888888888888888,
              "#fdca26"
             ],
             [
              1,
              "#f0f921"
             ]
            ],
            "type": "heatmap"
           }
          ],
          "heatmapgl": [
           {
            "colorbar": {
             "outlinewidth": 0,
             "ticks": ""
            },
            "colorscale": [
             [
              0,
              "#0d0887"
             ],
             [
              0.1111111111111111,
              "#46039f"
             ],
             [
              0.2222222222222222,
              "#7201a8"
             ],
             [
              0.3333333333333333,
              "#9c179e"
             ],
             [
              0.4444444444444444,
              "#bd3786"
             ],
             [
              0.5555555555555556,
              "#d8576b"
             ],
             [
              0.6666666666666666,
              "#ed7953"
             ],
             [
              0.7777777777777778,
              "#fb9f3a"
             ],
             [
              0.8888888888888888,
              "#fdca26"
             ],
             [
              1,
              "#f0f921"
             ]
            ],
            "type": "heatmapgl"
           }
          ],
          "histogram": [
           {
            "marker": {
             "colorbar": {
              "outlinewidth": 0,
              "ticks": ""
             }
            },
            "type": "histogram"
           }
          ],
          "histogram2d": [
           {
            "colorbar": {
             "outlinewidth": 0,
             "ticks": ""
            },
            "colorscale": [
             [
              0,
              "#0d0887"
             ],
             [
              0.1111111111111111,
              "#46039f"
             ],
             [
              0.2222222222222222,
              "#7201a8"
             ],
             [
              0.3333333333333333,
              "#9c179e"
             ],
             [
              0.4444444444444444,
              "#bd3786"
             ],
             [
              0.5555555555555556,
              "#d8576b"
             ],
             [
              0.6666666666666666,
              "#ed7953"
             ],
             [
              0.7777777777777778,
              "#fb9f3a"
             ],
             [
              0.8888888888888888,
              "#fdca26"
             ],
             [
              1,
              "#f0f921"
             ]
            ],
            "type": "histogram2d"
           }
          ],
          "histogram2dcontour": [
           {
            "colorbar": {
             "outlinewidth": 0,
             "ticks": ""
            },
            "colorscale": [
             [
              0,
              "#0d0887"
             ],
             [
              0.1111111111111111,
              "#46039f"
             ],
             [
              0.2222222222222222,
              "#7201a8"
             ],
             [
              0.3333333333333333,
              "#9c179e"
             ],
             [
              0.4444444444444444,
              "#bd3786"
             ],
             [
              0.5555555555555556,
              "#d8576b"
             ],
             [
              0.6666666666666666,
              "#ed7953"
             ],
             [
              0.7777777777777778,
              "#fb9f3a"
             ],
             [
              0.8888888888888888,
              "#fdca26"
             ],
             [
              1,
              "#f0f921"
             ]
            ],
            "type": "histogram2dcontour"
           }
          ],
          "mesh3d": [
           {
            "colorbar": {
             "outlinewidth": 0,
             "ticks": ""
            },
            "type": "mesh3d"
           }
          ],
          "parcoords": [
           {
            "line": {
             "colorbar": {
              "outlinewidth": 0,
              "ticks": ""
             }
            },
            "type": "parcoords"
           }
          ],
          "scatter": [
           {
            "marker": {
             "colorbar": {
              "outlinewidth": 0,
              "ticks": ""
             }
            },
            "type": "scatter"
           }
          ],
          "scatter3d": [
           {
            "line": {
             "colorbar": {
              "outlinewidth": 0,
              "ticks": ""
             }
            },
            "marker": {
             "colorbar": {
              "outlinewidth": 0,
              "ticks": ""
             }
            },
            "type": "scatter3d"
           }
          ],
          "scattercarpet": [
           {
            "marker": {
             "colorbar": {
              "outlinewidth": 0,
              "ticks": ""
             }
            },
            "type": "scattercarpet"
           }
          ],
          "scattergeo": [
           {
            "marker": {
             "colorbar": {
              "outlinewidth": 0,
              "ticks": ""
             }
            },
            "type": "scattergeo"
           }
          ],
          "scattergl": [
           {
            "marker": {
             "colorbar": {
              "outlinewidth": 0,
              "ticks": ""
             }
            },
            "type": "scattergl"
           }
          ],
          "scattermapbox": [
           {
            "marker": {
             "colorbar": {
              "outlinewidth": 0,
              "ticks": ""
             }
            },
            "type": "scattermapbox"
           }
          ],
          "scatterpolar": [
           {
            "marker": {
             "colorbar": {
              "outlinewidth": 0,
              "ticks": ""
             }
            },
            "type": "scatterpolar"
           }
          ],
          "scatterpolargl": [
           {
            "marker": {
             "colorbar": {
              "outlinewidth": 0,
              "ticks": ""
             }
            },
            "type": "scatterpolargl"
           }
          ],
          "scatterternary": [
           {
            "marker": {
             "colorbar": {
              "outlinewidth": 0,
              "ticks": ""
             }
            },
            "type": "scatterternary"
           }
          ],
          "surface": [
           {
            "colorbar": {
             "outlinewidth": 0,
             "ticks": ""
            },
            "colorscale": [
             [
              0,
              "#0d0887"
             ],
             [
              0.1111111111111111,
              "#46039f"
             ],
             [
              0.2222222222222222,
              "#7201a8"
             ],
             [
              0.3333333333333333,
              "#9c179e"
             ],
             [
              0.4444444444444444,
              "#bd3786"
             ],
             [
              0.5555555555555556,
              "#d8576b"
             ],
             [
              0.6666666666666666,
              "#ed7953"
             ],
             [
              0.7777777777777778,
              "#fb9f3a"
             ],
             [
              0.8888888888888888,
              "#fdca26"
             ],
             [
              1,
              "#f0f921"
             ]
            ],
            "type": "surface"
           }
          ],
          "table": [
           {
            "cells": {
             "fill": {
              "color": "#EBF0F8"
             },
             "line": {
              "color": "white"
             }
            },
            "header": {
             "fill": {
              "color": "#C8D4E3"
             },
             "line": {
              "color": "white"
             }
            },
            "type": "table"
           }
          ]
         },
         "layout": {
          "annotationdefaults": {
           "arrowcolor": "#2a3f5f",
           "arrowhead": 0,
           "arrowwidth": 1
          },
          "colorscale": {
           "diverging": [
            [
             0,
             "#8e0152"
            ],
            [
             0.1,
             "#c51b7d"
            ],
            [
             0.2,
             "#de77ae"
            ],
            [
             0.3,
             "#f1b6da"
            ],
            [
             0.4,
             "#fde0ef"
            ],
            [
             0.5,
             "#f7f7f7"
            ],
            [
             0.6,
             "#e6f5d0"
            ],
            [
             0.7,
             "#b8e186"
            ],
            [
             0.8,
             "#7fbc41"
            ],
            [
             0.9,
             "#4d9221"
            ],
            [
             1,
             "#276419"
            ]
           ],
           "sequential": [
            [
             0,
             "#0d0887"
            ],
            [
             0.1111111111111111,
             "#46039f"
            ],
            [
             0.2222222222222222,
             "#7201a8"
            ],
            [
             0.3333333333333333,
             "#9c179e"
            ],
            [
             0.4444444444444444,
             "#bd3786"
            ],
            [
             0.5555555555555556,
             "#d8576b"
            ],
            [
             0.6666666666666666,
             "#ed7953"
            ],
            [
             0.7777777777777778,
             "#fb9f3a"
            ],
            [
             0.8888888888888888,
             "#fdca26"
            ],
            [
             1,
             "#f0f921"
            ]
           ],
           "sequentialminus": [
            [
             0,
             "#0d0887"
            ],
            [
             0.1111111111111111,
             "#46039f"
            ],
            [
             0.2222222222222222,
             "#7201a8"
            ],
            [
             0.3333333333333333,
             "#9c179e"
            ],
            [
             0.4444444444444444,
             "#bd3786"
            ],
            [
             0.5555555555555556,
             "#d8576b"
            ],
            [
             0.6666666666666666,
             "#ed7953"
            ],
            [
             0.7777777777777778,
             "#fb9f3a"
            ],
            [
             0.8888888888888888,
             "#fdca26"
            ],
            [
             1,
             "#f0f921"
            ]
           ]
          },
          "colorway": [
           "#636efa",
           "#EF553B",
           "#00cc96",
           "#ab63fa",
           "#FFA15A",
           "#19d3f3",
           "#FF6692",
           "#B6E880",
           "#FF97FF",
           "#FECB52"
          ],
          "font": {
           "color": "#2a3f5f"
          },
          "geo": {
           "bgcolor": "white",
           "lakecolor": "white",
           "landcolor": "#E5ECF6",
           "showlakes": true,
           "showland": true,
           "subunitcolor": "white"
          },
          "hoverlabel": {
           "align": "left"
          },
          "hovermode": "closest",
          "mapbox": {
           "style": "light"
          },
          "paper_bgcolor": "white",
          "plot_bgcolor": "#E5ECF6",
          "polar": {
           "angularaxis": {
            "gridcolor": "white",
            "linecolor": "white",
            "ticks": ""
           },
           "bgcolor": "#E5ECF6",
           "radialaxis": {
            "gridcolor": "white",
            "linecolor": "white",
            "ticks": ""
           }
          },
          "scene": {
           "xaxis": {
            "backgroundcolor": "#E5ECF6",
            "gridcolor": "white",
            "gridwidth": 2,
            "linecolor": "white",
            "showbackground": true,
            "ticks": "",
            "zerolinecolor": "white"
           },
           "yaxis": {
            "backgroundcolor": "#E5ECF6",
            "gridcolor": "white",
            "gridwidth": 2,
            "linecolor": "white",
            "showbackground": true,
            "ticks": "",
            "zerolinecolor": "white"
           },
           "zaxis": {
            "backgroundcolor": "#E5ECF6",
            "gridcolor": "white",
            "gridwidth": 2,
            "linecolor": "white",
            "showbackground": true,
            "ticks": "",
            "zerolinecolor": "white"
           }
          },
          "shapedefaults": {
           "line": {
            "color": "#2a3f5f"
           }
          },
          "ternary": {
           "aaxis": {
            "gridcolor": "white",
            "linecolor": "white",
            "ticks": ""
           },
           "baxis": {
            "gridcolor": "white",
            "linecolor": "white",
            "ticks": ""
           },
           "bgcolor": "#E5ECF6",
           "caxis": {
            "gridcolor": "white",
            "linecolor": "white",
            "ticks": ""
           }
          },
          "title": {
           "x": 0.05
          },
          "xaxis": {
           "automargin": true,
           "gridcolor": "white",
           "linecolor": "white",
           "ticks": "",
           "zerolinecolor": "white",
           "zerolinewidth": 2
          },
          "yaxis": {
           "automargin": true,
           "gridcolor": "white",
           "linecolor": "white",
           "ticks": "",
           "zerolinecolor": "white",
           "zerolinewidth": 2
          }
         }
        },
        "title": {
         "font": {
          "color": "#4D5663"
         }
        },
        "xaxis": {
         "gridcolor": "#E1E5ED",
         "showgrid": true,
         "tickfont": {
          "color": "#4D5663"
         },
         "title": {
          "font": {
           "color": "#4D5663"
          },
          "text": ""
         },
         "zerolinecolor": "#E1E5ED"
        },
        "yaxis": {
         "gridcolor": "#E1E5ED",
         "showgrid": true,
         "tickfont": {
          "color": "#4D5663"
         },
         "title": {
          "font": {
           "color": "#4D5663"
          },
          "text": ""
         },
         "zerolinecolor": "#E1E5ED"
        }
       }
      },
      "text/html": [
       "<div>\n",
       "        \n",
       "        \n",
       "            <div id=\"89f34e63-d1ce-4e9c-bc1a-2044b76352ed\" class=\"plotly-graph-div\" style=\"height:525px; width:100%;\"></div>\n",
       "            <script type=\"text/javascript\">\n",
       "                require([\"plotly\"], function(Plotly) {\n",
       "                    window.PLOTLYENV=window.PLOTLYENV || {};\n",
       "                    window.PLOTLYENV.BASE_URL='https://plot.ly';\n",
       "                    \n",
       "                if (document.getElementById(\"89f34e63-d1ce-4e9c-bc1a-2044b76352ed\")) {\n",
       "                    Plotly.newPlot(\n",
       "                        '89f34e63-d1ce-4e9c-bc1a-2044b76352ed',\n",
       "                        [{\"marker\": {\"color\": \"rgba(255, 153, 51, 0.6)\", \"line\": {\"color\": \"rgba(255, 153, 51, 1.0)\", \"width\": 1}}, \"name\": \"None\", \"orientation\": \"v\", \"text\": \"\", \"type\": \"bar\", \"x\": [\"A\", \"B\", \"C\", \"D\"], \"y\": [100, 100, 100, 100]}],\n",
       "                        {\"legend\": {\"bgcolor\": \"#F5F6F9\", \"font\": {\"color\": \"#4D5663\"}}, \"paper_bgcolor\": \"#F5F6F9\", \"plot_bgcolor\": \"#F5F6F9\", \"template\": {\"data\": {\"bar\": [{\"error_x\": {\"color\": \"#2a3f5f\"}, \"error_y\": {\"color\": \"#2a3f5f\"}, \"marker\": {\"line\": {\"color\": \"#E5ECF6\", \"width\": 0.5}}, \"type\": \"bar\"}], \"barpolar\": [{\"marker\": {\"line\": {\"color\": \"#E5ECF6\", \"width\": 0.5}}, \"type\": \"barpolar\"}], \"carpet\": [{\"aaxis\": {\"endlinecolor\": \"#2a3f5f\", \"gridcolor\": \"white\", \"linecolor\": \"white\", \"minorgridcolor\": \"white\", \"startlinecolor\": \"#2a3f5f\"}, \"baxis\": {\"endlinecolor\": \"#2a3f5f\", \"gridcolor\": \"white\", \"linecolor\": \"white\", \"minorgridcolor\": \"white\", \"startlinecolor\": \"#2a3f5f\"}, \"type\": \"carpet\"}], \"choropleth\": [{\"colorbar\": {\"outlinewidth\": 0, \"ticks\": \"\"}, \"type\": \"choropleth\"}], \"contour\": [{\"colorbar\": {\"outlinewidth\": 0, \"ticks\": \"\"}, \"colorscale\": [[0.0, \"#0d0887\"], [0.1111111111111111, \"#46039f\"], [0.2222222222222222, \"#7201a8\"], [0.3333333333333333, \"#9c179e\"], [0.4444444444444444, \"#bd3786\"], [0.5555555555555556, \"#d8576b\"], [0.6666666666666666, \"#ed7953\"], [0.7777777777777778, \"#fb9f3a\"], [0.8888888888888888, \"#fdca26\"], [1.0, \"#f0f921\"]], \"type\": \"contour\"}], \"contourcarpet\": [{\"colorbar\": {\"outlinewidth\": 0, \"ticks\": \"\"}, \"type\": \"contourcarpet\"}], \"heatmap\": [{\"colorbar\": {\"outlinewidth\": 0, \"ticks\": \"\"}, \"colorscale\": [[0.0, \"#0d0887\"], [0.1111111111111111, \"#46039f\"], [0.2222222222222222, \"#7201a8\"], [0.3333333333333333, \"#9c179e\"], [0.4444444444444444, \"#bd3786\"], [0.5555555555555556, \"#d8576b\"], [0.6666666666666666, \"#ed7953\"], [0.7777777777777778, \"#fb9f3a\"], [0.8888888888888888, \"#fdca26\"], [1.0, \"#f0f921\"]], \"type\": \"heatmap\"}], \"heatmapgl\": [{\"colorbar\": {\"outlinewidth\": 0, \"ticks\": \"\"}, \"colorscale\": [[0.0, \"#0d0887\"], [0.1111111111111111, \"#46039f\"], [0.2222222222222222, \"#7201a8\"], [0.3333333333333333, \"#9c179e\"], [0.4444444444444444, \"#bd3786\"], [0.5555555555555556, \"#d8576b\"], [0.6666666666666666, \"#ed7953\"], [0.7777777777777778, \"#fb9f3a\"], [0.8888888888888888, \"#fdca26\"], [1.0, \"#f0f921\"]], \"type\": \"heatmapgl\"}], \"histogram\": [{\"marker\": {\"colorbar\": {\"outlinewidth\": 0, \"ticks\": \"\"}}, \"type\": \"histogram\"}], \"histogram2d\": [{\"colorbar\": {\"outlinewidth\": 0, \"ticks\": \"\"}, \"colorscale\": [[0.0, \"#0d0887\"], [0.1111111111111111, \"#46039f\"], [0.2222222222222222, \"#7201a8\"], [0.3333333333333333, \"#9c179e\"], [0.4444444444444444, \"#bd3786\"], [0.5555555555555556, \"#d8576b\"], [0.6666666666666666, \"#ed7953\"], [0.7777777777777778, \"#fb9f3a\"], [0.8888888888888888, \"#fdca26\"], [1.0, \"#f0f921\"]], \"type\": \"histogram2d\"}], \"histogram2dcontour\": [{\"colorbar\": {\"outlinewidth\": 0, \"ticks\": \"\"}, \"colorscale\": [[0.0, \"#0d0887\"], [0.1111111111111111, \"#46039f\"], [0.2222222222222222, \"#7201a8\"], [0.3333333333333333, \"#9c179e\"], [0.4444444444444444, \"#bd3786\"], [0.5555555555555556, \"#d8576b\"], [0.6666666666666666, \"#ed7953\"], [0.7777777777777778, \"#fb9f3a\"], [0.8888888888888888, \"#fdca26\"], [1.0, \"#f0f921\"]], \"type\": \"histogram2dcontour\"}], \"mesh3d\": [{\"colorbar\": {\"outlinewidth\": 0, \"ticks\": \"\"}, \"type\": \"mesh3d\"}], \"parcoords\": [{\"line\": {\"colorbar\": {\"outlinewidth\": 0, \"ticks\": \"\"}}, \"type\": \"parcoords\"}], \"scatter\": [{\"marker\": {\"colorbar\": {\"outlinewidth\": 0, \"ticks\": \"\"}}, \"type\": \"scatter\"}], \"scatter3d\": [{\"line\": {\"colorbar\": {\"outlinewidth\": 0, \"ticks\": \"\"}}, \"marker\": {\"colorbar\": {\"outlinewidth\": 0, \"ticks\": \"\"}}, \"type\": \"scatter3d\"}], \"scattercarpet\": [{\"marker\": {\"colorbar\": {\"outlinewidth\": 0, \"ticks\": \"\"}}, \"type\": \"scattercarpet\"}], \"scattergeo\": [{\"marker\": {\"colorbar\": {\"outlinewidth\": 0, \"ticks\": \"\"}}, \"type\": \"scattergeo\"}], \"scattergl\": [{\"marker\": {\"colorbar\": {\"outlinewidth\": 0, \"ticks\": \"\"}}, \"type\": \"scattergl\"}], \"scattermapbox\": [{\"marker\": {\"colorbar\": {\"outlinewidth\": 0, \"ticks\": \"\"}}, \"type\": \"scattermapbox\"}], \"scatterpolar\": [{\"marker\": {\"colorbar\": {\"outlinewidth\": 0, \"ticks\": \"\"}}, \"type\": \"scatterpolar\"}], \"scatterpolargl\": [{\"marker\": {\"colorbar\": {\"outlinewidth\": 0, \"ticks\": \"\"}}, \"type\": \"scatterpolargl\"}], \"scatterternary\": [{\"marker\": {\"colorbar\": {\"outlinewidth\": 0, \"ticks\": \"\"}}, \"type\": \"scatterternary\"}], \"surface\": [{\"colorbar\": {\"outlinewidth\": 0, \"ticks\": \"\"}, \"colorscale\": [[0.0, \"#0d0887\"], [0.1111111111111111, \"#46039f\"], [0.2222222222222222, \"#7201a8\"], [0.3333333333333333, \"#9c179e\"], [0.4444444444444444, \"#bd3786\"], [0.5555555555555556, \"#d8576b\"], [0.6666666666666666, \"#ed7953\"], [0.7777777777777778, \"#fb9f3a\"], [0.8888888888888888, \"#fdca26\"], [1.0, \"#f0f921\"]], \"type\": \"surface\"}], \"table\": [{\"cells\": {\"fill\": {\"color\": \"#EBF0F8\"}, \"line\": {\"color\": \"white\"}}, \"header\": {\"fill\": {\"color\": \"#C8D4E3\"}, \"line\": {\"color\": \"white\"}}, \"type\": \"table\"}]}, \"layout\": {\"annotationdefaults\": {\"arrowcolor\": \"#2a3f5f\", \"arrowhead\": 0, \"arrowwidth\": 1}, \"colorscale\": {\"diverging\": [[0, \"#8e0152\"], [0.1, \"#c51b7d\"], [0.2, \"#de77ae\"], [0.3, \"#f1b6da\"], [0.4, \"#fde0ef\"], [0.5, \"#f7f7f7\"], [0.6, \"#e6f5d0\"], [0.7, \"#b8e186\"], [0.8, \"#7fbc41\"], [0.9, \"#4d9221\"], [1, \"#276419\"]], \"sequential\": [[0.0, \"#0d0887\"], [0.1111111111111111, \"#46039f\"], [0.2222222222222222, \"#7201a8\"], [0.3333333333333333, \"#9c179e\"], [0.4444444444444444, \"#bd3786\"], [0.5555555555555556, \"#d8576b\"], [0.6666666666666666, \"#ed7953\"], [0.7777777777777778, \"#fb9f3a\"], [0.8888888888888888, \"#fdca26\"], [1.0, \"#f0f921\"]], \"sequentialminus\": [[0.0, \"#0d0887\"], [0.1111111111111111, \"#46039f\"], [0.2222222222222222, \"#7201a8\"], [0.3333333333333333, \"#9c179e\"], [0.4444444444444444, \"#bd3786\"], [0.5555555555555556, \"#d8576b\"], [0.6666666666666666, \"#ed7953\"], [0.7777777777777778, \"#fb9f3a\"], [0.8888888888888888, \"#fdca26\"], [1.0, \"#f0f921\"]]}, \"colorway\": [\"#636efa\", \"#EF553B\", \"#00cc96\", \"#ab63fa\", \"#FFA15A\", \"#19d3f3\", \"#FF6692\", \"#B6E880\", \"#FF97FF\", \"#FECB52\"], \"font\": {\"color\": \"#2a3f5f\"}, \"geo\": {\"bgcolor\": \"white\", \"lakecolor\": \"white\", \"landcolor\": \"#E5ECF6\", \"showlakes\": true, \"showland\": true, \"subunitcolor\": \"white\"}, \"hoverlabel\": {\"align\": \"left\"}, \"hovermode\": \"closest\", \"mapbox\": {\"style\": \"light\"}, \"paper_bgcolor\": \"white\", \"plot_bgcolor\": \"#E5ECF6\", \"polar\": {\"angularaxis\": {\"gridcolor\": \"white\", \"linecolor\": \"white\", \"ticks\": \"\"}, \"bgcolor\": \"#E5ECF6\", \"radialaxis\": {\"gridcolor\": \"white\", \"linecolor\": \"white\", \"ticks\": \"\"}}, \"scene\": {\"xaxis\": {\"backgroundcolor\": \"#E5ECF6\", \"gridcolor\": \"white\", \"gridwidth\": 2, \"linecolor\": \"white\", \"showbackground\": true, \"ticks\": \"\", \"zerolinecolor\": \"white\"}, \"yaxis\": {\"backgroundcolor\": \"#E5ECF6\", \"gridcolor\": \"white\", \"gridwidth\": 2, \"linecolor\": \"white\", \"showbackground\": true, \"ticks\": \"\", \"zerolinecolor\": \"white\"}, \"zaxis\": {\"backgroundcolor\": \"#E5ECF6\", \"gridcolor\": \"white\", \"gridwidth\": 2, \"linecolor\": \"white\", \"showbackground\": true, \"ticks\": \"\", \"zerolinecolor\": \"white\"}}, \"shapedefaults\": {\"line\": {\"color\": \"#2a3f5f\"}}, \"ternary\": {\"aaxis\": {\"gridcolor\": \"white\", \"linecolor\": \"white\", \"ticks\": \"\"}, \"baxis\": {\"gridcolor\": \"white\", \"linecolor\": \"white\", \"ticks\": \"\"}, \"bgcolor\": \"#E5ECF6\", \"caxis\": {\"gridcolor\": \"white\", \"linecolor\": \"white\", \"ticks\": \"\"}}, \"title\": {\"x\": 0.05}, \"xaxis\": {\"automargin\": true, \"gridcolor\": \"white\", \"linecolor\": \"white\", \"ticks\": \"\", \"zerolinecolor\": \"white\", \"zerolinewidth\": 2}, \"yaxis\": {\"automargin\": true, \"gridcolor\": \"white\", \"linecolor\": \"white\", \"ticks\": \"\", \"zerolinecolor\": \"white\", \"zerolinewidth\": 2}}}, \"title\": {\"font\": {\"color\": \"#4D5663\"}}, \"xaxis\": {\"gridcolor\": \"#E1E5ED\", \"showgrid\": true, \"tickfont\": {\"color\": \"#4D5663\"}, \"title\": {\"font\": {\"color\": \"#4D5663\"}, \"text\": \"\"}, \"zerolinecolor\": \"#E1E5ED\"}, \"yaxis\": {\"gridcolor\": \"#E1E5ED\", \"showgrid\": true, \"tickfont\": {\"color\": \"#4D5663\"}, \"title\": {\"font\": {\"color\": \"#4D5663\"}, \"text\": \"\"}, \"zerolinecolor\": \"#E1E5ED\"}},\n",
       "                        {\"showLink\": true, \"linkText\": \"Export to plot.ly\", \"plotlyServerURL\": \"https://plot.ly\", \"responsive\": true}\n",
       "                    ).then(function(){\n",
       "                            \n",
       "var gd = document.getElementById('89f34e63-d1ce-4e9c-bc1a-2044b76352ed');\n",
       "var x = new MutationObserver(function (mutations, observer) {{\n",
       "        var display = window.getComputedStyle(gd).display;\n",
       "        if (!display || display === 'none') {{\n",
       "            console.log([gd, 'removed!']);\n",
       "            Plotly.purge(gd);\n",
       "            observer.disconnect();\n",
       "        }}\n",
       "}});\n",
       "\n",
       "// Listen for the removal of the full notebook cells\n",
       "var notebookContainer = gd.closest('#notebook-container');\n",
       "if (notebookContainer) {{\n",
       "    x.observe(notebookContainer, {childList: true});\n",
       "}}\n",
       "\n",
       "// Listen for the clearing of the current output cell\n",
       "var outputEl = gd.closest('.output');\n",
       "if (outputEl) {{\n",
       "    x.observe(outputEl, {childList: true});\n",
       "}}\n",
       "\n",
       "                        })\n",
       "                };\n",
       "                });\n",
       "            </script>\n",
       "        </div>"
      ]
     },
     "metadata": {},
     "output_type": "display_data"
    }
   ],
   "source": [
    "df.count().iplot(kind = 'bar')"
   ]
  },
  {
   "cell_type": "markdown",
   "metadata": {},
   "source": [
    "<a id='box'></a>\n",
    "## Box Plots"
   ]
  },
  {
   "cell_type": "code",
   "execution_count": 14,
   "metadata": {},
   "outputs": [
    {
     "data": {
      "application/vnd.plotly.v1+json": {
       "config": {
        "linkText": "Export to plot.ly",
        "plotlyServerURL": "https://plot.ly",
        "showLink": true
       },
       "data": [
        {
         "boxpoints": false,
         "line": {
          "width": 1.3
         },
         "marker": {
          "color": "rgba(255, 153, 51, 1.0)"
         },
         "name": "A",
         "orientation": "v",
         "type": "box",
         "y": [
          1.0449692502051247,
          1.4014865892350301,
          0.2777510317952268,
          -1.0406765670657876,
          0.006359873179908175,
          0.12397386661141808,
          1.4994280432956189,
          -1.9346238092149068,
          0.35775705631885724,
          -0.34733273139125354,
          -1.3373498970995634,
          0.5091515021663505,
          1.6830219082728322,
          0.10537667311719211,
          -2.5140060263209567,
          -0.7889335872294903,
          -0.0793938247201161,
          1.0581598354422561,
          -0.30745406708624323,
          -0.9734821005483372,
          -0.7606620447650821,
          0.021183267166173587,
          -1.7574711218864698,
          -0.9512855259494061,
          0.276338353437027,
          1.0802903181292332,
          0.08603908044689187,
          0.1758005729081879,
          -0.9834799312375738,
          1.2317154884736348,
          -0.38431628365933634,
          -1.3881384191043795,
          -0.9125394169049456,
          -0.06794122752929284,
          -1.0022938850420355,
          -0.5095861337124544,
          -0.2145016229316288,
          -0.1943220846212686,
          -0.06818560747550947,
          -0.11897249361823674,
          -0.6495429422228579,
          0.06269089056141017,
          0.7860879064361281,
          -0.02466660086278837,
          -1.0398428437836782,
          1.961276736519445,
          -0.75184757764632,
          -1.0454232300948676,
          0.08359602149063225,
          -0.044816813695500904,
          -1.857736593010825,
          -0.32146990193714037,
          1.2739521892455514,
          -0.0681200681829437,
          0.05565804637859506,
          -0.9692222211336554,
          0.38286724571536196,
          -0.2831006200212324,
          2.763018694518891,
          -0.2431284914703938,
          0.6895516333352446,
          -0.9594802988637272,
          -0.36534172808055654,
          0.6370985113662331,
          -0.8755116726783624,
          -0.3281051711722991,
          -0.25980975372081383,
          -0.02807393604023754,
          1.773774961703449,
          0.22301815139047637,
          0.32490702837345103,
          0.5769192199507911,
          -0.3559427830466943,
          -0.30962702682606874,
          0.6877374686393355,
          0.4729623462551443,
          -1.3761942534956288,
          -0.36096947072820446,
          0.5562044076399122,
          1.2584082074658807,
          0.45376062650949156,
          1.2140873967387038,
          0.5732739119550228,
          2.3621996474302356,
          0.30980883930255376,
          -1.3104375373247683,
          -0.3006239722533239,
          0.4473291641086172,
          0.45413611270862947,
          1.0204039525647968,
          -1.0879414724793888,
          0.28759734847120055,
          0.10519796793009067,
          -0.5789700813247838,
          0.10266167172467248,
          0.0396210104831097,
          -0.3224039898722025,
          0.4844161425061551,
          0.8549570449938488,
          -0.5909057407999417
         ]
        },
        {
         "boxpoints": false,
         "line": {
          "width": 1.3
         },
         "marker": {
          "color": "rgba(55, 128, 191, 1.0)"
         },
         "name": "B",
         "orientation": "v",
         "type": "box",
         "y": [
          -0.6122871493742158,
          1.1081871772883127,
          0.07237326664240411,
          1.406695566419615,
          2.677619031027863,
          1.112007896315254,
          -0.042717243892368036,
          0.7591151319917263,
          1.0556520331963073,
          1.2870160271112958,
          1.0403960791303974,
          0.3389096166665409,
          -0.8704406299249163,
          -0.05277500029748561,
          -0.36939451035933046,
          0.021989699598618934,
          1.1444382793684356,
          -0.8927764162249062,
          -0.1628051853947566,
          -0.5432752677219072,
          -1.240592684049764,
          -1.7721162352992212,
          1.9328913219273787,
          2.5947345249856943,
          0.039314714721758216,
          -0.3116962358433378,
          -0.2601966610359773,
          -0.5615995471631422,
          2.8799163670262224,
          0.15733010475255726,
          -0.10534874143218677,
          1.9020147526179778,
          -1.8874958202687249,
          0.2701239367297032,
          -0.4623567400425783,
          -0.9465296338310447,
          -1.306966472110278,
          0.0460281332075379,
          -0.42391723840307133,
          0.32106132358339107,
          -1.357774815758448,
          -0.1983057429079247,
          0.5394666356832476,
          0.27345282349426914,
          1.7115369034552415,
          1.3539777900604741,
          0.41853317042274557,
          0.42272832867468335,
          1.7478578513191985,
          0.2103817558651291,
          -1.1263253595684382,
          -0.20054913121668919,
          -0.44667446570921543,
          0.3582952961244712,
          -0.205638127832226,
          -0.5058332125899551,
          0.046587499309992404,
          -1.1411642331240202,
          2.3549815303843684,
          -1.3147166480097907,
          -1.11288153984668,
          -2.0500677731421284,
          0.21388936815754106,
          0.809410971577199,
          1.8446996235700726,
          -0.3183719938850659,
          -0.38613673683138866,
          -0.5626146532545004,
          0.33272738668322926,
          -0.7360737680381293,
          -0.07820086788220298,
          -0.9239854599721813,
          -0.3422751447747376,
          -0.27439983203656493,
          0.8789170986350728,
          -0.7653109466860576,
          -1.0293486730547823,
          -1.7521978262212234,
          0.22988231823569452,
          0.3452925830352003,
          0.6636820763451339,
          -0.4905628916181519,
          -0.9596968706279292,
          -1.0899108329787122,
          0.21527711643708103,
          0.38782001222417123,
          -2.3328215385791,
          0.2751742167113534,
          1.1775728381813217,
          0.6919533953962174,
          -0.3615718797962593,
          -0.7504278081657234,
          0.3403032080793858,
          -0.839800460389345,
          -0.06837495898684512,
          0.877458070792261,
          0.6542370835529798,
          -0.3644351488624026,
          0.250900416278955,
          -0.5321225014239536
         ]
        },
        {
         "boxpoints": false,
         "line": {
          "width": 1.3
         },
         "marker": {
          "color": "rgba(50, 171, 96, 1.0)"
         },
         "name": "C",
         "orientation": "v",
         "type": "box",
         "y": [
          -0.5142528913325504,
          0.5060266865794251,
          -1.6199583518120624,
          1.8520587261057713,
          -0.06554062187242882,
          -2.1193259871211962,
          -0.10312402452617933,
          -0.2823173400730764,
          -0.13713805337433913,
          1.509537357938146,
          0.0699150051150181,
          0.5380126201309465,
          0.11584461685786844,
          -0.02464492557676752,
          -0.22670330406721462,
          0.521216649227666,
          -0.9283242198794059,
          0.4257681693106232,
          1.6531025440167102,
          -0.11088716206043903,
          0.34115325011588266,
          0.19120740879670203,
          -0.8868759049564396,
          -1.7665115973106773,
          0.04659283029643008,
          -0.26264009433781116,
          -0.7071677499191127,
          -1.8156573055356273,
          -0.9597661977627481,
          0.6346750081123061,
          -1.2170687733038335,
          -0.09503170353552087,
          1.2235524605060015,
          -2.483961254402522,
          -1.7769248644839108,
          -1.167942537919844,
          -1.7195038202017292,
          2.0000000659066908,
          0.735208684860714,
          -0.9902315523103511,
          -0.24048213191664183,
          1.684530587039095,
          -0.8388205164133292,
          -1.5105035457517466,
          -0.7217585881068305,
          -1.672436399800455,
          -2.173498116671171,
          -1.0121748883082924,
          -1.9379300516043922,
          -0.8103204539085346,
          0.9602618744081481,
          0.29108361202828015,
          0.6632213083854124,
          -0.6377180059935375,
          0.5950516126316518,
          0.6459072036021757,
          1.5733916420969902,
          -1.3755776322637125,
          -2.9636502997862815,
          0.5909172534700501,
          -1.6584566371411256,
          1.5220899668785541,
          0.7437572068187299,
          0.5385883569246949,
          -0.017830962906104177,
          0.2739753391236766,
          -0.4897537917204501,
          0.4337635052628477,
          0.42096938113998467,
          0.15157774948474637,
          0.8303928356370296,
          -1.4641096801019973,
          -0.9886301086830224,
          -0.5259368596049694,
          -1.5161897653064285,
          -0.2593709607188089,
          0.4846766662224007,
          -0.021870174420385715,
          2.1037454743733743,
          -0.45287066592680886,
          -1.3146233749916059,
          0.9802479499305575,
          0.955092541257332,
          -0.8880568724131004,
          -0.7377153152834167,
          -1.0184162487167085,
          1.4042890541610809,
          -0.42940422485424895,
          0.15116426244474643,
          0.9652533091065145,
          -0.8508199097895947,
          2.6216476630924896,
          -0.32293649151183895,
          -0.2391850956188257,
          0.949598408520094,
          -0.044902526507576285,
          -0.4449347958761696,
          1.004093561405033,
          0.5596332142497225,
          1.035489733390435
         ]
        },
        {
         "boxpoints": false,
         "line": {
          "width": 1.3
         },
         "marker": {
          "color": "rgba(128, 0, 128, 1.0)"
         },
         "name": "D",
         "orientation": "v",
         "type": "box",
         "y": [
          0.6050867298924966,
          -0.6165866449072356,
          1.9487979965437259,
          -0.9098734933847339,
          -2.492192741530579,
          -1.155198957029045,
          -1.4929999744628006,
          -0.6040682200297907,
          1.1366377934624625,
          2.1513349584751413,
          0.3947866509168756,
          -1.1929820842826453,
          1.6634720580878073,
          1.7738426060724652,
          1.8529184726392016,
          -0.3840859492385011,
          0.6038579823541418,
          0.4131455954870885,
          0.7068497108506195,
          1.147749500892832,
          2.299835378399439,
          -1.8717147301126826,
          -0.034324380922480635,
          0.35695342673173813,
          -0.8910845826111833,
          -0.8890807680339394,
          -0.24555389023033755,
          1.3487161260272114,
          2.461602113678832,
          -0.4219196891101721,
          1.7757603921594751,
          -0.8626667040522148,
          0.9644720228180006,
          -0.13709347296471658,
          0.9061307234417265,
          1.1182669714111269,
          -1.5151919116851684,
          1.6096394845501398,
          1.4515306958753844,
          1.0129930988439324,
          0.5254220174243576,
          -0.5902563173223,
          -1.17734244009965,
          -0.14499224358899587,
          0.5338044465845787,
          1.3902763025357754,
          -0.6241152889181363,
          -0.3038129866665245,
          1.4541004147160546,
          0.8350250449168365,
          0.6964153508844321,
          0.012566751083774863,
          -0.47338180272236235,
          1.210613945217184,
          -1.0854061797739847,
          -1.697645227564379,
          1.0491560820021897,
          -0.29289990375255287,
          0.5307495504562542,
          -0.23667795131555489,
          1.2434324239684833,
          -1.0955154658686839,
          -0.14252294279495933,
          0.3537686407349682,
          -0.9139176186616194,
          2.0992388874678136,
          0.2167135194987622,
          -0.9942562488323905,
          0.400285751143757,
          -1.114634278308162,
          0.40071764923934294,
          0.4505972499639887,
          -0.3474045765052524,
          -1.2267801096715627,
          0.11872707312681956,
          -0.9861172624062554,
          1.1492273572779284,
          1.1799550068207683,
          -2.30264447691568,
          -1.3466731136426056,
          0.5911496226492886,
          1.1129518683146158,
          -0.645887328395313,
          0.5774811909153283,
          -0.5390165554972535,
          -1.3728921095139972,
          -0.07932798925006247,
          -0.15377014478816045,
          0.06026333694448666,
          0.31048323905397635,
          -0.07043280832010015,
          -1.7914880877152701,
          -0.9447671861317545,
          -0.420201609792276,
          0.6595591715995851,
          -0.6347356068008602,
          -0.6959153846895623,
          1.6557390912262673,
          1.4502044430567527,
          -0.46731655681490564
         ]
        }
       ],
       "layout": {
        "legend": {
         "bgcolor": "#F5F6F9",
         "font": {
          "color": "#4D5663"
         }
        },
        "paper_bgcolor": "#F5F6F9",
        "plot_bgcolor": "#F5F6F9",
        "template": {
         "data": {
          "bar": [
           {
            "error_x": {
             "color": "#2a3f5f"
            },
            "error_y": {
             "color": "#2a3f5f"
            },
            "marker": {
             "line": {
              "color": "#E5ECF6",
              "width": 0.5
             }
            },
            "type": "bar"
           }
          ],
          "barpolar": [
           {
            "marker": {
             "line": {
              "color": "#E5ECF6",
              "width": 0.5
             }
            },
            "type": "barpolar"
           }
          ],
          "carpet": [
           {
            "aaxis": {
             "endlinecolor": "#2a3f5f",
             "gridcolor": "white",
             "linecolor": "white",
             "minorgridcolor": "white",
             "startlinecolor": "#2a3f5f"
            },
            "baxis": {
             "endlinecolor": "#2a3f5f",
             "gridcolor": "white",
             "linecolor": "white",
             "minorgridcolor": "white",
             "startlinecolor": "#2a3f5f"
            },
            "type": "carpet"
           }
          ],
          "choropleth": [
           {
            "colorbar": {
             "outlinewidth": 0,
             "ticks": ""
            },
            "type": "choropleth"
           }
          ],
          "contour": [
           {
            "colorbar": {
             "outlinewidth": 0,
             "ticks": ""
            },
            "colorscale": [
             [
              0,
              "#0d0887"
             ],
             [
              0.1111111111111111,
              "#46039f"
             ],
             [
              0.2222222222222222,
              "#7201a8"
             ],
             [
              0.3333333333333333,
              "#9c179e"
             ],
             [
              0.4444444444444444,
              "#bd3786"
             ],
             [
              0.5555555555555556,
              "#d8576b"
             ],
             [
              0.6666666666666666,
              "#ed7953"
             ],
             [
              0.7777777777777778,
              "#fb9f3a"
             ],
             [
              0.8888888888888888,
              "#fdca26"
             ],
             [
              1,
              "#f0f921"
             ]
            ],
            "type": "contour"
           }
          ],
          "contourcarpet": [
           {
            "colorbar": {
             "outlinewidth": 0,
             "ticks": ""
            },
            "type": "contourcarpet"
           }
          ],
          "heatmap": [
           {
            "colorbar": {
             "outlinewidth": 0,
             "ticks": ""
            },
            "colorscale": [
             [
              0,
              "#0d0887"
             ],
             [
              0.1111111111111111,
              "#46039f"
             ],
             [
              0.2222222222222222,
              "#7201a8"
             ],
             [
              0.3333333333333333,
              "#9c179e"
             ],
             [
              0.4444444444444444,
              "#bd3786"
             ],
             [
              0.5555555555555556,
              "#d8576b"
             ],
             [
              0.6666666666666666,
              "#ed7953"
             ],
             [
              0.7777777777777778,
              "#fb9f3a"
             ],
             [
              0.8888888888888888,
              "#fdca26"
             ],
             [
              1,
              "#f0f921"
             ]
            ],
            "type": "heatmap"
           }
          ],
          "heatmapgl": [
           {
            "colorbar": {
             "outlinewidth": 0,
             "ticks": ""
            },
            "colorscale": [
             [
              0,
              "#0d0887"
             ],
             [
              0.1111111111111111,
              "#46039f"
             ],
             [
              0.2222222222222222,
              "#7201a8"
             ],
             [
              0.3333333333333333,
              "#9c179e"
             ],
             [
              0.4444444444444444,
              "#bd3786"
             ],
             [
              0.5555555555555556,
              "#d8576b"
             ],
             [
              0.6666666666666666,
              "#ed7953"
             ],
             [
              0.7777777777777778,
              "#fb9f3a"
             ],
             [
              0.8888888888888888,
              "#fdca26"
             ],
             [
              1,
              "#f0f921"
             ]
            ],
            "type": "heatmapgl"
           }
          ],
          "histogram": [
           {
            "marker": {
             "colorbar": {
              "outlinewidth": 0,
              "ticks": ""
             }
            },
            "type": "histogram"
           }
          ],
          "histogram2d": [
           {
            "colorbar": {
             "outlinewidth": 0,
             "ticks": ""
            },
            "colorscale": [
             [
              0,
              "#0d0887"
             ],
             [
              0.1111111111111111,
              "#46039f"
             ],
             [
              0.2222222222222222,
              "#7201a8"
             ],
             [
              0.3333333333333333,
              "#9c179e"
             ],
             [
              0.4444444444444444,
              "#bd3786"
             ],
             [
              0.5555555555555556,
              "#d8576b"
             ],
             [
              0.6666666666666666,
              "#ed7953"
             ],
             [
              0.7777777777777778,
              "#fb9f3a"
             ],
             [
              0.8888888888888888,
              "#fdca26"
             ],
             [
              1,
              "#f0f921"
             ]
            ],
            "type": "histogram2d"
           }
          ],
          "histogram2dcontour": [
           {
            "colorbar": {
             "outlinewidth": 0,
             "ticks": ""
            },
            "colorscale": [
             [
              0,
              "#0d0887"
             ],
             [
              0.1111111111111111,
              "#46039f"
             ],
             [
              0.2222222222222222,
              "#7201a8"
             ],
             [
              0.3333333333333333,
              "#9c179e"
             ],
             [
              0.4444444444444444,
              "#bd3786"
             ],
             [
              0.5555555555555556,
              "#d8576b"
             ],
             [
              0.6666666666666666,
              "#ed7953"
             ],
             [
              0.7777777777777778,
              "#fb9f3a"
             ],
             [
              0.8888888888888888,
              "#fdca26"
             ],
             [
              1,
              "#f0f921"
             ]
            ],
            "type": "histogram2dcontour"
           }
          ],
          "mesh3d": [
           {
            "colorbar": {
             "outlinewidth": 0,
             "ticks": ""
            },
            "type": "mesh3d"
           }
          ],
          "parcoords": [
           {
            "line": {
             "colorbar": {
              "outlinewidth": 0,
              "ticks": ""
             }
            },
            "type": "parcoords"
           }
          ],
          "scatter": [
           {
            "marker": {
             "colorbar": {
              "outlinewidth": 0,
              "ticks": ""
             }
            },
            "type": "scatter"
           }
          ],
          "scatter3d": [
           {
            "line": {
             "colorbar": {
              "outlinewidth": 0,
              "ticks": ""
             }
            },
            "marker": {
             "colorbar": {
              "outlinewidth": 0,
              "ticks": ""
             }
            },
            "type": "scatter3d"
           }
          ],
          "scattercarpet": [
           {
            "marker": {
             "colorbar": {
              "outlinewidth": 0,
              "ticks": ""
             }
            },
            "type": "scattercarpet"
           }
          ],
          "scattergeo": [
           {
            "marker": {
             "colorbar": {
              "outlinewidth": 0,
              "ticks": ""
             }
            },
            "type": "scattergeo"
           }
          ],
          "scattergl": [
           {
            "marker": {
             "colorbar": {
              "outlinewidth": 0,
              "ticks": ""
             }
            },
            "type": "scattergl"
           }
          ],
          "scattermapbox": [
           {
            "marker": {
             "colorbar": {
              "outlinewidth": 0,
              "ticks": ""
             }
            },
            "type": "scattermapbox"
           }
          ],
          "scatterpolar": [
           {
            "marker": {
             "colorbar": {
              "outlinewidth": 0,
              "ticks": ""
             }
            },
            "type": "scatterpolar"
           }
          ],
          "scatterpolargl": [
           {
            "marker": {
             "colorbar": {
              "outlinewidth": 0,
              "ticks": ""
             }
            },
            "type": "scatterpolargl"
           }
          ],
          "scatterternary": [
           {
            "marker": {
             "colorbar": {
              "outlinewidth": 0,
              "ticks": ""
             }
            },
            "type": "scatterternary"
           }
          ],
          "surface": [
           {
            "colorbar": {
             "outlinewidth": 0,
             "ticks": ""
            },
            "colorscale": [
             [
              0,
              "#0d0887"
             ],
             [
              0.1111111111111111,
              "#46039f"
             ],
             [
              0.2222222222222222,
              "#7201a8"
             ],
             [
              0.3333333333333333,
              "#9c179e"
             ],
             [
              0.4444444444444444,
              "#bd3786"
             ],
             [
              0.5555555555555556,
              "#d8576b"
             ],
             [
              0.6666666666666666,
              "#ed7953"
             ],
             [
              0.7777777777777778,
              "#fb9f3a"
             ],
             [
              0.8888888888888888,
              "#fdca26"
             ],
             [
              1,
              "#f0f921"
             ]
            ],
            "type": "surface"
           }
          ],
          "table": [
           {
            "cells": {
             "fill": {
              "color": "#EBF0F8"
             },
             "line": {
              "color": "white"
             }
            },
            "header": {
             "fill": {
              "color": "#C8D4E3"
             },
             "line": {
              "color": "white"
             }
            },
            "type": "table"
           }
          ]
         },
         "layout": {
          "annotationdefaults": {
           "arrowcolor": "#2a3f5f",
           "arrowhead": 0,
           "arrowwidth": 1
          },
          "colorscale": {
           "diverging": [
            [
             0,
             "#8e0152"
            ],
            [
             0.1,
             "#c51b7d"
            ],
            [
             0.2,
             "#de77ae"
            ],
            [
             0.3,
             "#f1b6da"
            ],
            [
             0.4,
             "#fde0ef"
            ],
            [
             0.5,
             "#f7f7f7"
            ],
            [
             0.6,
             "#e6f5d0"
            ],
            [
             0.7,
             "#b8e186"
            ],
            [
             0.8,
             "#7fbc41"
            ],
            [
             0.9,
             "#4d9221"
            ],
            [
             1,
             "#276419"
            ]
           ],
           "sequential": [
            [
             0,
             "#0d0887"
            ],
            [
             0.1111111111111111,
             "#46039f"
            ],
            [
             0.2222222222222222,
             "#7201a8"
            ],
            [
             0.3333333333333333,
             "#9c179e"
            ],
            [
             0.4444444444444444,
             "#bd3786"
            ],
            [
             0.5555555555555556,
             "#d8576b"
            ],
            [
             0.6666666666666666,
             "#ed7953"
            ],
            [
             0.7777777777777778,
             "#fb9f3a"
            ],
            [
             0.8888888888888888,
             "#fdca26"
            ],
            [
             1,
             "#f0f921"
            ]
           ],
           "sequentialminus": [
            [
             0,
             "#0d0887"
            ],
            [
             0.1111111111111111,
             "#46039f"
            ],
            [
             0.2222222222222222,
             "#7201a8"
            ],
            [
             0.3333333333333333,
             "#9c179e"
            ],
            [
             0.4444444444444444,
             "#bd3786"
            ],
            [
             0.5555555555555556,
             "#d8576b"
            ],
            [
             0.6666666666666666,
             "#ed7953"
            ],
            [
             0.7777777777777778,
             "#fb9f3a"
            ],
            [
             0.8888888888888888,
             "#fdca26"
            ],
            [
             1,
             "#f0f921"
            ]
           ]
          },
          "colorway": [
           "#636efa",
           "#EF553B",
           "#00cc96",
           "#ab63fa",
           "#FFA15A",
           "#19d3f3",
           "#FF6692",
           "#B6E880",
           "#FF97FF",
           "#FECB52"
          ],
          "font": {
           "color": "#2a3f5f"
          },
          "geo": {
           "bgcolor": "white",
           "lakecolor": "white",
           "landcolor": "#E5ECF6",
           "showlakes": true,
           "showland": true,
           "subunitcolor": "white"
          },
          "hoverlabel": {
           "align": "left"
          },
          "hovermode": "closest",
          "mapbox": {
           "style": "light"
          },
          "paper_bgcolor": "white",
          "plot_bgcolor": "#E5ECF6",
          "polar": {
           "angularaxis": {
            "gridcolor": "white",
            "linecolor": "white",
            "ticks": ""
           },
           "bgcolor": "#E5ECF6",
           "radialaxis": {
            "gridcolor": "white",
            "linecolor": "white",
            "ticks": ""
           }
          },
          "scene": {
           "xaxis": {
            "backgroundcolor": "#E5ECF6",
            "gridcolor": "white",
            "gridwidth": 2,
            "linecolor": "white",
            "showbackground": true,
            "ticks": "",
            "zerolinecolor": "white"
           },
           "yaxis": {
            "backgroundcolor": "#E5ECF6",
            "gridcolor": "white",
            "gridwidth": 2,
            "linecolor": "white",
            "showbackground": true,
            "ticks": "",
            "zerolinecolor": "white"
           },
           "zaxis": {
            "backgroundcolor": "#E5ECF6",
            "gridcolor": "white",
            "gridwidth": 2,
            "linecolor": "white",
            "showbackground": true,
            "ticks": "",
            "zerolinecolor": "white"
           }
          },
          "shapedefaults": {
           "line": {
            "color": "#2a3f5f"
           }
          },
          "ternary": {
           "aaxis": {
            "gridcolor": "white",
            "linecolor": "white",
            "ticks": ""
           },
           "baxis": {
            "gridcolor": "white",
            "linecolor": "white",
            "ticks": ""
           },
           "bgcolor": "#E5ECF6",
           "caxis": {
            "gridcolor": "white",
            "linecolor": "white",
            "ticks": ""
           }
          },
          "title": {
           "x": 0.05
          },
          "xaxis": {
           "automargin": true,
           "gridcolor": "white",
           "linecolor": "white",
           "ticks": "",
           "zerolinecolor": "white",
           "zerolinewidth": 2
          },
          "yaxis": {
           "automargin": true,
           "gridcolor": "white",
           "linecolor": "white",
           "ticks": "",
           "zerolinecolor": "white",
           "zerolinewidth": 2
          }
         }
        },
        "title": {
         "font": {
          "color": "#4D5663"
         }
        },
        "xaxis": {
         "gridcolor": "#E1E5ED",
         "showgrid": true,
         "tickfont": {
          "color": "#4D5663"
         },
         "title": {
          "font": {
           "color": "#4D5663"
          },
          "text": ""
         },
         "zerolinecolor": "#E1E5ED"
        },
        "yaxis": {
         "gridcolor": "#E1E5ED",
         "showgrid": true,
         "tickfont": {
          "color": "#4D5663"
         },
         "title": {
          "font": {
           "color": "#4D5663"
          },
          "text": ""
         },
         "zerolinecolor": "#E1E5ED"
        }
       }
      },
      "text/html": [
       "<div>\n",
       "        \n",
       "        \n",
       "            <div id=\"31a58bd7-94de-4c7f-8a34-a52f85479609\" class=\"plotly-graph-div\" style=\"height:525px; width:100%;\"></div>\n",
       "            <script type=\"text/javascript\">\n",
       "                require([\"plotly\"], function(Plotly) {\n",
       "                    window.PLOTLYENV=window.PLOTLYENV || {};\n",
       "                    window.PLOTLYENV.BASE_URL='https://plot.ly';\n",
       "                    \n",
       "                if (document.getElementById(\"31a58bd7-94de-4c7f-8a34-a52f85479609\")) {\n",
       "                    Plotly.newPlot(\n",
       "                        '31a58bd7-94de-4c7f-8a34-a52f85479609',\n",
       "                        [{\"boxpoints\": false, \"line\": {\"width\": 1.3}, \"marker\": {\"color\": \"rgba(255, 153, 51, 1.0)\"}, \"name\": \"A\", \"orientation\": \"v\", \"type\": \"box\", \"y\": [1.0449692502051247, 1.4014865892350301, 0.2777510317952268, -1.0406765670657876, 0.006359873179908175, 0.12397386661141808, 1.4994280432956189, -1.9346238092149068, 0.35775705631885724, -0.34733273139125354, -1.3373498970995634, 0.5091515021663505, 1.6830219082728322, 0.10537667311719211, -2.5140060263209567, -0.7889335872294903, -0.0793938247201161, 1.0581598354422561, -0.30745406708624323, -0.9734821005483372, -0.7606620447650821, 0.021183267166173587, -1.7574711218864698, -0.9512855259494061, 0.276338353437027, 1.0802903181292332, 0.08603908044689187, 0.1758005729081879, -0.9834799312375738, 1.2317154884736348, -0.38431628365933634, -1.3881384191043795, -0.9125394169049456, -0.06794122752929284, -1.0022938850420355, -0.5095861337124544, -0.2145016229316288, -0.1943220846212686, -0.06818560747550947, -0.11897249361823674, -0.6495429422228579, 0.06269089056141017, 0.7860879064361281, -0.02466660086278837, -1.0398428437836782, 1.961276736519445, -0.75184757764632, -1.0454232300948676, 0.08359602149063225, -0.044816813695500904, -1.857736593010825, -0.32146990193714037, 1.2739521892455514, -0.0681200681829437, 0.05565804637859506, -0.9692222211336554, 0.38286724571536196, -0.2831006200212324, 2.763018694518891, -0.2431284914703938, 0.6895516333352446, -0.9594802988637272, -0.36534172808055654, 0.6370985113662331, -0.8755116726783624, -0.3281051711722991, -0.25980975372081383, -0.02807393604023754, 1.773774961703449, 0.22301815139047637, 0.32490702837345103, 0.5769192199507911, -0.3559427830466943, -0.30962702682606874, 0.6877374686393355, 0.4729623462551443, -1.3761942534956288, -0.36096947072820446, 0.5562044076399122, 1.2584082074658807, 0.45376062650949156, 1.2140873967387038, 0.5732739119550228, 2.3621996474302356, 0.30980883930255376, -1.3104375373247683, -0.3006239722533239, 0.4473291641086172, 0.45413611270862947, 1.0204039525647968, -1.0879414724793888, 0.28759734847120055, 0.10519796793009067, -0.5789700813247838, 0.10266167172467248, 0.0396210104831097, -0.3224039898722025, 0.4844161425061551, 0.8549570449938488, -0.5909057407999417]}, {\"boxpoints\": false, \"line\": {\"width\": 1.3}, \"marker\": {\"color\": \"rgba(55, 128, 191, 1.0)\"}, \"name\": \"B\", \"orientation\": \"v\", \"type\": \"box\", \"y\": [-0.6122871493742158, 1.1081871772883127, 0.07237326664240411, 1.406695566419615, 2.677619031027863, 1.112007896315254, -0.042717243892368036, 0.7591151319917263, 1.0556520331963073, 1.2870160271112958, 1.0403960791303974, 0.3389096166665409, -0.8704406299249163, -0.05277500029748561, -0.36939451035933046, 0.021989699598618934, 1.1444382793684356, -0.8927764162249062, -0.1628051853947566, -0.5432752677219072, -1.240592684049764, -1.7721162352992212, 1.9328913219273787, 2.5947345249856943, 0.039314714721758216, -0.3116962358433378, -0.2601966610359773, -0.5615995471631422, 2.8799163670262224, 0.15733010475255726, -0.10534874143218677, 1.9020147526179778, -1.8874958202687249, 0.2701239367297032, -0.4623567400425783, -0.9465296338310447, -1.306966472110278, 0.0460281332075379, -0.42391723840307133, 0.32106132358339107, -1.357774815758448, -0.1983057429079247, 0.5394666356832476, 0.27345282349426914, 1.7115369034552415, 1.3539777900604741, 0.41853317042274557, 0.42272832867468335, 1.7478578513191985, 0.2103817558651291, -1.1263253595684382, -0.20054913121668919, -0.44667446570921543, 0.3582952961244712, -0.205638127832226, -0.5058332125899551, 0.046587499309992404, -1.1411642331240202, 2.3549815303843684, -1.3147166480097907, -1.11288153984668, -2.0500677731421284, 0.21388936815754106, 0.809410971577199, 1.8446996235700726, -0.3183719938850659, -0.38613673683138866, -0.5626146532545004, 0.33272738668322926, -0.7360737680381293, -0.07820086788220298, -0.9239854599721813, -0.3422751447747376, -0.27439983203656493, 0.8789170986350728, -0.7653109466860576, -1.0293486730547823, -1.7521978262212234, 0.22988231823569452, 0.3452925830352003, 0.6636820763451339, -0.4905628916181519, -0.9596968706279292, -1.0899108329787122, 0.21527711643708103, 0.38782001222417123, -2.3328215385791, 0.2751742167113534, 1.1775728381813217, 0.6919533953962174, -0.3615718797962593, -0.7504278081657234, 0.3403032080793858, -0.839800460389345, -0.06837495898684512, 0.877458070792261, 0.6542370835529798, -0.3644351488624026, 0.250900416278955, -0.5321225014239536]}, {\"boxpoints\": false, \"line\": {\"width\": 1.3}, \"marker\": {\"color\": \"rgba(50, 171, 96, 1.0)\"}, \"name\": \"C\", \"orientation\": \"v\", \"type\": \"box\", \"y\": [-0.5142528913325504, 0.5060266865794251, -1.6199583518120624, 1.8520587261057713, -0.06554062187242882, -2.1193259871211962, -0.10312402452617933, -0.2823173400730764, -0.13713805337433913, 1.509537357938146, 0.0699150051150181, 0.5380126201309465, 0.11584461685786844, -0.02464492557676752, -0.22670330406721462, 0.521216649227666, -0.9283242198794059, 0.4257681693106232, 1.6531025440167102, -0.11088716206043903, 0.34115325011588266, 0.19120740879670203, -0.8868759049564396, -1.7665115973106773, 0.04659283029643008, -0.26264009433781116, -0.7071677499191127, -1.8156573055356273, -0.9597661977627481, 0.6346750081123061, -1.2170687733038335, -0.09503170353552087, 1.2235524605060015, -2.483961254402522, -1.7769248644839108, -1.167942537919844, -1.7195038202017292, 2.0000000659066908, 0.735208684860714, -0.9902315523103511, -0.24048213191664183, 1.684530587039095, -0.8388205164133292, -1.5105035457517466, -0.7217585881068305, -1.672436399800455, -2.173498116671171, -1.0121748883082924, -1.9379300516043922, -0.8103204539085346, 0.9602618744081481, 0.29108361202828015, 0.6632213083854124, -0.6377180059935375, 0.5950516126316518, 0.6459072036021757, 1.5733916420969902, -1.3755776322637125, -2.9636502997862815, 0.5909172534700501, -1.6584566371411256, 1.5220899668785541, 0.7437572068187299, 0.5385883569246949, -0.017830962906104177, 0.2739753391236766, -0.4897537917204501, 0.4337635052628477, 0.42096938113998467, 0.15157774948474637, 0.8303928356370296, -1.4641096801019973, -0.9886301086830224, -0.5259368596049694, -1.5161897653064285, -0.2593709607188089, 0.4846766662224007, -0.021870174420385715, 2.1037454743733743, -0.45287066592680886, -1.3146233749916059, 0.9802479499305575, 0.955092541257332, -0.8880568724131004, -0.7377153152834167, -1.0184162487167085, 1.4042890541610809, -0.42940422485424895, 0.15116426244474643, 0.9652533091065145, -0.8508199097895947, 2.6216476630924896, -0.32293649151183895, -0.2391850956188257, 0.949598408520094, -0.044902526507576285, -0.4449347958761696, 1.004093561405033, 0.5596332142497225, 1.035489733390435]}, {\"boxpoints\": false, \"line\": {\"width\": 1.3}, \"marker\": {\"color\": \"rgba(128, 0, 128, 1.0)\"}, \"name\": \"D\", \"orientation\": \"v\", \"type\": \"box\", \"y\": [0.6050867298924966, -0.6165866449072356, 1.9487979965437259, -0.9098734933847339, -2.492192741530579, -1.155198957029045, -1.4929999744628006, -0.6040682200297907, 1.1366377934624625, 2.1513349584751413, 0.3947866509168756, -1.1929820842826453, 1.6634720580878073, 1.7738426060724652, 1.8529184726392016, -0.3840859492385011, 0.6038579823541418, 0.4131455954870885, 0.7068497108506195, 1.147749500892832, 2.299835378399439, -1.8717147301126826, -0.034324380922480635, 0.35695342673173813, -0.8910845826111833, -0.8890807680339394, -0.24555389023033755, 1.3487161260272114, 2.461602113678832, -0.4219196891101721, 1.7757603921594751, -0.8626667040522148, 0.9644720228180006, -0.13709347296471658, 0.9061307234417265, 1.1182669714111269, -1.5151919116851684, 1.6096394845501398, 1.4515306958753844, 1.0129930988439324, 0.5254220174243576, -0.5902563173223, -1.17734244009965, -0.14499224358899587, 0.5338044465845787, 1.3902763025357754, -0.6241152889181363, -0.3038129866665245, 1.4541004147160546, 0.8350250449168365, 0.6964153508844321, 0.012566751083774863, -0.47338180272236235, 1.210613945217184, -1.0854061797739847, -1.697645227564379, 1.0491560820021897, -0.29289990375255287, 0.5307495504562542, -0.23667795131555489, 1.2434324239684833, -1.0955154658686839, -0.14252294279495933, 0.3537686407349682, -0.9139176186616194, 2.0992388874678136, 0.2167135194987622, -0.9942562488323905, 0.400285751143757, -1.114634278308162, 0.40071764923934294, 0.4505972499639887, -0.3474045765052524, -1.2267801096715627, 0.11872707312681956, -0.9861172624062554, 1.1492273572779284, 1.1799550068207683, -2.30264447691568, -1.3466731136426056, 0.5911496226492886, 1.1129518683146158, -0.645887328395313, 0.5774811909153283, -0.5390165554972535, -1.3728921095139972, -0.07932798925006247, -0.15377014478816045, 0.06026333694448666, 0.31048323905397635, -0.07043280832010015, -1.7914880877152701, -0.9447671861317545, -0.420201609792276, 0.6595591715995851, -0.6347356068008602, -0.6959153846895623, 1.6557390912262673, 1.4502044430567527, -0.46731655681490564]}],\n",
       "                        {\"legend\": {\"bgcolor\": \"#F5F6F9\", \"font\": {\"color\": \"#4D5663\"}}, \"paper_bgcolor\": \"#F5F6F9\", \"plot_bgcolor\": \"#F5F6F9\", \"template\": {\"data\": {\"bar\": [{\"error_x\": {\"color\": \"#2a3f5f\"}, \"error_y\": {\"color\": \"#2a3f5f\"}, \"marker\": {\"line\": {\"color\": \"#E5ECF6\", \"width\": 0.5}}, \"type\": \"bar\"}], \"barpolar\": [{\"marker\": {\"line\": {\"color\": \"#E5ECF6\", \"width\": 0.5}}, \"type\": \"barpolar\"}], \"carpet\": [{\"aaxis\": {\"endlinecolor\": \"#2a3f5f\", \"gridcolor\": \"white\", \"linecolor\": \"white\", \"minorgridcolor\": \"white\", \"startlinecolor\": \"#2a3f5f\"}, \"baxis\": {\"endlinecolor\": \"#2a3f5f\", \"gridcolor\": \"white\", \"linecolor\": \"white\", \"minorgridcolor\": \"white\", \"startlinecolor\": \"#2a3f5f\"}, \"type\": \"carpet\"}], \"choropleth\": [{\"colorbar\": {\"outlinewidth\": 0, \"ticks\": \"\"}, \"type\": \"choropleth\"}], \"contour\": [{\"colorbar\": {\"outlinewidth\": 0, \"ticks\": \"\"}, \"colorscale\": [[0.0, \"#0d0887\"], [0.1111111111111111, \"#46039f\"], [0.2222222222222222, \"#7201a8\"], [0.3333333333333333, \"#9c179e\"], [0.4444444444444444, \"#bd3786\"], [0.5555555555555556, \"#d8576b\"], [0.6666666666666666, \"#ed7953\"], [0.7777777777777778, \"#fb9f3a\"], [0.8888888888888888, \"#fdca26\"], [1.0, \"#f0f921\"]], \"type\": \"contour\"}], \"contourcarpet\": [{\"colorbar\": {\"outlinewidth\": 0, \"ticks\": \"\"}, \"type\": \"contourcarpet\"}], \"heatmap\": [{\"colorbar\": {\"outlinewidth\": 0, \"ticks\": \"\"}, \"colorscale\": [[0.0, \"#0d0887\"], [0.1111111111111111, \"#46039f\"], [0.2222222222222222, \"#7201a8\"], [0.3333333333333333, \"#9c179e\"], [0.4444444444444444, \"#bd3786\"], [0.5555555555555556, \"#d8576b\"], [0.6666666666666666, \"#ed7953\"], [0.7777777777777778, \"#fb9f3a\"], [0.8888888888888888, \"#fdca26\"], [1.0, \"#f0f921\"]], \"type\": \"heatmap\"}], \"heatmapgl\": [{\"colorbar\": {\"outlinewidth\": 0, \"ticks\": \"\"}, \"colorscale\": [[0.0, \"#0d0887\"], [0.1111111111111111, \"#46039f\"], [0.2222222222222222, \"#7201a8\"], [0.3333333333333333, \"#9c179e\"], [0.4444444444444444, \"#bd3786\"], [0.5555555555555556, \"#d8576b\"], [0.6666666666666666, \"#ed7953\"], [0.7777777777777778, \"#fb9f3a\"], [0.8888888888888888, \"#fdca26\"], [1.0, \"#f0f921\"]], \"type\": \"heatmapgl\"}], \"histogram\": [{\"marker\": {\"colorbar\": {\"outlinewidth\": 0, \"ticks\": \"\"}}, \"type\": \"histogram\"}], \"histogram2d\": [{\"colorbar\": {\"outlinewidth\": 0, \"ticks\": \"\"}, \"colorscale\": [[0.0, \"#0d0887\"], [0.1111111111111111, \"#46039f\"], [0.2222222222222222, \"#7201a8\"], [0.3333333333333333, \"#9c179e\"], [0.4444444444444444, \"#bd3786\"], [0.5555555555555556, \"#d8576b\"], [0.6666666666666666, \"#ed7953\"], [0.7777777777777778, \"#fb9f3a\"], [0.8888888888888888, \"#fdca26\"], [1.0, \"#f0f921\"]], \"type\": \"histogram2d\"}], \"histogram2dcontour\": [{\"colorbar\": {\"outlinewidth\": 0, \"ticks\": \"\"}, \"colorscale\": [[0.0, \"#0d0887\"], [0.1111111111111111, \"#46039f\"], [0.2222222222222222, \"#7201a8\"], [0.3333333333333333, \"#9c179e\"], [0.4444444444444444, \"#bd3786\"], [0.5555555555555556, \"#d8576b\"], [0.6666666666666666, \"#ed7953\"], [0.7777777777777778, \"#fb9f3a\"], [0.8888888888888888, \"#fdca26\"], [1.0, \"#f0f921\"]], \"type\": \"histogram2dcontour\"}], \"mesh3d\": [{\"colorbar\": {\"outlinewidth\": 0, \"ticks\": \"\"}, \"type\": \"mesh3d\"}], \"parcoords\": [{\"line\": {\"colorbar\": {\"outlinewidth\": 0, \"ticks\": \"\"}}, \"type\": \"parcoords\"}], \"scatter\": [{\"marker\": {\"colorbar\": {\"outlinewidth\": 0, \"ticks\": \"\"}}, \"type\": \"scatter\"}], \"scatter3d\": [{\"line\": {\"colorbar\": {\"outlinewidth\": 0, \"ticks\": \"\"}}, \"marker\": {\"colorbar\": {\"outlinewidth\": 0, \"ticks\": \"\"}}, \"type\": \"scatter3d\"}], \"scattercarpet\": [{\"marker\": {\"colorbar\": {\"outlinewidth\": 0, \"ticks\": \"\"}}, \"type\": \"scattercarpet\"}], \"scattergeo\": [{\"marker\": {\"colorbar\": {\"outlinewidth\": 0, \"ticks\": \"\"}}, \"type\": \"scattergeo\"}], \"scattergl\": [{\"marker\": {\"colorbar\": {\"outlinewidth\": 0, \"ticks\": \"\"}}, \"type\": \"scattergl\"}], \"scattermapbox\": [{\"marker\": {\"colorbar\": {\"outlinewidth\": 0, \"ticks\": \"\"}}, \"type\": \"scattermapbox\"}], \"scatterpolar\": [{\"marker\": {\"colorbar\": {\"outlinewidth\": 0, \"ticks\": \"\"}}, \"type\": \"scatterpolar\"}], \"scatterpolargl\": [{\"marker\": {\"colorbar\": {\"outlinewidth\": 0, \"ticks\": \"\"}}, \"type\": \"scatterpolargl\"}], \"scatterternary\": [{\"marker\": {\"colorbar\": {\"outlinewidth\": 0, \"ticks\": \"\"}}, \"type\": \"scatterternary\"}], \"surface\": [{\"colorbar\": {\"outlinewidth\": 0, \"ticks\": \"\"}, \"colorscale\": [[0.0, \"#0d0887\"], [0.1111111111111111, \"#46039f\"], [0.2222222222222222, \"#7201a8\"], [0.3333333333333333, \"#9c179e\"], [0.4444444444444444, \"#bd3786\"], [0.5555555555555556, \"#d8576b\"], [0.6666666666666666, \"#ed7953\"], [0.7777777777777778, \"#fb9f3a\"], [0.8888888888888888, \"#fdca26\"], [1.0, \"#f0f921\"]], \"type\": \"surface\"}], \"table\": [{\"cells\": {\"fill\": {\"color\": \"#EBF0F8\"}, \"line\": {\"color\": \"white\"}}, \"header\": {\"fill\": {\"color\": \"#C8D4E3\"}, \"line\": {\"color\": \"white\"}}, \"type\": \"table\"}]}, \"layout\": {\"annotationdefaults\": {\"arrowcolor\": \"#2a3f5f\", \"arrowhead\": 0, \"arrowwidth\": 1}, \"colorscale\": {\"diverging\": [[0, \"#8e0152\"], [0.1, \"#c51b7d\"], [0.2, \"#de77ae\"], [0.3, \"#f1b6da\"], [0.4, \"#fde0ef\"], [0.5, \"#f7f7f7\"], [0.6, \"#e6f5d0\"], [0.7, \"#b8e186\"], [0.8, \"#7fbc41\"], [0.9, \"#4d9221\"], [1, \"#276419\"]], \"sequential\": [[0.0, \"#0d0887\"], [0.1111111111111111, \"#46039f\"], [0.2222222222222222, \"#7201a8\"], [0.3333333333333333, \"#9c179e\"], [0.4444444444444444, \"#bd3786\"], [0.5555555555555556, \"#d8576b\"], [0.6666666666666666, \"#ed7953\"], [0.7777777777777778, \"#fb9f3a\"], [0.8888888888888888, \"#fdca26\"], [1.0, \"#f0f921\"]], \"sequentialminus\": [[0.0, \"#0d0887\"], [0.1111111111111111, \"#46039f\"], [0.2222222222222222, \"#7201a8\"], [0.3333333333333333, \"#9c179e\"], [0.4444444444444444, \"#bd3786\"], [0.5555555555555556, \"#d8576b\"], [0.6666666666666666, \"#ed7953\"], [0.7777777777777778, \"#fb9f3a\"], [0.8888888888888888, \"#fdca26\"], [1.0, \"#f0f921\"]]}, \"colorway\": [\"#636efa\", \"#EF553B\", \"#00cc96\", \"#ab63fa\", \"#FFA15A\", \"#19d3f3\", \"#FF6692\", \"#B6E880\", \"#FF97FF\", \"#FECB52\"], \"font\": {\"color\": \"#2a3f5f\"}, \"geo\": {\"bgcolor\": \"white\", \"lakecolor\": \"white\", \"landcolor\": \"#E5ECF6\", \"showlakes\": true, \"showland\": true, \"subunitcolor\": \"white\"}, \"hoverlabel\": {\"align\": \"left\"}, \"hovermode\": \"closest\", \"mapbox\": {\"style\": \"light\"}, \"paper_bgcolor\": \"white\", \"plot_bgcolor\": \"#E5ECF6\", \"polar\": {\"angularaxis\": {\"gridcolor\": \"white\", \"linecolor\": \"white\", \"ticks\": \"\"}, \"bgcolor\": \"#E5ECF6\", \"radialaxis\": {\"gridcolor\": \"white\", \"linecolor\": \"white\", \"ticks\": \"\"}}, \"scene\": {\"xaxis\": {\"backgroundcolor\": \"#E5ECF6\", \"gridcolor\": \"white\", \"gridwidth\": 2, \"linecolor\": \"white\", \"showbackground\": true, \"ticks\": \"\", \"zerolinecolor\": \"white\"}, \"yaxis\": {\"backgroundcolor\": \"#E5ECF6\", \"gridcolor\": \"white\", \"gridwidth\": 2, \"linecolor\": \"white\", \"showbackground\": true, \"ticks\": \"\", \"zerolinecolor\": \"white\"}, \"zaxis\": {\"backgroundcolor\": \"#E5ECF6\", \"gridcolor\": \"white\", \"gridwidth\": 2, \"linecolor\": \"white\", \"showbackground\": true, \"ticks\": \"\", \"zerolinecolor\": \"white\"}}, \"shapedefaults\": {\"line\": {\"color\": \"#2a3f5f\"}}, \"ternary\": {\"aaxis\": {\"gridcolor\": \"white\", \"linecolor\": \"white\", \"ticks\": \"\"}, \"baxis\": {\"gridcolor\": \"white\", \"linecolor\": \"white\", \"ticks\": \"\"}, \"bgcolor\": \"#E5ECF6\", \"caxis\": {\"gridcolor\": \"white\", \"linecolor\": \"white\", \"ticks\": \"\"}}, \"title\": {\"x\": 0.05}, \"xaxis\": {\"automargin\": true, \"gridcolor\": \"white\", \"linecolor\": \"white\", \"ticks\": \"\", \"zerolinecolor\": \"white\", \"zerolinewidth\": 2}, \"yaxis\": {\"automargin\": true, \"gridcolor\": \"white\", \"linecolor\": \"white\", \"ticks\": \"\", \"zerolinecolor\": \"white\", \"zerolinewidth\": 2}}}, \"title\": {\"font\": {\"color\": \"#4D5663\"}}, \"xaxis\": {\"gridcolor\": \"#E1E5ED\", \"showgrid\": true, \"tickfont\": {\"color\": \"#4D5663\"}, \"title\": {\"font\": {\"color\": \"#4D5663\"}, \"text\": \"\"}, \"zerolinecolor\": \"#E1E5ED\"}, \"yaxis\": {\"gridcolor\": \"#E1E5ED\", \"showgrid\": true, \"tickfont\": {\"color\": \"#4D5663\"}, \"title\": {\"font\": {\"color\": \"#4D5663\"}, \"text\": \"\"}, \"zerolinecolor\": \"#E1E5ED\"}},\n",
       "                        {\"showLink\": true, \"linkText\": \"Export to plot.ly\", \"plotlyServerURL\": \"https://plot.ly\", \"responsive\": true}\n",
       "                    ).then(function(){\n",
       "                            \n",
       "var gd = document.getElementById('31a58bd7-94de-4c7f-8a34-a52f85479609');\n",
       "var x = new MutationObserver(function (mutations, observer) {{\n",
       "        var display = window.getComputedStyle(gd).display;\n",
       "        if (!display || display === 'none') {{\n",
       "            console.log([gd, 'removed!']);\n",
       "            Plotly.purge(gd);\n",
       "            observer.disconnect();\n",
       "        }}\n",
       "}});\n",
       "\n",
       "// Listen for the removal of the full notebook cells\n",
       "var notebookContainer = gd.closest('#notebook-container');\n",
       "if (notebookContainer) {{\n",
       "    x.observe(notebookContainer, {childList: true});\n",
       "}}\n",
       "\n",
       "// Listen for the clearing of the current output cell\n",
       "var outputEl = gd.closest('.output');\n",
       "if (outputEl) {{\n",
       "    x.observe(outputEl, {childList: true});\n",
       "}}\n",
       "\n",
       "                        })\n",
       "                };\n",
       "                });\n",
       "            </script>\n",
       "        </div>"
      ]
     },
     "metadata": {},
     "output_type": "display_data"
    }
   ],
   "source": [
    "df.iplot(kind = 'box')"
   ]
  },
  {
   "cell_type": "markdown",
   "metadata": {},
   "source": [
    "<a id='spread'></a>\n",
    "## Spread"
   ]
  },
  {
   "cell_type": "code",
   "execution_count": 16,
   "metadata": {
    "scrolled": false
   },
   "outputs": [
    {
     "data": {
      "application/vnd.plotly.v1+json": {
       "config": {
        "linkText": "Export to plot.ly",
        "plotlyServerURL": "https://plot.ly",
        "showLink": true
       },
       "data": [
        {
         "line": {
          "color": "rgba(255, 153, 51, 1.0)",
          "dash": "solid",
          "shape": "linear",
          "width": 1.3
         },
         "mode": "lines",
         "name": "A",
         "text": "",
         "type": "scatter",
         "x": [
          0,
          1,
          2,
          3,
          4,
          5,
          6,
          7,
          8,
          9,
          10,
          11,
          12,
          13,
          14,
          15,
          16,
          17,
          18,
          19,
          20,
          21,
          22,
          23,
          24,
          25,
          26,
          27,
          28,
          29,
          30,
          31,
          32,
          33,
          34,
          35,
          36,
          37,
          38,
          39,
          40,
          41,
          42,
          43,
          44,
          45,
          46,
          47,
          48,
          49,
          50,
          51,
          52,
          53,
          54,
          55,
          56,
          57,
          58,
          59,
          60,
          61,
          62,
          63,
          64,
          65,
          66,
          67,
          68,
          69,
          70,
          71,
          72,
          73,
          74,
          75,
          76,
          77,
          78,
          79,
          80,
          81,
          82,
          83,
          84,
          85,
          86,
          87,
          88,
          89,
          90,
          91,
          92,
          93,
          94,
          95,
          96,
          97,
          98,
          99
         ],
         "y": [
          1.0449692502051247,
          1.4014865892350301,
          0.2777510317952268,
          -1.0406765670657876,
          0.006359873179908175,
          0.12397386661141808,
          1.4994280432956189,
          -1.9346238092149068,
          0.35775705631885724,
          -0.34733273139125354,
          -1.3373498970995634,
          0.5091515021663505,
          1.6830219082728322,
          0.10537667311719211,
          -2.5140060263209567,
          -0.7889335872294903,
          -0.0793938247201161,
          1.0581598354422561,
          -0.30745406708624323,
          -0.9734821005483372,
          -0.7606620447650821,
          0.021183267166173587,
          -1.7574711218864698,
          -0.9512855259494061,
          0.276338353437027,
          1.0802903181292332,
          0.08603908044689187,
          0.1758005729081879,
          -0.9834799312375738,
          1.2317154884736348,
          -0.38431628365933634,
          -1.3881384191043795,
          -0.9125394169049456,
          -0.06794122752929284,
          -1.0022938850420355,
          -0.5095861337124544,
          -0.2145016229316288,
          -0.1943220846212686,
          -0.06818560747550947,
          -0.11897249361823674,
          -0.6495429422228579,
          0.06269089056141017,
          0.7860879064361281,
          -0.02466660086278837,
          -1.0398428437836782,
          1.961276736519445,
          -0.75184757764632,
          -1.0454232300948676,
          0.08359602149063225,
          -0.044816813695500904,
          -1.857736593010825,
          -0.32146990193714037,
          1.2739521892455514,
          -0.0681200681829437,
          0.05565804637859506,
          -0.9692222211336554,
          0.38286724571536196,
          -0.2831006200212324,
          2.763018694518891,
          -0.2431284914703938,
          0.6895516333352446,
          -0.9594802988637272,
          -0.36534172808055654,
          0.6370985113662331,
          -0.8755116726783624,
          -0.3281051711722991,
          -0.25980975372081383,
          -0.02807393604023754,
          1.773774961703449,
          0.22301815139047637,
          0.32490702837345103,
          0.5769192199507911,
          -0.3559427830466943,
          -0.30962702682606874,
          0.6877374686393355,
          0.4729623462551443,
          -1.3761942534956288,
          -0.36096947072820446,
          0.5562044076399122,
          1.2584082074658807,
          0.45376062650949156,
          1.2140873967387038,
          0.5732739119550228,
          2.3621996474302356,
          0.30980883930255376,
          -1.3104375373247683,
          -0.3006239722533239,
          0.4473291641086172,
          0.45413611270862947,
          1.0204039525647968,
          -1.0879414724793888,
          0.28759734847120055,
          0.10519796793009067,
          -0.5789700813247838,
          0.10266167172467248,
          0.0396210104831097,
          -0.3224039898722025,
          0.4844161425061551,
          0.8549570449938488,
          -0.5909057407999417
         ]
        },
        {
         "line": {
          "color": "rgba(55, 128, 191, 1.0)",
          "dash": "solid",
          "shape": "linear",
          "width": 1.3
         },
         "mode": "lines",
         "name": "B",
         "text": "",
         "type": "scatter",
         "x": [
          0,
          1,
          2,
          3,
          4,
          5,
          6,
          7,
          8,
          9,
          10,
          11,
          12,
          13,
          14,
          15,
          16,
          17,
          18,
          19,
          20,
          21,
          22,
          23,
          24,
          25,
          26,
          27,
          28,
          29,
          30,
          31,
          32,
          33,
          34,
          35,
          36,
          37,
          38,
          39,
          40,
          41,
          42,
          43,
          44,
          45,
          46,
          47,
          48,
          49,
          50,
          51,
          52,
          53,
          54,
          55,
          56,
          57,
          58,
          59,
          60,
          61,
          62,
          63,
          64,
          65,
          66,
          67,
          68,
          69,
          70,
          71,
          72,
          73,
          74,
          75,
          76,
          77,
          78,
          79,
          80,
          81,
          82,
          83,
          84,
          85,
          86,
          87,
          88,
          89,
          90,
          91,
          92,
          93,
          94,
          95,
          96,
          97,
          98,
          99
         ],
         "y": [
          -0.6122871493742158,
          1.1081871772883127,
          0.07237326664240411,
          1.406695566419615,
          2.677619031027863,
          1.112007896315254,
          -0.042717243892368036,
          0.7591151319917263,
          1.0556520331963073,
          1.2870160271112958,
          1.0403960791303974,
          0.3389096166665409,
          -0.8704406299249163,
          -0.05277500029748561,
          -0.36939451035933046,
          0.021989699598618934,
          1.1444382793684356,
          -0.8927764162249062,
          -0.1628051853947566,
          -0.5432752677219072,
          -1.240592684049764,
          -1.7721162352992212,
          1.9328913219273787,
          2.5947345249856943,
          0.039314714721758216,
          -0.3116962358433378,
          -0.2601966610359773,
          -0.5615995471631422,
          2.8799163670262224,
          0.15733010475255726,
          -0.10534874143218677,
          1.9020147526179778,
          -1.8874958202687249,
          0.2701239367297032,
          -0.4623567400425783,
          -0.9465296338310447,
          -1.306966472110278,
          0.0460281332075379,
          -0.42391723840307133,
          0.32106132358339107,
          -1.357774815758448,
          -0.1983057429079247,
          0.5394666356832476,
          0.27345282349426914,
          1.7115369034552415,
          1.3539777900604741,
          0.41853317042274557,
          0.42272832867468335,
          1.7478578513191985,
          0.2103817558651291,
          -1.1263253595684382,
          -0.20054913121668919,
          -0.44667446570921543,
          0.3582952961244712,
          -0.205638127832226,
          -0.5058332125899551,
          0.046587499309992404,
          -1.1411642331240202,
          2.3549815303843684,
          -1.3147166480097907,
          -1.11288153984668,
          -2.0500677731421284,
          0.21388936815754106,
          0.809410971577199,
          1.8446996235700726,
          -0.3183719938850659,
          -0.38613673683138866,
          -0.5626146532545004,
          0.33272738668322926,
          -0.7360737680381293,
          -0.07820086788220298,
          -0.9239854599721813,
          -0.3422751447747376,
          -0.27439983203656493,
          0.8789170986350728,
          -0.7653109466860576,
          -1.0293486730547823,
          -1.7521978262212234,
          0.22988231823569452,
          0.3452925830352003,
          0.6636820763451339,
          -0.4905628916181519,
          -0.9596968706279292,
          -1.0899108329787122,
          0.21527711643708103,
          0.38782001222417123,
          -2.3328215385791,
          0.2751742167113534,
          1.1775728381813217,
          0.6919533953962174,
          -0.3615718797962593,
          -0.7504278081657234,
          0.3403032080793858,
          -0.839800460389345,
          -0.06837495898684512,
          0.877458070792261,
          0.6542370835529798,
          -0.3644351488624026,
          0.250900416278955,
          -0.5321225014239536
         ]
        },
        {
         "connectgaps": false,
         "fill": "tozeroy",
         "line": {
          "color": "green",
          "dash": "solid",
          "shape": "linear",
          "width": 0.5
         },
         "mode": "lines",
         "name": "Spread",
         "showlegend": false,
         "type": "scatter",
         "x": [
          0,
          1,
          2,
          3,
          4,
          5,
          6,
          7,
          8,
          9,
          10,
          11,
          12,
          13,
          14,
          15,
          16,
          17,
          18,
          19,
          20,
          21,
          22,
          23,
          24,
          25,
          26,
          27,
          28,
          29,
          30,
          31,
          32,
          33,
          34,
          35,
          36,
          37,
          38,
          39,
          40,
          41,
          42,
          43,
          44,
          45,
          46,
          47,
          48,
          49,
          50,
          51,
          52,
          53,
          54,
          55,
          56,
          57,
          58,
          59,
          60,
          61,
          62,
          63,
          64,
          65,
          66,
          67,
          68,
          69,
          70,
          71,
          72,
          73,
          74,
          75,
          76,
          77,
          78,
          79,
          80,
          81,
          82,
          83,
          84,
          85,
          86,
          87,
          88,
          89,
          90,
          91,
          92,
          93,
          94,
          95,
          96,
          97,
          98,
          99
         ],
         "xaxis": "x2",
         "y": [
          1.6572563995793406,
          0.2932994119467174,
          0.2053777651528227,
          "",
          "",
          "",
          1.5421452871879868,
          "",
          "",
          "",
          "",
          0.17024188549980962,
          2.5534625381977483,
          0.15815167341467773,
          "",
          "",
          "",
          1.9509362516671622,
          "",
          "",
          0.47993063928468194,
          1.7932995024653948,
          "",
          "",
          0.2370236387152688,
          1.3919865539725709,
          0.3462357414828692,
          0.73740012007133,
          "",
          1.0743853837210775,
          "",
          "",
          0.9749564033637793,
          "",
          "",
          0.4369435001185903,
          1.0924648491786493,
          "",
          0.3557316309275619,
          "",
          0.70823187353559,
          0.2609966334693349,
          0.24662127075288054,
          "",
          "",
          0.6072989464589709,
          "",
          "",
          "",
          "",
          "",
          "",
          1.7206266549547669,
          "",
          0.2612961742108211,
          "",
          0.33627974640536956,
          0.8580636131027878,
          0.4080371641345226,
          1.071588156539397,
          1.8024331731819245,
          1.0905874742784012,
          "",
          "",
          "",
          "",
          0.12632698311057483,
          0.5345407172142629,
          1.4410475750202199,
          0.9590919194286056,
          0.403107896255654,
          1.5009046799229724,
          "",
          "",
          "",
          1.238273292941202,
          "",
          1.391228355493019,
          0.3263220894042177,
          0.9131156244306804,
          "",
          1.7046502883568557,
          1.532970782582952,
          3.4521104804089475,
          0.09453172286547273,
          "",
          2.032197566325776,
          0.17215494739726384,
          "",
          0.3284505571685794,
          "",
          1.038025156636924,
          "",
          0.2608303790645612,
          0.1710366307115176,
          "",
          "",
          0.8488512913685577,
          0.6040566287148939,
          ""
         ],
         "yaxis": "y2"
        },
        {
         "connectgaps": false,
         "fill": "tozeroy",
         "line": {
          "color": "red",
          "dash": "solid",
          "shape": "linear",
          "width": 0.5
         },
         "mode": "lines",
         "name": "Spread",
         "showlegend": false,
         "type": "scatter",
         "x": [
          0,
          1,
          2,
          3,
          4,
          5,
          6,
          7,
          8,
          9,
          10,
          11,
          12,
          13,
          14,
          15,
          16,
          17,
          18,
          19,
          20,
          21,
          22,
          23,
          24,
          25,
          26,
          27,
          28,
          29,
          30,
          31,
          32,
          33,
          34,
          35,
          36,
          37,
          38,
          39,
          40,
          41,
          42,
          43,
          44,
          45,
          46,
          47,
          48,
          49,
          50,
          51,
          52,
          53,
          54,
          55,
          56,
          57,
          58,
          59,
          60,
          61,
          62,
          63,
          64,
          65,
          66,
          67,
          68,
          69,
          70,
          71,
          72,
          73,
          74,
          75,
          76,
          77,
          78,
          79,
          80,
          81,
          82,
          83,
          84,
          85,
          86,
          87,
          88,
          89,
          90,
          91,
          92,
          93,
          94,
          95,
          96,
          97,
          98,
          99
         ],
         "xaxis": "x2",
         "y": [
          "",
          "",
          "",
          -2.447372133485403,
          -2.6712591578479548,
          -0.9880340297038359,
          "",
          -2.6937389412066333,
          -0.6978949768774501,
          -1.6343487585025493,
          -2.377745976229961,
          "",
          "",
          "",
          -2.144611515961626,
          -0.8109232868281092,
          -1.2238321040885516,
          "",
          -0.14464888169148662,
          -0.43020683282643,
          "",
          "",
          -3.6903624438138483,
          -3.5460200509351005,
          "",
          "",
          "",
          "",
          -3.863396298263796,
          "",
          -0.2789675422271496,
          -3.2901531717223573,
          "",
          -0.338065164258996,
          -0.5399371449994572,
          "",
          "",
          -0.2403502178288065,
          "",
          -0.4400338172016278,
          "",
          "",
          "",
          -0.2981194243570575,
          -2.7513797472389196,
          "",
          -1.1703807480690656,
          -1.4681515587695508,
          -1.6642618298285663,
          -0.25519856956063003,
          -0.7314112334423868,
          -0.12092077072045118,
          "",
          -0.4264153643074149,
          "",
          -0.46338900854370035,
          "",
          "",
          "",
          "",
          "",
          "",
          -0.5792310962380975,
          -0.1723124602109659,
          -2.720211296248435,
          -0.009733177287233219,
          "",
          "",
          "",
          "",
          "",
          "",
          -0.013667638271956717,
          -0.03522719478950381,
          -0.19117962999573734,
          "",
          -0.34684558044084657,
          "",
          "",
          "",
          -0.20992144983564232,
          "",
          "",
          "",
          "",
          -1.6982575495489396,
          "",
          "",
          -0.7234367254726923,
          "",
          -0.7263695926831295,
          "",
          -0.23510524014929512,
          "",
          "",
          -0.8378370603091513,
          -0.9766410734251822,
          "",
          "",
          -0.05878323937598817
         ],
         "yaxis": "y2"
        }
       ],
       "layout": {
        "hovermode": "x",
        "legend": {
         "bgcolor": "#F5F6F9",
         "font": {
          "color": "#4D5663"
         }
        },
        "paper_bgcolor": "#F5F6F9",
        "plot_bgcolor": "#F5F6F9",
        "template": {
         "data": {
          "bar": [
           {
            "error_x": {
             "color": "#2a3f5f"
            },
            "error_y": {
             "color": "#2a3f5f"
            },
            "marker": {
             "line": {
              "color": "#E5ECF6",
              "width": 0.5
             }
            },
            "type": "bar"
           }
          ],
          "barpolar": [
           {
            "marker": {
             "line": {
              "color": "#E5ECF6",
              "width": 0.5
             }
            },
            "type": "barpolar"
           }
          ],
          "carpet": [
           {
            "aaxis": {
             "endlinecolor": "#2a3f5f",
             "gridcolor": "white",
             "linecolor": "white",
             "minorgridcolor": "white",
             "startlinecolor": "#2a3f5f"
            },
            "baxis": {
             "endlinecolor": "#2a3f5f",
             "gridcolor": "white",
             "linecolor": "white",
             "minorgridcolor": "white",
             "startlinecolor": "#2a3f5f"
            },
            "type": "carpet"
           }
          ],
          "choropleth": [
           {
            "colorbar": {
             "outlinewidth": 0,
             "ticks": ""
            },
            "type": "choropleth"
           }
          ],
          "contour": [
           {
            "colorbar": {
             "outlinewidth": 0,
             "ticks": ""
            },
            "colorscale": [
             [
              0,
              "#0d0887"
             ],
             [
              0.1111111111111111,
              "#46039f"
             ],
             [
              0.2222222222222222,
              "#7201a8"
             ],
             [
              0.3333333333333333,
              "#9c179e"
             ],
             [
              0.4444444444444444,
              "#bd3786"
             ],
             [
              0.5555555555555556,
              "#d8576b"
             ],
             [
              0.6666666666666666,
              "#ed7953"
             ],
             [
              0.7777777777777778,
              "#fb9f3a"
             ],
             [
              0.8888888888888888,
              "#fdca26"
             ],
             [
              1,
              "#f0f921"
             ]
            ],
            "type": "contour"
           }
          ],
          "contourcarpet": [
           {
            "colorbar": {
             "outlinewidth": 0,
             "ticks": ""
            },
            "type": "contourcarpet"
           }
          ],
          "heatmap": [
           {
            "colorbar": {
             "outlinewidth": 0,
             "ticks": ""
            },
            "colorscale": [
             [
              0,
              "#0d0887"
             ],
             [
              0.1111111111111111,
              "#46039f"
             ],
             [
              0.2222222222222222,
              "#7201a8"
             ],
             [
              0.3333333333333333,
              "#9c179e"
             ],
             [
              0.4444444444444444,
              "#bd3786"
             ],
             [
              0.5555555555555556,
              "#d8576b"
             ],
             [
              0.6666666666666666,
              "#ed7953"
             ],
             [
              0.7777777777777778,
              "#fb9f3a"
             ],
             [
              0.8888888888888888,
              "#fdca26"
             ],
             [
              1,
              "#f0f921"
             ]
            ],
            "type": "heatmap"
           }
          ],
          "heatmapgl": [
           {
            "colorbar": {
             "outlinewidth": 0,
             "ticks": ""
            },
            "colorscale": [
             [
              0,
              "#0d0887"
             ],
             [
              0.1111111111111111,
              "#46039f"
             ],
             [
              0.2222222222222222,
              "#7201a8"
             ],
             [
              0.3333333333333333,
              "#9c179e"
             ],
             [
              0.4444444444444444,
              "#bd3786"
             ],
             [
              0.5555555555555556,
              "#d8576b"
             ],
             [
              0.6666666666666666,
              "#ed7953"
             ],
             [
              0.7777777777777778,
              "#fb9f3a"
             ],
             [
              0.8888888888888888,
              "#fdca26"
             ],
             [
              1,
              "#f0f921"
             ]
            ],
            "type": "heatmapgl"
           }
          ],
          "histogram": [
           {
            "marker": {
             "colorbar": {
              "outlinewidth": 0,
              "ticks": ""
             }
            },
            "type": "histogram"
           }
          ],
          "histogram2d": [
           {
            "colorbar": {
             "outlinewidth": 0,
             "ticks": ""
            },
            "colorscale": [
             [
              0,
              "#0d0887"
             ],
             [
              0.1111111111111111,
              "#46039f"
             ],
             [
              0.2222222222222222,
              "#7201a8"
             ],
             [
              0.3333333333333333,
              "#9c179e"
             ],
             [
              0.4444444444444444,
              "#bd3786"
             ],
             [
              0.5555555555555556,
              "#d8576b"
             ],
             [
              0.6666666666666666,
              "#ed7953"
             ],
             [
              0.7777777777777778,
              "#fb9f3a"
             ],
             [
              0.8888888888888888,
              "#fdca26"
             ],
             [
              1,
              "#f0f921"
             ]
            ],
            "type": "histogram2d"
           }
          ],
          "histogram2dcontour": [
           {
            "colorbar": {
             "outlinewidth": 0,
             "ticks": ""
            },
            "colorscale": [
             [
              0,
              "#0d0887"
             ],
             [
              0.1111111111111111,
              "#46039f"
             ],
             [
              0.2222222222222222,
              "#7201a8"
             ],
             [
              0.3333333333333333,
              "#9c179e"
             ],
             [
              0.4444444444444444,
              "#bd3786"
             ],
             [
              0.5555555555555556,
              "#d8576b"
             ],
             [
              0.6666666666666666,
              "#ed7953"
             ],
             [
              0.7777777777777778,
              "#fb9f3a"
             ],
             [
              0.8888888888888888,
              "#fdca26"
             ],
             [
              1,
              "#f0f921"
             ]
            ],
            "type": "histogram2dcontour"
           }
          ],
          "mesh3d": [
           {
            "colorbar": {
             "outlinewidth": 0,
             "ticks": ""
            },
            "type": "mesh3d"
           }
          ],
          "parcoords": [
           {
            "line": {
             "colorbar": {
              "outlinewidth": 0,
              "ticks": ""
             }
            },
            "type": "parcoords"
           }
          ],
          "scatter": [
           {
            "marker": {
             "colorbar": {
              "outlinewidth": 0,
              "ticks": ""
             }
            },
            "type": "scatter"
           }
          ],
          "scatter3d": [
           {
            "line": {
             "colorbar": {
              "outlinewidth": 0,
              "ticks": ""
             }
            },
            "marker": {
             "colorbar": {
              "outlinewidth": 0,
              "ticks": ""
             }
            },
            "type": "scatter3d"
           }
          ],
          "scattercarpet": [
           {
            "marker": {
             "colorbar": {
              "outlinewidth": 0,
              "ticks": ""
             }
            },
            "type": "scattercarpet"
           }
          ],
          "scattergeo": [
           {
            "marker": {
             "colorbar": {
              "outlinewidth": 0,
              "ticks": ""
             }
            },
            "type": "scattergeo"
           }
          ],
          "scattergl": [
           {
            "marker": {
             "colorbar": {
              "outlinewidth": 0,
              "ticks": ""
             }
            },
            "type": "scattergl"
           }
          ],
          "scattermapbox": [
           {
            "marker": {
             "colorbar": {
              "outlinewidth": 0,
              "ticks": ""
             }
            },
            "type": "scattermapbox"
           }
          ],
          "scatterpolar": [
           {
            "marker": {
             "colorbar": {
              "outlinewidth": 0,
              "ticks": ""
             }
            },
            "type": "scatterpolar"
           }
          ],
          "scatterpolargl": [
           {
            "marker": {
             "colorbar": {
              "outlinewidth": 0,
              "ticks": ""
             }
            },
            "type": "scatterpolargl"
           }
          ],
          "scatterternary": [
           {
            "marker": {
             "colorbar": {
              "outlinewidth": 0,
              "ticks": ""
             }
            },
            "type": "scatterternary"
           }
          ],
          "surface": [
           {
            "colorbar": {
             "outlinewidth": 0,
             "ticks": ""
            },
            "colorscale": [
             [
              0,
              "#0d0887"
             ],
             [
              0.1111111111111111,
              "#46039f"
             ],
             [
              0.2222222222222222,
              "#7201a8"
             ],
             [
              0.3333333333333333,
              "#9c179e"
             ],
             [
              0.4444444444444444,
              "#bd3786"
             ],
             [
              0.5555555555555556,
              "#d8576b"
             ],
             [
              0.6666666666666666,
              "#ed7953"
             ],
             [
              0.7777777777777778,
              "#fb9f3a"
             ],
             [
              0.8888888888888888,
              "#fdca26"
             ],
             [
              1,
              "#f0f921"
             ]
            ],
            "type": "surface"
           }
          ],
          "table": [
           {
            "cells": {
             "fill": {
              "color": "#EBF0F8"
             },
             "line": {
              "color": "white"
             }
            },
            "header": {
             "fill": {
              "color": "#C8D4E3"
             },
             "line": {
              "color": "white"
             }
            },
            "type": "table"
           }
          ]
         },
         "layout": {
          "annotationdefaults": {
           "arrowcolor": "#2a3f5f",
           "arrowhead": 0,
           "arrowwidth": 1
          },
          "colorscale": {
           "diverging": [
            [
             0,
             "#8e0152"
            ],
            [
             0.1,
             "#c51b7d"
            ],
            [
             0.2,
             "#de77ae"
            ],
            [
             0.3,
             "#f1b6da"
            ],
            [
             0.4,
             "#fde0ef"
            ],
            [
             0.5,
             "#f7f7f7"
            ],
            [
             0.6,
             "#e6f5d0"
            ],
            [
             0.7,
             "#b8e186"
            ],
            [
             0.8,
             "#7fbc41"
            ],
            [
             0.9,
             "#4d9221"
            ],
            [
             1,
             "#276419"
            ]
           ],
           "sequential": [
            [
             0,
             "#0d0887"
            ],
            [
             0.1111111111111111,
             "#46039f"
            ],
            [
             0.2222222222222222,
             "#7201a8"
            ],
            [
             0.3333333333333333,
             "#9c179e"
            ],
            [
             0.4444444444444444,
             "#bd3786"
            ],
            [
             0.5555555555555556,
             "#d8576b"
            ],
            [
             0.6666666666666666,
             "#ed7953"
            ],
            [
             0.7777777777777778,
             "#fb9f3a"
            ],
            [
             0.8888888888888888,
             "#fdca26"
            ],
            [
             1,
             "#f0f921"
            ]
           ],
           "sequentialminus": [
            [
             0,
             "#0d0887"
            ],
            [
             0.1111111111111111,
             "#46039f"
            ],
            [
             0.2222222222222222,
             "#7201a8"
            ],
            [
             0.3333333333333333,
             "#9c179e"
            ],
            [
             0.4444444444444444,
             "#bd3786"
            ],
            [
             0.5555555555555556,
             "#d8576b"
            ],
            [
             0.6666666666666666,
             "#ed7953"
            ],
            [
             0.7777777777777778,
             "#fb9f3a"
            ],
            [
             0.8888888888888888,
             "#fdca26"
            ],
            [
             1,
             "#f0f921"
            ]
           ]
          },
          "colorway": [
           "#636efa",
           "#EF553B",
           "#00cc96",
           "#ab63fa",
           "#FFA15A",
           "#19d3f3",
           "#FF6692",
           "#B6E880",
           "#FF97FF",
           "#FECB52"
          ],
          "font": {
           "color": "#2a3f5f"
          },
          "geo": {
           "bgcolor": "white",
           "lakecolor": "white",
           "landcolor": "#E5ECF6",
           "showlakes": true,
           "showland": true,
           "subunitcolor": "white"
          },
          "hoverlabel": {
           "align": "left"
          },
          "hovermode": "closest",
          "mapbox": {
           "style": "light"
          },
          "paper_bgcolor": "white",
          "plot_bgcolor": "#E5ECF6",
          "polar": {
           "angularaxis": {
            "gridcolor": "white",
            "linecolor": "white",
            "ticks": ""
           },
           "bgcolor": "#E5ECF6",
           "radialaxis": {
            "gridcolor": "white",
            "linecolor": "white",
            "ticks": ""
           }
          },
          "scene": {
           "xaxis": {
            "backgroundcolor": "#E5ECF6",
            "gridcolor": "white",
            "gridwidth": 2,
            "linecolor": "white",
            "showbackground": true,
            "ticks": "",
            "zerolinecolor": "white"
           },
           "yaxis": {
            "backgroundcolor": "#E5ECF6",
            "gridcolor": "white",
            "gridwidth": 2,
            "linecolor": "white",
            "showbackground": true,
            "ticks": "",
            "zerolinecolor": "white"
           },
           "zaxis": {
            "backgroundcolor": "#E5ECF6",
            "gridcolor": "white",
            "gridwidth": 2,
            "linecolor": "white",
            "showbackground": true,
            "ticks": "",
            "zerolinecolor": "white"
           }
          },
          "shapedefaults": {
           "line": {
            "color": "#2a3f5f"
           }
          },
          "ternary": {
           "aaxis": {
            "gridcolor": "white",
            "linecolor": "white",
            "ticks": ""
           },
           "baxis": {
            "gridcolor": "white",
            "linecolor": "white",
            "ticks": ""
           },
           "bgcolor": "#E5ECF6",
           "caxis": {
            "gridcolor": "white",
            "linecolor": "white",
            "ticks": ""
           }
          },
          "title": {
           "x": 0.05
          },
          "xaxis": {
           "automargin": true,
           "gridcolor": "white",
           "linecolor": "white",
           "ticks": "",
           "zerolinecolor": "white",
           "zerolinewidth": 2
          },
          "yaxis": {
           "automargin": true,
           "gridcolor": "white",
           "linecolor": "white",
           "ticks": "",
           "zerolinecolor": "white",
           "zerolinewidth": 2
          }
         }
        },
        "title": {
         "font": {
          "color": "#4D5663"
         }
        },
        "xaxis": {
         "gridcolor": "#E1E5ED",
         "showgrid": true,
         "tickfont": {
          "color": "#4D5663"
         },
         "title": {
          "font": {
           "color": "#4D5663"
          },
          "text": ""
         },
         "zerolinecolor": "#E1E5ED"
        },
        "xaxis2": {
         "anchor": "y2",
         "gridcolor": "#E1E5ED",
         "showgrid": true,
         "showticklabels": false,
         "tickfont": {
          "color": "#4D5663"
         },
         "title": {
          "font": {
           "color": "#4D5663"
          },
          "text": ""
         },
         "zerolinecolor": "#E1E5ED"
        },
        "yaxis": {
         "domain": [
          0.3,
          1
         ],
         "gridcolor": "#E1E5ED",
         "showgrid": true,
         "tickfont": {
          "color": "#4D5663"
         },
         "title": {
          "font": {
           "color": "#4D5663"
          },
          "text": ""
         },
         "zerolinecolor": "#E1E5ED"
        },
        "yaxis2": {
         "domain": [
          0,
          0.25
         ],
         "gridcolor": "#E1E5ED",
         "showgrid": true,
         "tickfont": {
          "color": "#4D5663"
         },
         "title": {
          "font": {
           "color": "#4D5663"
          },
          "text": "Spread"
         },
         "zerolinecolor": "#E1E5ED"
        }
       }
      },
      "text/html": [
       "<div>\n",
       "        \n",
       "        \n",
       "            <div id=\"12134390-d49a-49c7-a52f-6076575ccfd3\" class=\"plotly-graph-div\" style=\"height:525px; width:100%;\"></div>\n",
       "            <script type=\"text/javascript\">\n",
       "                require([\"plotly\"], function(Plotly) {\n",
       "                    window.PLOTLYENV=window.PLOTLYENV || {};\n",
       "                    window.PLOTLYENV.BASE_URL='https://plot.ly';\n",
       "                    \n",
       "                if (document.getElementById(\"12134390-d49a-49c7-a52f-6076575ccfd3\")) {\n",
       "                    Plotly.newPlot(\n",
       "                        '12134390-d49a-49c7-a52f-6076575ccfd3',\n",
       "                        [{\"line\": {\"color\": \"rgba(255, 153, 51, 1.0)\", \"dash\": \"solid\", \"shape\": \"linear\", \"width\": 1.3}, \"mode\": \"lines\", \"name\": \"A\", \"text\": \"\", \"type\": \"scatter\", \"x\": [0, 1, 2, 3, 4, 5, 6, 7, 8, 9, 10, 11, 12, 13, 14, 15, 16, 17, 18, 19, 20, 21, 22, 23, 24, 25, 26, 27, 28, 29, 30, 31, 32, 33, 34, 35, 36, 37, 38, 39, 40, 41, 42, 43, 44, 45, 46, 47, 48, 49, 50, 51, 52, 53, 54, 55, 56, 57, 58, 59, 60, 61, 62, 63, 64, 65, 66, 67, 68, 69, 70, 71, 72, 73, 74, 75, 76, 77, 78, 79, 80, 81, 82, 83, 84, 85, 86, 87, 88, 89, 90, 91, 92, 93, 94, 95, 96, 97, 98, 99], \"y\": [1.0449692502051247, 1.4014865892350301, 0.2777510317952268, -1.0406765670657876, 0.006359873179908175, 0.12397386661141808, 1.4994280432956189, -1.9346238092149068, 0.35775705631885724, -0.34733273139125354, -1.3373498970995634, 0.5091515021663505, 1.6830219082728322, 0.10537667311719211, -2.5140060263209567, -0.7889335872294903, -0.0793938247201161, 1.0581598354422561, -0.30745406708624323, -0.9734821005483372, -0.7606620447650821, 0.021183267166173587, -1.7574711218864698, -0.9512855259494061, 0.276338353437027, 1.0802903181292332, 0.08603908044689187, 0.1758005729081879, -0.9834799312375738, 1.2317154884736348, -0.38431628365933634, -1.3881384191043795, -0.9125394169049456, -0.06794122752929284, -1.0022938850420355, -0.5095861337124544, -0.2145016229316288, -0.1943220846212686, -0.06818560747550947, -0.11897249361823674, -0.6495429422228579, 0.06269089056141017, 0.7860879064361281, -0.02466660086278837, -1.0398428437836782, 1.961276736519445, -0.75184757764632, -1.0454232300948676, 0.08359602149063225, -0.044816813695500904, -1.857736593010825, -0.32146990193714037, 1.2739521892455514, -0.0681200681829437, 0.05565804637859506, -0.9692222211336554, 0.38286724571536196, -0.2831006200212324, 2.763018694518891, -0.2431284914703938, 0.6895516333352446, -0.9594802988637272, -0.36534172808055654, 0.6370985113662331, -0.8755116726783624, -0.3281051711722991, -0.25980975372081383, -0.02807393604023754, 1.773774961703449, 0.22301815139047637, 0.32490702837345103, 0.5769192199507911, -0.3559427830466943, -0.30962702682606874, 0.6877374686393355, 0.4729623462551443, -1.3761942534956288, -0.36096947072820446, 0.5562044076399122, 1.2584082074658807, 0.45376062650949156, 1.2140873967387038, 0.5732739119550228, 2.3621996474302356, 0.30980883930255376, -1.3104375373247683, -0.3006239722533239, 0.4473291641086172, 0.45413611270862947, 1.0204039525647968, -1.0879414724793888, 0.28759734847120055, 0.10519796793009067, -0.5789700813247838, 0.10266167172467248, 0.0396210104831097, -0.3224039898722025, 0.4844161425061551, 0.8549570449938488, -0.5909057407999417]}, {\"line\": {\"color\": \"rgba(55, 128, 191, 1.0)\", \"dash\": \"solid\", \"shape\": \"linear\", \"width\": 1.3}, \"mode\": \"lines\", \"name\": \"B\", \"text\": \"\", \"type\": \"scatter\", \"x\": [0, 1, 2, 3, 4, 5, 6, 7, 8, 9, 10, 11, 12, 13, 14, 15, 16, 17, 18, 19, 20, 21, 22, 23, 24, 25, 26, 27, 28, 29, 30, 31, 32, 33, 34, 35, 36, 37, 38, 39, 40, 41, 42, 43, 44, 45, 46, 47, 48, 49, 50, 51, 52, 53, 54, 55, 56, 57, 58, 59, 60, 61, 62, 63, 64, 65, 66, 67, 68, 69, 70, 71, 72, 73, 74, 75, 76, 77, 78, 79, 80, 81, 82, 83, 84, 85, 86, 87, 88, 89, 90, 91, 92, 93, 94, 95, 96, 97, 98, 99], \"y\": [-0.6122871493742158, 1.1081871772883127, 0.07237326664240411, 1.406695566419615, 2.677619031027863, 1.112007896315254, -0.042717243892368036, 0.7591151319917263, 1.0556520331963073, 1.2870160271112958, 1.0403960791303974, 0.3389096166665409, -0.8704406299249163, -0.05277500029748561, -0.36939451035933046, 0.021989699598618934, 1.1444382793684356, -0.8927764162249062, -0.1628051853947566, -0.5432752677219072, -1.240592684049764, -1.7721162352992212, 1.9328913219273787, 2.5947345249856943, 0.039314714721758216, -0.3116962358433378, -0.2601966610359773, -0.5615995471631422, 2.8799163670262224, 0.15733010475255726, -0.10534874143218677, 1.9020147526179778, -1.8874958202687249, 0.2701239367297032, -0.4623567400425783, -0.9465296338310447, -1.306966472110278, 0.0460281332075379, -0.42391723840307133, 0.32106132358339107, -1.357774815758448, -0.1983057429079247, 0.5394666356832476, 0.27345282349426914, 1.7115369034552415, 1.3539777900604741, 0.41853317042274557, 0.42272832867468335, 1.7478578513191985, 0.2103817558651291, -1.1263253595684382, -0.20054913121668919, -0.44667446570921543, 0.3582952961244712, -0.205638127832226, -0.5058332125899551, 0.046587499309992404, -1.1411642331240202, 2.3549815303843684, -1.3147166480097907, -1.11288153984668, -2.0500677731421284, 0.21388936815754106, 0.809410971577199, 1.8446996235700726, -0.3183719938850659, -0.38613673683138866, -0.5626146532545004, 0.33272738668322926, -0.7360737680381293, -0.07820086788220298, -0.9239854599721813, -0.3422751447747376, -0.27439983203656493, 0.8789170986350728, -0.7653109466860576, -1.0293486730547823, -1.7521978262212234, 0.22988231823569452, 0.3452925830352003, 0.6636820763451339, -0.4905628916181519, -0.9596968706279292, -1.0899108329787122, 0.21527711643708103, 0.38782001222417123, -2.3328215385791, 0.2751742167113534, 1.1775728381813217, 0.6919533953962174, -0.3615718797962593, -0.7504278081657234, 0.3403032080793858, -0.839800460389345, -0.06837495898684512, 0.877458070792261, 0.6542370835529798, -0.3644351488624026, 0.250900416278955, -0.5321225014239536]}, {\"connectgaps\": false, \"fill\": \"tozeroy\", \"line\": {\"color\": \"green\", \"dash\": \"solid\", \"shape\": \"linear\", \"width\": 0.5}, \"mode\": \"lines\", \"name\": \"Spread\", \"showlegend\": false, \"type\": \"scatter\", \"x\": [0, 1, 2, 3, 4, 5, 6, 7, 8, 9, 10, 11, 12, 13, 14, 15, 16, 17, 18, 19, 20, 21, 22, 23, 24, 25, 26, 27, 28, 29, 30, 31, 32, 33, 34, 35, 36, 37, 38, 39, 40, 41, 42, 43, 44, 45, 46, 47, 48, 49, 50, 51, 52, 53, 54, 55, 56, 57, 58, 59, 60, 61, 62, 63, 64, 65, 66, 67, 68, 69, 70, 71, 72, 73, 74, 75, 76, 77, 78, 79, 80, 81, 82, 83, 84, 85, 86, 87, 88, 89, 90, 91, 92, 93, 94, 95, 96, 97, 98, 99], \"xaxis\": \"x2\", \"y\": [1.6572563995793406, 0.2932994119467174, 0.2053777651528227, \"\", \"\", \"\", 1.5421452871879868, \"\", \"\", \"\", \"\", 0.17024188549980962, 2.5534625381977483, 0.15815167341467773, \"\", \"\", \"\", 1.9509362516671622, \"\", \"\", 0.47993063928468194, 1.7932995024653948, \"\", \"\", 0.2370236387152688, 1.3919865539725709, 0.3462357414828692, 0.73740012007133, \"\", 1.0743853837210775, \"\", \"\", 0.9749564033637793, \"\", \"\", 0.4369435001185903, 1.0924648491786493, \"\", 0.3557316309275619, \"\", 0.70823187353559, 0.2609966334693349, 0.24662127075288054, \"\", \"\", 0.6072989464589709, \"\", \"\", \"\", \"\", \"\", \"\", 1.7206266549547669, \"\", 0.2612961742108211, \"\", 0.33627974640536956, 0.8580636131027878, 0.4080371641345226, 1.071588156539397, 1.8024331731819245, 1.0905874742784012, \"\", \"\", \"\", \"\", 0.12632698311057483, 0.5345407172142629, 1.4410475750202199, 0.9590919194286056, 0.403107896255654, 1.5009046799229724, \"\", \"\", \"\", 1.238273292941202, \"\", 1.391228355493019, 0.3263220894042177, 0.9131156244306804, \"\", 1.7046502883568557, 1.532970782582952, 3.4521104804089475, 0.09453172286547273, \"\", 2.032197566325776, 0.17215494739726384, \"\", 0.3284505571685794, \"\", 1.038025156636924, \"\", 0.2608303790645612, 0.1710366307115176, \"\", \"\", 0.8488512913685577, 0.6040566287148939, \"\"], \"yaxis\": \"y2\"}, {\"connectgaps\": false, \"fill\": \"tozeroy\", \"line\": {\"color\": \"red\", \"dash\": \"solid\", \"shape\": \"linear\", \"width\": 0.5}, \"mode\": \"lines\", \"name\": \"Spread\", \"showlegend\": false, \"type\": \"scatter\", \"x\": [0, 1, 2, 3, 4, 5, 6, 7, 8, 9, 10, 11, 12, 13, 14, 15, 16, 17, 18, 19, 20, 21, 22, 23, 24, 25, 26, 27, 28, 29, 30, 31, 32, 33, 34, 35, 36, 37, 38, 39, 40, 41, 42, 43, 44, 45, 46, 47, 48, 49, 50, 51, 52, 53, 54, 55, 56, 57, 58, 59, 60, 61, 62, 63, 64, 65, 66, 67, 68, 69, 70, 71, 72, 73, 74, 75, 76, 77, 78, 79, 80, 81, 82, 83, 84, 85, 86, 87, 88, 89, 90, 91, 92, 93, 94, 95, 96, 97, 98, 99], \"xaxis\": \"x2\", \"y\": [\"\", \"\", \"\", -2.447372133485403, -2.6712591578479548, -0.9880340297038359, \"\", -2.6937389412066333, -0.6978949768774501, -1.6343487585025493, -2.377745976229961, \"\", \"\", \"\", -2.144611515961626, -0.8109232868281092, -1.2238321040885516, \"\", -0.14464888169148662, -0.43020683282643, \"\", \"\", -3.6903624438138483, -3.5460200509351005, \"\", \"\", \"\", \"\", -3.863396298263796, \"\", -0.2789675422271496, -3.2901531717223573, \"\", -0.338065164258996, -0.5399371449994572, \"\", \"\", -0.2403502178288065, \"\", -0.4400338172016278, \"\", \"\", \"\", -0.2981194243570575, -2.7513797472389196, \"\", -1.1703807480690656, -1.4681515587695508, -1.6642618298285663, -0.25519856956063003, -0.7314112334423868, -0.12092077072045118, \"\", -0.4264153643074149, \"\", -0.46338900854370035, \"\", \"\", \"\", \"\", \"\", \"\", -0.5792310962380975, -0.1723124602109659, -2.720211296248435, -0.009733177287233219, \"\", \"\", \"\", \"\", \"\", \"\", -0.013667638271956717, -0.03522719478950381, -0.19117962999573734, \"\", -0.34684558044084657, \"\", \"\", \"\", -0.20992144983564232, \"\", \"\", \"\", \"\", -1.6982575495489396, \"\", \"\", -0.7234367254726923, \"\", -0.7263695926831295, \"\", -0.23510524014929512, \"\", \"\", -0.8378370603091513, -0.9766410734251822, \"\", \"\", -0.05878323937598817], \"yaxis\": \"y2\"}],\n",
       "                        {\"hovermode\": \"x\", \"legend\": {\"bgcolor\": \"#F5F6F9\", \"font\": {\"color\": \"#4D5663\"}}, \"paper_bgcolor\": \"#F5F6F9\", \"plot_bgcolor\": \"#F5F6F9\", \"template\": {\"data\": {\"bar\": [{\"error_x\": {\"color\": \"#2a3f5f\"}, \"error_y\": {\"color\": \"#2a3f5f\"}, \"marker\": {\"line\": {\"color\": \"#E5ECF6\", \"width\": 0.5}}, \"type\": \"bar\"}], \"barpolar\": [{\"marker\": {\"line\": {\"color\": \"#E5ECF6\", \"width\": 0.5}}, \"type\": \"barpolar\"}], \"carpet\": [{\"aaxis\": {\"endlinecolor\": \"#2a3f5f\", \"gridcolor\": \"white\", \"linecolor\": \"white\", \"minorgridcolor\": \"white\", \"startlinecolor\": \"#2a3f5f\"}, \"baxis\": {\"endlinecolor\": \"#2a3f5f\", \"gridcolor\": \"white\", \"linecolor\": \"white\", \"minorgridcolor\": \"white\", \"startlinecolor\": \"#2a3f5f\"}, \"type\": \"carpet\"}], \"choropleth\": [{\"colorbar\": {\"outlinewidth\": 0, \"ticks\": \"\"}, \"type\": \"choropleth\"}], \"contour\": [{\"colorbar\": {\"outlinewidth\": 0, \"ticks\": \"\"}, \"colorscale\": [[0.0, \"#0d0887\"], [0.1111111111111111, \"#46039f\"], [0.2222222222222222, \"#7201a8\"], [0.3333333333333333, \"#9c179e\"], [0.4444444444444444, \"#bd3786\"], [0.5555555555555556, \"#d8576b\"], [0.6666666666666666, \"#ed7953\"], [0.7777777777777778, \"#fb9f3a\"], [0.8888888888888888, \"#fdca26\"], [1.0, \"#f0f921\"]], \"type\": \"contour\"}], \"contourcarpet\": [{\"colorbar\": {\"outlinewidth\": 0, \"ticks\": \"\"}, \"type\": \"contourcarpet\"}], \"heatmap\": [{\"colorbar\": {\"outlinewidth\": 0, \"ticks\": \"\"}, \"colorscale\": [[0.0, \"#0d0887\"], [0.1111111111111111, \"#46039f\"], [0.2222222222222222, \"#7201a8\"], [0.3333333333333333, \"#9c179e\"], [0.4444444444444444, \"#bd3786\"], [0.5555555555555556, \"#d8576b\"], [0.6666666666666666, \"#ed7953\"], [0.7777777777777778, \"#fb9f3a\"], [0.8888888888888888, \"#fdca26\"], [1.0, \"#f0f921\"]], \"type\": \"heatmap\"}], \"heatmapgl\": [{\"colorbar\": {\"outlinewidth\": 0, \"ticks\": \"\"}, \"colorscale\": [[0.0, \"#0d0887\"], [0.1111111111111111, \"#46039f\"], [0.2222222222222222, \"#7201a8\"], [0.3333333333333333, \"#9c179e\"], [0.4444444444444444, \"#bd3786\"], [0.5555555555555556, \"#d8576b\"], [0.6666666666666666, \"#ed7953\"], [0.7777777777777778, \"#fb9f3a\"], [0.8888888888888888, \"#fdca26\"], [1.0, \"#f0f921\"]], \"type\": \"heatmapgl\"}], \"histogram\": [{\"marker\": {\"colorbar\": {\"outlinewidth\": 0, \"ticks\": \"\"}}, \"type\": \"histogram\"}], \"histogram2d\": [{\"colorbar\": {\"outlinewidth\": 0, \"ticks\": \"\"}, \"colorscale\": [[0.0, \"#0d0887\"], [0.1111111111111111, \"#46039f\"], [0.2222222222222222, \"#7201a8\"], [0.3333333333333333, \"#9c179e\"], [0.4444444444444444, \"#bd3786\"], [0.5555555555555556, \"#d8576b\"], [0.6666666666666666, \"#ed7953\"], [0.7777777777777778, \"#fb9f3a\"], [0.8888888888888888, \"#fdca26\"], [1.0, \"#f0f921\"]], \"type\": \"histogram2d\"}], \"histogram2dcontour\": [{\"colorbar\": {\"outlinewidth\": 0, \"ticks\": \"\"}, \"colorscale\": [[0.0, \"#0d0887\"], [0.1111111111111111, \"#46039f\"], [0.2222222222222222, \"#7201a8\"], [0.3333333333333333, \"#9c179e\"], [0.4444444444444444, \"#bd3786\"], [0.5555555555555556, \"#d8576b\"], [0.6666666666666666, \"#ed7953\"], [0.7777777777777778, \"#fb9f3a\"], [0.8888888888888888, \"#fdca26\"], [1.0, \"#f0f921\"]], \"type\": \"histogram2dcontour\"}], \"mesh3d\": [{\"colorbar\": {\"outlinewidth\": 0, \"ticks\": \"\"}, \"type\": \"mesh3d\"}], \"parcoords\": [{\"line\": {\"colorbar\": {\"outlinewidth\": 0, \"ticks\": \"\"}}, \"type\": \"parcoords\"}], \"scatter\": [{\"marker\": {\"colorbar\": {\"outlinewidth\": 0, \"ticks\": \"\"}}, \"type\": \"scatter\"}], \"scatter3d\": [{\"line\": {\"colorbar\": {\"outlinewidth\": 0, \"ticks\": \"\"}}, \"marker\": {\"colorbar\": {\"outlinewidth\": 0, \"ticks\": \"\"}}, \"type\": \"scatter3d\"}], \"scattercarpet\": [{\"marker\": {\"colorbar\": {\"outlinewidth\": 0, \"ticks\": \"\"}}, \"type\": \"scattercarpet\"}], \"scattergeo\": [{\"marker\": {\"colorbar\": {\"outlinewidth\": 0, \"ticks\": \"\"}}, \"type\": \"scattergeo\"}], \"scattergl\": [{\"marker\": {\"colorbar\": {\"outlinewidth\": 0, \"ticks\": \"\"}}, \"type\": \"scattergl\"}], \"scattermapbox\": [{\"marker\": {\"colorbar\": {\"outlinewidth\": 0, \"ticks\": \"\"}}, \"type\": \"scattermapbox\"}], \"scatterpolar\": [{\"marker\": {\"colorbar\": {\"outlinewidth\": 0, \"ticks\": \"\"}}, \"type\": \"scatterpolar\"}], \"scatterpolargl\": [{\"marker\": {\"colorbar\": {\"outlinewidth\": 0, \"ticks\": \"\"}}, \"type\": \"scatterpolargl\"}], \"scatterternary\": [{\"marker\": {\"colorbar\": {\"outlinewidth\": 0, \"ticks\": \"\"}}, \"type\": \"scatterternary\"}], \"surface\": [{\"colorbar\": {\"outlinewidth\": 0, \"ticks\": \"\"}, \"colorscale\": [[0.0, \"#0d0887\"], [0.1111111111111111, \"#46039f\"], [0.2222222222222222, \"#7201a8\"], [0.3333333333333333, \"#9c179e\"], [0.4444444444444444, \"#bd3786\"], [0.5555555555555556, \"#d8576b\"], [0.6666666666666666, \"#ed7953\"], [0.7777777777777778, \"#fb9f3a\"], [0.8888888888888888, \"#fdca26\"], [1.0, \"#f0f921\"]], \"type\": \"surface\"}], \"table\": [{\"cells\": {\"fill\": {\"color\": \"#EBF0F8\"}, \"line\": {\"color\": \"white\"}}, \"header\": {\"fill\": {\"color\": \"#C8D4E3\"}, \"line\": {\"color\": \"white\"}}, \"type\": \"table\"}]}, \"layout\": {\"annotationdefaults\": {\"arrowcolor\": \"#2a3f5f\", \"arrowhead\": 0, \"arrowwidth\": 1}, \"colorscale\": {\"diverging\": [[0, \"#8e0152\"], [0.1, \"#c51b7d\"], [0.2, \"#de77ae\"], [0.3, \"#f1b6da\"], [0.4, \"#fde0ef\"], [0.5, \"#f7f7f7\"], [0.6, \"#e6f5d0\"], [0.7, \"#b8e186\"], [0.8, \"#7fbc41\"], [0.9, \"#4d9221\"], [1, \"#276419\"]], \"sequential\": [[0.0, \"#0d0887\"], [0.1111111111111111, \"#46039f\"], [0.2222222222222222, \"#7201a8\"], [0.3333333333333333, \"#9c179e\"], [0.4444444444444444, \"#bd3786\"], [0.5555555555555556, \"#d8576b\"], [0.6666666666666666, \"#ed7953\"], [0.7777777777777778, \"#fb9f3a\"], [0.8888888888888888, \"#fdca26\"], [1.0, \"#f0f921\"]], \"sequentialminus\": [[0.0, \"#0d0887\"], [0.1111111111111111, \"#46039f\"], [0.2222222222222222, \"#7201a8\"], [0.3333333333333333, \"#9c179e\"], [0.4444444444444444, \"#bd3786\"], [0.5555555555555556, \"#d8576b\"], [0.6666666666666666, \"#ed7953\"], [0.7777777777777778, \"#fb9f3a\"], [0.8888888888888888, \"#fdca26\"], [1.0, \"#f0f921\"]]}, \"colorway\": [\"#636efa\", \"#EF553B\", \"#00cc96\", \"#ab63fa\", \"#FFA15A\", \"#19d3f3\", \"#FF6692\", \"#B6E880\", \"#FF97FF\", \"#FECB52\"], \"font\": {\"color\": \"#2a3f5f\"}, \"geo\": {\"bgcolor\": \"white\", \"lakecolor\": \"white\", \"landcolor\": \"#E5ECF6\", \"showlakes\": true, \"showland\": true, \"subunitcolor\": \"white\"}, \"hoverlabel\": {\"align\": \"left\"}, \"hovermode\": \"closest\", \"mapbox\": {\"style\": \"light\"}, \"paper_bgcolor\": \"white\", \"plot_bgcolor\": \"#E5ECF6\", \"polar\": {\"angularaxis\": {\"gridcolor\": \"white\", \"linecolor\": \"white\", \"ticks\": \"\"}, \"bgcolor\": \"#E5ECF6\", \"radialaxis\": {\"gridcolor\": \"white\", \"linecolor\": \"white\", \"ticks\": \"\"}}, \"scene\": {\"xaxis\": {\"backgroundcolor\": \"#E5ECF6\", \"gridcolor\": \"white\", \"gridwidth\": 2, \"linecolor\": \"white\", \"showbackground\": true, \"ticks\": \"\", \"zerolinecolor\": \"white\"}, \"yaxis\": {\"backgroundcolor\": \"#E5ECF6\", \"gridcolor\": \"white\", \"gridwidth\": 2, \"linecolor\": \"white\", \"showbackground\": true, \"ticks\": \"\", \"zerolinecolor\": \"white\"}, \"zaxis\": {\"backgroundcolor\": \"#E5ECF6\", \"gridcolor\": \"white\", \"gridwidth\": 2, \"linecolor\": \"white\", \"showbackground\": true, \"ticks\": \"\", \"zerolinecolor\": \"white\"}}, \"shapedefaults\": {\"line\": {\"color\": \"#2a3f5f\"}}, \"ternary\": {\"aaxis\": {\"gridcolor\": \"white\", \"linecolor\": \"white\", \"ticks\": \"\"}, \"baxis\": {\"gridcolor\": \"white\", \"linecolor\": \"white\", \"ticks\": \"\"}, \"bgcolor\": \"#E5ECF6\", \"caxis\": {\"gridcolor\": \"white\", \"linecolor\": \"white\", \"ticks\": \"\"}}, \"title\": {\"x\": 0.05}, \"xaxis\": {\"automargin\": true, \"gridcolor\": \"white\", \"linecolor\": \"white\", \"ticks\": \"\", \"zerolinecolor\": \"white\", \"zerolinewidth\": 2}, \"yaxis\": {\"automargin\": true, \"gridcolor\": \"white\", \"linecolor\": \"white\", \"ticks\": \"\", \"zerolinecolor\": \"white\", \"zerolinewidth\": 2}}}, \"title\": {\"font\": {\"color\": \"#4D5663\"}}, \"xaxis\": {\"gridcolor\": \"#E1E5ED\", \"showgrid\": true, \"tickfont\": {\"color\": \"#4D5663\"}, \"title\": {\"font\": {\"color\": \"#4D5663\"}, \"text\": \"\"}, \"zerolinecolor\": \"#E1E5ED\"}, \"xaxis2\": {\"anchor\": \"y2\", \"gridcolor\": \"#E1E5ED\", \"showgrid\": true, \"showticklabels\": false, \"tickfont\": {\"color\": \"#4D5663\"}, \"title\": {\"font\": {\"color\": \"#4D5663\"}, \"text\": \"\"}, \"zerolinecolor\": \"#E1E5ED\"}, \"yaxis\": {\"domain\": [0.3, 1], \"gridcolor\": \"#E1E5ED\", \"showgrid\": true, \"tickfont\": {\"color\": \"#4D5663\"}, \"title\": {\"font\": {\"color\": \"#4D5663\"}, \"text\": \"\"}, \"zerolinecolor\": \"#E1E5ED\"}, \"yaxis2\": {\"domain\": [0, 0.25], \"gridcolor\": \"#E1E5ED\", \"showgrid\": true, \"tickfont\": {\"color\": \"#4D5663\"}, \"title\": {\"font\": {\"color\": \"#4D5663\"}, \"text\": \"Spread\"}, \"zerolinecolor\": \"#E1E5ED\"}},\n",
       "                        {\"showLink\": true, \"linkText\": \"Export to plot.ly\", \"plotlyServerURL\": \"https://plot.ly\", \"responsive\": true}\n",
       "                    ).then(function(){\n",
       "                            \n",
       "var gd = document.getElementById('12134390-d49a-49c7-a52f-6076575ccfd3');\n",
       "var x = new MutationObserver(function (mutations, observer) {{\n",
       "        var display = window.getComputedStyle(gd).display;\n",
       "        if (!display || display === 'none') {{\n",
       "            console.log([gd, 'removed!']);\n",
       "            Plotly.purge(gd);\n",
       "            observer.disconnect();\n",
       "        }}\n",
       "}});\n",
       "\n",
       "// Listen for the removal of the full notebook cells\n",
       "var notebookContainer = gd.closest('#notebook-container');\n",
       "if (notebookContainer) {{\n",
       "    x.observe(notebookContainer, {childList: true});\n",
       "}}\n",
       "\n",
       "// Listen for the clearing of the current output cell\n",
       "var outputEl = gd.closest('.output');\n",
       "if (outputEl) {{\n",
       "    x.observe(outputEl, {childList: true});\n",
       "}}\n",
       "\n",
       "                        })\n",
       "                };\n",
       "                });\n",
       "            </script>\n",
       "        </div>"
      ]
     },
     "metadata": {},
     "output_type": "display_data"
    }
   ],
   "source": [
    "df[['A','B']].iplot(kind = 'spread')"
   ]
  },
  {
   "cell_type": "markdown",
   "metadata": {},
   "source": [
    "<a id='surface'></a>\n",
    "## 3D Surface"
   ]
  },
  {
   "cell_type": "code",
   "execution_count": 17,
   "metadata": {},
   "outputs": [
    {
     "data": {
      "application/vnd.plotly.v1+json": {
       "config": {
        "linkText": "Export to plot.ly",
        "plotlyServerURL": "https://plot.ly",
        "showLink": true
       },
       "data": [
        {
         "colorscale": [
          [
           0,
           "rgb(103,0,31)"
          ],
          [
           0.1,
           "rgb(178,24,43)"
          ],
          [
           0.2,
           "rgb(214,96,77)"
          ],
          [
           0.3,
           "rgb(244,165,130)"
          ],
          [
           0.4,
           "rgb(253,219,199)"
          ],
          [
           0.5,
           "rgb(247,247,247)"
          ],
          [
           0.6,
           "rgb(209,229,240)"
          ],
          [
           0.7,
           "rgb(146,197,222)"
          ],
          [
           0.8,
           "rgb(67,147,195)"
          ],
          [
           0.9,
           "rgb(33,102,172)"
          ],
          [
           1,
           "rgb(5,48,97)"
          ]
         ],
         "type": "surface",
         "x": [
          0,
          1,
          2,
          3,
          4
         ],
         "y": [
          "x",
          "y",
          "z"
         ],
         "z": [
          [
           1,
           2,
           3,
           4,
           5
          ],
          [
           10,
           20,
           30,
           20,
           10
          ],
          [
           5,
           4,
           3,
           2,
           1
          ]
         ]
        }
       ],
       "layout": {
        "legend": {
         "bgcolor": "#F5F6F9",
         "font": {
          "color": "#4D5663"
         }
        },
        "paper_bgcolor": "#F5F6F9",
        "plot_bgcolor": "#F5F6F9",
        "template": {
         "data": {
          "bar": [
           {
            "error_x": {
             "color": "#2a3f5f"
            },
            "error_y": {
             "color": "#2a3f5f"
            },
            "marker": {
             "line": {
              "color": "#E5ECF6",
              "width": 0.5
             }
            },
            "type": "bar"
           }
          ],
          "barpolar": [
           {
            "marker": {
             "line": {
              "color": "#E5ECF6",
              "width": 0.5
             }
            },
            "type": "barpolar"
           }
          ],
          "carpet": [
           {
            "aaxis": {
             "endlinecolor": "#2a3f5f",
             "gridcolor": "white",
             "linecolor": "white",
             "minorgridcolor": "white",
             "startlinecolor": "#2a3f5f"
            },
            "baxis": {
             "endlinecolor": "#2a3f5f",
             "gridcolor": "white",
             "linecolor": "white",
             "minorgridcolor": "white",
             "startlinecolor": "#2a3f5f"
            },
            "type": "carpet"
           }
          ],
          "choropleth": [
           {
            "colorbar": {
             "outlinewidth": 0,
             "ticks": ""
            },
            "type": "choropleth"
           }
          ],
          "contour": [
           {
            "colorbar": {
             "outlinewidth": 0,
             "ticks": ""
            },
            "colorscale": [
             [
              0,
              "#0d0887"
             ],
             [
              0.1111111111111111,
              "#46039f"
             ],
             [
              0.2222222222222222,
              "#7201a8"
             ],
             [
              0.3333333333333333,
              "#9c179e"
             ],
             [
              0.4444444444444444,
              "#bd3786"
             ],
             [
              0.5555555555555556,
              "#d8576b"
             ],
             [
              0.6666666666666666,
              "#ed7953"
             ],
             [
              0.7777777777777778,
              "#fb9f3a"
             ],
             [
              0.8888888888888888,
              "#fdca26"
             ],
             [
              1,
              "#f0f921"
             ]
            ],
            "type": "contour"
           }
          ],
          "contourcarpet": [
           {
            "colorbar": {
             "outlinewidth": 0,
             "ticks": ""
            },
            "type": "contourcarpet"
           }
          ],
          "heatmap": [
           {
            "colorbar": {
             "outlinewidth": 0,
             "ticks": ""
            },
            "colorscale": [
             [
              0,
              "#0d0887"
             ],
             [
              0.1111111111111111,
              "#46039f"
             ],
             [
              0.2222222222222222,
              "#7201a8"
             ],
             [
              0.3333333333333333,
              "#9c179e"
             ],
             [
              0.4444444444444444,
              "#bd3786"
             ],
             [
              0.5555555555555556,
              "#d8576b"
             ],
             [
              0.6666666666666666,
              "#ed7953"
             ],
             [
              0.7777777777777778,
              "#fb9f3a"
             ],
             [
              0.8888888888888888,
              "#fdca26"
             ],
             [
              1,
              "#f0f921"
             ]
            ],
            "type": "heatmap"
           }
          ],
          "heatmapgl": [
           {
            "colorbar": {
             "outlinewidth": 0,
             "ticks": ""
            },
            "colorscale": [
             [
              0,
              "#0d0887"
             ],
             [
              0.1111111111111111,
              "#46039f"
             ],
             [
              0.2222222222222222,
              "#7201a8"
             ],
             [
              0.3333333333333333,
              "#9c179e"
             ],
             [
              0.4444444444444444,
              "#bd3786"
             ],
             [
              0.5555555555555556,
              "#d8576b"
             ],
             [
              0.6666666666666666,
              "#ed7953"
             ],
             [
              0.7777777777777778,
              "#fb9f3a"
             ],
             [
              0.8888888888888888,
              "#fdca26"
             ],
             [
              1,
              "#f0f921"
             ]
            ],
            "type": "heatmapgl"
           }
          ],
          "histogram": [
           {
            "marker": {
             "colorbar": {
              "outlinewidth": 0,
              "ticks": ""
             }
            },
            "type": "histogram"
           }
          ],
          "histogram2d": [
           {
            "colorbar": {
             "outlinewidth": 0,
             "ticks": ""
            },
            "colorscale": [
             [
              0,
              "#0d0887"
             ],
             [
              0.1111111111111111,
              "#46039f"
             ],
             [
              0.2222222222222222,
              "#7201a8"
             ],
             [
              0.3333333333333333,
              "#9c179e"
             ],
             [
              0.4444444444444444,
              "#bd3786"
             ],
             [
              0.5555555555555556,
              "#d8576b"
             ],
             [
              0.6666666666666666,
              "#ed7953"
             ],
             [
              0.7777777777777778,
              "#fb9f3a"
             ],
             [
              0.8888888888888888,
              "#fdca26"
             ],
             [
              1,
              "#f0f921"
             ]
            ],
            "type": "histogram2d"
           }
          ],
          "histogram2dcontour": [
           {
            "colorbar": {
             "outlinewidth": 0,
             "ticks": ""
            },
            "colorscale": [
             [
              0,
              "#0d0887"
             ],
             [
              0.1111111111111111,
              "#46039f"
             ],
             [
              0.2222222222222222,
              "#7201a8"
             ],
             [
              0.3333333333333333,
              "#9c179e"
             ],
             [
              0.4444444444444444,
              "#bd3786"
             ],
             [
              0.5555555555555556,
              "#d8576b"
             ],
             [
              0.6666666666666666,
              "#ed7953"
             ],
             [
              0.7777777777777778,
              "#fb9f3a"
             ],
             [
              0.8888888888888888,
              "#fdca26"
             ],
             [
              1,
              "#f0f921"
             ]
            ],
            "type": "histogram2dcontour"
           }
          ],
          "mesh3d": [
           {
            "colorbar": {
             "outlinewidth": 0,
             "ticks": ""
            },
            "type": "mesh3d"
           }
          ],
          "parcoords": [
           {
            "line": {
             "colorbar": {
              "outlinewidth": 0,
              "ticks": ""
             }
            },
            "type": "parcoords"
           }
          ],
          "scatter": [
           {
            "marker": {
             "colorbar": {
              "outlinewidth": 0,
              "ticks": ""
             }
            },
            "type": "scatter"
           }
          ],
          "scatter3d": [
           {
            "line": {
             "colorbar": {
              "outlinewidth": 0,
              "ticks": ""
             }
            },
            "marker": {
             "colorbar": {
              "outlinewidth": 0,
              "ticks": ""
             }
            },
            "type": "scatter3d"
           }
          ],
          "scattercarpet": [
           {
            "marker": {
             "colorbar": {
              "outlinewidth": 0,
              "ticks": ""
             }
            },
            "type": "scattercarpet"
           }
          ],
          "scattergeo": [
           {
            "marker": {
             "colorbar": {
              "outlinewidth": 0,
              "ticks": ""
             }
            },
            "type": "scattergeo"
           }
          ],
          "scattergl": [
           {
            "marker": {
             "colorbar": {
              "outlinewidth": 0,
              "ticks": ""
             }
            },
            "type": "scattergl"
           }
          ],
          "scattermapbox": [
           {
            "marker": {
             "colorbar": {
              "outlinewidth": 0,
              "ticks": ""
             }
            },
            "type": "scattermapbox"
           }
          ],
          "scatterpolar": [
           {
            "marker": {
             "colorbar": {
              "outlinewidth": 0,
              "ticks": ""
             }
            },
            "type": "scatterpolar"
           }
          ],
          "scatterpolargl": [
           {
            "marker": {
             "colorbar": {
              "outlinewidth": 0,
              "ticks": ""
             }
            },
            "type": "scatterpolargl"
           }
          ],
          "scatterternary": [
           {
            "marker": {
             "colorbar": {
              "outlinewidth": 0,
              "ticks": ""
             }
            },
            "type": "scatterternary"
           }
          ],
          "surface": [
           {
            "colorbar": {
             "outlinewidth": 0,
             "ticks": ""
            },
            "colorscale": [
             [
              0,
              "#0d0887"
             ],
             [
              0.1111111111111111,
              "#46039f"
             ],
             [
              0.2222222222222222,
              "#7201a8"
             ],
             [
              0.3333333333333333,
              "#9c179e"
             ],
             [
              0.4444444444444444,
              "#bd3786"
             ],
             [
              0.5555555555555556,
              "#d8576b"
             ],
             [
              0.6666666666666666,
              "#ed7953"
             ],
             [
              0.7777777777777778,
              "#fb9f3a"
             ],
             [
              0.8888888888888888,
              "#fdca26"
             ],
             [
              1,
              "#f0f921"
             ]
            ],
            "type": "surface"
           }
          ],
          "table": [
           {
            "cells": {
             "fill": {
              "color": "#EBF0F8"
             },
             "line": {
              "color": "white"
             }
            },
            "header": {
             "fill": {
              "color": "#C8D4E3"
             },
             "line": {
              "color": "white"
             }
            },
            "type": "table"
           }
          ]
         },
         "layout": {
          "annotationdefaults": {
           "arrowcolor": "#2a3f5f",
           "arrowhead": 0,
           "arrowwidth": 1
          },
          "colorscale": {
           "diverging": [
            [
             0,
             "#8e0152"
            ],
            [
             0.1,
             "#c51b7d"
            ],
            [
             0.2,
             "#de77ae"
            ],
            [
             0.3,
             "#f1b6da"
            ],
            [
             0.4,
             "#fde0ef"
            ],
            [
             0.5,
             "#f7f7f7"
            ],
            [
             0.6,
             "#e6f5d0"
            ],
            [
             0.7,
             "#b8e186"
            ],
            [
             0.8,
             "#7fbc41"
            ],
            [
             0.9,
             "#4d9221"
            ],
            [
             1,
             "#276419"
            ]
           ],
           "sequential": [
            [
             0,
             "#0d0887"
            ],
            [
             0.1111111111111111,
             "#46039f"
            ],
            [
             0.2222222222222222,
             "#7201a8"
            ],
            [
             0.3333333333333333,
             "#9c179e"
            ],
            [
             0.4444444444444444,
             "#bd3786"
            ],
            [
             0.5555555555555556,
             "#d8576b"
            ],
            [
             0.6666666666666666,
             "#ed7953"
            ],
            [
             0.7777777777777778,
             "#fb9f3a"
            ],
            [
             0.8888888888888888,
             "#fdca26"
            ],
            [
             1,
             "#f0f921"
            ]
           ],
           "sequentialminus": [
            [
             0,
             "#0d0887"
            ],
            [
             0.1111111111111111,
             "#46039f"
            ],
            [
             0.2222222222222222,
             "#7201a8"
            ],
            [
             0.3333333333333333,
             "#9c179e"
            ],
            [
             0.4444444444444444,
             "#bd3786"
            ],
            [
             0.5555555555555556,
             "#d8576b"
            ],
            [
             0.6666666666666666,
             "#ed7953"
            ],
            [
             0.7777777777777778,
             "#fb9f3a"
            ],
            [
             0.8888888888888888,
             "#fdca26"
            ],
            [
             1,
             "#f0f921"
            ]
           ]
          },
          "colorway": [
           "#636efa",
           "#EF553B",
           "#00cc96",
           "#ab63fa",
           "#FFA15A",
           "#19d3f3",
           "#FF6692",
           "#B6E880",
           "#FF97FF",
           "#FECB52"
          ],
          "font": {
           "color": "#2a3f5f"
          },
          "geo": {
           "bgcolor": "white",
           "lakecolor": "white",
           "landcolor": "#E5ECF6",
           "showlakes": true,
           "showland": true,
           "subunitcolor": "white"
          },
          "hoverlabel": {
           "align": "left"
          },
          "hovermode": "closest",
          "mapbox": {
           "style": "light"
          },
          "paper_bgcolor": "white",
          "plot_bgcolor": "#E5ECF6",
          "polar": {
           "angularaxis": {
            "gridcolor": "white",
            "linecolor": "white",
            "ticks": ""
           },
           "bgcolor": "#E5ECF6",
           "radialaxis": {
            "gridcolor": "white",
            "linecolor": "white",
            "ticks": ""
           }
          },
          "scene": {
           "xaxis": {
            "backgroundcolor": "#E5ECF6",
            "gridcolor": "white",
            "gridwidth": 2,
            "linecolor": "white",
            "showbackground": true,
            "ticks": "",
            "zerolinecolor": "white"
           },
           "yaxis": {
            "backgroundcolor": "#E5ECF6",
            "gridcolor": "white",
            "gridwidth": 2,
            "linecolor": "white",
            "showbackground": true,
            "ticks": "",
            "zerolinecolor": "white"
           },
           "zaxis": {
            "backgroundcolor": "#E5ECF6",
            "gridcolor": "white",
            "gridwidth": 2,
            "linecolor": "white",
            "showbackground": true,
            "ticks": "",
            "zerolinecolor": "white"
           }
          },
          "shapedefaults": {
           "line": {
            "color": "#2a3f5f"
           }
          },
          "ternary": {
           "aaxis": {
            "gridcolor": "white",
            "linecolor": "white",
            "ticks": ""
           },
           "baxis": {
            "gridcolor": "white",
            "linecolor": "white",
            "ticks": ""
           },
           "bgcolor": "#E5ECF6",
           "caxis": {
            "gridcolor": "white",
            "linecolor": "white",
            "ticks": ""
           }
          },
          "title": {
           "x": 0.05
          },
          "xaxis": {
           "automargin": true,
           "gridcolor": "white",
           "linecolor": "white",
           "ticks": "",
           "zerolinecolor": "white",
           "zerolinewidth": 2
          },
          "yaxis": {
           "automargin": true,
           "gridcolor": "white",
           "linecolor": "white",
           "ticks": "",
           "zerolinecolor": "white",
           "zerolinewidth": 2
          }
         }
        },
        "title": {
         "font": {
          "color": "#4D5663"
         }
        },
        "xaxis": {
         "gridcolor": "#E1E5ED",
         "showgrid": true,
         "tickfont": {
          "color": "#4D5663"
         },
         "title": {
          "font": {
           "color": "#4D5663"
          },
          "text": ""
         },
         "zerolinecolor": "#E1E5ED"
        },
        "yaxis": {
         "gridcolor": "#E1E5ED",
         "showgrid": true,
         "tickfont": {
          "color": "#4D5663"
         },
         "title": {
          "font": {
           "color": "#4D5663"
          },
          "text": ""
         },
         "zerolinecolor": "#E1E5ED"
        }
       }
      },
      "text/html": [
       "<div>\n",
       "        \n",
       "        \n",
       "            <div id=\"85324727-fa2a-44f1-a595-c0c9e1bb463d\" class=\"plotly-graph-div\" style=\"height:525px; width:100%;\"></div>\n",
       "            <script type=\"text/javascript\">\n",
       "                require([\"plotly\"], function(Plotly) {\n",
       "                    window.PLOTLYENV=window.PLOTLYENV || {};\n",
       "                    window.PLOTLYENV.BASE_URL='https://plot.ly';\n",
       "                    \n",
       "                if (document.getElementById(\"85324727-fa2a-44f1-a595-c0c9e1bb463d\")) {\n",
       "                    Plotly.newPlot(\n",
       "                        '85324727-fa2a-44f1-a595-c0c9e1bb463d',\n",
       "                        [{\"colorscale\": [[0.0, \"rgb(103,0,31)\"], [0.1, \"rgb(178,24,43)\"], [0.2, \"rgb(214,96,77)\"], [0.3, \"rgb(244,165,130)\"], [0.4, \"rgb(253,219,199)\"], [0.5, \"rgb(247,247,247)\"], [0.6, \"rgb(209,229,240)\"], [0.7, \"rgb(146,197,222)\"], [0.8, \"rgb(67,147,195)\"], [0.9, \"rgb(33,102,172)\"], [1.0, \"rgb(5,48,97)\"]], \"type\": \"surface\", \"x\": [0, 1, 2, 3, 4], \"y\": [\"x\", \"y\", \"z\"], \"z\": [[1, 2, 3, 4, 5], [10, 20, 30, 20, 10], [5, 4, 3, 2, 1]]}],\n",
       "                        {\"legend\": {\"bgcolor\": \"#F5F6F9\", \"font\": {\"color\": \"#4D5663\"}}, \"paper_bgcolor\": \"#F5F6F9\", \"plot_bgcolor\": \"#F5F6F9\", \"template\": {\"data\": {\"bar\": [{\"error_x\": {\"color\": \"#2a3f5f\"}, \"error_y\": {\"color\": \"#2a3f5f\"}, \"marker\": {\"line\": {\"color\": \"#E5ECF6\", \"width\": 0.5}}, \"type\": \"bar\"}], \"barpolar\": [{\"marker\": {\"line\": {\"color\": \"#E5ECF6\", \"width\": 0.5}}, \"type\": \"barpolar\"}], \"carpet\": [{\"aaxis\": {\"endlinecolor\": \"#2a3f5f\", \"gridcolor\": \"white\", \"linecolor\": \"white\", \"minorgridcolor\": \"white\", \"startlinecolor\": \"#2a3f5f\"}, \"baxis\": {\"endlinecolor\": \"#2a3f5f\", \"gridcolor\": \"white\", \"linecolor\": \"white\", \"minorgridcolor\": \"white\", \"startlinecolor\": \"#2a3f5f\"}, \"type\": \"carpet\"}], \"choropleth\": [{\"colorbar\": {\"outlinewidth\": 0, \"ticks\": \"\"}, \"type\": \"choropleth\"}], \"contour\": [{\"colorbar\": {\"outlinewidth\": 0, \"ticks\": \"\"}, \"colorscale\": [[0.0, \"#0d0887\"], [0.1111111111111111, \"#46039f\"], [0.2222222222222222, \"#7201a8\"], [0.3333333333333333, \"#9c179e\"], [0.4444444444444444, \"#bd3786\"], [0.5555555555555556, \"#d8576b\"], [0.6666666666666666, \"#ed7953\"], [0.7777777777777778, \"#fb9f3a\"], [0.8888888888888888, \"#fdca26\"], [1.0, \"#f0f921\"]], \"type\": \"contour\"}], \"contourcarpet\": [{\"colorbar\": {\"outlinewidth\": 0, \"ticks\": \"\"}, \"type\": \"contourcarpet\"}], \"heatmap\": [{\"colorbar\": {\"outlinewidth\": 0, \"ticks\": \"\"}, \"colorscale\": [[0.0, \"#0d0887\"], [0.1111111111111111, \"#46039f\"], [0.2222222222222222, \"#7201a8\"], [0.3333333333333333, \"#9c179e\"], [0.4444444444444444, \"#bd3786\"], [0.5555555555555556, \"#d8576b\"], [0.6666666666666666, \"#ed7953\"], [0.7777777777777778, \"#fb9f3a\"], [0.8888888888888888, \"#fdca26\"], [1.0, \"#f0f921\"]], \"type\": \"heatmap\"}], \"heatmapgl\": [{\"colorbar\": {\"outlinewidth\": 0, \"ticks\": \"\"}, \"colorscale\": [[0.0, \"#0d0887\"], [0.1111111111111111, \"#46039f\"], [0.2222222222222222, \"#7201a8\"], [0.3333333333333333, \"#9c179e\"], [0.4444444444444444, \"#bd3786\"], [0.5555555555555556, \"#d8576b\"], [0.6666666666666666, \"#ed7953\"], [0.7777777777777778, \"#fb9f3a\"], [0.8888888888888888, \"#fdca26\"], [1.0, \"#f0f921\"]], \"type\": \"heatmapgl\"}], \"histogram\": [{\"marker\": {\"colorbar\": {\"outlinewidth\": 0, \"ticks\": \"\"}}, \"type\": \"histogram\"}], \"histogram2d\": [{\"colorbar\": {\"outlinewidth\": 0, \"ticks\": \"\"}, \"colorscale\": [[0.0, \"#0d0887\"], [0.1111111111111111, \"#46039f\"], [0.2222222222222222, \"#7201a8\"], [0.3333333333333333, \"#9c179e\"], [0.4444444444444444, \"#bd3786\"], [0.5555555555555556, \"#d8576b\"], [0.6666666666666666, \"#ed7953\"], [0.7777777777777778, \"#fb9f3a\"], [0.8888888888888888, \"#fdca26\"], [1.0, \"#f0f921\"]], \"type\": \"histogram2d\"}], \"histogram2dcontour\": [{\"colorbar\": {\"outlinewidth\": 0, \"ticks\": \"\"}, \"colorscale\": [[0.0, \"#0d0887\"], [0.1111111111111111, \"#46039f\"], [0.2222222222222222, \"#7201a8\"], [0.3333333333333333, \"#9c179e\"], [0.4444444444444444, \"#bd3786\"], [0.5555555555555556, \"#d8576b\"], [0.6666666666666666, \"#ed7953\"], [0.7777777777777778, \"#fb9f3a\"], [0.8888888888888888, \"#fdca26\"], [1.0, \"#f0f921\"]], \"type\": \"histogram2dcontour\"}], \"mesh3d\": [{\"colorbar\": {\"outlinewidth\": 0, \"ticks\": \"\"}, \"type\": \"mesh3d\"}], \"parcoords\": [{\"line\": {\"colorbar\": {\"outlinewidth\": 0, \"ticks\": \"\"}}, \"type\": \"parcoords\"}], \"scatter\": [{\"marker\": {\"colorbar\": {\"outlinewidth\": 0, \"ticks\": \"\"}}, \"type\": \"scatter\"}], \"scatter3d\": [{\"line\": {\"colorbar\": {\"outlinewidth\": 0, \"ticks\": \"\"}}, \"marker\": {\"colorbar\": {\"outlinewidth\": 0, \"ticks\": \"\"}}, \"type\": \"scatter3d\"}], \"scattercarpet\": [{\"marker\": {\"colorbar\": {\"outlinewidth\": 0, \"ticks\": \"\"}}, \"type\": \"scattercarpet\"}], \"scattergeo\": [{\"marker\": {\"colorbar\": {\"outlinewidth\": 0, \"ticks\": \"\"}}, \"type\": \"scattergeo\"}], \"scattergl\": [{\"marker\": {\"colorbar\": {\"outlinewidth\": 0, \"ticks\": \"\"}}, \"type\": \"scattergl\"}], \"scattermapbox\": [{\"marker\": {\"colorbar\": {\"outlinewidth\": 0, \"ticks\": \"\"}}, \"type\": \"scattermapbox\"}], \"scatterpolar\": [{\"marker\": {\"colorbar\": {\"outlinewidth\": 0, \"ticks\": \"\"}}, \"type\": \"scatterpolar\"}], \"scatterpolargl\": [{\"marker\": {\"colorbar\": {\"outlinewidth\": 0, \"ticks\": \"\"}}, \"type\": \"scatterpolargl\"}], \"scatterternary\": [{\"marker\": {\"colorbar\": {\"outlinewidth\": 0, \"ticks\": \"\"}}, \"type\": \"scatterternary\"}], \"surface\": [{\"colorbar\": {\"outlinewidth\": 0, \"ticks\": \"\"}, \"colorscale\": [[0.0, \"#0d0887\"], [0.1111111111111111, \"#46039f\"], [0.2222222222222222, \"#7201a8\"], [0.3333333333333333, \"#9c179e\"], [0.4444444444444444, \"#bd3786\"], [0.5555555555555556, \"#d8576b\"], [0.6666666666666666, \"#ed7953\"], [0.7777777777777778, \"#fb9f3a\"], [0.8888888888888888, \"#fdca26\"], [1.0, \"#f0f921\"]], \"type\": \"surface\"}], \"table\": [{\"cells\": {\"fill\": {\"color\": \"#EBF0F8\"}, \"line\": {\"color\": \"white\"}}, \"header\": {\"fill\": {\"color\": \"#C8D4E3\"}, \"line\": {\"color\": \"white\"}}, \"type\": \"table\"}]}, \"layout\": {\"annotationdefaults\": {\"arrowcolor\": \"#2a3f5f\", \"arrowhead\": 0, \"arrowwidth\": 1}, \"colorscale\": {\"diverging\": [[0, \"#8e0152\"], [0.1, \"#c51b7d\"], [0.2, \"#de77ae\"], [0.3, \"#f1b6da\"], [0.4, \"#fde0ef\"], [0.5, \"#f7f7f7\"], [0.6, \"#e6f5d0\"], [0.7, \"#b8e186\"], [0.8, \"#7fbc41\"], [0.9, \"#4d9221\"], [1, \"#276419\"]], \"sequential\": [[0.0, \"#0d0887\"], [0.1111111111111111, \"#46039f\"], [0.2222222222222222, \"#7201a8\"], [0.3333333333333333, \"#9c179e\"], [0.4444444444444444, \"#bd3786\"], [0.5555555555555556, \"#d8576b\"], [0.6666666666666666, \"#ed7953\"], [0.7777777777777778, \"#fb9f3a\"], [0.8888888888888888, \"#fdca26\"], [1.0, \"#f0f921\"]], \"sequentialminus\": [[0.0, \"#0d0887\"], [0.1111111111111111, \"#46039f\"], [0.2222222222222222, \"#7201a8\"], [0.3333333333333333, \"#9c179e\"], [0.4444444444444444, \"#bd3786\"], [0.5555555555555556, \"#d8576b\"], [0.6666666666666666, \"#ed7953\"], [0.7777777777777778, \"#fb9f3a\"], [0.8888888888888888, \"#fdca26\"], [1.0, \"#f0f921\"]]}, \"colorway\": [\"#636efa\", \"#EF553B\", \"#00cc96\", \"#ab63fa\", \"#FFA15A\", \"#19d3f3\", \"#FF6692\", \"#B6E880\", \"#FF97FF\", \"#FECB52\"], \"font\": {\"color\": \"#2a3f5f\"}, \"geo\": {\"bgcolor\": \"white\", \"lakecolor\": \"white\", \"landcolor\": \"#E5ECF6\", \"showlakes\": true, \"showland\": true, \"subunitcolor\": \"white\"}, \"hoverlabel\": {\"align\": \"left\"}, \"hovermode\": \"closest\", \"mapbox\": {\"style\": \"light\"}, \"paper_bgcolor\": \"white\", \"plot_bgcolor\": \"#E5ECF6\", \"polar\": {\"angularaxis\": {\"gridcolor\": \"white\", \"linecolor\": \"white\", \"ticks\": \"\"}, \"bgcolor\": \"#E5ECF6\", \"radialaxis\": {\"gridcolor\": \"white\", \"linecolor\": \"white\", \"ticks\": \"\"}}, \"scene\": {\"xaxis\": {\"backgroundcolor\": \"#E5ECF6\", \"gridcolor\": \"white\", \"gridwidth\": 2, \"linecolor\": \"white\", \"showbackground\": true, \"ticks\": \"\", \"zerolinecolor\": \"white\"}, \"yaxis\": {\"backgroundcolor\": \"#E5ECF6\", \"gridcolor\": \"white\", \"gridwidth\": 2, \"linecolor\": \"white\", \"showbackground\": true, \"ticks\": \"\", \"zerolinecolor\": \"white\"}, \"zaxis\": {\"backgroundcolor\": \"#E5ECF6\", \"gridcolor\": \"white\", \"gridwidth\": 2, \"linecolor\": \"white\", \"showbackground\": true, \"ticks\": \"\", \"zerolinecolor\": \"white\"}}, \"shapedefaults\": {\"line\": {\"color\": \"#2a3f5f\"}}, \"ternary\": {\"aaxis\": {\"gridcolor\": \"white\", \"linecolor\": \"white\", \"ticks\": \"\"}, \"baxis\": {\"gridcolor\": \"white\", \"linecolor\": \"white\", \"ticks\": \"\"}, \"bgcolor\": \"#E5ECF6\", \"caxis\": {\"gridcolor\": \"white\", \"linecolor\": \"white\", \"ticks\": \"\"}}, \"title\": {\"x\": 0.05}, \"xaxis\": {\"automargin\": true, \"gridcolor\": \"white\", \"linecolor\": \"white\", \"ticks\": \"\", \"zerolinecolor\": \"white\", \"zerolinewidth\": 2}, \"yaxis\": {\"automargin\": true, \"gridcolor\": \"white\", \"linecolor\": \"white\", \"ticks\": \"\", \"zerolinecolor\": \"white\", \"zerolinewidth\": 2}}}, \"title\": {\"font\": {\"color\": \"#4D5663\"}}, \"xaxis\": {\"gridcolor\": \"#E1E5ED\", \"showgrid\": true, \"tickfont\": {\"color\": \"#4D5663\"}, \"title\": {\"font\": {\"color\": \"#4D5663\"}, \"text\": \"\"}, \"zerolinecolor\": \"#E1E5ED\"}, \"yaxis\": {\"gridcolor\": \"#E1E5ED\", \"showgrid\": true, \"tickfont\": {\"color\": \"#4D5663\"}, \"title\": {\"font\": {\"color\": \"#4D5663\"}, \"text\": \"\"}, \"zerolinecolor\": \"#E1E5ED\"}},\n",
       "                        {\"showLink\": true, \"linkText\": \"Export to plot.ly\", \"plotlyServerURL\": \"https://plot.ly\", \"responsive\": true}\n",
       "                    ).then(function(){\n",
       "                            \n",
       "var gd = document.getElementById('85324727-fa2a-44f1-a595-c0c9e1bb463d');\n",
       "var x = new MutationObserver(function (mutations, observer) {{\n",
       "        var display = window.getComputedStyle(gd).display;\n",
       "        if (!display || display === 'none') {{\n",
       "            console.log([gd, 'removed!']);\n",
       "            Plotly.purge(gd);\n",
       "            observer.disconnect();\n",
       "        }}\n",
       "}});\n",
       "\n",
       "// Listen for the removal of the full notebook cells\n",
       "var notebookContainer = gd.closest('#notebook-container');\n",
       "if (notebookContainer) {{\n",
       "    x.observe(notebookContainer, {childList: true});\n",
       "}}\n",
       "\n",
       "// Listen for the clearing of the current output cell\n",
       "var outputEl = gd.closest('.output');\n",
       "if (outputEl) {{\n",
       "    x.observe(outputEl, {childList: true});\n",
       "}}\n",
       "\n",
       "                        })\n",
       "                };\n",
       "                });\n",
       "            </script>\n",
       "        </div>"
      ]
     },
     "metadata": {},
     "output_type": "display_data"
    }
   ],
   "source": [
    "df3 = pd.DataFrame({'x':[1,2,3,4,5],'y':[10,20,30,20,10],'z':[5,4,3,2,1]})\n",
    "df3.iplot(kind = 'surface', colorscale = 'RdBu')"
   ]
  },
  {
   "cell_type": "markdown",
   "metadata": {},
   "source": [
    "<a id='histogram'></a>\n",
    "## Histogram"
   ]
  },
  {
   "cell_type": "code",
   "execution_count": 18,
   "metadata": {},
   "outputs": [
    {
     "data": {
      "application/vnd.plotly.v1+json": {
       "config": {
        "linkText": "Export to plot.ly",
        "plotlyServerURL": "https://plot.ly",
        "showLink": true
       },
       "data": [
        {
         "histfunc": "count",
         "histnorm": "",
         "marker": {
          "color": "rgba(255, 153, 51, 1.0)",
          "line": {
           "color": "#4D5663",
           "width": 1.3
          }
         },
         "name": "A",
         "nbinsx": 25,
         "opacity": 0.8,
         "orientation": "v",
         "type": "histogram",
         "x": [
          1.0449692502051247,
          1.4014865892350301,
          0.2777510317952268,
          -1.0406765670657876,
          0.006359873179908175,
          0.12397386661141808,
          1.4994280432956189,
          -1.9346238092149068,
          0.35775705631885724,
          -0.34733273139125354,
          -1.3373498970995634,
          0.5091515021663505,
          1.6830219082728322,
          0.10537667311719211,
          -2.5140060263209567,
          -0.7889335872294903,
          -0.0793938247201161,
          1.0581598354422561,
          -0.30745406708624323,
          -0.9734821005483372,
          -0.7606620447650821,
          0.021183267166173587,
          -1.7574711218864698,
          -0.9512855259494061,
          0.276338353437027,
          1.0802903181292332,
          0.08603908044689187,
          0.1758005729081879,
          -0.9834799312375738,
          1.2317154884736348,
          -0.38431628365933634,
          -1.3881384191043795,
          -0.9125394169049456,
          -0.06794122752929284,
          -1.0022938850420355,
          -0.5095861337124544,
          -0.2145016229316288,
          -0.1943220846212686,
          -0.06818560747550947,
          -0.11897249361823674,
          -0.6495429422228579,
          0.06269089056141017,
          0.7860879064361281,
          -0.02466660086278837,
          -1.0398428437836782,
          1.961276736519445,
          -0.75184757764632,
          -1.0454232300948676,
          0.08359602149063225,
          -0.044816813695500904,
          -1.857736593010825,
          -0.32146990193714037,
          1.2739521892455514,
          -0.0681200681829437,
          0.05565804637859506,
          -0.9692222211336554,
          0.38286724571536196,
          -0.2831006200212324,
          2.763018694518891,
          -0.2431284914703938,
          0.6895516333352446,
          -0.9594802988637272,
          -0.36534172808055654,
          0.6370985113662331,
          -0.8755116726783624,
          -0.3281051711722991,
          -0.25980975372081383,
          -0.02807393604023754,
          1.773774961703449,
          0.22301815139047637,
          0.32490702837345103,
          0.5769192199507911,
          -0.3559427830466943,
          -0.30962702682606874,
          0.6877374686393355,
          0.4729623462551443,
          -1.3761942534956288,
          -0.36096947072820446,
          0.5562044076399122,
          1.2584082074658807,
          0.45376062650949156,
          1.2140873967387038,
          0.5732739119550228,
          2.3621996474302356,
          0.30980883930255376,
          -1.3104375373247683,
          -0.3006239722533239,
          0.4473291641086172,
          0.45413611270862947,
          1.0204039525647968,
          -1.0879414724793888,
          0.28759734847120055,
          0.10519796793009067,
          -0.5789700813247838,
          0.10266167172467248,
          0.0396210104831097,
          -0.3224039898722025,
          0.4844161425061551,
          0.8549570449938488,
          -0.5909057407999417
         ]
        }
       ],
       "layout": {
        "barmode": "overlay",
        "legend": {
         "bgcolor": "#F5F6F9",
         "font": {
          "color": "#4D5663"
         }
        },
        "paper_bgcolor": "#F5F6F9",
        "plot_bgcolor": "#F5F6F9",
        "template": {
         "data": {
          "bar": [
           {
            "error_x": {
             "color": "#2a3f5f"
            },
            "error_y": {
             "color": "#2a3f5f"
            },
            "marker": {
             "line": {
              "color": "#E5ECF6",
              "width": 0.5
             }
            },
            "type": "bar"
           }
          ],
          "barpolar": [
           {
            "marker": {
             "line": {
              "color": "#E5ECF6",
              "width": 0.5
             }
            },
            "type": "barpolar"
           }
          ],
          "carpet": [
           {
            "aaxis": {
             "endlinecolor": "#2a3f5f",
             "gridcolor": "white",
             "linecolor": "white",
             "minorgridcolor": "white",
             "startlinecolor": "#2a3f5f"
            },
            "baxis": {
             "endlinecolor": "#2a3f5f",
             "gridcolor": "white",
             "linecolor": "white",
             "minorgridcolor": "white",
             "startlinecolor": "#2a3f5f"
            },
            "type": "carpet"
           }
          ],
          "choropleth": [
           {
            "colorbar": {
             "outlinewidth": 0,
             "ticks": ""
            },
            "type": "choropleth"
           }
          ],
          "contour": [
           {
            "colorbar": {
             "outlinewidth": 0,
             "ticks": ""
            },
            "colorscale": [
             [
              0,
              "#0d0887"
             ],
             [
              0.1111111111111111,
              "#46039f"
             ],
             [
              0.2222222222222222,
              "#7201a8"
             ],
             [
              0.3333333333333333,
              "#9c179e"
             ],
             [
              0.4444444444444444,
              "#bd3786"
             ],
             [
              0.5555555555555556,
              "#d8576b"
             ],
             [
              0.6666666666666666,
              "#ed7953"
             ],
             [
              0.7777777777777778,
              "#fb9f3a"
             ],
             [
              0.8888888888888888,
              "#fdca26"
             ],
             [
              1,
              "#f0f921"
             ]
            ],
            "type": "contour"
           }
          ],
          "contourcarpet": [
           {
            "colorbar": {
             "outlinewidth": 0,
             "ticks": ""
            },
            "type": "contourcarpet"
           }
          ],
          "heatmap": [
           {
            "colorbar": {
             "outlinewidth": 0,
             "ticks": ""
            },
            "colorscale": [
             [
              0,
              "#0d0887"
             ],
             [
              0.1111111111111111,
              "#46039f"
             ],
             [
              0.2222222222222222,
              "#7201a8"
             ],
             [
              0.3333333333333333,
              "#9c179e"
             ],
             [
              0.4444444444444444,
              "#bd3786"
             ],
             [
              0.5555555555555556,
              "#d8576b"
             ],
             [
              0.6666666666666666,
              "#ed7953"
             ],
             [
              0.7777777777777778,
              "#fb9f3a"
             ],
             [
              0.8888888888888888,
              "#fdca26"
             ],
             [
              1,
              "#f0f921"
             ]
            ],
            "type": "heatmap"
           }
          ],
          "heatmapgl": [
           {
            "colorbar": {
             "outlinewidth": 0,
             "ticks": ""
            },
            "colorscale": [
             [
              0,
              "#0d0887"
             ],
             [
              0.1111111111111111,
              "#46039f"
             ],
             [
              0.2222222222222222,
              "#7201a8"
             ],
             [
              0.3333333333333333,
              "#9c179e"
             ],
             [
              0.4444444444444444,
              "#bd3786"
             ],
             [
              0.5555555555555556,
              "#d8576b"
             ],
             [
              0.6666666666666666,
              "#ed7953"
             ],
             [
              0.7777777777777778,
              "#fb9f3a"
             ],
             [
              0.8888888888888888,
              "#fdca26"
             ],
             [
              1,
              "#f0f921"
             ]
            ],
            "type": "heatmapgl"
           }
          ],
          "histogram": [
           {
            "marker": {
             "colorbar": {
              "outlinewidth": 0,
              "ticks": ""
             }
            },
            "type": "histogram"
           }
          ],
          "histogram2d": [
           {
            "colorbar": {
             "outlinewidth": 0,
             "ticks": ""
            },
            "colorscale": [
             [
              0,
              "#0d0887"
             ],
             [
              0.1111111111111111,
              "#46039f"
             ],
             [
              0.2222222222222222,
              "#7201a8"
             ],
             [
              0.3333333333333333,
              "#9c179e"
             ],
             [
              0.4444444444444444,
              "#bd3786"
             ],
             [
              0.5555555555555556,
              "#d8576b"
             ],
             [
              0.6666666666666666,
              "#ed7953"
             ],
             [
              0.7777777777777778,
              "#fb9f3a"
             ],
             [
              0.8888888888888888,
              "#fdca26"
             ],
             [
              1,
              "#f0f921"
             ]
            ],
            "type": "histogram2d"
           }
          ],
          "histogram2dcontour": [
           {
            "colorbar": {
             "outlinewidth": 0,
             "ticks": ""
            },
            "colorscale": [
             [
              0,
              "#0d0887"
             ],
             [
              0.1111111111111111,
              "#46039f"
             ],
             [
              0.2222222222222222,
              "#7201a8"
             ],
             [
              0.3333333333333333,
              "#9c179e"
             ],
             [
              0.4444444444444444,
              "#bd3786"
             ],
             [
              0.5555555555555556,
              "#d8576b"
             ],
             [
              0.6666666666666666,
              "#ed7953"
             ],
             [
              0.7777777777777778,
              "#fb9f3a"
             ],
             [
              0.8888888888888888,
              "#fdca26"
             ],
             [
              1,
              "#f0f921"
             ]
            ],
            "type": "histogram2dcontour"
           }
          ],
          "mesh3d": [
           {
            "colorbar": {
             "outlinewidth": 0,
             "ticks": ""
            },
            "type": "mesh3d"
           }
          ],
          "parcoords": [
           {
            "line": {
             "colorbar": {
              "outlinewidth": 0,
              "ticks": ""
             }
            },
            "type": "parcoords"
           }
          ],
          "scatter": [
           {
            "marker": {
             "colorbar": {
              "outlinewidth": 0,
              "ticks": ""
             }
            },
            "type": "scatter"
           }
          ],
          "scatter3d": [
           {
            "line": {
             "colorbar": {
              "outlinewidth": 0,
              "ticks": ""
             }
            },
            "marker": {
             "colorbar": {
              "outlinewidth": 0,
              "ticks": ""
             }
            },
            "type": "scatter3d"
           }
          ],
          "scattercarpet": [
           {
            "marker": {
             "colorbar": {
              "outlinewidth": 0,
              "ticks": ""
             }
            },
            "type": "scattercarpet"
           }
          ],
          "scattergeo": [
           {
            "marker": {
             "colorbar": {
              "outlinewidth": 0,
              "ticks": ""
             }
            },
            "type": "scattergeo"
           }
          ],
          "scattergl": [
           {
            "marker": {
             "colorbar": {
              "outlinewidth": 0,
              "ticks": ""
             }
            },
            "type": "scattergl"
           }
          ],
          "scattermapbox": [
           {
            "marker": {
             "colorbar": {
              "outlinewidth": 0,
              "ticks": ""
             }
            },
            "type": "scattermapbox"
           }
          ],
          "scatterpolar": [
           {
            "marker": {
             "colorbar": {
              "outlinewidth": 0,
              "ticks": ""
             }
            },
            "type": "scatterpolar"
           }
          ],
          "scatterpolargl": [
           {
            "marker": {
             "colorbar": {
              "outlinewidth": 0,
              "ticks": ""
             }
            },
            "type": "scatterpolargl"
           }
          ],
          "scatterternary": [
           {
            "marker": {
             "colorbar": {
              "outlinewidth": 0,
              "ticks": ""
             }
            },
            "type": "scatterternary"
           }
          ],
          "surface": [
           {
            "colorbar": {
             "outlinewidth": 0,
             "ticks": ""
            },
            "colorscale": [
             [
              0,
              "#0d0887"
             ],
             [
              0.1111111111111111,
              "#46039f"
             ],
             [
              0.2222222222222222,
              "#7201a8"
             ],
             [
              0.3333333333333333,
              "#9c179e"
             ],
             [
              0.4444444444444444,
              "#bd3786"
             ],
             [
              0.5555555555555556,
              "#d8576b"
             ],
             [
              0.6666666666666666,
              "#ed7953"
             ],
             [
              0.7777777777777778,
              "#fb9f3a"
             ],
             [
              0.8888888888888888,
              "#fdca26"
             ],
             [
              1,
              "#f0f921"
             ]
            ],
            "type": "surface"
           }
          ],
          "table": [
           {
            "cells": {
             "fill": {
              "color": "#EBF0F8"
             },
             "line": {
              "color": "white"
             }
            },
            "header": {
             "fill": {
              "color": "#C8D4E3"
             },
             "line": {
              "color": "white"
             }
            },
            "type": "table"
           }
          ]
         },
         "layout": {
          "annotationdefaults": {
           "arrowcolor": "#2a3f5f",
           "arrowhead": 0,
           "arrowwidth": 1
          },
          "colorscale": {
           "diverging": [
            [
             0,
             "#8e0152"
            ],
            [
             0.1,
             "#c51b7d"
            ],
            [
             0.2,
             "#de77ae"
            ],
            [
             0.3,
             "#f1b6da"
            ],
            [
             0.4,
             "#fde0ef"
            ],
            [
             0.5,
             "#f7f7f7"
            ],
            [
             0.6,
             "#e6f5d0"
            ],
            [
             0.7,
             "#b8e186"
            ],
            [
             0.8,
             "#7fbc41"
            ],
            [
             0.9,
             "#4d9221"
            ],
            [
             1,
             "#276419"
            ]
           ],
           "sequential": [
            [
             0,
             "#0d0887"
            ],
            [
             0.1111111111111111,
             "#46039f"
            ],
            [
             0.2222222222222222,
             "#7201a8"
            ],
            [
             0.3333333333333333,
             "#9c179e"
            ],
            [
             0.4444444444444444,
             "#bd3786"
            ],
            [
             0.5555555555555556,
             "#d8576b"
            ],
            [
             0.6666666666666666,
             "#ed7953"
            ],
            [
             0.7777777777777778,
             "#fb9f3a"
            ],
            [
             0.8888888888888888,
             "#fdca26"
            ],
            [
             1,
             "#f0f921"
            ]
           ],
           "sequentialminus": [
            [
             0,
             "#0d0887"
            ],
            [
             0.1111111111111111,
             "#46039f"
            ],
            [
             0.2222222222222222,
             "#7201a8"
            ],
            [
             0.3333333333333333,
             "#9c179e"
            ],
            [
             0.4444444444444444,
             "#bd3786"
            ],
            [
             0.5555555555555556,
             "#d8576b"
            ],
            [
             0.6666666666666666,
             "#ed7953"
            ],
            [
             0.7777777777777778,
             "#fb9f3a"
            ],
            [
             0.8888888888888888,
             "#fdca26"
            ],
            [
             1,
             "#f0f921"
            ]
           ]
          },
          "colorway": [
           "#636efa",
           "#EF553B",
           "#00cc96",
           "#ab63fa",
           "#FFA15A",
           "#19d3f3",
           "#FF6692",
           "#B6E880",
           "#FF97FF",
           "#FECB52"
          ],
          "font": {
           "color": "#2a3f5f"
          },
          "geo": {
           "bgcolor": "white",
           "lakecolor": "white",
           "landcolor": "#E5ECF6",
           "showlakes": true,
           "showland": true,
           "subunitcolor": "white"
          },
          "hoverlabel": {
           "align": "left"
          },
          "hovermode": "closest",
          "mapbox": {
           "style": "light"
          },
          "paper_bgcolor": "white",
          "plot_bgcolor": "#E5ECF6",
          "polar": {
           "angularaxis": {
            "gridcolor": "white",
            "linecolor": "white",
            "ticks": ""
           },
           "bgcolor": "#E5ECF6",
           "radialaxis": {
            "gridcolor": "white",
            "linecolor": "white",
            "ticks": ""
           }
          },
          "scene": {
           "xaxis": {
            "backgroundcolor": "#E5ECF6",
            "gridcolor": "white",
            "gridwidth": 2,
            "linecolor": "white",
            "showbackground": true,
            "ticks": "",
            "zerolinecolor": "white"
           },
           "yaxis": {
            "backgroundcolor": "#E5ECF6",
            "gridcolor": "white",
            "gridwidth": 2,
            "linecolor": "white",
            "showbackground": true,
            "ticks": "",
            "zerolinecolor": "white"
           },
           "zaxis": {
            "backgroundcolor": "#E5ECF6",
            "gridcolor": "white",
            "gridwidth": 2,
            "linecolor": "white",
            "showbackground": true,
            "ticks": "",
            "zerolinecolor": "white"
           }
          },
          "shapedefaults": {
           "line": {
            "color": "#2a3f5f"
           }
          },
          "ternary": {
           "aaxis": {
            "gridcolor": "white",
            "linecolor": "white",
            "ticks": ""
           },
           "baxis": {
            "gridcolor": "white",
            "linecolor": "white",
            "ticks": ""
           },
           "bgcolor": "#E5ECF6",
           "caxis": {
            "gridcolor": "white",
            "linecolor": "white",
            "ticks": ""
           }
          },
          "title": {
           "x": 0.05
          },
          "xaxis": {
           "automargin": true,
           "gridcolor": "white",
           "linecolor": "white",
           "ticks": "",
           "zerolinecolor": "white",
           "zerolinewidth": 2
          },
          "yaxis": {
           "automargin": true,
           "gridcolor": "white",
           "linecolor": "white",
           "ticks": "",
           "zerolinecolor": "white",
           "zerolinewidth": 2
          }
         }
        },
        "title": {
         "font": {
          "color": "#4D5663"
         }
        },
        "xaxis": {
         "gridcolor": "#E1E5ED",
         "showgrid": true,
         "tickfont": {
          "color": "#4D5663"
         },
         "title": {
          "font": {
           "color": "#4D5663"
          },
          "text": ""
         },
         "zerolinecolor": "#E1E5ED"
        },
        "yaxis": {
         "gridcolor": "#E1E5ED",
         "showgrid": true,
         "tickfont": {
          "color": "#4D5663"
         },
         "title": {
          "font": {
           "color": "#4D5663"
          },
          "text": ""
         },
         "zerolinecolor": "#E1E5ED"
        }
       }
      },
      "text/html": [
       "<div>\n",
       "        \n",
       "        \n",
       "            <div id=\"17dbae36-eb39-4340-bbf5-66ec36777f9c\" class=\"plotly-graph-div\" style=\"height:525px; width:100%;\"></div>\n",
       "            <script type=\"text/javascript\">\n",
       "                require([\"plotly\"], function(Plotly) {\n",
       "                    window.PLOTLYENV=window.PLOTLYENV || {};\n",
       "                    window.PLOTLYENV.BASE_URL='https://plot.ly';\n",
       "                    \n",
       "                if (document.getElementById(\"17dbae36-eb39-4340-bbf5-66ec36777f9c\")) {\n",
       "                    Plotly.newPlot(\n",
       "                        '17dbae36-eb39-4340-bbf5-66ec36777f9c',\n",
       "                        [{\"histfunc\": \"count\", \"histnorm\": \"\", \"marker\": {\"color\": \"rgba(255, 153, 51, 1.0)\", \"line\": {\"color\": \"#4D5663\", \"width\": 1.3}}, \"name\": \"A\", \"nbinsx\": 25, \"opacity\": 0.8, \"orientation\": \"v\", \"type\": \"histogram\", \"x\": [1.0449692502051247, 1.4014865892350301, 0.2777510317952268, -1.0406765670657876, 0.006359873179908175, 0.12397386661141808, 1.4994280432956189, -1.9346238092149068, 0.35775705631885724, -0.34733273139125354, -1.3373498970995634, 0.5091515021663505, 1.6830219082728322, 0.10537667311719211, -2.5140060263209567, -0.7889335872294903, -0.0793938247201161, 1.0581598354422561, -0.30745406708624323, -0.9734821005483372, -0.7606620447650821, 0.021183267166173587, -1.7574711218864698, -0.9512855259494061, 0.276338353437027, 1.0802903181292332, 0.08603908044689187, 0.1758005729081879, -0.9834799312375738, 1.2317154884736348, -0.38431628365933634, -1.3881384191043795, -0.9125394169049456, -0.06794122752929284, -1.0022938850420355, -0.5095861337124544, -0.2145016229316288, -0.1943220846212686, -0.06818560747550947, -0.11897249361823674, -0.6495429422228579, 0.06269089056141017, 0.7860879064361281, -0.02466660086278837, -1.0398428437836782, 1.961276736519445, -0.75184757764632, -1.0454232300948676, 0.08359602149063225, -0.044816813695500904, -1.857736593010825, -0.32146990193714037, 1.2739521892455514, -0.0681200681829437, 0.05565804637859506, -0.9692222211336554, 0.38286724571536196, -0.2831006200212324, 2.763018694518891, -0.2431284914703938, 0.6895516333352446, -0.9594802988637272, -0.36534172808055654, 0.6370985113662331, -0.8755116726783624, -0.3281051711722991, -0.25980975372081383, -0.02807393604023754, 1.773774961703449, 0.22301815139047637, 0.32490702837345103, 0.5769192199507911, -0.3559427830466943, -0.30962702682606874, 0.6877374686393355, 0.4729623462551443, -1.3761942534956288, -0.36096947072820446, 0.5562044076399122, 1.2584082074658807, 0.45376062650949156, 1.2140873967387038, 0.5732739119550228, 2.3621996474302356, 0.30980883930255376, -1.3104375373247683, -0.3006239722533239, 0.4473291641086172, 0.45413611270862947, 1.0204039525647968, -1.0879414724793888, 0.28759734847120055, 0.10519796793009067, -0.5789700813247838, 0.10266167172467248, 0.0396210104831097, -0.3224039898722025, 0.4844161425061551, 0.8549570449938488, -0.5909057407999417]}],\n",
       "                        {\"barmode\": \"overlay\", \"legend\": {\"bgcolor\": \"#F5F6F9\", \"font\": {\"color\": \"#4D5663\"}}, \"paper_bgcolor\": \"#F5F6F9\", \"plot_bgcolor\": \"#F5F6F9\", \"template\": {\"data\": {\"bar\": [{\"error_x\": {\"color\": \"#2a3f5f\"}, \"error_y\": {\"color\": \"#2a3f5f\"}, \"marker\": {\"line\": {\"color\": \"#E5ECF6\", \"width\": 0.5}}, \"type\": \"bar\"}], \"barpolar\": [{\"marker\": {\"line\": {\"color\": \"#E5ECF6\", \"width\": 0.5}}, \"type\": \"barpolar\"}], \"carpet\": [{\"aaxis\": {\"endlinecolor\": \"#2a3f5f\", \"gridcolor\": \"white\", \"linecolor\": \"white\", \"minorgridcolor\": \"white\", \"startlinecolor\": \"#2a3f5f\"}, \"baxis\": {\"endlinecolor\": \"#2a3f5f\", \"gridcolor\": \"white\", \"linecolor\": \"white\", \"minorgridcolor\": \"white\", \"startlinecolor\": \"#2a3f5f\"}, \"type\": \"carpet\"}], \"choropleth\": [{\"colorbar\": {\"outlinewidth\": 0, \"ticks\": \"\"}, \"type\": \"choropleth\"}], \"contour\": [{\"colorbar\": {\"outlinewidth\": 0, \"ticks\": \"\"}, \"colorscale\": [[0.0, \"#0d0887\"], [0.1111111111111111, \"#46039f\"], [0.2222222222222222, \"#7201a8\"], [0.3333333333333333, \"#9c179e\"], [0.4444444444444444, \"#bd3786\"], [0.5555555555555556, \"#d8576b\"], [0.6666666666666666, \"#ed7953\"], [0.7777777777777778, \"#fb9f3a\"], [0.8888888888888888, \"#fdca26\"], [1.0, \"#f0f921\"]], \"type\": \"contour\"}], \"contourcarpet\": [{\"colorbar\": {\"outlinewidth\": 0, \"ticks\": \"\"}, \"type\": \"contourcarpet\"}], \"heatmap\": [{\"colorbar\": {\"outlinewidth\": 0, \"ticks\": \"\"}, \"colorscale\": [[0.0, \"#0d0887\"], [0.1111111111111111, \"#46039f\"], [0.2222222222222222, \"#7201a8\"], [0.3333333333333333, \"#9c179e\"], [0.4444444444444444, \"#bd3786\"], [0.5555555555555556, \"#d8576b\"], [0.6666666666666666, \"#ed7953\"], [0.7777777777777778, \"#fb9f3a\"], [0.8888888888888888, \"#fdca26\"], [1.0, \"#f0f921\"]], \"type\": \"heatmap\"}], \"heatmapgl\": [{\"colorbar\": {\"outlinewidth\": 0, \"ticks\": \"\"}, \"colorscale\": [[0.0, \"#0d0887\"], [0.1111111111111111, \"#46039f\"], [0.2222222222222222, \"#7201a8\"], [0.3333333333333333, \"#9c179e\"], [0.4444444444444444, \"#bd3786\"], [0.5555555555555556, \"#d8576b\"], [0.6666666666666666, \"#ed7953\"], [0.7777777777777778, \"#fb9f3a\"], [0.8888888888888888, \"#fdca26\"], [1.0, \"#f0f921\"]], \"type\": \"heatmapgl\"}], \"histogram\": [{\"marker\": {\"colorbar\": {\"outlinewidth\": 0, \"ticks\": \"\"}}, \"type\": \"histogram\"}], \"histogram2d\": [{\"colorbar\": {\"outlinewidth\": 0, \"ticks\": \"\"}, \"colorscale\": [[0.0, \"#0d0887\"], [0.1111111111111111, \"#46039f\"], [0.2222222222222222, \"#7201a8\"], [0.3333333333333333, \"#9c179e\"], [0.4444444444444444, \"#bd3786\"], [0.5555555555555556, \"#d8576b\"], [0.6666666666666666, \"#ed7953\"], [0.7777777777777778, \"#fb9f3a\"], [0.8888888888888888, \"#fdca26\"], [1.0, \"#f0f921\"]], \"type\": \"histogram2d\"}], \"histogram2dcontour\": [{\"colorbar\": {\"outlinewidth\": 0, \"ticks\": \"\"}, \"colorscale\": [[0.0, \"#0d0887\"], [0.1111111111111111, \"#46039f\"], [0.2222222222222222, \"#7201a8\"], [0.3333333333333333, \"#9c179e\"], [0.4444444444444444, \"#bd3786\"], [0.5555555555555556, \"#d8576b\"], [0.6666666666666666, \"#ed7953\"], [0.7777777777777778, \"#fb9f3a\"], [0.8888888888888888, \"#fdca26\"], [1.0, \"#f0f921\"]], \"type\": \"histogram2dcontour\"}], \"mesh3d\": [{\"colorbar\": {\"outlinewidth\": 0, \"ticks\": \"\"}, \"type\": \"mesh3d\"}], \"parcoords\": [{\"line\": {\"colorbar\": {\"outlinewidth\": 0, \"ticks\": \"\"}}, \"type\": \"parcoords\"}], \"scatter\": [{\"marker\": {\"colorbar\": {\"outlinewidth\": 0, \"ticks\": \"\"}}, \"type\": \"scatter\"}], \"scatter3d\": [{\"line\": {\"colorbar\": {\"outlinewidth\": 0, \"ticks\": \"\"}}, \"marker\": {\"colorbar\": {\"outlinewidth\": 0, \"ticks\": \"\"}}, \"type\": \"scatter3d\"}], \"scattercarpet\": [{\"marker\": {\"colorbar\": {\"outlinewidth\": 0, \"ticks\": \"\"}}, \"type\": \"scattercarpet\"}], \"scattergeo\": [{\"marker\": {\"colorbar\": {\"outlinewidth\": 0, \"ticks\": \"\"}}, \"type\": \"scattergeo\"}], \"scattergl\": [{\"marker\": {\"colorbar\": {\"outlinewidth\": 0, \"ticks\": \"\"}}, \"type\": \"scattergl\"}], \"scattermapbox\": [{\"marker\": {\"colorbar\": {\"outlinewidth\": 0, \"ticks\": \"\"}}, \"type\": \"scattermapbox\"}], \"scatterpolar\": [{\"marker\": {\"colorbar\": {\"outlinewidth\": 0, \"ticks\": \"\"}}, \"type\": \"scatterpolar\"}], \"scatterpolargl\": [{\"marker\": {\"colorbar\": {\"outlinewidth\": 0, \"ticks\": \"\"}}, \"type\": \"scatterpolargl\"}], \"scatterternary\": [{\"marker\": {\"colorbar\": {\"outlinewidth\": 0, \"ticks\": \"\"}}, \"type\": \"scatterternary\"}], \"surface\": [{\"colorbar\": {\"outlinewidth\": 0, \"ticks\": \"\"}, \"colorscale\": [[0.0, \"#0d0887\"], [0.1111111111111111, \"#46039f\"], [0.2222222222222222, \"#7201a8\"], [0.3333333333333333, \"#9c179e\"], [0.4444444444444444, \"#bd3786\"], [0.5555555555555556, \"#d8576b\"], [0.6666666666666666, \"#ed7953\"], [0.7777777777777778, \"#fb9f3a\"], [0.8888888888888888, \"#fdca26\"], [1.0, \"#f0f921\"]], \"type\": \"surface\"}], \"table\": [{\"cells\": {\"fill\": {\"color\": \"#EBF0F8\"}, \"line\": {\"color\": \"white\"}}, \"header\": {\"fill\": {\"color\": \"#C8D4E3\"}, \"line\": {\"color\": \"white\"}}, \"type\": \"table\"}]}, \"layout\": {\"annotationdefaults\": {\"arrowcolor\": \"#2a3f5f\", \"arrowhead\": 0, \"arrowwidth\": 1}, \"colorscale\": {\"diverging\": [[0, \"#8e0152\"], [0.1, \"#c51b7d\"], [0.2, \"#de77ae\"], [0.3, \"#f1b6da\"], [0.4, \"#fde0ef\"], [0.5, \"#f7f7f7\"], [0.6, \"#e6f5d0\"], [0.7, \"#b8e186\"], [0.8, \"#7fbc41\"], [0.9, \"#4d9221\"], [1, \"#276419\"]], \"sequential\": [[0.0, \"#0d0887\"], [0.1111111111111111, \"#46039f\"], [0.2222222222222222, \"#7201a8\"], [0.3333333333333333, \"#9c179e\"], [0.4444444444444444, \"#bd3786\"], [0.5555555555555556, \"#d8576b\"], [0.6666666666666666, \"#ed7953\"], [0.7777777777777778, \"#fb9f3a\"], [0.8888888888888888, \"#fdca26\"], [1.0, \"#f0f921\"]], \"sequentialminus\": [[0.0, \"#0d0887\"], [0.1111111111111111, \"#46039f\"], [0.2222222222222222, \"#7201a8\"], [0.3333333333333333, \"#9c179e\"], [0.4444444444444444, \"#bd3786\"], [0.5555555555555556, \"#d8576b\"], [0.6666666666666666, \"#ed7953\"], [0.7777777777777778, \"#fb9f3a\"], [0.8888888888888888, \"#fdca26\"], [1.0, \"#f0f921\"]]}, \"colorway\": [\"#636efa\", \"#EF553B\", \"#00cc96\", \"#ab63fa\", \"#FFA15A\", \"#19d3f3\", \"#FF6692\", \"#B6E880\", \"#FF97FF\", \"#FECB52\"], \"font\": {\"color\": \"#2a3f5f\"}, \"geo\": {\"bgcolor\": \"white\", \"lakecolor\": \"white\", \"landcolor\": \"#E5ECF6\", \"showlakes\": true, \"showland\": true, \"subunitcolor\": \"white\"}, \"hoverlabel\": {\"align\": \"left\"}, \"hovermode\": \"closest\", \"mapbox\": {\"style\": \"light\"}, \"paper_bgcolor\": \"white\", \"plot_bgcolor\": \"#E5ECF6\", \"polar\": {\"angularaxis\": {\"gridcolor\": \"white\", \"linecolor\": \"white\", \"ticks\": \"\"}, \"bgcolor\": \"#E5ECF6\", \"radialaxis\": {\"gridcolor\": \"white\", \"linecolor\": \"white\", \"ticks\": \"\"}}, \"scene\": {\"xaxis\": {\"backgroundcolor\": \"#E5ECF6\", \"gridcolor\": \"white\", \"gridwidth\": 2, \"linecolor\": \"white\", \"showbackground\": true, \"ticks\": \"\", \"zerolinecolor\": \"white\"}, \"yaxis\": {\"backgroundcolor\": \"#E5ECF6\", \"gridcolor\": \"white\", \"gridwidth\": 2, \"linecolor\": \"white\", \"showbackground\": true, \"ticks\": \"\", \"zerolinecolor\": \"white\"}, \"zaxis\": {\"backgroundcolor\": \"#E5ECF6\", \"gridcolor\": \"white\", \"gridwidth\": 2, \"linecolor\": \"white\", \"showbackground\": true, \"ticks\": \"\", \"zerolinecolor\": \"white\"}}, \"shapedefaults\": {\"line\": {\"color\": \"#2a3f5f\"}}, \"ternary\": {\"aaxis\": {\"gridcolor\": \"white\", \"linecolor\": \"white\", \"ticks\": \"\"}, \"baxis\": {\"gridcolor\": \"white\", \"linecolor\": \"white\", \"ticks\": \"\"}, \"bgcolor\": \"#E5ECF6\", \"caxis\": {\"gridcolor\": \"white\", \"linecolor\": \"white\", \"ticks\": \"\"}}, \"title\": {\"x\": 0.05}, \"xaxis\": {\"automargin\": true, \"gridcolor\": \"white\", \"linecolor\": \"white\", \"ticks\": \"\", \"zerolinecolor\": \"white\", \"zerolinewidth\": 2}, \"yaxis\": {\"automargin\": true, \"gridcolor\": \"white\", \"linecolor\": \"white\", \"ticks\": \"\", \"zerolinecolor\": \"white\", \"zerolinewidth\": 2}}}, \"title\": {\"font\": {\"color\": \"#4D5663\"}}, \"xaxis\": {\"gridcolor\": \"#E1E5ED\", \"showgrid\": true, \"tickfont\": {\"color\": \"#4D5663\"}, \"title\": {\"font\": {\"color\": \"#4D5663\"}, \"text\": \"\"}, \"zerolinecolor\": \"#E1E5ED\"}, \"yaxis\": {\"gridcolor\": \"#E1E5ED\", \"showgrid\": true, \"tickfont\": {\"color\": \"#4D5663\"}, \"title\": {\"font\": {\"color\": \"#4D5663\"}, \"text\": \"\"}, \"zerolinecolor\": \"#E1E5ED\"}},\n",
       "                        {\"showLink\": true, \"linkText\": \"Export to plot.ly\", \"plotlyServerURL\": \"https://plot.ly\", \"responsive\": true}\n",
       "                    ).then(function(){\n",
       "                            \n",
       "var gd = document.getElementById('17dbae36-eb39-4340-bbf5-66ec36777f9c');\n",
       "var x = new MutationObserver(function (mutations, observer) {{\n",
       "        var display = window.getComputedStyle(gd).display;\n",
       "        if (!display || display === 'none') {{\n",
       "            console.log([gd, 'removed!']);\n",
       "            Plotly.purge(gd);\n",
       "            observer.disconnect();\n",
       "        }}\n",
       "}});\n",
       "\n",
       "// Listen for the removal of the full notebook cells\n",
       "var notebookContainer = gd.closest('#notebook-container');\n",
       "if (notebookContainer) {{\n",
       "    x.observe(notebookContainer, {childList: true});\n",
       "}}\n",
       "\n",
       "// Listen for the clearing of the current output cell\n",
       "var outputEl = gd.closest('.output');\n",
       "if (outputEl) {{\n",
       "    x.observe(outputEl, {childList: true});\n",
       "}}\n",
       "\n",
       "                        })\n",
       "                };\n",
       "                });\n",
       "            </script>\n",
       "        </div>"
      ]
     },
     "metadata": {},
     "output_type": "display_data"
    }
   ],
   "source": [
    "df['A'].iplot(kind = 'hist', bins = 25)"
   ]
  },
  {
   "cell_type": "markdown",
   "metadata": {},
   "source": [
    "<a id='bubble'></a>\n",
    "## Bubble"
   ]
  },
  {
   "cell_type": "code",
   "execution_count": 24,
   "metadata": {},
   "outputs": [
    {
     "data": {
      "application/vnd.plotly.v1+json": {
       "config": {
        "linkText": "Export to plot.ly",
        "plotlyServerURL": "https://plot.ly",
        "showLink": true
       },
       "data": [
        {
         "marker": {
          "color": [
           "rgb(255, 153, 51)",
           "rgb(55, 128, 191)",
           "rgb(50, 171, 96)",
           "rgb(128, 0, 128)",
           "rgb(219, 64, 82)",
           "rgb(0, 128, 128)",
           "rgb(255, 255, 51)",
           "rgb(128, 128, 0)",
           "rgb(251, 128, 114)",
           "rgb(128, 177, 211)"
          ],
          "line": {
           "width": 1.3
          },
          "size": [
           55,
           74,
           36,
           98,
           63,
           27,
           63,
           60,
           62,
           92,
           66,
           74,
           67,
           64,
           61,
           74,
           48,
           72,
           94,
           63,
           71,
           68,
           49,
           33,
           65,
           60,
           52,
           32,
           47,
           76,
           43,
           63,
           86,
           20,
           33,
           44,
           34,
           100,
           78,
           47,
           60,
           95,
           50,
           38,
           52,
           35,
           26,
           46,
           30,
           50,
           82,
           70,
           76,
           53,
           75,
           76,
           93,
           40,
           12,
           75,
           35,
           92,
           78,
           74,
           64,
           69,
           56,
           72,
           72,
           67,
           79,
           38,
           47,
           55,
           37,
           60,
           73,
           64,
           102,
           56,
           41,
           82,
           82,
           49,
           51,
           46,
           90,
           57,
           67,
           82,
           49,
           112,
           59,
           60,
           82,
           64,
           57,
           83,
           75,
           83
          ],
          "symbol": "circle"
         },
         "mode": "markers",
         "text": "",
         "type": "scatter",
         "x": [
          1.0449692502051247,
          1.4014865892350301,
          0.2777510317952268,
          -1.0406765670657876,
          0.006359873179908175,
          0.12397386661141808,
          1.4994280432956189,
          -1.9346238092149068,
          0.35775705631885724,
          -0.34733273139125354,
          -1.3373498970995634,
          0.5091515021663505,
          1.6830219082728322,
          0.10537667311719211,
          -2.5140060263209567,
          -0.7889335872294903,
          -0.0793938247201161,
          1.0581598354422561,
          -0.30745406708624323,
          -0.9734821005483372,
          -0.7606620447650821,
          0.021183267166173587,
          -1.7574711218864698,
          -0.9512855259494061,
          0.276338353437027,
          1.0802903181292332,
          0.08603908044689187,
          0.1758005729081879,
          -0.9834799312375738,
          1.2317154884736348,
          -0.38431628365933634,
          -1.3881384191043795,
          -0.9125394169049456,
          -0.06794122752929284,
          -1.0022938850420355,
          -0.5095861337124544,
          -0.2145016229316288,
          -0.1943220846212686,
          -0.06818560747550947,
          -0.11897249361823674,
          -0.6495429422228579,
          0.06269089056141017,
          0.7860879064361281,
          -0.02466660086278837,
          -1.0398428437836782,
          1.961276736519445,
          -0.75184757764632,
          -1.0454232300948676,
          0.08359602149063225,
          -0.044816813695500904,
          -1.857736593010825,
          -0.32146990193714037,
          1.2739521892455514,
          -0.0681200681829437,
          0.05565804637859506,
          -0.9692222211336554,
          0.38286724571536196,
          -0.2831006200212324,
          2.763018694518891,
          -0.2431284914703938,
          0.6895516333352446,
          -0.9594802988637272,
          -0.36534172808055654,
          0.6370985113662331,
          -0.8755116726783624,
          -0.3281051711722991,
          -0.25980975372081383,
          -0.02807393604023754,
          1.773774961703449,
          0.22301815139047637,
          0.32490702837345103,
          0.5769192199507911,
          -0.3559427830466943,
          -0.30962702682606874,
          0.6877374686393355,
          0.4729623462551443,
          -1.3761942534956288,
          -0.36096947072820446,
          0.5562044076399122,
          1.2584082074658807,
          0.45376062650949156,
          1.2140873967387038,
          0.5732739119550228,
          2.3621996474302356,
          0.30980883930255376,
          -1.3104375373247683,
          -0.3006239722533239,
          0.4473291641086172,
          0.45413611270862947,
          1.0204039525647968,
          -1.0879414724793888,
          0.28759734847120055,
          0.10519796793009067,
          -0.5789700813247838,
          0.10266167172467248,
          0.0396210104831097,
          -0.3224039898722025,
          0.4844161425061551,
          0.8549570449938488,
          -0.5909057407999417
         ],
         "y": [
          -0.6122871493742158,
          1.1081871772883127,
          0.07237326664240411,
          1.406695566419615,
          2.677619031027863,
          1.112007896315254,
          -0.042717243892368036,
          0.7591151319917263,
          1.0556520331963073,
          1.2870160271112958,
          1.0403960791303974,
          0.3389096166665409,
          -0.8704406299249163,
          -0.05277500029748561,
          -0.36939451035933046,
          0.021989699598618934,
          1.1444382793684356,
          -0.8927764162249062,
          -0.1628051853947566,
          -0.5432752677219072,
          -1.240592684049764,
          -1.7721162352992212,
          1.9328913219273787,
          2.5947345249856943,
          0.039314714721758216,
          -0.3116962358433378,
          -0.2601966610359773,
          -0.5615995471631422,
          2.8799163670262224,
          0.15733010475255726,
          -0.10534874143218677,
          1.9020147526179778,
          -1.8874958202687249,
          0.2701239367297032,
          -0.4623567400425783,
          -0.9465296338310447,
          -1.306966472110278,
          0.0460281332075379,
          -0.42391723840307133,
          0.32106132358339107,
          -1.357774815758448,
          -0.1983057429079247,
          0.5394666356832476,
          0.27345282349426914,
          1.7115369034552415,
          1.3539777900604741,
          0.41853317042274557,
          0.42272832867468335,
          1.7478578513191985,
          0.2103817558651291,
          -1.1263253595684382,
          -0.20054913121668919,
          -0.44667446570921543,
          0.3582952961244712,
          -0.205638127832226,
          -0.5058332125899551,
          0.046587499309992404,
          -1.1411642331240202,
          2.3549815303843684,
          -1.3147166480097907,
          -1.11288153984668,
          -2.0500677731421284,
          0.21388936815754106,
          0.809410971577199,
          1.8446996235700726,
          -0.3183719938850659,
          -0.38613673683138866,
          -0.5626146532545004,
          0.33272738668322926,
          -0.7360737680381293,
          -0.07820086788220298,
          -0.9239854599721813,
          -0.3422751447747376,
          -0.27439983203656493,
          0.8789170986350728,
          -0.7653109466860576,
          -1.0293486730547823,
          -1.7521978262212234,
          0.22988231823569452,
          0.3452925830352003,
          0.6636820763451339,
          -0.4905628916181519,
          -0.9596968706279292,
          -1.0899108329787122,
          0.21527711643708103,
          0.38782001222417123,
          -2.3328215385791,
          0.2751742167113534,
          1.1775728381813217,
          0.6919533953962174,
          -0.3615718797962593,
          -0.7504278081657234,
          0.3403032080793858,
          -0.839800460389345,
          -0.06837495898684512,
          0.877458070792261,
          0.6542370835529798,
          -0.3644351488624026,
          0.250900416278955,
          -0.5321225014239536
         ]
        }
       ],
       "layout": {
        "legend": {
         "bgcolor": "#F5F6F9",
         "font": {
          "color": "#4D5663"
         }
        },
        "paper_bgcolor": "#F5F6F9",
        "plot_bgcolor": "#F5F6F9",
        "template": {
         "data": {
          "bar": [
           {
            "error_x": {
             "color": "#2a3f5f"
            },
            "error_y": {
             "color": "#2a3f5f"
            },
            "marker": {
             "line": {
              "color": "#E5ECF6",
              "width": 0.5
             }
            },
            "type": "bar"
           }
          ],
          "barpolar": [
           {
            "marker": {
             "line": {
              "color": "#E5ECF6",
              "width": 0.5
             }
            },
            "type": "barpolar"
           }
          ],
          "carpet": [
           {
            "aaxis": {
             "endlinecolor": "#2a3f5f",
             "gridcolor": "white",
             "linecolor": "white",
             "minorgridcolor": "white",
             "startlinecolor": "#2a3f5f"
            },
            "baxis": {
             "endlinecolor": "#2a3f5f",
             "gridcolor": "white",
             "linecolor": "white",
             "minorgridcolor": "white",
             "startlinecolor": "#2a3f5f"
            },
            "type": "carpet"
           }
          ],
          "choropleth": [
           {
            "colorbar": {
             "outlinewidth": 0,
             "ticks": ""
            },
            "type": "choropleth"
           }
          ],
          "contour": [
           {
            "colorbar": {
             "outlinewidth": 0,
             "ticks": ""
            },
            "colorscale": [
             [
              0,
              "#0d0887"
             ],
             [
              0.1111111111111111,
              "#46039f"
             ],
             [
              0.2222222222222222,
              "#7201a8"
             ],
             [
              0.3333333333333333,
              "#9c179e"
             ],
             [
              0.4444444444444444,
              "#bd3786"
             ],
             [
              0.5555555555555556,
              "#d8576b"
             ],
             [
              0.6666666666666666,
              "#ed7953"
             ],
             [
              0.7777777777777778,
              "#fb9f3a"
             ],
             [
              0.8888888888888888,
              "#fdca26"
             ],
             [
              1,
              "#f0f921"
             ]
            ],
            "type": "contour"
           }
          ],
          "contourcarpet": [
           {
            "colorbar": {
             "outlinewidth": 0,
             "ticks": ""
            },
            "type": "contourcarpet"
           }
          ],
          "heatmap": [
           {
            "colorbar": {
             "outlinewidth": 0,
             "ticks": ""
            },
            "colorscale": [
             [
              0,
              "#0d0887"
             ],
             [
              0.1111111111111111,
              "#46039f"
             ],
             [
              0.2222222222222222,
              "#7201a8"
             ],
             [
              0.3333333333333333,
              "#9c179e"
             ],
             [
              0.4444444444444444,
              "#bd3786"
             ],
             [
              0.5555555555555556,
              "#d8576b"
             ],
             [
              0.6666666666666666,
              "#ed7953"
             ],
             [
              0.7777777777777778,
              "#fb9f3a"
             ],
             [
              0.8888888888888888,
              "#fdca26"
             ],
             [
              1,
              "#f0f921"
             ]
            ],
            "type": "heatmap"
           }
          ],
          "heatmapgl": [
           {
            "colorbar": {
             "outlinewidth": 0,
             "ticks": ""
            },
            "colorscale": [
             [
              0,
              "#0d0887"
             ],
             [
              0.1111111111111111,
              "#46039f"
             ],
             [
              0.2222222222222222,
              "#7201a8"
             ],
             [
              0.3333333333333333,
              "#9c179e"
             ],
             [
              0.4444444444444444,
              "#bd3786"
             ],
             [
              0.5555555555555556,
              "#d8576b"
             ],
             [
              0.6666666666666666,
              "#ed7953"
             ],
             [
              0.7777777777777778,
              "#fb9f3a"
             ],
             [
              0.8888888888888888,
              "#fdca26"
             ],
             [
              1,
              "#f0f921"
             ]
            ],
            "type": "heatmapgl"
           }
          ],
          "histogram": [
           {
            "marker": {
             "colorbar": {
              "outlinewidth": 0,
              "ticks": ""
             }
            },
            "type": "histogram"
           }
          ],
          "histogram2d": [
           {
            "colorbar": {
             "outlinewidth": 0,
             "ticks": ""
            },
            "colorscale": [
             [
              0,
              "#0d0887"
             ],
             [
              0.1111111111111111,
              "#46039f"
             ],
             [
              0.2222222222222222,
              "#7201a8"
             ],
             [
              0.3333333333333333,
              "#9c179e"
             ],
             [
              0.4444444444444444,
              "#bd3786"
             ],
             [
              0.5555555555555556,
              "#d8576b"
             ],
             [
              0.6666666666666666,
              "#ed7953"
             ],
             [
              0.7777777777777778,
              "#fb9f3a"
             ],
             [
              0.8888888888888888,
              "#fdca26"
             ],
             [
              1,
              "#f0f921"
             ]
            ],
            "type": "histogram2d"
           }
          ],
          "histogram2dcontour": [
           {
            "colorbar": {
             "outlinewidth": 0,
             "ticks": ""
            },
            "colorscale": [
             [
              0,
              "#0d0887"
             ],
             [
              0.1111111111111111,
              "#46039f"
             ],
             [
              0.2222222222222222,
              "#7201a8"
             ],
             [
              0.3333333333333333,
              "#9c179e"
             ],
             [
              0.4444444444444444,
              "#bd3786"
             ],
             [
              0.5555555555555556,
              "#d8576b"
             ],
             [
              0.6666666666666666,
              "#ed7953"
             ],
             [
              0.7777777777777778,
              "#fb9f3a"
             ],
             [
              0.8888888888888888,
              "#fdca26"
             ],
             [
              1,
              "#f0f921"
             ]
            ],
            "type": "histogram2dcontour"
           }
          ],
          "mesh3d": [
           {
            "colorbar": {
             "outlinewidth": 0,
             "ticks": ""
            },
            "type": "mesh3d"
           }
          ],
          "parcoords": [
           {
            "line": {
             "colorbar": {
              "outlinewidth": 0,
              "ticks": ""
             }
            },
            "type": "parcoords"
           }
          ],
          "scatter": [
           {
            "marker": {
             "colorbar": {
              "outlinewidth": 0,
              "ticks": ""
             }
            },
            "type": "scatter"
           }
          ],
          "scatter3d": [
           {
            "line": {
             "colorbar": {
              "outlinewidth": 0,
              "ticks": ""
             }
            },
            "marker": {
             "colorbar": {
              "outlinewidth": 0,
              "ticks": ""
             }
            },
            "type": "scatter3d"
           }
          ],
          "scattercarpet": [
           {
            "marker": {
             "colorbar": {
              "outlinewidth": 0,
              "ticks": ""
             }
            },
            "type": "scattercarpet"
           }
          ],
          "scattergeo": [
           {
            "marker": {
             "colorbar": {
              "outlinewidth": 0,
              "ticks": ""
             }
            },
            "type": "scattergeo"
           }
          ],
          "scattergl": [
           {
            "marker": {
             "colorbar": {
              "outlinewidth": 0,
              "ticks": ""
             }
            },
            "type": "scattergl"
           }
          ],
          "scattermapbox": [
           {
            "marker": {
             "colorbar": {
              "outlinewidth": 0,
              "ticks": ""
             }
            },
            "type": "scattermapbox"
           }
          ],
          "scatterpolar": [
           {
            "marker": {
             "colorbar": {
              "outlinewidth": 0,
              "ticks": ""
             }
            },
            "type": "scatterpolar"
           }
          ],
          "scatterpolargl": [
           {
            "marker": {
             "colorbar": {
              "outlinewidth": 0,
              "ticks": ""
             }
            },
            "type": "scatterpolargl"
           }
          ],
          "scatterternary": [
           {
            "marker": {
             "colorbar": {
              "outlinewidth": 0,
              "ticks": ""
             }
            },
            "type": "scatterternary"
           }
          ],
          "surface": [
           {
            "colorbar": {
             "outlinewidth": 0,
             "ticks": ""
            },
            "colorscale": [
             [
              0,
              "#0d0887"
             ],
             [
              0.1111111111111111,
              "#46039f"
             ],
             [
              0.2222222222222222,
              "#7201a8"
             ],
             [
              0.3333333333333333,
              "#9c179e"
             ],
             [
              0.4444444444444444,
              "#bd3786"
             ],
             [
              0.5555555555555556,
              "#d8576b"
             ],
             [
              0.6666666666666666,
              "#ed7953"
             ],
             [
              0.7777777777777778,
              "#fb9f3a"
             ],
             [
              0.8888888888888888,
              "#fdca26"
             ],
             [
              1,
              "#f0f921"
             ]
            ],
            "type": "surface"
           }
          ],
          "table": [
           {
            "cells": {
             "fill": {
              "color": "#EBF0F8"
             },
             "line": {
              "color": "white"
             }
            },
            "header": {
             "fill": {
              "color": "#C8D4E3"
             },
             "line": {
              "color": "white"
             }
            },
            "type": "table"
           }
          ]
         },
         "layout": {
          "annotationdefaults": {
           "arrowcolor": "#2a3f5f",
           "arrowhead": 0,
           "arrowwidth": 1
          },
          "colorscale": {
           "diverging": [
            [
             0,
             "#8e0152"
            ],
            [
             0.1,
             "#c51b7d"
            ],
            [
             0.2,
             "#de77ae"
            ],
            [
             0.3,
             "#f1b6da"
            ],
            [
             0.4,
             "#fde0ef"
            ],
            [
             0.5,
             "#f7f7f7"
            ],
            [
             0.6,
             "#e6f5d0"
            ],
            [
             0.7,
             "#b8e186"
            ],
            [
             0.8,
             "#7fbc41"
            ],
            [
             0.9,
             "#4d9221"
            ],
            [
             1,
             "#276419"
            ]
           ],
           "sequential": [
            [
             0,
             "#0d0887"
            ],
            [
             0.1111111111111111,
             "#46039f"
            ],
            [
             0.2222222222222222,
             "#7201a8"
            ],
            [
             0.3333333333333333,
             "#9c179e"
            ],
            [
             0.4444444444444444,
             "#bd3786"
            ],
            [
             0.5555555555555556,
             "#d8576b"
            ],
            [
             0.6666666666666666,
             "#ed7953"
            ],
            [
             0.7777777777777778,
             "#fb9f3a"
            ],
            [
             0.8888888888888888,
             "#fdca26"
            ],
            [
             1,
             "#f0f921"
            ]
           ],
           "sequentialminus": [
            [
             0,
             "#0d0887"
            ],
            [
             0.1111111111111111,
             "#46039f"
            ],
            [
             0.2222222222222222,
             "#7201a8"
            ],
            [
             0.3333333333333333,
             "#9c179e"
            ],
            [
             0.4444444444444444,
             "#bd3786"
            ],
            [
             0.5555555555555556,
             "#d8576b"
            ],
            [
             0.6666666666666666,
             "#ed7953"
            ],
            [
             0.7777777777777778,
             "#fb9f3a"
            ],
            [
             0.8888888888888888,
             "#fdca26"
            ],
            [
             1,
             "#f0f921"
            ]
           ]
          },
          "colorway": [
           "#636efa",
           "#EF553B",
           "#00cc96",
           "#ab63fa",
           "#FFA15A",
           "#19d3f3",
           "#FF6692",
           "#B6E880",
           "#FF97FF",
           "#FECB52"
          ],
          "font": {
           "color": "#2a3f5f"
          },
          "geo": {
           "bgcolor": "white",
           "lakecolor": "white",
           "landcolor": "#E5ECF6",
           "showlakes": true,
           "showland": true,
           "subunitcolor": "white"
          },
          "hoverlabel": {
           "align": "left"
          },
          "hovermode": "closest",
          "mapbox": {
           "style": "light"
          },
          "paper_bgcolor": "white",
          "plot_bgcolor": "#E5ECF6",
          "polar": {
           "angularaxis": {
            "gridcolor": "white",
            "linecolor": "white",
            "ticks": ""
           },
           "bgcolor": "#E5ECF6",
           "radialaxis": {
            "gridcolor": "white",
            "linecolor": "white",
            "ticks": ""
           }
          },
          "scene": {
           "xaxis": {
            "backgroundcolor": "#E5ECF6",
            "gridcolor": "white",
            "gridwidth": 2,
            "linecolor": "white",
            "showbackground": true,
            "ticks": "",
            "zerolinecolor": "white"
           },
           "yaxis": {
            "backgroundcolor": "#E5ECF6",
            "gridcolor": "white",
            "gridwidth": 2,
            "linecolor": "white",
            "showbackground": true,
            "ticks": "",
            "zerolinecolor": "white"
           },
           "zaxis": {
            "backgroundcolor": "#E5ECF6",
            "gridcolor": "white",
            "gridwidth": 2,
            "linecolor": "white",
            "showbackground": true,
            "ticks": "",
            "zerolinecolor": "white"
           }
          },
          "shapedefaults": {
           "line": {
            "color": "#2a3f5f"
           }
          },
          "ternary": {
           "aaxis": {
            "gridcolor": "white",
            "linecolor": "white",
            "ticks": ""
           },
           "baxis": {
            "gridcolor": "white",
            "linecolor": "white",
            "ticks": ""
           },
           "bgcolor": "#E5ECF6",
           "caxis": {
            "gridcolor": "white",
            "linecolor": "white",
            "ticks": ""
           }
          },
          "title": {
           "x": 0.05
          },
          "xaxis": {
           "automargin": true,
           "gridcolor": "white",
           "linecolor": "white",
           "ticks": "",
           "zerolinecolor": "white",
           "zerolinewidth": 2
          },
          "yaxis": {
           "automargin": true,
           "gridcolor": "white",
           "linecolor": "white",
           "ticks": "",
           "zerolinecolor": "white",
           "zerolinewidth": 2
          }
         }
        },
        "title": {
         "font": {
          "color": "#4D5663"
         }
        },
        "xaxis": {
         "gridcolor": "#E1E5ED",
         "showgrid": true,
         "tickfont": {
          "color": "#4D5663"
         },
         "title": {
          "font": {
           "color": "#4D5663"
          },
          "text": ""
         },
         "zerolinecolor": "#E1E5ED"
        },
        "yaxis": {
         "gridcolor": "#E1E5ED",
         "showgrid": true,
         "tickfont": {
          "color": "#4D5663"
         },
         "title": {
          "font": {
           "color": "#4D5663"
          },
          "text": ""
         },
         "zerolinecolor": "#E1E5ED"
        }
       }
      },
      "text/html": [
       "<div>\n",
       "        \n",
       "        \n",
       "            <div id=\"a7588788-31aa-4535-a002-c3fd5ee37bb7\" class=\"plotly-graph-div\" style=\"height:525px; width:100%;\"></div>\n",
       "            <script type=\"text/javascript\">\n",
       "                require([\"plotly\"], function(Plotly) {\n",
       "                    window.PLOTLYENV=window.PLOTLYENV || {};\n",
       "                    window.PLOTLYENV.BASE_URL='https://plot.ly';\n",
       "                    \n",
       "                if (document.getElementById(\"a7588788-31aa-4535-a002-c3fd5ee37bb7\")) {\n",
       "                    Plotly.newPlot(\n",
       "                        'a7588788-31aa-4535-a002-c3fd5ee37bb7',\n",
       "                        [{\"marker\": {\"color\": [\"rgb(255, 153, 51)\", \"rgb(55, 128, 191)\", \"rgb(50, 171, 96)\", \"rgb(128, 0, 128)\", \"rgb(219, 64, 82)\", \"rgb(0, 128, 128)\", \"rgb(255, 255, 51)\", \"rgb(128, 128, 0)\", \"rgb(251, 128, 114)\", \"rgb(128, 177, 211)\"], \"line\": {\"width\": 1.3}, \"size\": [55, 74, 36, 98, 63, 27, 63, 60, 62, 92, 66, 74, 67, 64, 61, 74, 48, 72, 94, 63, 71, 68, 49, 33, 65, 60, 52, 32, 47, 76, 43, 63, 86, 20, 33, 44, 34, 100, 78, 47, 60, 95, 50, 38, 52, 35, 26, 46, 30, 50, 82, 70, 76, 53, 75, 76, 93, 40, 12, 75, 35, 92, 78, 74, 64, 69, 56, 72, 72, 67, 79, 38, 47, 55, 37, 60, 73, 64, 102, 56, 41, 82, 82, 49, 51, 46, 90, 57, 67, 82, 49, 112, 59, 60, 82, 64, 57, 83, 75, 83], \"symbol\": \"circle\"}, \"mode\": \"markers\", \"text\": \"\", \"type\": \"scatter\", \"x\": [1.0449692502051247, 1.4014865892350301, 0.2777510317952268, -1.0406765670657876, 0.006359873179908175, 0.12397386661141808, 1.4994280432956189, -1.9346238092149068, 0.35775705631885724, -0.34733273139125354, -1.3373498970995634, 0.5091515021663505, 1.6830219082728322, 0.10537667311719211, -2.5140060263209567, -0.7889335872294903, -0.0793938247201161, 1.0581598354422561, -0.30745406708624323, -0.9734821005483372, -0.7606620447650821, 0.021183267166173587, -1.7574711218864698, -0.9512855259494061, 0.276338353437027, 1.0802903181292332, 0.08603908044689187, 0.1758005729081879, -0.9834799312375738, 1.2317154884736348, -0.38431628365933634, -1.3881384191043795, -0.9125394169049456, -0.06794122752929284, -1.0022938850420355, -0.5095861337124544, -0.2145016229316288, -0.1943220846212686, -0.06818560747550947, -0.11897249361823674, -0.6495429422228579, 0.06269089056141017, 0.7860879064361281, -0.02466660086278837, -1.0398428437836782, 1.961276736519445, -0.75184757764632, -1.0454232300948676, 0.08359602149063225, -0.044816813695500904, -1.857736593010825, -0.32146990193714037, 1.2739521892455514, -0.0681200681829437, 0.05565804637859506, -0.9692222211336554, 0.38286724571536196, -0.2831006200212324, 2.763018694518891, -0.2431284914703938, 0.6895516333352446, -0.9594802988637272, -0.36534172808055654, 0.6370985113662331, -0.8755116726783624, -0.3281051711722991, -0.25980975372081383, -0.02807393604023754, 1.773774961703449, 0.22301815139047637, 0.32490702837345103, 0.5769192199507911, -0.3559427830466943, -0.30962702682606874, 0.6877374686393355, 0.4729623462551443, -1.3761942534956288, -0.36096947072820446, 0.5562044076399122, 1.2584082074658807, 0.45376062650949156, 1.2140873967387038, 0.5732739119550228, 2.3621996474302356, 0.30980883930255376, -1.3104375373247683, -0.3006239722533239, 0.4473291641086172, 0.45413611270862947, 1.0204039525647968, -1.0879414724793888, 0.28759734847120055, 0.10519796793009067, -0.5789700813247838, 0.10266167172467248, 0.0396210104831097, -0.3224039898722025, 0.4844161425061551, 0.8549570449938488, -0.5909057407999417], \"y\": [-0.6122871493742158, 1.1081871772883127, 0.07237326664240411, 1.406695566419615, 2.677619031027863, 1.112007896315254, -0.042717243892368036, 0.7591151319917263, 1.0556520331963073, 1.2870160271112958, 1.0403960791303974, 0.3389096166665409, -0.8704406299249163, -0.05277500029748561, -0.36939451035933046, 0.021989699598618934, 1.1444382793684356, -0.8927764162249062, -0.1628051853947566, -0.5432752677219072, -1.240592684049764, -1.7721162352992212, 1.9328913219273787, 2.5947345249856943, 0.039314714721758216, -0.3116962358433378, -0.2601966610359773, -0.5615995471631422, 2.8799163670262224, 0.15733010475255726, -0.10534874143218677, 1.9020147526179778, -1.8874958202687249, 0.2701239367297032, -0.4623567400425783, -0.9465296338310447, -1.306966472110278, 0.0460281332075379, -0.42391723840307133, 0.32106132358339107, -1.357774815758448, -0.1983057429079247, 0.5394666356832476, 0.27345282349426914, 1.7115369034552415, 1.3539777900604741, 0.41853317042274557, 0.42272832867468335, 1.7478578513191985, 0.2103817558651291, -1.1263253595684382, -0.20054913121668919, -0.44667446570921543, 0.3582952961244712, -0.205638127832226, -0.5058332125899551, 0.046587499309992404, -1.1411642331240202, 2.3549815303843684, -1.3147166480097907, -1.11288153984668, -2.0500677731421284, 0.21388936815754106, 0.809410971577199, 1.8446996235700726, -0.3183719938850659, -0.38613673683138866, -0.5626146532545004, 0.33272738668322926, -0.7360737680381293, -0.07820086788220298, -0.9239854599721813, -0.3422751447747376, -0.27439983203656493, 0.8789170986350728, -0.7653109466860576, -1.0293486730547823, -1.7521978262212234, 0.22988231823569452, 0.3452925830352003, 0.6636820763451339, -0.4905628916181519, -0.9596968706279292, -1.0899108329787122, 0.21527711643708103, 0.38782001222417123, -2.3328215385791, 0.2751742167113534, 1.1775728381813217, 0.6919533953962174, -0.3615718797962593, -0.7504278081657234, 0.3403032080793858, -0.839800460389345, -0.06837495898684512, 0.877458070792261, 0.6542370835529798, -0.3644351488624026, 0.250900416278955, -0.5321225014239536]}],\n",
       "                        {\"legend\": {\"bgcolor\": \"#F5F6F9\", \"font\": {\"color\": \"#4D5663\"}}, \"paper_bgcolor\": \"#F5F6F9\", \"plot_bgcolor\": \"#F5F6F9\", \"template\": {\"data\": {\"bar\": [{\"error_x\": {\"color\": \"#2a3f5f\"}, \"error_y\": {\"color\": \"#2a3f5f\"}, \"marker\": {\"line\": {\"color\": \"#E5ECF6\", \"width\": 0.5}}, \"type\": \"bar\"}], \"barpolar\": [{\"marker\": {\"line\": {\"color\": \"#E5ECF6\", \"width\": 0.5}}, \"type\": \"barpolar\"}], \"carpet\": [{\"aaxis\": {\"endlinecolor\": \"#2a3f5f\", \"gridcolor\": \"white\", \"linecolor\": \"white\", \"minorgridcolor\": \"white\", \"startlinecolor\": \"#2a3f5f\"}, \"baxis\": {\"endlinecolor\": \"#2a3f5f\", \"gridcolor\": \"white\", \"linecolor\": \"white\", \"minorgridcolor\": \"white\", \"startlinecolor\": \"#2a3f5f\"}, \"type\": \"carpet\"}], \"choropleth\": [{\"colorbar\": {\"outlinewidth\": 0, \"ticks\": \"\"}, \"type\": \"choropleth\"}], \"contour\": [{\"colorbar\": {\"outlinewidth\": 0, \"ticks\": \"\"}, \"colorscale\": [[0.0, \"#0d0887\"], [0.1111111111111111, \"#46039f\"], [0.2222222222222222, \"#7201a8\"], [0.3333333333333333, \"#9c179e\"], [0.4444444444444444, \"#bd3786\"], [0.5555555555555556, \"#d8576b\"], [0.6666666666666666, \"#ed7953\"], [0.7777777777777778, \"#fb9f3a\"], [0.8888888888888888, \"#fdca26\"], [1.0, \"#f0f921\"]], \"type\": \"contour\"}], \"contourcarpet\": [{\"colorbar\": {\"outlinewidth\": 0, \"ticks\": \"\"}, \"type\": \"contourcarpet\"}], \"heatmap\": [{\"colorbar\": {\"outlinewidth\": 0, \"ticks\": \"\"}, \"colorscale\": [[0.0, \"#0d0887\"], [0.1111111111111111, \"#46039f\"], [0.2222222222222222, \"#7201a8\"], [0.3333333333333333, \"#9c179e\"], [0.4444444444444444, \"#bd3786\"], [0.5555555555555556, \"#d8576b\"], [0.6666666666666666, \"#ed7953\"], [0.7777777777777778, \"#fb9f3a\"], [0.8888888888888888, \"#fdca26\"], [1.0, \"#f0f921\"]], \"type\": \"heatmap\"}], \"heatmapgl\": [{\"colorbar\": {\"outlinewidth\": 0, \"ticks\": \"\"}, \"colorscale\": [[0.0, \"#0d0887\"], [0.1111111111111111, \"#46039f\"], [0.2222222222222222, \"#7201a8\"], [0.3333333333333333, \"#9c179e\"], [0.4444444444444444, \"#bd3786\"], [0.5555555555555556, \"#d8576b\"], [0.6666666666666666, \"#ed7953\"], [0.7777777777777778, \"#fb9f3a\"], [0.8888888888888888, \"#fdca26\"], [1.0, \"#f0f921\"]], \"type\": \"heatmapgl\"}], \"histogram\": [{\"marker\": {\"colorbar\": {\"outlinewidth\": 0, \"ticks\": \"\"}}, \"type\": \"histogram\"}], \"histogram2d\": [{\"colorbar\": {\"outlinewidth\": 0, \"ticks\": \"\"}, \"colorscale\": [[0.0, \"#0d0887\"], [0.1111111111111111, \"#46039f\"], [0.2222222222222222, \"#7201a8\"], [0.3333333333333333, \"#9c179e\"], [0.4444444444444444, \"#bd3786\"], [0.5555555555555556, \"#d8576b\"], [0.6666666666666666, \"#ed7953\"], [0.7777777777777778, \"#fb9f3a\"], [0.8888888888888888, \"#fdca26\"], [1.0, \"#f0f921\"]], \"type\": \"histogram2d\"}], \"histogram2dcontour\": [{\"colorbar\": {\"outlinewidth\": 0, \"ticks\": \"\"}, \"colorscale\": [[0.0, \"#0d0887\"], [0.1111111111111111, \"#46039f\"], [0.2222222222222222, \"#7201a8\"], [0.3333333333333333, \"#9c179e\"], [0.4444444444444444, \"#bd3786\"], [0.5555555555555556, \"#d8576b\"], [0.6666666666666666, \"#ed7953\"], [0.7777777777777778, \"#fb9f3a\"], [0.8888888888888888, \"#fdca26\"], [1.0, \"#f0f921\"]], \"type\": \"histogram2dcontour\"}], \"mesh3d\": [{\"colorbar\": {\"outlinewidth\": 0, \"ticks\": \"\"}, \"type\": \"mesh3d\"}], \"parcoords\": [{\"line\": {\"colorbar\": {\"outlinewidth\": 0, \"ticks\": \"\"}}, \"type\": \"parcoords\"}], \"scatter\": [{\"marker\": {\"colorbar\": {\"outlinewidth\": 0, \"ticks\": \"\"}}, \"type\": \"scatter\"}], \"scatter3d\": [{\"line\": {\"colorbar\": {\"outlinewidth\": 0, \"ticks\": \"\"}}, \"marker\": {\"colorbar\": {\"outlinewidth\": 0, \"ticks\": \"\"}}, \"type\": \"scatter3d\"}], \"scattercarpet\": [{\"marker\": {\"colorbar\": {\"outlinewidth\": 0, \"ticks\": \"\"}}, \"type\": \"scattercarpet\"}], \"scattergeo\": [{\"marker\": {\"colorbar\": {\"outlinewidth\": 0, \"ticks\": \"\"}}, \"type\": \"scattergeo\"}], \"scattergl\": [{\"marker\": {\"colorbar\": {\"outlinewidth\": 0, \"ticks\": \"\"}}, \"type\": \"scattergl\"}], \"scattermapbox\": [{\"marker\": {\"colorbar\": {\"outlinewidth\": 0, \"ticks\": \"\"}}, \"type\": \"scattermapbox\"}], \"scatterpolar\": [{\"marker\": {\"colorbar\": {\"outlinewidth\": 0, \"ticks\": \"\"}}, \"type\": \"scatterpolar\"}], \"scatterpolargl\": [{\"marker\": {\"colorbar\": {\"outlinewidth\": 0, \"ticks\": \"\"}}, \"type\": \"scatterpolargl\"}], \"scatterternary\": [{\"marker\": {\"colorbar\": {\"outlinewidth\": 0, \"ticks\": \"\"}}, \"type\": \"scatterternary\"}], \"surface\": [{\"colorbar\": {\"outlinewidth\": 0, \"ticks\": \"\"}, \"colorscale\": [[0.0, \"#0d0887\"], [0.1111111111111111, \"#46039f\"], [0.2222222222222222, \"#7201a8\"], [0.3333333333333333, \"#9c179e\"], [0.4444444444444444, \"#bd3786\"], [0.5555555555555556, \"#d8576b\"], [0.6666666666666666, \"#ed7953\"], [0.7777777777777778, \"#fb9f3a\"], [0.8888888888888888, \"#fdca26\"], [1.0, \"#f0f921\"]], \"type\": \"surface\"}], \"table\": [{\"cells\": {\"fill\": {\"color\": \"#EBF0F8\"}, \"line\": {\"color\": \"white\"}}, \"header\": {\"fill\": {\"color\": \"#C8D4E3\"}, \"line\": {\"color\": \"white\"}}, \"type\": \"table\"}]}, \"layout\": {\"annotationdefaults\": {\"arrowcolor\": \"#2a3f5f\", \"arrowhead\": 0, \"arrowwidth\": 1}, \"colorscale\": {\"diverging\": [[0, \"#8e0152\"], [0.1, \"#c51b7d\"], [0.2, \"#de77ae\"], [0.3, \"#f1b6da\"], [0.4, \"#fde0ef\"], [0.5, \"#f7f7f7\"], [0.6, \"#e6f5d0\"], [0.7, \"#b8e186\"], [0.8, \"#7fbc41\"], [0.9, \"#4d9221\"], [1, \"#276419\"]], \"sequential\": [[0.0, \"#0d0887\"], [0.1111111111111111, \"#46039f\"], [0.2222222222222222, \"#7201a8\"], [0.3333333333333333, \"#9c179e\"], [0.4444444444444444, \"#bd3786\"], [0.5555555555555556, \"#d8576b\"], [0.6666666666666666, \"#ed7953\"], [0.7777777777777778, \"#fb9f3a\"], [0.8888888888888888, \"#fdca26\"], [1.0, \"#f0f921\"]], \"sequentialminus\": [[0.0, \"#0d0887\"], [0.1111111111111111, \"#46039f\"], [0.2222222222222222, \"#7201a8\"], [0.3333333333333333, \"#9c179e\"], [0.4444444444444444, \"#bd3786\"], [0.5555555555555556, \"#d8576b\"], [0.6666666666666666, \"#ed7953\"], [0.7777777777777778, \"#fb9f3a\"], [0.8888888888888888, \"#fdca26\"], [1.0, \"#f0f921\"]]}, \"colorway\": [\"#636efa\", \"#EF553B\", \"#00cc96\", \"#ab63fa\", \"#FFA15A\", \"#19d3f3\", \"#FF6692\", \"#B6E880\", \"#FF97FF\", \"#FECB52\"], \"font\": {\"color\": \"#2a3f5f\"}, \"geo\": {\"bgcolor\": \"white\", \"lakecolor\": \"white\", \"landcolor\": \"#E5ECF6\", \"showlakes\": true, \"showland\": true, \"subunitcolor\": \"white\"}, \"hoverlabel\": {\"align\": \"left\"}, \"hovermode\": \"closest\", \"mapbox\": {\"style\": \"light\"}, \"paper_bgcolor\": \"white\", \"plot_bgcolor\": \"#E5ECF6\", \"polar\": {\"angularaxis\": {\"gridcolor\": \"white\", \"linecolor\": \"white\", \"ticks\": \"\"}, \"bgcolor\": \"#E5ECF6\", \"radialaxis\": {\"gridcolor\": \"white\", \"linecolor\": \"white\", \"ticks\": \"\"}}, \"scene\": {\"xaxis\": {\"backgroundcolor\": \"#E5ECF6\", \"gridcolor\": \"white\", \"gridwidth\": 2, \"linecolor\": \"white\", \"showbackground\": true, \"ticks\": \"\", \"zerolinecolor\": \"white\"}, \"yaxis\": {\"backgroundcolor\": \"#E5ECF6\", \"gridcolor\": \"white\", \"gridwidth\": 2, \"linecolor\": \"white\", \"showbackground\": true, \"ticks\": \"\", \"zerolinecolor\": \"white\"}, \"zaxis\": {\"backgroundcolor\": \"#E5ECF6\", \"gridcolor\": \"white\", \"gridwidth\": 2, \"linecolor\": \"white\", \"showbackground\": true, \"ticks\": \"\", \"zerolinecolor\": \"white\"}}, \"shapedefaults\": {\"line\": {\"color\": \"#2a3f5f\"}}, \"ternary\": {\"aaxis\": {\"gridcolor\": \"white\", \"linecolor\": \"white\", \"ticks\": \"\"}, \"baxis\": {\"gridcolor\": \"white\", \"linecolor\": \"white\", \"ticks\": \"\"}, \"bgcolor\": \"#E5ECF6\", \"caxis\": {\"gridcolor\": \"white\", \"linecolor\": \"white\", \"ticks\": \"\"}}, \"title\": {\"x\": 0.05}, \"xaxis\": {\"automargin\": true, \"gridcolor\": \"white\", \"linecolor\": \"white\", \"ticks\": \"\", \"zerolinecolor\": \"white\", \"zerolinewidth\": 2}, \"yaxis\": {\"automargin\": true, \"gridcolor\": \"white\", \"linecolor\": \"white\", \"ticks\": \"\", \"zerolinecolor\": \"white\", \"zerolinewidth\": 2}}}, \"title\": {\"font\": {\"color\": \"#4D5663\"}}, \"xaxis\": {\"gridcolor\": \"#E1E5ED\", \"showgrid\": true, \"tickfont\": {\"color\": \"#4D5663\"}, \"title\": {\"font\": {\"color\": \"#4D5663\"}, \"text\": \"\"}, \"zerolinecolor\": \"#E1E5ED\"}, \"yaxis\": {\"gridcolor\": \"#E1E5ED\", \"showgrid\": true, \"tickfont\": {\"color\": \"#4D5663\"}, \"title\": {\"font\": {\"color\": \"#4D5663\"}, \"text\": \"\"}, \"zerolinecolor\": \"#E1E5ED\"}},\n",
       "                        {\"showLink\": true, \"linkText\": \"Export to plot.ly\", \"plotlyServerURL\": \"https://plot.ly\", \"responsive\": true}\n",
       "                    ).then(function(){\n",
       "                            \n",
       "var gd = document.getElementById('a7588788-31aa-4535-a002-c3fd5ee37bb7');\n",
       "var x = new MutationObserver(function (mutations, observer) {{\n",
       "        var display = window.getComputedStyle(gd).display;\n",
       "        if (!display || display === 'none') {{\n",
       "            console.log([gd, 'removed!']);\n",
       "            Plotly.purge(gd);\n",
       "            observer.disconnect();\n",
       "        }}\n",
       "}});\n",
       "\n",
       "// Listen for the removal of the full notebook cells\n",
       "var notebookContainer = gd.closest('#notebook-container');\n",
       "if (notebookContainer) {{\n",
       "    x.observe(notebookContainer, {childList: true});\n",
       "}}\n",
       "\n",
       "// Listen for the clearing of the current output cell\n",
       "var outputEl = gd.closest('.output');\n",
       "if (outputEl) {{\n",
       "    x.observe(outputEl, {childList: true});\n",
       "}}\n",
       "\n",
       "                        })\n",
       "                };\n",
       "                });\n",
       "            </script>\n",
       "        </div>"
      ]
     },
     "metadata": {},
     "output_type": "display_data"
    }
   ],
   "source": [
    "df.iplot(kind = 'bubble', x = 'A', y = 'B', size = 'C')"
   ]
  },
  {
   "cell_type": "markdown",
   "metadata": {},
   "source": [
    "## Scatter Matrix"
   ]
  },
  {
   "cell_type": "code",
   "execution_count": 21,
   "metadata": {},
   "outputs": [
    {
     "data": {
      "application/vnd.plotly.v1+json": {
       "config": {
        "linkText": "Export to plot.ly",
        "plotlyServerURL": "https://plot.ly",
        "showLink": true
       },
       "data": [
        {
         "histfunc": "count",
         "histnorm": "",
         "marker": {
          "color": "rgba(255, 153, 51, 1.0)",
          "line": {
           "color": "#4D5663",
           "width": 1.3
          }
         },
         "name": "A",
         "nbinsx": 10,
         "opacity": 0.8,
         "orientation": "v",
         "type": "histogram",
         "x": [
          1.0449692502051247,
          1.4014865892350301,
          0.2777510317952268,
          -1.0406765670657876,
          0.006359873179908175,
          0.12397386661141808,
          1.4994280432956189,
          -1.9346238092149068,
          0.35775705631885724,
          -0.34733273139125354,
          -1.3373498970995634,
          0.5091515021663505,
          1.6830219082728322,
          0.10537667311719211,
          -2.5140060263209567,
          -0.7889335872294903,
          -0.0793938247201161,
          1.0581598354422561,
          -0.30745406708624323,
          -0.9734821005483372,
          -0.7606620447650821,
          0.021183267166173587,
          -1.7574711218864698,
          -0.9512855259494061,
          0.276338353437027,
          1.0802903181292332,
          0.08603908044689187,
          0.1758005729081879,
          -0.9834799312375738,
          1.2317154884736348,
          -0.38431628365933634,
          -1.3881384191043795,
          -0.9125394169049456,
          -0.06794122752929284,
          -1.0022938850420355,
          -0.5095861337124544,
          -0.2145016229316288,
          -0.1943220846212686,
          -0.06818560747550947,
          -0.11897249361823674,
          -0.6495429422228579,
          0.06269089056141017,
          0.7860879064361281,
          -0.02466660086278837,
          -1.0398428437836782,
          1.961276736519445,
          -0.75184757764632,
          -1.0454232300948676,
          0.08359602149063225,
          -0.044816813695500904,
          -1.857736593010825,
          -0.32146990193714037,
          1.2739521892455514,
          -0.0681200681829437,
          0.05565804637859506,
          -0.9692222211336554,
          0.38286724571536196,
          -0.2831006200212324,
          2.763018694518891,
          -0.2431284914703938,
          0.6895516333352446,
          -0.9594802988637272,
          -0.36534172808055654,
          0.6370985113662331,
          -0.8755116726783624,
          -0.3281051711722991,
          -0.25980975372081383,
          -0.02807393604023754,
          1.773774961703449,
          0.22301815139047637,
          0.32490702837345103,
          0.5769192199507911,
          -0.3559427830466943,
          -0.30962702682606874,
          0.6877374686393355,
          0.4729623462551443,
          -1.3761942534956288,
          -0.36096947072820446,
          0.5562044076399122,
          1.2584082074658807,
          0.45376062650949156,
          1.2140873967387038,
          0.5732739119550228,
          2.3621996474302356,
          0.30980883930255376,
          -1.3104375373247683,
          -0.3006239722533239,
          0.4473291641086172,
          0.45413611270862947,
          1.0204039525647968,
          -1.0879414724793888,
          0.28759734847120055,
          0.10519796793009067,
          -0.5789700813247838,
          0.10266167172467248,
          0.0396210104831097,
          -0.3224039898722025,
          0.4844161425061551,
          0.8549570449938488,
          -0.5909057407999417
         ],
         "xaxis": "x",
         "yaxis": "y"
        },
        {
         "line": {
          "color": "rgba(128, 128, 128, 1.0)",
          "dash": "solid",
          "shape": "linear",
          "width": 1.3
         },
         "marker": {
          "size": 2,
          "symbol": "circle"
         },
         "mode": "markers",
         "name": "A",
         "text": "",
         "type": "scatter",
         "x": [
          -0.6122871493742158,
          1.1081871772883127,
          0.07237326664240411,
          1.406695566419615,
          2.677619031027863,
          1.112007896315254,
          -0.042717243892368036,
          0.7591151319917263,
          1.0556520331963073,
          1.2870160271112958,
          1.0403960791303974,
          0.3389096166665409,
          -0.8704406299249163,
          -0.05277500029748561,
          -0.36939451035933046,
          0.021989699598618934,
          1.1444382793684356,
          -0.8927764162249062,
          -0.1628051853947566,
          -0.5432752677219072,
          -1.240592684049764,
          -1.7721162352992212,
          1.9328913219273787,
          2.5947345249856943,
          0.039314714721758216,
          -0.3116962358433378,
          -0.2601966610359773,
          -0.5615995471631422,
          2.8799163670262224,
          0.15733010475255726,
          -0.10534874143218677,
          1.9020147526179778,
          -1.8874958202687249,
          0.2701239367297032,
          -0.4623567400425783,
          -0.9465296338310447,
          -1.306966472110278,
          0.0460281332075379,
          -0.42391723840307133,
          0.32106132358339107,
          -1.357774815758448,
          -0.1983057429079247,
          0.5394666356832476,
          0.27345282349426914,
          1.7115369034552415,
          1.3539777900604741,
          0.41853317042274557,
          0.42272832867468335,
          1.7478578513191985,
          0.2103817558651291,
          -1.1263253595684382,
          -0.20054913121668919,
          -0.44667446570921543,
          0.3582952961244712,
          -0.205638127832226,
          -0.5058332125899551,
          0.046587499309992404,
          -1.1411642331240202,
          2.3549815303843684,
          -1.3147166480097907,
          -1.11288153984668,
          -2.0500677731421284,
          0.21388936815754106,
          0.809410971577199,
          1.8446996235700726,
          -0.3183719938850659,
          -0.38613673683138866,
          -0.5626146532545004,
          0.33272738668322926,
          -0.7360737680381293,
          -0.07820086788220298,
          -0.9239854599721813,
          -0.3422751447747376,
          -0.27439983203656493,
          0.8789170986350728,
          -0.7653109466860576,
          -1.0293486730547823,
          -1.7521978262212234,
          0.22988231823569452,
          0.3452925830352003,
          0.6636820763451339,
          -0.4905628916181519,
          -0.9596968706279292,
          -1.0899108329787122,
          0.21527711643708103,
          0.38782001222417123,
          -2.3328215385791,
          0.2751742167113534,
          1.1775728381813217,
          0.6919533953962174,
          -0.3615718797962593,
          -0.7504278081657234,
          0.3403032080793858,
          -0.839800460389345,
          -0.06837495898684512,
          0.877458070792261,
          0.6542370835529798,
          -0.3644351488624026,
          0.250900416278955,
          -0.5321225014239536
         ],
         "xaxis": "x2",
         "y": [
          1.0449692502051247,
          1.4014865892350301,
          0.2777510317952268,
          -1.0406765670657876,
          0.006359873179908175,
          0.12397386661141808,
          1.4994280432956189,
          -1.9346238092149068,
          0.35775705631885724,
          -0.34733273139125354,
          -1.3373498970995634,
          0.5091515021663505,
          1.6830219082728322,
          0.10537667311719211,
          -2.5140060263209567,
          -0.7889335872294903,
          -0.0793938247201161,
          1.0581598354422561,
          -0.30745406708624323,
          -0.9734821005483372,
          -0.7606620447650821,
          0.021183267166173587,
          -1.7574711218864698,
          -0.9512855259494061,
          0.276338353437027,
          1.0802903181292332,
          0.08603908044689187,
          0.1758005729081879,
          -0.9834799312375738,
          1.2317154884736348,
          -0.38431628365933634,
          -1.3881384191043795,
          -0.9125394169049456,
          -0.06794122752929284,
          -1.0022938850420355,
          -0.5095861337124544,
          -0.2145016229316288,
          -0.1943220846212686,
          -0.06818560747550947,
          -0.11897249361823674,
          -0.6495429422228579,
          0.06269089056141017,
          0.7860879064361281,
          -0.02466660086278837,
          -1.0398428437836782,
          1.961276736519445,
          -0.75184757764632,
          -1.0454232300948676,
          0.08359602149063225,
          -0.044816813695500904,
          -1.857736593010825,
          -0.32146990193714037,
          1.2739521892455514,
          -0.0681200681829437,
          0.05565804637859506,
          -0.9692222211336554,
          0.38286724571536196,
          -0.2831006200212324,
          2.763018694518891,
          -0.2431284914703938,
          0.6895516333352446,
          -0.9594802988637272,
          -0.36534172808055654,
          0.6370985113662331,
          -0.8755116726783624,
          -0.3281051711722991,
          -0.25980975372081383,
          -0.02807393604023754,
          1.773774961703449,
          0.22301815139047637,
          0.32490702837345103,
          0.5769192199507911,
          -0.3559427830466943,
          -0.30962702682606874,
          0.6877374686393355,
          0.4729623462551443,
          -1.3761942534956288,
          -0.36096947072820446,
          0.5562044076399122,
          1.2584082074658807,
          0.45376062650949156,
          1.2140873967387038,
          0.5732739119550228,
          2.3621996474302356,
          0.30980883930255376,
          -1.3104375373247683,
          -0.3006239722533239,
          0.4473291641086172,
          0.45413611270862947,
          1.0204039525647968,
          -1.0879414724793888,
          0.28759734847120055,
          0.10519796793009067,
          -0.5789700813247838,
          0.10266167172467248,
          0.0396210104831097,
          -0.3224039898722025,
          0.4844161425061551,
          0.8549570449938488,
          -0.5909057407999417
         ],
         "yaxis": "y2"
        },
        {
         "line": {
          "color": "rgba(128, 128, 128, 1.0)",
          "dash": "solid",
          "shape": "linear",
          "width": 1.3
         },
         "marker": {
          "size": 2,
          "symbol": "circle"
         },
         "mode": "markers",
         "name": "A",
         "text": "",
         "type": "scatter",
         "x": [
          -0.5142528913325504,
          0.5060266865794251,
          -1.6199583518120624,
          1.8520587261057713,
          -0.06554062187242882,
          -2.1193259871211962,
          -0.10312402452617933,
          -0.2823173400730764,
          -0.13713805337433913,
          1.509537357938146,
          0.0699150051150181,
          0.5380126201309465,
          0.11584461685786844,
          -0.02464492557676752,
          -0.22670330406721462,
          0.521216649227666,
          -0.9283242198794059,
          0.4257681693106232,
          1.6531025440167102,
          -0.11088716206043903,
          0.34115325011588266,
          0.19120740879670203,
          -0.8868759049564396,
          -1.7665115973106773,
          0.04659283029643008,
          -0.26264009433781116,
          -0.7071677499191127,
          -1.8156573055356273,
          -0.9597661977627481,
          0.6346750081123061,
          -1.2170687733038335,
          -0.09503170353552087,
          1.2235524605060015,
          -2.483961254402522,
          -1.7769248644839108,
          -1.167942537919844,
          -1.7195038202017292,
          2.0000000659066908,
          0.735208684860714,
          -0.9902315523103511,
          -0.24048213191664183,
          1.684530587039095,
          -0.8388205164133292,
          -1.5105035457517466,
          -0.7217585881068305,
          -1.672436399800455,
          -2.173498116671171,
          -1.0121748883082924,
          -1.9379300516043922,
          -0.8103204539085346,
          0.9602618744081481,
          0.29108361202828015,
          0.6632213083854124,
          -0.6377180059935375,
          0.5950516126316518,
          0.6459072036021757,
          1.5733916420969902,
          -1.3755776322637125,
          -2.9636502997862815,
          0.5909172534700501,
          -1.6584566371411256,
          1.5220899668785541,
          0.7437572068187299,
          0.5385883569246949,
          -0.017830962906104177,
          0.2739753391236766,
          -0.4897537917204501,
          0.4337635052628477,
          0.42096938113998467,
          0.15157774948474637,
          0.8303928356370296,
          -1.4641096801019973,
          -0.9886301086830224,
          -0.5259368596049694,
          -1.5161897653064285,
          -0.2593709607188089,
          0.4846766662224007,
          -0.021870174420385715,
          2.1037454743733743,
          -0.45287066592680886,
          -1.3146233749916059,
          0.9802479499305575,
          0.955092541257332,
          -0.8880568724131004,
          -0.7377153152834167,
          -1.0184162487167085,
          1.4042890541610809,
          -0.42940422485424895,
          0.15116426244474643,
          0.9652533091065145,
          -0.8508199097895947,
          2.6216476630924896,
          -0.32293649151183895,
          -0.2391850956188257,
          0.949598408520094,
          -0.044902526507576285,
          -0.4449347958761696,
          1.004093561405033,
          0.5596332142497225,
          1.035489733390435
         ],
         "xaxis": "x3",
         "y": [
          1.0449692502051247,
          1.4014865892350301,
          0.2777510317952268,
          -1.0406765670657876,
          0.006359873179908175,
          0.12397386661141808,
          1.4994280432956189,
          -1.9346238092149068,
          0.35775705631885724,
          -0.34733273139125354,
          -1.3373498970995634,
          0.5091515021663505,
          1.6830219082728322,
          0.10537667311719211,
          -2.5140060263209567,
          -0.7889335872294903,
          -0.0793938247201161,
          1.0581598354422561,
          -0.30745406708624323,
          -0.9734821005483372,
          -0.7606620447650821,
          0.021183267166173587,
          -1.7574711218864698,
          -0.9512855259494061,
          0.276338353437027,
          1.0802903181292332,
          0.08603908044689187,
          0.1758005729081879,
          -0.9834799312375738,
          1.2317154884736348,
          -0.38431628365933634,
          -1.3881384191043795,
          -0.9125394169049456,
          -0.06794122752929284,
          -1.0022938850420355,
          -0.5095861337124544,
          -0.2145016229316288,
          -0.1943220846212686,
          -0.06818560747550947,
          -0.11897249361823674,
          -0.6495429422228579,
          0.06269089056141017,
          0.7860879064361281,
          -0.02466660086278837,
          -1.0398428437836782,
          1.961276736519445,
          -0.75184757764632,
          -1.0454232300948676,
          0.08359602149063225,
          -0.044816813695500904,
          -1.857736593010825,
          -0.32146990193714037,
          1.2739521892455514,
          -0.0681200681829437,
          0.05565804637859506,
          -0.9692222211336554,
          0.38286724571536196,
          -0.2831006200212324,
          2.763018694518891,
          -0.2431284914703938,
          0.6895516333352446,
          -0.9594802988637272,
          -0.36534172808055654,
          0.6370985113662331,
          -0.8755116726783624,
          -0.3281051711722991,
          -0.25980975372081383,
          -0.02807393604023754,
          1.773774961703449,
          0.22301815139047637,
          0.32490702837345103,
          0.5769192199507911,
          -0.3559427830466943,
          -0.30962702682606874,
          0.6877374686393355,
          0.4729623462551443,
          -1.3761942534956288,
          -0.36096947072820446,
          0.5562044076399122,
          1.2584082074658807,
          0.45376062650949156,
          1.2140873967387038,
          0.5732739119550228,
          2.3621996474302356,
          0.30980883930255376,
          -1.3104375373247683,
          -0.3006239722533239,
          0.4473291641086172,
          0.45413611270862947,
          1.0204039525647968,
          -1.0879414724793888,
          0.28759734847120055,
          0.10519796793009067,
          -0.5789700813247838,
          0.10266167172467248,
          0.0396210104831097,
          -0.3224039898722025,
          0.4844161425061551,
          0.8549570449938488,
          -0.5909057407999417
         ],
         "yaxis": "y3"
        },
        {
         "line": {
          "color": "rgba(128, 128, 128, 1.0)",
          "dash": "solid",
          "shape": "linear",
          "width": 1.3
         },
         "marker": {
          "size": 2,
          "symbol": "circle"
         },
         "mode": "markers",
         "name": "A",
         "text": "",
         "type": "scatter",
         "x": [
          0.6050867298924966,
          -0.6165866449072356,
          1.9487979965437259,
          -0.9098734933847339,
          -2.492192741530579,
          -1.155198957029045,
          -1.4929999744628006,
          -0.6040682200297907,
          1.1366377934624625,
          2.1513349584751413,
          0.3947866509168756,
          -1.1929820842826453,
          1.6634720580878073,
          1.7738426060724652,
          1.8529184726392016,
          -0.3840859492385011,
          0.6038579823541418,
          0.4131455954870885,
          0.7068497108506195,
          1.147749500892832,
          2.299835378399439,
          -1.8717147301126826,
          -0.034324380922480635,
          0.35695342673173813,
          -0.8910845826111833,
          -0.8890807680339394,
          -0.24555389023033755,
          1.3487161260272114,
          2.461602113678832,
          -0.4219196891101721,
          1.7757603921594751,
          -0.8626667040522148,
          0.9644720228180006,
          -0.13709347296471658,
          0.9061307234417265,
          1.1182669714111269,
          -1.5151919116851684,
          1.6096394845501398,
          1.4515306958753844,
          1.0129930988439324,
          0.5254220174243576,
          -0.5902563173223,
          -1.17734244009965,
          -0.14499224358899587,
          0.5338044465845787,
          1.3902763025357754,
          -0.6241152889181363,
          -0.3038129866665245,
          1.4541004147160546,
          0.8350250449168365,
          0.6964153508844321,
          0.012566751083774863,
          -0.47338180272236235,
          1.210613945217184,
          -1.0854061797739847,
          -1.697645227564379,
          1.0491560820021897,
          -0.29289990375255287,
          0.5307495504562542,
          -0.23667795131555489,
          1.2434324239684833,
          -1.0955154658686839,
          -0.14252294279495933,
          0.3537686407349682,
          -0.9139176186616194,
          2.0992388874678136,
          0.2167135194987622,
          -0.9942562488323905,
          0.400285751143757,
          -1.114634278308162,
          0.40071764923934294,
          0.4505972499639887,
          -0.3474045765052524,
          -1.2267801096715627,
          0.11872707312681956,
          -0.9861172624062554,
          1.1492273572779284,
          1.1799550068207683,
          -2.30264447691568,
          -1.3466731136426056,
          0.5911496226492886,
          1.1129518683146158,
          -0.645887328395313,
          0.5774811909153283,
          -0.5390165554972535,
          -1.3728921095139972,
          -0.07932798925006247,
          -0.15377014478816045,
          0.06026333694448666,
          0.31048323905397635,
          -0.07043280832010015,
          -1.7914880877152701,
          -0.9447671861317545,
          -0.420201609792276,
          0.6595591715995851,
          -0.6347356068008602,
          -0.6959153846895623,
          1.6557390912262673,
          1.4502044430567527,
          -0.46731655681490564
         ],
         "xaxis": "x4",
         "y": [
          1.0449692502051247,
          1.4014865892350301,
          0.2777510317952268,
          -1.0406765670657876,
          0.006359873179908175,
          0.12397386661141808,
          1.4994280432956189,
          -1.9346238092149068,
          0.35775705631885724,
          -0.34733273139125354,
          -1.3373498970995634,
          0.5091515021663505,
          1.6830219082728322,
          0.10537667311719211,
          -2.5140060263209567,
          -0.7889335872294903,
          -0.0793938247201161,
          1.0581598354422561,
          -0.30745406708624323,
          -0.9734821005483372,
          -0.7606620447650821,
          0.021183267166173587,
          -1.7574711218864698,
          -0.9512855259494061,
          0.276338353437027,
          1.0802903181292332,
          0.08603908044689187,
          0.1758005729081879,
          -0.9834799312375738,
          1.2317154884736348,
          -0.38431628365933634,
          -1.3881384191043795,
          -0.9125394169049456,
          -0.06794122752929284,
          -1.0022938850420355,
          -0.5095861337124544,
          -0.2145016229316288,
          -0.1943220846212686,
          -0.06818560747550947,
          -0.11897249361823674,
          -0.6495429422228579,
          0.06269089056141017,
          0.7860879064361281,
          -0.02466660086278837,
          -1.0398428437836782,
          1.961276736519445,
          -0.75184757764632,
          -1.0454232300948676,
          0.08359602149063225,
          -0.044816813695500904,
          -1.857736593010825,
          -0.32146990193714037,
          1.2739521892455514,
          -0.0681200681829437,
          0.05565804637859506,
          -0.9692222211336554,
          0.38286724571536196,
          -0.2831006200212324,
          2.763018694518891,
          -0.2431284914703938,
          0.6895516333352446,
          -0.9594802988637272,
          -0.36534172808055654,
          0.6370985113662331,
          -0.8755116726783624,
          -0.3281051711722991,
          -0.25980975372081383,
          -0.02807393604023754,
          1.773774961703449,
          0.22301815139047637,
          0.32490702837345103,
          0.5769192199507911,
          -0.3559427830466943,
          -0.30962702682606874,
          0.6877374686393355,
          0.4729623462551443,
          -1.3761942534956288,
          -0.36096947072820446,
          0.5562044076399122,
          1.2584082074658807,
          0.45376062650949156,
          1.2140873967387038,
          0.5732739119550228,
          2.3621996474302356,
          0.30980883930255376,
          -1.3104375373247683,
          -0.3006239722533239,
          0.4473291641086172,
          0.45413611270862947,
          1.0204039525647968,
          -1.0879414724793888,
          0.28759734847120055,
          0.10519796793009067,
          -0.5789700813247838,
          0.10266167172467248,
          0.0396210104831097,
          -0.3224039898722025,
          0.4844161425061551,
          0.8549570449938488,
          -0.5909057407999417
         ],
         "yaxis": "y4"
        },
        {
         "line": {
          "color": "rgba(128, 128, 128, 1.0)",
          "dash": "solid",
          "shape": "linear",
          "width": 1.3
         },
         "marker": {
          "size": 2,
          "symbol": "circle"
         },
         "mode": "markers",
         "name": "B",
         "text": "",
         "type": "scatter",
         "x": [
          1.0449692502051247,
          1.4014865892350301,
          0.2777510317952268,
          -1.0406765670657876,
          0.006359873179908175,
          0.12397386661141808,
          1.4994280432956189,
          -1.9346238092149068,
          0.35775705631885724,
          -0.34733273139125354,
          -1.3373498970995634,
          0.5091515021663505,
          1.6830219082728322,
          0.10537667311719211,
          -2.5140060263209567,
          -0.7889335872294903,
          -0.0793938247201161,
          1.0581598354422561,
          -0.30745406708624323,
          -0.9734821005483372,
          -0.7606620447650821,
          0.021183267166173587,
          -1.7574711218864698,
          -0.9512855259494061,
          0.276338353437027,
          1.0802903181292332,
          0.08603908044689187,
          0.1758005729081879,
          -0.9834799312375738,
          1.2317154884736348,
          -0.38431628365933634,
          -1.3881384191043795,
          -0.9125394169049456,
          -0.06794122752929284,
          -1.0022938850420355,
          -0.5095861337124544,
          -0.2145016229316288,
          -0.1943220846212686,
          -0.06818560747550947,
          -0.11897249361823674,
          -0.6495429422228579,
          0.06269089056141017,
          0.7860879064361281,
          -0.02466660086278837,
          -1.0398428437836782,
          1.961276736519445,
          -0.75184757764632,
          -1.0454232300948676,
          0.08359602149063225,
          -0.044816813695500904,
          -1.857736593010825,
          -0.32146990193714037,
          1.2739521892455514,
          -0.0681200681829437,
          0.05565804637859506,
          -0.9692222211336554,
          0.38286724571536196,
          -0.2831006200212324,
          2.763018694518891,
          -0.2431284914703938,
          0.6895516333352446,
          -0.9594802988637272,
          -0.36534172808055654,
          0.6370985113662331,
          -0.8755116726783624,
          -0.3281051711722991,
          -0.25980975372081383,
          -0.02807393604023754,
          1.773774961703449,
          0.22301815139047637,
          0.32490702837345103,
          0.5769192199507911,
          -0.3559427830466943,
          -0.30962702682606874,
          0.6877374686393355,
          0.4729623462551443,
          -1.3761942534956288,
          -0.36096947072820446,
          0.5562044076399122,
          1.2584082074658807,
          0.45376062650949156,
          1.2140873967387038,
          0.5732739119550228,
          2.3621996474302356,
          0.30980883930255376,
          -1.3104375373247683,
          -0.3006239722533239,
          0.4473291641086172,
          0.45413611270862947,
          1.0204039525647968,
          -1.0879414724793888,
          0.28759734847120055,
          0.10519796793009067,
          -0.5789700813247838,
          0.10266167172467248,
          0.0396210104831097,
          -0.3224039898722025,
          0.4844161425061551,
          0.8549570449938488,
          -0.5909057407999417
         ],
         "xaxis": "x5",
         "y": [
          -0.6122871493742158,
          1.1081871772883127,
          0.07237326664240411,
          1.406695566419615,
          2.677619031027863,
          1.112007896315254,
          -0.042717243892368036,
          0.7591151319917263,
          1.0556520331963073,
          1.2870160271112958,
          1.0403960791303974,
          0.3389096166665409,
          -0.8704406299249163,
          -0.05277500029748561,
          -0.36939451035933046,
          0.021989699598618934,
          1.1444382793684356,
          -0.8927764162249062,
          -0.1628051853947566,
          -0.5432752677219072,
          -1.240592684049764,
          -1.7721162352992212,
          1.9328913219273787,
          2.5947345249856943,
          0.039314714721758216,
          -0.3116962358433378,
          -0.2601966610359773,
          -0.5615995471631422,
          2.8799163670262224,
          0.15733010475255726,
          -0.10534874143218677,
          1.9020147526179778,
          -1.8874958202687249,
          0.2701239367297032,
          -0.4623567400425783,
          -0.9465296338310447,
          -1.306966472110278,
          0.0460281332075379,
          -0.42391723840307133,
          0.32106132358339107,
          -1.357774815758448,
          -0.1983057429079247,
          0.5394666356832476,
          0.27345282349426914,
          1.7115369034552415,
          1.3539777900604741,
          0.41853317042274557,
          0.42272832867468335,
          1.7478578513191985,
          0.2103817558651291,
          -1.1263253595684382,
          -0.20054913121668919,
          -0.44667446570921543,
          0.3582952961244712,
          -0.205638127832226,
          -0.5058332125899551,
          0.046587499309992404,
          -1.1411642331240202,
          2.3549815303843684,
          -1.3147166480097907,
          -1.11288153984668,
          -2.0500677731421284,
          0.21388936815754106,
          0.809410971577199,
          1.8446996235700726,
          -0.3183719938850659,
          -0.38613673683138866,
          -0.5626146532545004,
          0.33272738668322926,
          -0.7360737680381293,
          -0.07820086788220298,
          -0.9239854599721813,
          -0.3422751447747376,
          -0.27439983203656493,
          0.8789170986350728,
          -0.7653109466860576,
          -1.0293486730547823,
          -1.7521978262212234,
          0.22988231823569452,
          0.3452925830352003,
          0.6636820763451339,
          -0.4905628916181519,
          -0.9596968706279292,
          -1.0899108329787122,
          0.21527711643708103,
          0.38782001222417123,
          -2.3328215385791,
          0.2751742167113534,
          1.1775728381813217,
          0.6919533953962174,
          -0.3615718797962593,
          -0.7504278081657234,
          0.3403032080793858,
          -0.839800460389345,
          -0.06837495898684512,
          0.877458070792261,
          0.6542370835529798,
          -0.3644351488624026,
          0.250900416278955,
          -0.5321225014239536
         ],
         "yaxis": "y5"
        },
        {
         "histfunc": "count",
         "histnorm": "",
         "marker": {
          "color": "rgba(55, 128, 191, 1.0)",
          "line": {
           "color": "#4D5663",
           "width": 1.3
          }
         },
         "name": "B",
         "nbinsx": 10,
         "opacity": 0.8,
         "orientation": "v",
         "type": "histogram",
         "x": [
          -0.6122871493742158,
          1.1081871772883127,
          0.07237326664240411,
          1.406695566419615,
          2.677619031027863,
          1.112007896315254,
          -0.042717243892368036,
          0.7591151319917263,
          1.0556520331963073,
          1.2870160271112958,
          1.0403960791303974,
          0.3389096166665409,
          -0.8704406299249163,
          -0.05277500029748561,
          -0.36939451035933046,
          0.021989699598618934,
          1.1444382793684356,
          -0.8927764162249062,
          -0.1628051853947566,
          -0.5432752677219072,
          -1.240592684049764,
          -1.7721162352992212,
          1.9328913219273787,
          2.5947345249856943,
          0.039314714721758216,
          -0.3116962358433378,
          -0.2601966610359773,
          -0.5615995471631422,
          2.8799163670262224,
          0.15733010475255726,
          -0.10534874143218677,
          1.9020147526179778,
          -1.8874958202687249,
          0.2701239367297032,
          -0.4623567400425783,
          -0.9465296338310447,
          -1.306966472110278,
          0.0460281332075379,
          -0.42391723840307133,
          0.32106132358339107,
          -1.357774815758448,
          -0.1983057429079247,
          0.5394666356832476,
          0.27345282349426914,
          1.7115369034552415,
          1.3539777900604741,
          0.41853317042274557,
          0.42272832867468335,
          1.7478578513191985,
          0.2103817558651291,
          -1.1263253595684382,
          -0.20054913121668919,
          -0.44667446570921543,
          0.3582952961244712,
          -0.205638127832226,
          -0.5058332125899551,
          0.046587499309992404,
          -1.1411642331240202,
          2.3549815303843684,
          -1.3147166480097907,
          -1.11288153984668,
          -2.0500677731421284,
          0.21388936815754106,
          0.809410971577199,
          1.8446996235700726,
          -0.3183719938850659,
          -0.38613673683138866,
          -0.5626146532545004,
          0.33272738668322926,
          -0.7360737680381293,
          -0.07820086788220298,
          -0.9239854599721813,
          -0.3422751447747376,
          -0.27439983203656493,
          0.8789170986350728,
          -0.7653109466860576,
          -1.0293486730547823,
          -1.7521978262212234,
          0.22988231823569452,
          0.3452925830352003,
          0.6636820763451339,
          -0.4905628916181519,
          -0.9596968706279292,
          -1.0899108329787122,
          0.21527711643708103,
          0.38782001222417123,
          -2.3328215385791,
          0.2751742167113534,
          1.1775728381813217,
          0.6919533953962174,
          -0.3615718797962593,
          -0.7504278081657234,
          0.3403032080793858,
          -0.839800460389345,
          -0.06837495898684512,
          0.877458070792261,
          0.6542370835529798,
          -0.3644351488624026,
          0.250900416278955,
          -0.5321225014239536
         ],
         "xaxis": "x6",
         "yaxis": "y6"
        },
        {
         "line": {
          "color": "rgba(128, 128, 128, 1.0)",
          "dash": "solid",
          "shape": "linear",
          "width": 1.3
         },
         "marker": {
          "size": 2,
          "symbol": "circle"
         },
         "mode": "markers",
         "name": "B",
         "text": "",
         "type": "scatter",
         "x": [
          -0.5142528913325504,
          0.5060266865794251,
          -1.6199583518120624,
          1.8520587261057713,
          -0.06554062187242882,
          -2.1193259871211962,
          -0.10312402452617933,
          -0.2823173400730764,
          -0.13713805337433913,
          1.509537357938146,
          0.0699150051150181,
          0.5380126201309465,
          0.11584461685786844,
          -0.02464492557676752,
          -0.22670330406721462,
          0.521216649227666,
          -0.9283242198794059,
          0.4257681693106232,
          1.6531025440167102,
          -0.11088716206043903,
          0.34115325011588266,
          0.19120740879670203,
          -0.8868759049564396,
          -1.7665115973106773,
          0.04659283029643008,
          -0.26264009433781116,
          -0.7071677499191127,
          -1.8156573055356273,
          -0.9597661977627481,
          0.6346750081123061,
          -1.2170687733038335,
          -0.09503170353552087,
          1.2235524605060015,
          -2.483961254402522,
          -1.7769248644839108,
          -1.167942537919844,
          -1.7195038202017292,
          2.0000000659066908,
          0.735208684860714,
          -0.9902315523103511,
          -0.24048213191664183,
          1.684530587039095,
          -0.8388205164133292,
          -1.5105035457517466,
          -0.7217585881068305,
          -1.672436399800455,
          -2.173498116671171,
          -1.0121748883082924,
          -1.9379300516043922,
          -0.8103204539085346,
          0.9602618744081481,
          0.29108361202828015,
          0.6632213083854124,
          -0.6377180059935375,
          0.5950516126316518,
          0.6459072036021757,
          1.5733916420969902,
          -1.3755776322637125,
          -2.9636502997862815,
          0.5909172534700501,
          -1.6584566371411256,
          1.5220899668785541,
          0.7437572068187299,
          0.5385883569246949,
          -0.017830962906104177,
          0.2739753391236766,
          -0.4897537917204501,
          0.4337635052628477,
          0.42096938113998467,
          0.15157774948474637,
          0.8303928356370296,
          -1.4641096801019973,
          -0.9886301086830224,
          -0.5259368596049694,
          -1.5161897653064285,
          -0.2593709607188089,
          0.4846766662224007,
          -0.021870174420385715,
          2.1037454743733743,
          -0.45287066592680886,
          -1.3146233749916059,
          0.9802479499305575,
          0.955092541257332,
          -0.8880568724131004,
          -0.7377153152834167,
          -1.0184162487167085,
          1.4042890541610809,
          -0.42940422485424895,
          0.15116426244474643,
          0.9652533091065145,
          -0.8508199097895947,
          2.6216476630924896,
          -0.32293649151183895,
          -0.2391850956188257,
          0.949598408520094,
          -0.044902526507576285,
          -0.4449347958761696,
          1.004093561405033,
          0.5596332142497225,
          1.035489733390435
         ],
         "xaxis": "x7",
         "y": [
          -0.6122871493742158,
          1.1081871772883127,
          0.07237326664240411,
          1.406695566419615,
          2.677619031027863,
          1.112007896315254,
          -0.042717243892368036,
          0.7591151319917263,
          1.0556520331963073,
          1.2870160271112958,
          1.0403960791303974,
          0.3389096166665409,
          -0.8704406299249163,
          -0.05277500029748561,
          -0.36939451035933046,
          0.021989699598618934,
          1.1444382793684356,
          -0.8927764162249062,
          -0.1628051853947566,
          -0.5432752677219072,
          -1.240592684049764,
          -1.7721162352992212,
          1.9328913219273787,
          2.5947345249856943,
          0.039314714721758216,
          -0.3116962358433378,
          -0.2601966610359773,
          -0.5615995471631422,
          2.8799163670262224,
          0.15733010475255726,
          -0.10534874143218677,
          1.9020147526179778,
          -1.8874958202687249,
          0.2701239367297032,
          -0.4623567400425783,
          -0.9465296338310447,
          -1.306966472110278,
          0.0460281332075379,
          -0.42391723840307133,
          0.32106132358339107,
          -1.357774815758448,
          -0.1983057429079247,
          0.5394666356832476,
          0.27345282349426914,
          1.7115369034552415,
          1.3539777900604741,
          0.41853317042274557,
          0.42272832867468335,
          1.7478578513191985,
          0.2103817558651291,
          -1.1263253595684382,
          -0.20054913121668919,
          -0.44667446570921543,
          0.3582952961244712,
          -0.205638127832226,
          -0.5058332125899551,
          0.046587499309992404,
          -1.1411642331240202,
          2.3549815303843684,
          -1.3147166480097907,
          -1.11288153984668,
          -2.0500677731421284,
          0.21388936815754106,
          0.809410971577199,
          1.8446996235700726,
          -0.3183719938850659,
          -0.38613673683138866,
          -0.5626146532545004,
          0.33272738668322926,
          -0.7360737680381293,
          -0.07820086788220298,
          -0.9239854599721813,
          -0.3422751447747376,
          -0.27439983203656493,
          0.8789170986350728,
          -0.7653109466860576,
          -1.0293486730547823,
          -1.7521978262212234,
          0.22988231823569452,
          0.3452925830352003,
          0.6636820763451339,
          -0.4905628916181519,
          -0.9596968706279292,
          -1.0899108329787122,
          0.21527711643708103,
          0.38782001222417123,
          -2.3328215385791,
          0.2751742167113534,
          1.1775728381813217,
          0.6919533953962174,
          -0.3615718797962593,
          -0.7504278081657234,
          0.3403032080793858,
          -0.839800460389345,
          -0.06837495898684512,
          0.877458070792261,
          0.6542370835529798,
          -0.3644351488624026,
          0.250900416278955,
          -0.5321225014239536
         ],
         "yaxis": "y7"
        },
        {
         "line": {
          "color": "rgba(128, 128, 128, 1.0)",
          "dash": "solid",
          "shape": "linear",
          "width": 1.3
         },
         "marker": {
          "size": 2,
          "symbol": "circle"
         },
         "mode": "markers",
         "name": "B",
         "text": "",
         "type": "scatter",
         "x": [
          0.6050867298924966,
          -0.6165866449072356,
          1.9487979965437259,
          -0.9098734933847339,
          -2.492192741530579,
          -1.155198957029045,
          -1.4929999744628006,
          -0.6040682200297907,
          1.1366377934624625,
          2.1513349584751413,
          0.3947866509168756,
          -1.1929820842826453,
          1.6634720580878073,
          1.7738426060724652,
          1.8529184726392016,
          -0.3840859492385011,
          0.6038579823541418,
          0.4131455954870885,
          0.7068497108506195,
          1.147749500892832,
          2.299835378399439,
          -1.8717147301126826,
          -0.034324380922480635,
          0.35695342673173813,
          -0.8910845826111833,
          -0.8890807680339394,
          -0.24555389023033755,
          1.3487161260272114,
          2.461602113678832,
          -0.4219196891101721,
          1.7757603921594751,
          -0.8626667040522148,
          0.9644720228180006,
          -0.13709347296471658,
          0.9061307234417265,
          1.1182669714111269,
          -1.5151919116851684,
          1.6096394845501398,
          1.4515306958753844,
          1.0129930988439324,
          0.5254220174243576,
          -0.5902563173223,
          -1.17734244009965,
          -0.14499224358899587,
          0.5338044465845787,
          1.3902763025357754,
          -0.6241152889181363,
          -0.3038129866665245,
          1.4541004147160546,
          0.8350250449168365,
          0.6964153508844321,
          0.012566751083774863,
          -0.47338180272236235,
          1.210613945217184,
          -1.0854061797739847,
          -1.697645227564379,
          1.0491560820021897,
          -0.29289990375255287,
          0.5307495504562542,
          -0.23667795131555489,
          1.2434324239684833,
          -1.0955154658686839,
          -0.14252294279495933,
          0.3537686407349682,
          -0.9139176186616194,
          2.0992388874678136,
          0.2167135194987622,
          -0.9942562488323905,
          0.400285751143757,
          -1.114634278308162,
          0.40071764923934294,
          0.4505972499639887,
          -0.3474045765052524,
          -1.2267801096715627,
          0.11872707312681956,
          -0.9861172624062554,
          1.1492273572779284,
          1.1799550068207683,
          -2.30264447691568,
          -1.3466731136426056,
          0.5911496226492886,
          1.1129518683146158,
          -0.645887328395313,
          0.5774811909153283,
          -0.5390165554972535,
          -1.3728921095139972,
          -0.07932798925006247,
          -0.15377014478816045,
          0.06026333694448666,
          0.31048323905397635,
          -0.07043280832010015,
          -1.7914880877152701,
          -0.9447671861317545,
          -0.420201609792276,
          0.6595591715995851,
          -0.6347356068008602,
          -0.6959153846895623,
          1.6557390912262673,
          1.4502044430567527,
          -0.46731655681490564
         ],
         "xaxis": "x8",
         "y": [
          -0.6122871493742158,
          1.1081871772883127,
          0.07237326664240411,
          1.406695566419615,
          2.677619031027863,
          1.112007896315254,
          -0.042717243892368036,
          0.7591151319917263,
          1.0556520331963073,
          1.2870160271112958,
          1.0403960791303974,
          0.3389096166665409,
          -0.8704406299249163,
          -0.05277500029748561,
          -0.36939451035933046,
          0.021989699598618934,
          1.1444382793684356,
          -0.8927764162249062,
          -0.1628051853947566,
          -0.5432752677219072,
          -1.240592684049764,
          -1.7721162352992212,
          1.9328913219273787,
          2.5947345249856943,
          0.039314714721758216,
          -0.3116962358433378,
          -0.2601966610359773,
          -0.5615995471631422,
          2.8799163670262224,
          0.15733010475255726,
          -0.10534874143218677,
          1.9020147526179778,
          -1.8874958202687249,
          0.2701239367297032,
          -0.4623567400425783,
          -0.9465296338310447,
          -1.306966472110278,
          0.0460281332075379,
          -0.42391723840307133,
          0.32106132358339107,
          -1.357774815758448,
          -0.1983057429079247,
          0.5394666356832476,
          0.27345282349426914,
          1.7115369034552415,
          1.3539777900604741,
          0.41853317042274557,
          0.42272832867468335,
          1.7478578513191985,
          0.2103817558651291,
          -1.1263253595684382,
          -0.20054913121668919,
          -0.44667446570921543,
          0.3582952961244712,
          -0.205638127832226,
          -0.5058332125899551,
          0.046587499309992404,
          -1.1411642331240202,
          2.3549815303843684,
          -1.3147166480097907,
          -1.11288153984668,
          -2.0500677731421284,
          0.21388936815754106,
          0.809410971577199,
          1.8446996235700726,
          -0.3183719938850659,
          -0.38613673683138866,
          -0.5626146532545004,
          0.33272738668322926,
          -0.7360737680381293,
          -0.07820086788220298,
          -0.9239854599721813,
          -0.3422751447747376,
          -0.27439983203656493,
          0.8789170986350728,
          -0.7653109466860576,
          -1.0293486730547823,
          -1.7521978262212234,
          0.22988231823569452,
          0.3452925830352003,
          0.6636820763451339,
          -0.4905628916181519,
          -0.9596968706279292,
          -1.0899108329787122,
          0.21527711643708103,
          0.38782001222417123,
          -2.3328215385791,
          0.2751742167113534,
          1.1775728381813217,
          0.6919533953962174,
          -0.3615718797962593,
          -0.7504278081657234,
          0.3403032080793858,
          -0.839800460389345,
          -0.06837495898684512,
          0.877458070792261,
          0.6542370835529798,
          -0.3644351488624026,
          0.250900416278955,
          -0.5321225014239536
         ],
         "yaxis": "y8"
        },
        {
         "line": {
          "color": "rgba(128, 128, 128, 1.0)",
          "dash": "solid",
          "shape": "linear",
          "width": 1.3
         },
         "marker": {
          "size": 2,
          "symbol": "circle"
         },
         "mode": "markers",
         "name": "C",
         "text": "",
         "type": "scatter",
         "x": [
          1.0449692502051247,
          1.4014865892350301,
          0.2777510317952268,
          -1.0406765670657876,
          0.006359873179908175,
          0.12397386661141808,
          1.4994280432956189,
          -1.9346238092149068,
          0.35775705631885724,
          -0.34733273139125354,
          -1.3373498970995634,
          0.5091515021663505,
          1.6830219082728322,
          0.10537667311719211,
          -2.5140060263209567,
          -0.7889335872294903,
          -0.0793938247201161,
          1.0581598354422561,
          -0.30745406708624323,
          -0.9734821005483372,
          -0.7606620447650821,
          0.021183267166173587,
          -1.7574711218864698,
          -0.9512855259494061,
          0.276338353437027,
          1.0802903181292332,
          0.08603908044689187,
          0.1758005729081879,
          -0.9834799312375738,
          1.2317154884736348,
          -0.38431628365933634,
          -1.3881384191043795,
          -0.9125394169049456,
          -0.06794122752929284,
          -1.0022938850420355,
          -0.5095861337124544,
          -0.2145016229316288,
          -0.1943220846212686,
          -0.06818560747550947,
          -0.11897249361823674,
          -0.6495429422228579,
          0.06269089056141017,
          0.7860879064361281,
          -0.02466660086278837,
          -1.0398428437836782,
          1.961276736519445,
          -0.75184757764632,
          -1.0454232300948676,
          0.08359602149063225,
          -0.044816813695500904,
          -1.857736593010825,
          -0.32146990193714037,
          1.2739521892455514,
          -0.0681200681829437,
          0.05565804637859506,
          -0.9692222211336554,
          0.38286724571536196,
          -0.2831006200212324,
          2.763018694518891,
          -0.2431284914703938,
          0.6895516333352446,
          -0.9594802988637272,
          -0.36534172808055654,
          0.6370985113662331,
          -0.8755116726783624,
          -0.3281051711722991,
          -0.25980975372081383,
          -0.02807393604023754,
          1.773774961703449,
          0.22301815139047637,
          0.32490702837345103,
          0.5769192199507911,
          -0.3559427830466943,
          -0.30962702682606874,
          0.6877374686393355,
          0.4729623462551443,
          -1.3761942534956288,
          -0.36096947072820446,
          0.5562044076399122,
          1.2584082074658807,
          0.45376062650949156,
          1.2140873967387038,
          0.5732739119550228,
          2.3621996474302356,
          0.30980883930255376,
          -1.3104375373247683,
          -0.3006239722533239,
          0.4473291641086172,
          0.45413611270862947,
          1.0204039525647968,
          -1.0879414724793888,
          0.28759734847120055,
          0.10519796793009067,
          -0.5789700813247838,
          0.10266167172467248,
          0.0396210104831097,
          -0.3224039898722025,
          0.4844161425061551,
          0.8549570449938488,
          -0.5909057407999417
         ],
         "xaxis": "x9",
         "y": [
          -0.5142528913325504,
          0.5060266865794251,
          -1.6199583518120624,
          1.8520587261057713,
          -0.06554062187242882,
          -2.1193259871211962,
          -0.10312402452617933,
          -0.2823173400730764,
          -0.13713805337433913,
          1.509537357938146,
          0.0699150051150181,
          0.5380126201309465,
          0.11584461685786844,
          -0.02464492557676752,
          -0.22670330406721462,
          0.521216649227666,
          -0.9283242198794059,
          0.4257681693106232,
          1.6531025440167102,
          -0.11088716206043903,
          0.34115325011588266,
          0.19120740879670203,
          -0.8868759049564396,
          -1.7665115973106773,
          0.04659283029643008,
          -0.26264009433781116,
          -0.7071677499191127,
          -1.8156573055356273,
          -0.9597661977627481,
          0.6346750081123061,
          -1.2170687733038335,
          -0.09503170353552087,
          1.2235524605060015,
          -2.483961254402522,
          -1.7769248644839108,
          -1.167942537919844,
          -1.7195038202017292,
          2.0000000659066908,
          0.735208684860714,
          -0.9902315523103511,
          -0.24048213191664183,
          1.684530587039095,
          -0.8388205164133292,
          -1.5105035457517466,
          -0.7217585881068305,
          -1.672436399800455,
          -2.173498116671171,
          -1.0121748883082924,
          -1.9379300516043922,
          -0.8103204539085346,
          0.9602618744081481,
          0.29108361202828015,
          0.6632213083854124,
          -0.6377180059935375,
          0.5950516126316518,
          0.6459072036021757,
          1.5733916420969902,
          -1.3755776322637125,
          -2.9636502997862815,
          0.5909172534700501,
          -1.6584566371411256,
          1.5220899668785541,
          0.7437572068187299,
          0.5385883569246949,
          -0.017830962906104177,
          0.2739753391236766,
          -0.4897537917204501,
          0.4337635052628477,
          0.42096938113998467,
          0.15157774948474637,
          0.8303928356370296,
          -1.4641096801019973,
          -0.9886301086830224,
          -0.5259368596049694,
          -1.5161897653064285,
          -0.2593709607188089,
          0.4846766662224007,
          -0.021870174420385715,
          2.1037454743733743,
          -0.45287066592680886,
          -1.3146233749916059,
          0.9802479499305575,
          0.955092541257332,
          -0.8880568724131004,
          -0.7377153152834167,
          -1.0184162487167085,
          1.4042890541610809,
          -0.42940422485424895,
          0.15116426244474643,
          0.9652533091065145,
          -0.8508199097895947,
          2.6216476630924896,
          -0.32293649151183895,
          -0.2391850956188257,
          0.949598408520094,
          -0.044902526507576285,
          -0.4449347958761696,
          1.004093561405033,
          0.5596332142497225,
          1.035489733390435
         ],
         "yaxis": "y9"
        },
        {
         "line": {
          "color": "rgba(128, 128, 128, 1.0)",
          "dash": "solid",
          "shape": "linear",
          "width": 1.3
         },
         "marker": {
          "size": 2,
          "symbol": "circle"
         },
         "mode": "markers",
         "name": "C",
         "text": "",
         "type": "scatter",
         "x": [
          -0.6122871493742158,
          1.1081871772883127,
          0.07237326664240411,
          1.406695566419615,
          2.677619031027863,
          1.112007896315254,
          -0.042717243892368036,
          0.7591151319917263,
          1.0556520331963073,
          1.2870160271112958,
          1.0403960791303974,
          0.3389096166665409,
          -0.8704406299249163,
          -0.05277500029748561,
          -0.36939451035933046,
          0.021989699598618934,
          1.1444382793684356,
          -0.8927764162249062,
          -0.1628051853947566,
          -0.5432752677219072,
          -1.240592684049764,
          -1.7721162352992212,
          1.9328913219273787,
          2.5947345249856943,
          0.039314714721758216,
          -0.3116962358433378,
          -0.2601966610359773,
          -0.5615995471631422,
          2.8799163670262224,
          0.15733010475255726,
          -0.10534874143218677,
          1.9020147526179778,
          -1.8874958202687249,
          0.2701239367297032,
          -0.4623567400425783,
          -0.9465296338310447,
          -1.306966472110278,
          0.0460281332075379,
          -0.42391723840307133,
          0.32106132358339107,
          -1.357774815758448,
          -0.1983057429079247,
          0.5394666356832476,
          0.27345282349426914,
          1.7115369034552415,
          1.3539777900604741,
          0.41853317042274557,
          0.42272832867468335,
          1.7478578513191985,
          0.2103817558651291,
          -1.1263253595684382,
          -0.20054913121668919,
          -0.44667446570921543,
          0.3582952961244712,
          -0.205638127832226,
          -0.5058332125899551,
          0.046587499309992404,
          -1.1411642331240202,
          2.3549815303843684,
          -1.3147166480097907,
          -1.11288153984668,
          -2.0500677731421284,
          0.21388936815754106,
          0.809410971577199,
          1.8446996235700726,
          -0.3183719938850659,
          -0.38613673683138866,
          -0.5626146532545004,
          0.33272738668322926,
          -0.7360737680381293,
          -0.07820086788220298,
          -0.9239854599721813,
          -0.3422751447747376,
          -0.27439983203656493,
          0.8789170986350728,
          -0.7653109466860576,
          -1.0293486730547823,
          -1.7521978262212234,
          0.22988231823569452,
          0.3452925830352003,
          0.6636820763451339,
          -0.4905628916181519,
          -0.9596968706279292,
          -1.0899108329787122,
          0.21527711643708103,
          0.38782001222417123,
          -2.3328215385791,
          0.2751742167113534,
          1.1775728381813217,
          0.6919533953962174,
          -0.3615718797962593,
          -0.7504278081657234,
          0.3403032080793858,
          -0.839800460389345,
          -0.06837495898684512,
          0.877458070792261,
          0.6542370835529798,
          -0.3644351488624026,
          0.250900416278955,
          -0.5321225014239536
         ],
         "xaxis": "x10",
         "y": [
          -0.5142528913325504,
          0.5060266865794251,
          -1.6199583518120624,
          1.8520587261057713,
          -0.06554062187242882,
          -2.1193259871211962,
          -0.10312402452617933,
          -0.2823173400730764,
          -0.13713805337433913,
          1.509537357938146,
          0.0699150051150181,
          0.5380126201309465,
          0.11584461685786844,
          -0.02464492557676752,
          -0.22670330406721462,
          0.521216649227666,
          -0.9283242198794059,
          0.4257681693106232,
          1.6531025440167102,
          -0.11088716206043903,
          0.34115325011588266,
          0.19120740879670203,
          -0.8868759049564396,
          -1.7665115973106773,
          0.04659283029643008,
          -0.26264009433781116,
          -0.7071677499191127,
          -1.8156573055356273,
          -0.9597661977627481,
          0.6346750081123061,
          -1.2170687733038335,
          -0.09503170353552087,
          1.2235524605060015,
          -2.483961254402522,
          -1.7769248644839108,
          -1.167942537919844,
          -1.7195038202017292,
          2.0000000659066908,
          0.735208684860714,
          -0.9902315523103511,
          -0.24048213191664183,
          1.684530587039095,
          -0.8388205164133292,
          -1.5105035457517466,
          -0.7217585881068305,
          -1.672436399800455,
          -2.173498116671171,
          -1.0121748883082924,
          -1.9379300516043922,
          -0.8103204539085346,
          0.9602618744081481,
          0.29108361202828015,
          0.6632213083854124,
          -0.6377180059935375,
          0.5950516126316518,
          0.6459072036021757,
          1.5733916420969902,
          -1.3755776322637125,
          -2.9636502997862815,
          0.5909172534700501,
          -1.6584566371411256,
          1.5220899668785541,
          0.7437572068187299,
          0.5385883569246949,
          -0.017830962906104177,
          0.2739753391236766,
          -0.4897537917204501,
          0.4337635052628477,
          0.42096938113998467,
          0.15157774948474637,
          0.8303928356370296,
          -1.4641096801019973,
          -0.9886301086830224,
          -0.5259368596049694,
          -1.5161897653064285,
          -0.2593709607188089,
          0.4846766662224007,
          -0.021870174420385715,
          2.1037454743733743,
          -0.45287066592680886,
          -1.3146233749916059,
          0.9802479499305575,
          0.955092541257332,
          -0.8880568724131004,
          -0.7377153152834167,
          -1.0184162487167085,
          1.4042890541610809,
          -0.42940422485424895,
          0.15116426244474643,
          0.9652533091065145,
          -0.8508199097895947,
          2.6216476630924896,
          -0.32293649151183895,
          -0.2391850956188257,
          0.949598408520094,
          -0.044902526507576285,
          -0.4449347958761696,
          1.004093561405033,
          0.5596332142497225,
          1.035489733390435
         ],
         "yaxis": "y10"
        },
        {
         "histfunc": "count",
         "histnorm": "",
         "marker": {
          "color": "rgba(50, 171, 96, 1.0)",
          "line": {
           "color": "#4D5663",
           "width": 1.3
          }
         },
         "name": "C",
         "nbinsx": 10,
         "opacity": 0.8,
         "orientation": "v",
         "type": "histogram",
         "x": [
          -0.5142528913325504,
          0.5060266865794251,
          -1.6199583518120624,
          1.8520587261057713,
          -0.06554062187242882,
          -2.1193259871211962,
          -0.10312402452617933,
          -0.2823173400730764,
          -0.13713805337433913,
          1.509537357938146,
          0.0699150051150181,
          0.5380126201309465,
          0.11584461685786844,
          -0.02464492557676752,
          -0.22670330406721462,
          0.521216649227666,
          -0.9283242198794059,
          0.4257681693106232,
          1.6531025440167102,
          -0.11088716206043903,
          0.34115325011588266,
          0.19120740879670203,
          -0.8868759049564396,
          -1.7665115973106773,
          0.04659283029643008,
          -0.26264009433781116,
          -0.7071677499191127,
          -1.8156573055356273,
          -0.9597661977627481,
          0.6346750081123061,
          -1.2170687733038335,
          -0.09503170353552087,
          1.2235524605060015,
          -2.483961254402522,
          -1.7769248644839108,
          -1.167942537919844,
          -1.7195038202017292,
          2.0000000659066908,
          0.735208684860714,
          -0.9902315523103511,
          -0.24048213191664183,
          1.684530587039095,
          -0.8388205164133292,
          -1.5105035457517466,
          -0.7217585881068305,
          -1.672436399800455,
          -2.173498116671171,
          -1.0121748883082924,
          -1.9379300516043922,
          -0.8103204539085346,
          0.9602618744081481,
          0.29108361202828015,
          0.6632213083854124,
          -0.6377180059935375,
          0.5950516126316518,
          0.6459072036021757,
          1.5733916420969902,
          -1.3755776322637125,
          -2.9636502997862815,
          0.5909172534700501,
          -1.6584566371411256,
          1.5220899668785541,
          0.7437572068187299,
          0.5385883569246949,
          -0.017830962906104177,
          0.2739753391236766,
          -0.4897537917204501,
          0.4337635052628477,
          0.42096938113998467,
          0.15157774948474637,
          0.8303928356370296,
          -1.4641096801019973,
          -0.9886301086830224,
          -0.5259368596049694,
          -1.5161897653064285,
          -0.2593709607188089,
          0.4846766662224007,
          -0.021870174420385715,
          2.1037454743733743,
          -0.45287066592680886,
          -1.3146233749916059,
          0.9802479499305575,
          0.955092541257332,
          -0.8880568724131004,
          -0.7377153152834167,
          -1.0184162487167085,
          1.4042890541610809,
          -0.42940422485424895,
          0.15116426244474643,
          0.9652533091065145,
          -0.8508199097895947,
          2.6216476630924896,
          -0.32293649151183895,
          -0.2391850956188257,
          0.949598408520094,
          -0.044902526507576285,
          -0.4449347958761696,
          1.004093561405033,
          0.5596332142497225,
          1.035489733390435
         ],
         "xaxis": "x11",
         "yaxis": "y11"
        },
        {
         "line": {
          "color": "rgba(128, 128, 128, 1.0)",
          "dash": "solid",
          "shape": "linear",
          "width": 1.3
         },
         "marker": {
          "size": 2,
          "symbol": "circle"
         },
         "mode": "markers",
         "name": "C",
         "text": "",
         "type": "scatter",
         "x": [
          0.6050867298924966,
          -0.6165866449072356,
          1.9487979965437259,
          -0.9098734933847339,
          -2.492192741530579,
          -1.155198957029045,
          -1.4929999744628006,
          -0.6040682200297907,
          1.1366377934624625,
          2.1513349584751413,
          0.3947866509168756,
          -1.1929820842826453,
          1.6634720580878073,
          1.7738426060724652,
          1.8529184726392016,
          -0.3840859492385011,
          0.6038579823541418,
          0.4131455954870885,
          0.7068497108506195,
          1.147749500892832,
          2.299835378399439,
          -1.8717147301126826,
          -0.034324380922480635,
          0.35695342673173813,
          -0.8910845826111833,
          -0.8890807680339394,
          -0.24555389023033755,
          1.3487161260272114,
          2.461602113678832,
          -0.4219196891101721,
          1.7757603921594751,
          -0.8626667040522148,
          0.9644720228180006,
          -0.13709347296471658,
          0.9061307234417265,
          1.1182669714111269,
          -1.5151919116851684,
          1.6096394845501398,
          1.4515306958753844,
          1.0129930988439324,
          0.5254220174243576,
          -0.5902563173223,
          -1.17734244009965,
          -0.14499224358899587,
          0.5338044465845787,
          1.3902763025357754,
          -0.6241152889181363,
          -0.3038129866665245,
          1.4541004147160546,
          0.8350250449168365,
          0.6964153508844321,
          0.012566751083774863,
          -0.47338180272236235,
          1.210613945217184,
          -1.0854061797739847,
          -1.697645227564379,
          1.0491560820021897,
          -0.29289990375255287,
          0.5307495504562542,
          -0.23667795131555489,
          1.2434324239684833,
          -1.0955154658686839,
          -0.14252294279495933,
          0.3537686407349682,
          -0.9139176186616194,
          2.0992388874678136,
          0.2167135194987622,
          -0.9942562488323905,
          0.400285751143757,
          -1.114634278308162,
          0.40071764923934294,
          0.4505972499639887,
          -0.3474045765052524,
          -1.2267801096715627,
          0.11872707312681956,
          -0.9861172624062554,
          1.1492273572779284,
          1.1799550068207683,
          -2.30264447691568,
          -1.3466731136426056,
          0.5911496226492886,
          1.1129518683146158,
          -0.645887328395313,
          0.5774811909153283,
          -0.5390165554972535,
          -1.3728921095139972,
          -0.07932798925006247,
          -0.15377014478816045,
          0.06026333694448666,
          0.31048323905397635,
          -0.07043280832010015,
          -1.7914880877152701,
          -0.9447671861317545,
          -0.420201609792276,
          0.6595591715995851,
          -0.6347356068008602,
          -0.6959153846895623,
          1.6557390912262673,
          1.4502044430567527,
          -0.46731655681490564
         ],
         "xaxis": "x12",
         "y": [
          -0.5142528913325504,
          0.5060266865794251,
          -1.6199583518120624,
          1.8520587261057713,
          -0.06554062187242882,
          -2.1193259871211962,
          -0.10312402452617933,
          -0.2823173400730764,
          -0.13713805337433913,
          1.509537357938146,
          0.0699150051150181,
          0.5380126201309465,
          0.11584461685786844,
          -0.02464492557676752,
          -0.22670330406721462,
          0.521216649227666,
          -0.9283242198794059,
          0.4257681693106232,
          1.6531025440167102,
          -0.11088716206043903,
          0.34115325011588266,
          0.19120740879670203,
          -0.8868759049564396,
          -1.7665115973106773,
          0.04659283029643008,
          -0.26264009433781116,
          -0.7071677499191127,
          -1.8156573055356273,
          -0.9597661977627481,
          0.6346750081123061,
          -1.2170687733038335,
          -0.09503170353552087,
          1.2235524605060015,
          -2.483961254402522,
          -1.7769248644839108,
          -1.167942537919844,
          -1.7195038202017292,
          2.0000000659066908,
          0.735208684860714,
          -0.9902315523103511,
          -0.24048213191664183,
          1.684530587039095,
          -0.8388205164133292,
          -1.5105035457517466,
          -0.7217585881068305,
          -1.672436399800455,
          -2.173498116671171,
          -1.0121748883082924,
          -1.9379300516043922,
          -0.8103204539085346,
          0.9602618744081481,
          0.29108361202828015,
          0.6632213083854124,
          -0.6377180059935375,
          0.5950516126316518,
          0.6459072036021757,
          1.5733916420969902,
          -1.3755776322637125,
          -2.9636502997862815,
          0.5909172534700501,
          -1.6584566371411256,
          1.5220899668785541,
          0.7437572068187299,
          0.5385883569246949,
          -0.017830962906104177,
          0.2739753391236766,
          -0.4897537917204501,
          0.4337635052628477,
          0.42096938113998467,
          0.15157774948474637,
          0.8303928356370296,
          -1.4641096801019973,
          -0.9886301086830224,
          -0.5259368596049694,
          -1.5161897653064285,
          -0.2593709607188089,
          0.4846766662224007,
          -0.021870174420385715,
          2.1037454743733743,
          -0.45287066592680886,
          -1.3146233749916059,
          0.9802479499305575,
          0.955092541257332,
          -0.8880568724131004,
          -0.7377153152834167,
          -1.0184162487167085,
          1.4042890541610809,
          -0.42940422485424895,
          0.15116426244474643,
          0.9652533091065145,
          -0.8508199097895947,
          2.6216476630924896,
          -0.32293649151183895,
          -0.2391850956188257,
          0.949598408520094,
          -0.044902526507576285,
          -0.4449347958761696,
          1.004093561405033,
          0.5596332142497225,
          1.035489733390435
         ],
         "yaxis": "y12"
        },
        {
         "line": {
          "color": "rgba(128, 128, 128, 1.0)",
          "dash": "solid",
          "shape": "linear",
          "width": 1.3
         },
         "marker": {
          "size": 2,
          "symbol": "circle"
         },
         "mode": "markers",
         "name": "D",
         "text": "",
         "type": "scatter",
         "x": [
          1.0449692502051247,
          1.4014865892350301,
          0.2777510317952268,
          -1.0406765670657876,
          0.006359873179908175,
          0.12397386661141808,
          1.4994280432956189,
          -1.9346238092149068,
          0.35775705631885724,
          -0.34733273139125354,
          -1.3373498970995634,
          0.5091515021663505,
          1.6830219082728322,
          0.10537667311719211,
          -2.5140060263209567,
          -0.7889335872294903,
          -0.0793938247201161,
          1.0581598354422561,
          -0.30745406708624323,
          -0.9734821005483372,
          -0.7606620447650821,
          0.021183267166173587,
          -1.7574711218864698,
          -0.9512855259494061,
          0.276338353437027,
          1.0802903181292332,
          0.08603908044689187,
          0.1758005729081879,
          -0.9834799312375738,
          1.2317154884736348,
          -0.38431628365933634,
          -1.3881384191043795,
          -0.9125394169049456,
          -0.06794122752929284,
          -1.0022938850420355,
          -0.5095861337124544,
          -0.2145016229316288,
          -0.1943220846212686,
          -0.06818560747550947,
          -0.11897249361823674,
          -0.6495429422228579,
          0.06269089056141017,
          0.7860879064361281,
          -0.02466660086278837,
          -1.0398428437836782,
          1.961276736519445,
          -0.75184757764632,
          -1.0454232300948676,
          0.08359602149063225,
          -0.044816813695500904,
          -1.857736593010825,
          -0.32146990193714037,
          1.2739521892455514,
          -0.0681200681829437,
          0.05565804637859506,
          -0.9692222211336554,
          0.38286724571536196,
          -0.2831006200212324,
          2.763018694518891,
          -0.2431284914703938,
          0.6895516333352446,
          -0.9594802988637272,
          -0.36534172808055654,
          0.6370985113662331,
          -0.8755116726783624,
          -0.3281051711722991,
          -0.25980975372081383,
          -0.02807393604023754,
          1.773774961703449,
          0.22301815139047637,
          0.32490702837345103,
          0.5769192199507911,
          -0.3559427830466943,
          -0.30962702682606874,
          0.6877374686393355,
          0.4729623462551443,
          -1.3761942534956288,
          -0.36096947072820446,
          0.5562044076399122,
          1.2584082074658807,
          0.45376062650949156,
          1.2140873967387038,
          0.5732739119550228,
          2.3621996474302356,
          0.30980883930255376,
          -1.3104375373247683,
          -0.3006239722533239,
          0.4473291641086172,
          0.45413611270862947,
          1.0204039525647968,
          -1.0879414724793888,
          0.28759734847120055,
          0.10519796793009067,
          -0.5789700813247838,
          0.10266167172467248,
          0.0396210104831097,
          -0.3224039898722025,
          0.4844161425061551,
          0.8549570449938488,
          -0.5909057407999417
         ],
         "xaxis": "x13",
         "y": [
          0.6050867298924966,
          -0.6165866449072356,
          1.9487979965437259,
          -0.9098734933847339,
          -2.492192741530579,
          -1.155198957029045,
          -1.4929999744628006,
          -0.6040682200297907,
          1.1366377934624625,
          2.1513349584751413,
          0.3947866509168756,
          -1.1929820842826453,
          1.6634720580878073,
          1.7738426060724652,
          1.8529184726392016,
          -0.3840859492385011,
          0.6038579823541418,
          0.4131455954870885,
          0.7068497108506195,
          1.147749500892832,
          2.299835378399439,
          -1.8717147301126826,
          -0.034324380922480635,
          0.35695342673173813,
          -0.8910845826111833,
          -0.8890807680339394,
          -0.24555389023033755,
          1.3487161260272114,
          2.461602113678832,
          -0.4219196891101721,
          1.7757603921594751,
          -0.8626667040522148,
          0.9644720228180006,
          -0.13709347296471658,
          0.9061307234417265,
          1.1182669714111269,
          -1.5151919116851684,
          1.6096394845501398,
          1.4515306958753844,
          1.0129930988439324,
          0.5254220174243576,
          -0.5902563173223,
          -1.17734244009965,
          -0.14499224358899587,
          0.5338044465845787,
          1.3902763025357754,
          -0.6241152889181363,
          -0.3038129866665245,
          1.4541004147160546,
          0.8350250449168365,
          0.6964153508844321,
          0.012566751083774863,
          -0.47338180272236235,
          1.210613945217184,
          -1.0854061797739847,
          -1.697645227564379,
          1.0491560820021897,
          -0.29289990375255287,
          0.5307495504562542,
          -0.23667795131555489,
          1.2434324239684833,
          -1.0955154658686839,
          -0.14252294279495933,
          0.3537686407349682,
          -0.9139176186616194,
          2.0992388874678136,
          0.2167135194987622,
          -0.9942562488323905,
          0.400285751143757,
          -1.114634278308162,
          0.40071764923934294,
          0.4505972499639887,
          -0.3474045765052524,
          -1.2267801096715627,
          0.11872707312681956,
          -0.9861172624062554,
          1.1492273572779284,
          1.1799550068207683,
          -2.30264447691568,
          -1.3466731136426056,
          0.5911496226492886,
          1.1129518683146158,
          -0.645887328395313,
          0.5774811909153283,
          -0.5390165554972535,
          -1.3728921095139972,
          -0.07932798925006247,
          -0.15377014478816045,
          0.06026333694448666,
          0.31048323905397635,
          -0.07043280832010015,
          -1.7914880877152701,
          -0.9447671861317545,
          -0.420201609792276,
          0.6595591715995851,
          -0.6347356068008602,
          -0.6959153846895623,
          1.6557390912262673,
          1.4502044430567527,
          -0.46731655681490564
         ],
         "yaxis": "y13"
        },
        {
         "line": {
          "color": "rgba(128, 128, 128, 1.0)",
          "dash": "solid",
          "shape": "linear",
          "width": 1.3
         },
         "marker": {
          "size": 2,
          "symbol": "circle"
         },
         "mode": "markers",
         "name": "D",
         "text": "",
         "type": "scatter",
         "x": [
          -0.6122871493742158,
          1.1081871772883127,
          0.07237326664240411,
          1.406695566419615,
          2.677619031027863,
          1.112007896315254,
          -0.042717243892368036,
          0.7591151319917263,
          1.0556520331963073,
          1.2870160271112958,
          1.0403960791303974,
          0.3389096166665409,
          -0.8704406299249163,
          -0.05277500029748561,
          -0.36939451035933046,
          0.021989699598618934,
          1.1444382793684356,
          -0.8927764162249062,
          -0.1628051853947566,
          -0.5432752677219072,
          -1.240592684049764,
          -1.7721162352992212,
          1.9328913219273787,
          2.5947345249856943,
          0.039314714721758216,
          -0.3116962358433378,
          -0.2601966610359773,
          -0.5615995471631422,
          2.8799163670262224,
          0.15733010475255726,
          -0.10534874143218677,
          1.9020147526179778,
          -1.8874958202687249,
          0.2701239367297032,
          -0.4623567400425783,
          -0.9465296338310447,
          -1.306966472110278,
          0.0460281332075379,
          -0.42391723840307133,
          0.32106132358339107,
          -1.357774815758448,
          -0.1983057429079247,
          0.5394666356832476,
          0.27345282349426914,
          1.7115369034552415,
          1.3539777900604741,
          0.41853317042274557,
          0.42272832867468335,
          1.7478578513191985,
          0.2103817558651291,
          -1.1263253595684382,
          -0.20054913121668919,
          -0.44667446570921543,
          0.3582952961244712,
          -0.205638127832226,
          -0.5058332125899551,
          0.046587499309992404,
          -1.1411642331240202,
          2.3549815303843684,
          -1.3147166480097907,
          -1.11288153984668,
          -2.0500677731421284,
          0.21388936815754106,
          0.809410971577199,
          1.8446996235700726,
          -0.3183719938850659,
          -0.38613673683138866,
          -0.5626146532545004,
          0.33272738668322926,
          -0.7360737680381293,
          -0.07820086788220298,
          -0.9239854599721813,
          -0.3422751447747376,
          -0.27439983203656493,
          0.8789170986350728,
          -0.7653109466860576,
          -1.0293486730547823,
          -1.7521978262212234,
          0.22988231823569452,
          0.3452925830352003,
          0.6636820763451339,
          -0.4905628916181519,
          -0.9596968706279292,
          -1.0899108329787122,
          0.21527711643708103,
          0.38782001222417123,
          -2.3328215385791,
          0.2751742167113534,
          1.1775728381813217,
          0.6919533953962174,
          -0.3615718797962593,
          -0.7504278081657234,
          0.3403032080793858,
          -0.839800460389345,
          -0.06837495898684512,
          0.877458070792261,
          0.6542370835529798,
          -0.3644351488624026,
          0.250900416278955,
          -0.5321225014239536
         ],
         "xaxis": "x14",
         "y": [
          0.6050867298924966,
          -0.6165866449072356,
          1.9487979965437259,
          -0.9098734933847339,
          -2.492192741530579,
          -1.155198957029045,
          -1.4929999744628006,
          -0.6040682200297907,
          1.1366377934624625,
          2.1513349584751413,
          0.3947866509168756,
          -1.1929820842826453,
          1.6634720580878073,
          1.7738426060724652,
          1.8529184726392016,
          -0.3840859492385011,
          0.6038579823541418,
          0.4131455954870885,
          0.7068497108506195,
          1.147749500892832,
          2.299835378399439,
          -1.8717147301126826,
          -0.034324380922480635,
          0.35695342673173813,
          -0.8910845826111833,
          -0.8890807680339394,
          -0.24555389023033755,
          1.3487161260272114,
          2.461602113678832,
          -0.4219196891101721,
          1.7757603921594751,
          -0.8626667040522148,
          0.9644720228180006,
          -0.13709347296471658,
          0.9061307234417265,
          1.1182669714111269,
          -1.5151919116851684,
          1.6096394845501398,
          1.4515306958753844,
          1.0129930988439324,
          0.5254220174243576,
          -0.5902563173223,
          -1.17734244009965,
          -0.14499224358899587,
          0.5338044465845787,
          1.3902763025357754,
          -0.6241152889181363,
          -0.3038129866665245,
          1.4541004147160546,
          0.8350250449168365,
          0.6964153508844321,
          0.012566751083774863,
          -0.47338180272236235,
          1.210613945217184,
          -1.0854061797739847,
          -1.697645227564379,
          1.0491560820021897,
          -0.29289990375255287,
          0.5307495504562542,
          -0.23667795131555489,
          1.2434324239684833,
          -1.0955154658686839,
          -0.14252294279495933,
          0.3537686407349682,
          -0.9139176186616194,
          2.0992388874678136,
          0.2167135194987622,
          -0.9942562488323905,
          0.400285751143757,
          -1.114634278308162,
          0.40071764923934294,
          0.4505972499639887,
          -0.3474045765052524,
          -1.2267801096715627,
          0.11872707312681956,
          -0.9861172624062554,
          1.1492273572779284,
          1.1799550068207683,
          -2.30264447691568,
          -1.3466731136426056,
          0.5911496226492886,
          1.1129518683146158,
          -0.645887328395313,
          0.5774811909153283,
          -0.5390165554972535,
          -1.3728921095139972,
          -0.07932798925006247,
          -0.15377014478816045,
          0.06026333694448666,
          0.31048323905397635,
          -0.07043280832010015,
          -1.7914880877152701,
          -0.9447671861317545,
          -0.420201609792276,
          0.6595591715995851,
          -0.6347356068008602,
          -0.6959153846895623,
          1.6557390912262673,
          1.4502044430567527,
          -0.46731655681490564
         ],
         "yaxis": "y14"
        },
        {
         "line": {
          "color": "rgba(128, 128, 128, 1.0)",
          "dash": "solid",
          "shape": "linear",
          "width": 1.3
         },
         "marker": {
          "size": 2,
          "symbol": "circle"
         },
         "mode": "markers",
         "name": "D",
         "text": "",
         "type": "scatter",
         "x": [
          -0.5142528913325504,
          0.5060266865794251,
          -1.6199583518120624,
          1.8520587261057713,
          -0.06554062187242882,
          -2.1193259871211962,
          -0.10312402452617933,
          -0.2823173400730764,
          -0.13713805337433913,
          1.509537357938146,
          0.0699150051150181,
          0.5380126201309465,
          0.11584461685786844,
          -0.02464492557676752,
          -0.22670330406721462,
          0.521216649227666,
          -0.9283242198794059,
          0.4257681693106232,
          1.6531025440167102,
          -0.11088716206043903,
          0.34115325011588266,
          0.19120740879670203,
          -0.8868759049564396,
          -1.7665115973106773,
          0.04659283029643008,
          -0.26264009433781116,
          -0.7071677499191127,
          -1.8156573055356273,
          -0.9597661977627481,
          0.6346750081123061,
          -1.2170687733038335,
          -0.09503170353552087,
          1.2235524605060015,
          -2.483961254402522,
          -1.7769248644839108,
          -1.167942537919844,
          -1.7195038202017292,
          2.0000000659066908,
          0.735208684860714,
          -0.9902315523103511,
          -0.24048213191664183,
          1.684530587039095,
          -0.8388205164133292,
          -1.5105035457517466,
          -0.7217585881068305,
          -1.672436399800455,
          -2.173498116671171,
          -1.0121748883082924,
          -1.9379300516043922,
          -0.8103204539085346,
          0.9602618744081481,
          0.29108361202828015,
          0.6632213083854124,
          -0.6377180059935375,
          0.5950516126316518,
          0.6459072036021757,
          1.5733916420969902,
          -1.3755776322637125,
          -2.9636502997862815,
          0.5909172534700501,
          -1.6584566371411256,
          1.5220899668785541,
          0.7437572068187299,
          0.5385883569246949,
          -0.017830962906104177,
          0.2739753391236766,
          -0.4897537917204501,
          0.4337635052628477,
          0.42096938113998467,
          0.15157774948474637,
          0.8303928356370296,
          -1.4641096801019973,
          -0.9886301086830224,
          -0.5259368596049694,
          -1.5161897653064285,
          -0.2593709607188089,
          0.4846766662224007,
          -0.021870174420385715,
          2.1037454743733743,
          -0.45287066592680886,
          -1.3146233749916059,
          0.9802479499305575,
          0.955092541257332,
          -0.8880568724131004,
          -0.7377153152834167,
          -1.0184162487167085,
          1.4042890541610809,
          -0.42940422485424895,
          0.15116426244474643,
          0.9652533091065145,
          -0.8508199097895947,
          2.6216476630924896,
          -0.32293649151183895,
          -0.2391850956188257,
          0.949598408520094,
          -0.044902526507576285,
          -0.4449347958761696,
          1.004093561405033,
          0.5596332142497225,
          1.035489733390435
         ],
         "xaxis": "x15",
         "y": [
          0.6050867298924966,
          -0.6165866449072356,
          1.9487979965437259,
          -0.9098734933847339,
          -2.492192741530579,
          -1.155198957029045,
          -1.4929999744628006,
          -0.6040682200297907,
          1.1366377934624625,
          2.1513349584751413,
          0.3947866509168756,
          -1.1929820842826453,
          1.6634720580878073,
          1.7738426060724652,
          1.8529184726392016,
          -0.3840859492385011,
          0.6038579823541418,
          0.4131455954870885,
          0.7068497108506195,
          1.147749500892832,
          2.299835378399439,
          -1.8717147301126826,
          -0.034324380922480635,
          0.35695342673173813,
          -0.8910845826111833,
          -0.8890807680339394,
          -0.24555389023033755,
          1.3487161260272114,
          2.461602113678832,
          -0.4219196891101721,
          1.7757603921594751,
          -0.8626667040522148,
          0.9644720228180006,
          -0.13709347296471658,
          0.9061307234417265,
          1.1182669714111269,
          -1.5151919116851684,
          1.6096394845501398,
          1.4515306958753844,
          1.0129930988439324,
          0.5254220174243576,
          -0.5902563173223,
          -1.17734244009965,
          -0.14499224358899587,
          0.5338044465845787,
          1.3902763025357754,
          -0.6241152889181363,
          -0.3038129866665245,
          1.4541004147160546,
          0.8350250449168365,
          0.6964153508844321,
          0.012566751083774863,
          -0.47338180272236235,
          1.210613945217184,
          -1.0854061797739847,
          -1.697645227564379,
          1.0491560820021897,
          -0.29289990375255287,
          0.5307495504562542,
          -0.23667795131555489,
          1.2434324239684833,
          -1.0955154658686839,
          -0.14252294279495933,
          0.3537686407349682,
          -0.9139176186616194,
          2.0992388874678136,
          0.2167135194987622,
          -0.9942562488323905,
          0.400285751143757,
          -1.114634278308162,
          0.40071764923934294,
          0.4505972499639887,
          -0.3474045765052524,
          -1.2267801096715627,
          0.11872707312681956,
          -0.9861172624062554,
          1.1492273572779284,
          1.1799550068207683,
          -2.30264447691568,
          -1.3466731136426056,
          0.5911496226492886,
          1.1129518683146158,
          -0.645887328395313,
          0.5774811909153283,
          -0.5390165554972535,
          -1.3728921095139972,
          -0.07932798925006247,
          -0.15377014478816045,
          0.06026333694448666,
          0.31048323905397635,
          -0.07043280832010015,
          -1.7914880877152701,
          -0.9447671861317545,
          -0.420201609792276,
          0.6595591715995851,
          -0.6347356068008602,
          -0.6959153846895623,
          1.6557390912262673,
          1.4502044430567527,
          -0.46731655681490564
         ],
         "yaxis": "y15"
        },
        {
         "histfunc": "count",
         "histnorm": "",
         "marker": {
          "color": "rgba(128, 0, 128, 1.0)",
          "line": {
           "color": "#4D5663",
           "width": 1.3
          }
         },
         "name": "D",
         "nbinsx": 10,
         "opacity": 0.8,
         "orientation": "v",
         "type": "histogram",
         "x": [
          0.6050867298924966,
          -0.6165866449072356,
          1.9487979965437259,
          -0.9098734933847339,
          -2.492192741530579,
          -1.155198957029045,
          -1.4929999744628006,
          -0.6040682200297907,
          1.1366377934624625,
          2.1513349584751413,
          0.3947866509168756,
          -1.1929820842826453,
          1.6634720580878073,
          1.7738426060724652,
          1.8529184726392016,
          -0.3840859492385011,
          0.6038579823541418,
          0.4131455954870885,
          0.7068497108506195,
          1.147749500892832,
          2.299835378399439,
          -1.8717147301126826,
          -0.034324380922480635,
          0.35695342673173813,
          -0.8910845826111833,
          -0.8890807680339394,
          -0.24555389023033755,
          1.3487161260272114,
          2.461602113678832,
          -0.4219196891101721,
          1.7757603921594751,
          -0.8626667040522148,
          0.9644720228180006,
          -0.13709347296471658,
          0.9061307234417265,
          1.1182669714111269,
          -1.5151919116851684,
          1.6096394845501398,
          1.4515306958753844,
          1.0129930988439324,
          0.5254220174243576,
          -0.5902563173223,
          -1.17734244009965,
          -0.14499224358899587,
          0.5338044465845787,
          1.3902763025357754,
          -0.6241152889181363,
          -0.3038129866665245,
          1.4541004147160546,
          0.8350250449168365,
          0.6964153508844321,
          0.012566751083774863,
          -0.47338180272236235,
          1.210613945217184,
          -1.0854061797739847,
          -1.697645227564379,
          1.0491560820021897,
          -0.29289990375255287,
          0.5307495504562542,
          -0.23667795131555489,
          1.2434324239684833,
          -1.0955154658686839,
          -0.14252294279495933,
          0.3537686407349682,
          -0.9139176186616194,
          2.0992388874678136,
          0.2167135194987622,
          -0.9942562488323905,
          0.400285751143757,
          -1.114634278308162,
          0.40071764923934294,
          0.4505972499639887,
          -0.3474045765052524,
          -1.2267801096715627,
          0.11872707312681956,
          -0.9861172624062554,
          1.1492273572779284,
          1.1799550068207683,
          -2.30264447691568,
          -1.3466731136426056,
          0.5911496226492886,
          1.1129518683146158,
          -0.645887328395313,
          0.5774811909153283,
          -0.5390165554972535,
          -1.3728921095139972,
          -0.07932798925006247,
          -0.15377014478816045,
          0.06026333694448666,
          0.31048323905397635,
          -0.07043280832010015,
          -1.7914880877152701,
          -0.9447671861317545,
          -0.420201609792276,
          0.6595591715995851,
          -0.6347356068008602,
          -0.6959153846895623,
          1.6557390912262673,
          1.4502044430567527,
          -0.46731655681490564
         ],
         "xaxis": "x16",
         "yaxis": "y16"
        }
       ],
       "layout": {
        "bargap": 0.02,
        "legend": {
         "bgcolor": "#F5F6F9",
         "font": {
          "color": "#4D5663"
         }
        },
        "paper_bgcolor": "#F5F6F9",
        "plot_bgcolor": "#F5F6F9",
        "showlegend": false,
        "template": {
         "data": {
          "bar": [
           {
            "error_x": {
             "color": "#2a3f5f"
            },
            "error_y": {
             "color": "#2a3f5f"
            },
            "marker": {
             "line": {
              "color": "#E5ECF6",
              "width": 0.5
             }
            },
            "type": "bar"
           }
          ],
          "barpolar": [
           {
            "marker": {
             "line": {
              "color": "#E5ECF6",
              "width": 0.5
             }
            },
            "type": "barpolar"
           }
          ],
          "carpet": [
           {
            "aaxis": {
             "endlinecolor": "#2a3f5f",
             "gridcolor": "white",
             "linecolor": "white",
             "minorgridcolor": "white",
             "startlinecolor": "#2a3f5f"
            },
            "baxis": {
             "endlinecolor": "#2a3f5f",
             "gridcolor": "white",
             "linecolor": "white",
             "minorgridcolor": "white",
             "startlinecolor": "#2a3f5f"
            },
            "type": "carpet"
           }
          ],
          "choropleth": [
           {
            "colorbar": {
             "outlinewidth": 0,
             "ticks": ""
            },
            "type": "choropleth"
           }
          ],
          "contour": [
           {
            "colorbar": {
             "outlinewidth": 0,
             "ticks": ""
            },
            "colorscale": [
             [
              0,
              "#0d0887"
             ],
             [
              0.1111111111111111,
              "#46039f"
             ],
             [
              0.2222222222222222,
              "#7201a8"
             ],
             [
              0.3333333333333333,
              "#9c179e"
             ],
             [
              0.4444444444444444,
              "#bd3786"
             ],
             [
              0.5555555555555556,
              "#d8576b"
             ],
             [
              0.6666666666666666,
              "#ed7953"
             ],
             [
              0.7777777777777778,
              "#fb9f3a"
             ],
             [
              0.8888888888888888,
              "#fdca26"
             ],
             [
              1,
              "#f0f921"
             ]
            ],
            "type": "contour"
           }
          ],
          "contourcarpet": [
           {
            "colorbar": {
             "outlinewidth": 0,
             "ticks": ""
            },
            "type": "contourcarpet"
           }
          ],
          "heatmap": [
           {
            "colorbar": {
             "outlinewidth": 0,
             "ticks": ""
            },
            "colorscale": [
             [
              0,
              "#0d0887"
             ],
             [
              0.1111111111111111,
              "#46039f"
             ],
             [
              0.2222222222222222,
              "#7201a8"
             ],
             [
              0.3333333333333333,
              "#9c179e"
             ],
             [
              0.4444444444444444,
              "#bd3786"
             ],
             [
              0.5555555555555556,
              "#d8576b"
             ],
             [
              0.6666666666666666,
              "#ed7953"
             ],
             [
              0.7777777777777778,
              "#fb9f3a"
             ],
             [
              0.8888888888888888,
              "#fdca26"
             ],
             [
              1,
              "#f0f921"
             ]
            ],
            "type": "heatmap"
           }
          ],
          "heatmapgl": [
           {
            "colorbar": {
             "outlinewidth": 0,
             "ticks": ""
            },
            "colorscale": [
             [
              0,
              "#0d0887"
             ],
             [
              0.1111111111111111,
              "#46039f"
             ],
             [
              0.2222222222222222,
              "#7201a8"
             ],
             [
              0.3333333333333333,
              "#9c179e"
             ],
             [
              0.4444444444444444,
              "#bd3786"
             ],
             [
              0.5555555555555556,
              "#d8576b"
             ],
             [
              0.6666666666666666,
              "#ed7953"
             ],
             [
              0.7777777777777778,
              "#fb9f3a"
             ],
             [
              0.8888888888888888,
              "#fdca26"
             ],
             [
              1,
              "#f0f921"
             ]
            ],
            "type": "heatmapgl"
           }
          ],
          "histogram": [
           {
            "marker": {
             "colorbar": {
              "outlinewidth": 0,
              "ticks": ""
             }
            },
            "type": "histogram"
           }
          ],
          "histogram2d": [
           {
            "colorbar": {
             "outlinewidth": 0,
             "ticks": ""
            },
            "colorscale": [
             [
              0,
              "#0d0887"
             ],
             [
              0.1111111111111111,
              "#46039f"
             ],
             [
              0.2222222222222222,
              "#7201a8"
             ],
             [
              0.3333333333333333,
              "#9c179e"
             ],
             [
              0.4444444444444444,
              "#bd3786"
             ],
             [
              0.5555555555555556,
              "#d8576b"
             ],
             [
              0.6666666666666666,
              "#ed7953"
             ],
             [
              0.7777777777777778,
              "#fb9f3a"
             ],
             [
              0.8888888888888888,
              "#fdca26"
             ],
             [
              1,
              "#f0f921"
             ]
            ],
            "type": "histogram2d"
           }
          ],
          "histogram2dcontour": [
           {
            "colorbar": {
             "outlinewidth": 0,
             "ticks": ""
            },
            "colorscale": [
             [
              0,
              "#0d0887"
             ],
             [
              0.1111111111111111,
              "#46039f"
             ],
             [
              0.2222222222222222,
              "#7201a8"
             ],
             [
              0.3333333333333333,
              "#9c179e"
             ],
             [
              0.4444444444444444,
              "#bd3786"
             ],
             [
              0.5555555555555556,
              "#d8576b"
             ],
             [
              0.6666666666666666,
              "#ed7953"
             ],
             [
              0.7777777777777778,
              "#fb9f3a"
             ],
             [
              0.8888888888888888,
              "#fdca26"
             ],
             [
              1,
              "#f0f921"
             ]
            ],
            "type": "histogram2dcontour"
           }
          ],
          "mesh3d": [
           {
            "colorbar": {
             "outlinewidth": 0,
             "ticks": ""
            },
            "type": "mesh3d"
           }
          ],
          "parcoords": [
           {
            "line": {
             "colorbar": {
              "outlinewidth": 0,
              "ticks": ""
             }
            },
            "type": "parcoords"
           }
          ],
          "scatter": [
           {
            "marker": {
             "colorbar": {
              "outlinewidth": 0,
              "ticks": ""
             }
            },
            "type": "scatter"
           }
          ],
          "scatter3d": [
           {
            "line": {
             "colorbar": {
              "outlinewidth": 0,
              "ticks": ""
             }
            },
            "marker": {
             "colorbar": {
              "outlinewidth": 0,
              "ticks": ""
             }
            },
            "type": "scatter3d"
           }
          ],
          "scattercarpet": [
           {
            "marker": {
             "colorbar": {
              "outlinewidth": 0,
              "ticks": ""
             }
            },
            "type": "scattercarpet"
           }
          ],
          "scattergeo": [
           {
            "marker": {
             "colorbar": {
              "outlinewidth": 0,
              "ticks": ""
             }
            },
            "type": "scattergeo"
           }
          ],
          "scattergl": [
           {
            "marker": {
             "colorbar": {
              "outlinewidth": 0,
              "ticks": ""
             }
            },
            "type": "scattergl"
           }
          ],
          "scattermapbox": [
           {
            "marker": {
             "colorbar": {
              "outlinewidth": 0,
              "ticks": ""
             }
            },
            "type": "scattermapbox"
           }
          ],
          "scatterpolar": [
           {
            "marker": {
             "colorbar": {
              "outlinewidth": 0,
              "ticks": ""
             }
            },
            "type": "scatterpolar"
           }
          ],
          "scatterpolargl": [
           {
            "marker": {
             "colorbar": {
              "outlinewidth": 0,
              "ticks": ""
             }
            },
            "type": "scatterpolargl"
           }
          ],
          "scatterternary": [
           {
            "marker": {
             "colorbar": {
              "outlinewidth": 0,
              "ticks": ""
             }
            },
            "type": "scatterternary"
           }
          ],
          "surface": [
           {
            "colorbar": {
             "outlinewidth": 0,
             "ticks": ""
            },
            "colorscale": [
             [
              0,
              "#0d0887"
             ],
             [
              0.1111111111111111,
              "#46039f"
             ],
             [
              0.2222222222222222,
              "#7201a8"
             ],
             [
              0.3333333333333333,
              "#9c179e"
             ],
             [
              0.4444444444444444,
              "#bd3786"
             ],
             [
              0.5555555555555556,
              "#d8576b"
             ],
             [
              0.6666666666666666,
              "#ed7953"
             ],
             [
              0.7777777777777778,
              "#fb9f3a"
             ],
             [
              0.8888888888888888,
              "#fdca26"
             ],
             [
              1,
              "#f0f921"
             ]
            ],
            "type": "surface"
           }
          ],
          "table": [
           {
            "cells": {
             "fill": {
              "color": "#EBF0F8"
             },
             "line": {
              "color": "white"
             }
            },
            "header": {
             "fill": {
              "color": "#C8D4E3"
             },
             "line": {
              "color": "white"
             }
            },
            "type": "table"
           }
          ]
         },
         "layout": {
          "annotationdefaults": {
           "arrowcolor": "#2a3f5f",
           "arrowhead": 0,
           "arrowwidth": 1
          },
          "colorscale": {
           "diverging": [
            [
             0,
             "#8e0152"
            ],
            [
             0.1,
             "#c51b7d"
            ],
            [
             0.2,
             "#de77ae"
            ],
            [
             0.3,
             "#f1b6da"
            ],
            [
             0.4,
             "#fde0ef"
            ],
            [
             0.5,
             "#f7f7f7"
            ],
            [
             0.6,
             "#e6f5d0"
            ],
            [
             0.7,
             "#b8e186"
            ],
            [
             0.8,
             "#7fbc41"
            ],
            [
             0.9,
             "#4d9221"
            ],
            [
             1,
             "#276419"
            ]
           ],
           "sequential": [
            [
             0,
             "#0d0887"
            ],
            [
             0.1111111111111111,
             "#46039f"
            ],
            [
             0.2222222222222222,
             "#7201a8"
            ],
            [
             0.3333333333333333,
             "#9c179e"
            ],
            [
             0.4444444444444444,
             "#bd3786"
            ],
            [
             0.5555555555555556,
             "#d8576b"
            ],
            [
             0.6666666666666666,
             "#ed7953"
            ],
            [
             0.7777777777777778,
             "#fb9f3a"
            ],
            [
             0.8888888888888888,
             "#fdca26"
            ],
            [
             1,
             "#f0f921"
            ]
           ],
           "sequentialminus": [
            [
             0,
             "#0d0887"
            ],
            [
             0.1111111111111111,
             "#46039f"
            ],
            [
             0.2222222222222222,
             "#7201a8"
            ],
            [
             0.3333333333333333,
             "#9c179e"
            ],
            [
             0.4444444444444444,
             "#bd3786"
            ],
            [
             0.5555555555555556,
             "#d8576b"
            ],
            [
             0.6666666666666666,
             "#ed7953"
            ],
            [
             0.7777777777777778,
             "#fb9f3a"
            ],
            [
             0.8888888888888888,
             "#fdca26"
            ],
            [
             1,
             "#f0f921"
            ]
           ]
          },
          "colorway": [
           "#636efa",
           "#EF553B",
           "#00cc96",
           "#ab63fa",
           "#FFA15A",
           "#19d3f3",
           "#FF6692",
           "#B6E880",
           "#FF97FF",
           "#FECB52"
          ],
          "font": {
           "color": "#2a3f5f"
          },
          "geo": {
           "bgcolor": "white",
           "lakecolor": "white",
           "landcolor": "#E5ECF6",
           "showlakes": true,
           "showland": true,
           "subunitcolor": "white"
          },
          "hoverlabel": {
           "align": "left"
          },
          "hovermode": "closest",
          "mapbox": {
           "style": "light"
          },
          "paper_bgcolor": "white",
          "plot_bgcolor": "#E5ECF6",
          "polar": {
           "angularaxis": {
            "gridcolor": "white",
            "linecolor": "white",
            "ticks": ""
           },
           "bgcolor": "#E5ECF6",
           "radialaxis": {
            "gridcolor": "white",
            "linecolor": "white",
            "ticks": ""
           }
          },
          "scene": {
           "xaxis": {
            "backgroundcolor": "#E5ECF6",
            "gridcolor": "white",
            "gridwidth": 2,
            "linecolor": "white",
            "showbackground": true,
            "ticks": "",
            "zerolinecolor": "white"
           },
           "yaxis": {
            "backgroundcolor": "#E5ECF6",
            "gridcolor": "white",
            "gridwidth": 2,
            "linecolor": "white",
            "showbackground": true,
            "ticks": "",
            "zerolinecolor": "white"
           },
           "zaxis": {
            "backgroundcolor": "#E5ECF6",
            "gridcolor": "white",
            "gridwidth": 2,
            "linecolor": "white",
            "showbackground": true,
            "ticks": "",
            "zerolinecolor": "white"
           }
          },
          "shapedefaults": {
           "line": {
            "color": "#2a3f5f"
           }
          },
          "ternary": {
           "aaxis": {
            "gridcolor": "white",
            "linecolor": "white",
            "ticks": ""
           },
           "baxis": {
            "gridcolor": "white",
            "linecolor": "white",
            "ticks": ""
           },
           "bgcolor": "#E5ECF6",
           "caxis": {
            "gridcolor": "white",
            "linecolor": "white",
            "ticks": ""
           }
          },
          "title": {
           "x": 0.05
          },
          "xaxis": {
           "automargin": true,
           "gridcolor": "white",
           "linecolor": "white",
           "ticks": "",
           "zerolinecolor": "white",
           "zerolinewidth": 2
          },
          "yaxis": {
           "automargin": true,
           "gridcolor": "white",
           "linecolor": "white",
           "ticks": "",
           "zerolinecolor": "white",
           "zerolinewidth": 2
          }
         }
        },
        "title": {
         "font": {
          "color": "#4D5663"
         }
        },
        "xaxis": {
         "anchor": "y",
         "domain": [
          0,
          0.2125
         ],
         "gridcolor": "#E1E5ED",
         "showgrid": false,
         "tickfont": {
          "color": "#4D5663"
         },
         "title": {
          "font": {
           "color": "#4D5663"
          },
          "text": ""
         },
         "zerolinecolor": "#E1E5ED"
        },
        "xaxis10": {
         "anchor": "y10",
         "domain": [
          0.2625,
          0.475
         ],
         "gridcolor": "#E1E5ED",
         "showgrid": false,
         "tickfont": {
          "color": "#4D5663"
         },
         "title": {
          "font": {
           "color": "#4D5663"
          },
          "text": ""
         },
         "zerolinecolor": "#E1E5ED"
        },
        "xaxis11": {
         "anchor": "y11",
         "domain": [
          0.525,
          0.7375
         ],
         "gridcolor": "#E1E5ED",
         "showgrid": false,
         "tickfont": {
          "color": "#4D5663"
         },
         "title": {
          "font": {
           "color": "#4D5663"
          },
          "text": ""
         },
         "zerolinecolor": "#E1E5ED"
        },
        "xaxis12": {
         "anchor": "y12",
         "domain": [
          0.7875,
          1
         ],
         "gridcolor": "#E1E5ED",
         "showgrid": false,
         "tickfont": {
          "color": "#4D5663"
         },
         "title": {
          "font": {
           "color": "#4D5663"
          },
          "text": ""
         },
         "zerolinecolor": "#E1E5ED"
        },
        "xaxis13": {
         "anchor": "y13",
         "domain": [
          0,
          0.2125
         ],
         "gridcolor": "#E1E5ED",
         "showgrid": false,
         "tickfont": {
          "color": "#4D5663"
         },
         "title": {
          "font": {
           "color": "#4D5663"
          },
          "text": ""
         },
         "zerolinecolor": "#E1E5ED"
        },
        "xaxis14": {
         "anchor": "y14",
         "domain": [
          0.2625,
          0.475
         ],
         "gridcolor": "#E1E5ED",
         "showgrid": false,
         "tickfont": {
          "color": "#4D5663"
         },
         "title": {
          "font": {
           "color": "#4D5663"
          },
          "text": ""
         },
         "zerolinecolor": "#E1E5ED"
        },
        "xaxis15": {
         "anchor": "y15",
         "domain": [
          0.525,
          0.7375
         ],
         "gridcolor": "#E1E5ED",
         "showgrid": false,
         "tickfont": {
          "color": "#4D5663"
         },
         "title": {
          "font": {
           "color": "#4D5663"
          },
          "text": ""
         },
         "zerolinecolor": "#E1E5ED"
        },
        "xaxis16": {
         "anchor": "y16",
         "domain": [
          0.7875,
          1
         ],
         "gridcolor": "#E1E5ED",
         "showgrid": false,
         "tickfont": {
          "color": "#4D5663"
         },
         "title": {
          "font": {
           "color": "#4D5663"
          },
          "text": ""
         },
         "zerolinecolor": "#E1E5ED"
        },
        "xaxis2": {
         "anchor": "y2",
         "domain": [
          0.2625,
          0.475
         ],
         "gridcolor": "#E1E5ED",
         "showgrid": false,
         "tickfont": {
          "color": "#4D5663"
         },
         "title": {
          "font": {
           "color": "#4D5663"
          },
          "text": ""
         },
         "zerolinecolor": "#E1E5ED"
        },
        "xaxis3": {
         "anchor": "y3",
         "domain": [
          0.525,
          0.7375
         ],
         "gridcolor": "#E1E5ED",
         "showgrid": false,
         "tickfont": {
          "color": "#4D5663"
         },
         "title": {
          "font": {
           "color": "#4D5663"
          },
          "text": ""
         },
         "zerolinecolor": "#E1E5ED"
        },
        "xaxis4": {
         "anchor": "y4",
         "domain": [
          0.7875,
          1
         ],
         "gridcolor": "#E1E5ED",
         "showgrid": false,
         "tickfont": {
          "color": "#4D5663"
         },
         "title": {
          "font": {
           "color": "#4D5663"
          },
          "text": ""
         },
         "zerolinecolor": "#E1E5ED"
        },
        "xaxis5": {
         "anchor": "y5",
         "domain": [
          0,
          0.2125
         ],
         "gridcolor": "#E1E5ED",
         "showgrid": false,
         "tickfont": {
          "color": "#4D5663"
         },
         "title": {
          "font": {
           "color": "#4D5663"
          },
          "text": ""
         },
         "zerolinecolor": "#E1E5ED"
        },
        "xaxis6": {
         "anchor": "y6",
         "domain": [
          0.2625,
          0.475
         ],
         "gridcolor": "#E1E5ED",
         "showgrid": false,
         "tickfont": {
          "color": "#4D5663"
         },
         "title": {
          "font": {
           "color": "#4D5663"
          },
          "text": ""
         },
         "zerolinecolor": "#E1E5ED"
        },
        "xaxis7": {
         "anchor": "y7",
         "domain": [
          0.525,
          0.7375
         ],
         "gridcolor": "#E1E5ED",
         "showgrid": false,
         "tickfont": {
          "color": "#4D5663"
         },
         "title": {
          "font": {
           "color": "#4D5663"
          },
          "text": ""
         },
         "zerolinecolor": "#E1E5ED"
        },
        "xaxis8": {
         "anchor": "y8",
         "domain": [
          0.7875,
          1
         ],
         "gridcolor": "#E1E5ED",
         "showgrid": false,
         "tickfont": {
          "color": "#4D5663"
         },
         "title": {
          "font": {
           "color": "#4D5663"
          },
          "text": ""
         },
         "zerolinecolor": "#E1E5ED"
        },
        "xaxis9": {
         "anchor": "y9",
         "domain": [
          0,
          0.2125
         ],
         "gridcolor": "#E1E5ED",
         "showgrid": false,
         "tickfont": {
          "color": "#4D5663"
         },
         "title": {
          "font": {
           "color": "#4D5663"
          },
          "text": ""
         },
         "zerolinecolor": "#E1E5ED"
        },
        "yaxis": {
         "anchor": "x",
         "domain": [
          0.8025,
          1
         ],
         "gridcolor": "#E1E5ED",
         "showgrid": false,
         "tickfont": {
          "color": "#4D5663"
         },
         "title": {
          "font": {
           "color": "#4D5663"
          },
          "text": ""
         },
         "zerolinecolor": "#E1E5ED"
        },
        "yaxis10": {
         "anchor": "x10",
         "domain": [
          0.2675,
          0.465
         ],
         "gridcolor": "#E1E5ED",
         "showgrid": false,
         "tickfont": {
          "color": "#4D5663"
         },
         "title": {
          "font": {
           "color": "#4D5663"
          },
          "text": ""
         },
         "zerolinecolor": "#E1E5ED"
        },
        "yaxis11": {
         "anchor": "x11",
         "domain": [
          0.2675,
          0.465
         ],
         "gridcolor": "#E1E5ED",
         "showgrid": false,
         "tickfont": {
          "color": "#4D5663"
         },
         "title": {
          "font": {
           "color": "#4D5663"
          },
          "text": ""
         },
         "zerolinecolor": "#E1E5ED"
        },
        "yaxis12": {
         "anchor": "x12",
         "domain": [
          0.2675,
          0.465
         ],
         "gridcolor": "#E1E5ED",
         "showgrid": false,
         "tickfont": {
          "color": "#4D5663"
         },
         "title": {
          "font": {
           "color": "#4D5663"
          },
          "text": ""
         },
         "zerolinecolor": "#E1E5ED"
        },
        "yaxis13": {
         "anchor": "x13",
         "domain": [
          0,
          0.1975
         ],
         "gridcolor": "#E1E5ED",
         "showgrid": false,
         "tickfont": {
          "color": "#4D5663"
         },
         "title": {
          "font": {
           "color": "#4D5663"
          },
          "text": ""
         },
         "zerolinecolor": "#E1E5ED"
        },
        "yaxis14": {
         "anchor": "x14",
         "domain": [
          0,
          0.1975
         ],
         "gridcolor": "#E1E5ED",
         "showgrid": false,
         "tickfont": {
          "color": "#4D5663"
         },
         "title": {
          "font": {
           "color": "#4D5663"
          },
          "text": ""
         },
         "zerolinecolor": "#E1E5ED"
        },
        "yaxis15": {
         "anchor": "x15",
         "domain": [
          0,
          0.1975
         ],
         "gridcolor": "#E1E5ED",
         "showgrid": false,
         "tickfont": {
          "color": "#4D5663"
         },
         "title": {
          "font": {
           "color": "#4D5663"
          },
          "text": ""
         },
         "zerolinecolor": "#E1E5ED"
        },
        "yaxis16": {
         "anchor": "x16",
         "domain": [
          0,
          0.1975
         ],
         "gridcolor": "#E1E5ED",
         "showgrid": false,
         "tickfont": {
          "color": "#4D5663"
         },
         "title": {
          "font": {
           "color": "#4D5663"
          },
          "text": ""
         },
         "zerolinecolor": "#E1E5ED"
        },
        "yaxis2": {
         "anchor": "x2",
         "domain": [
          0.8025,
          1
         ],
         "gridcolor": "#E1E5ED",
         "showgrid": false,
         "tickfont": {
          "color": "#4D5663"
         },
         "title": {
          "font": {
           "color": "#4D5663"
          },
          "text": ""
         },
         "zerolinecolor": "#E1E5ED"
        },
        "yaxis3": {
         "anchor": "x3",
         "domain": [
          0.8025,
          1
         ],
         "gridcolor": "#E1E5ED",
         "showgrid": false,
         "tickfont": {
          "color": "#4D5663"
         },
         "title": {
          "font": {
           "color": "#4D5663"
          },
          "text": ""
         },
         "zerolinecolor": "#E1E5ED"
        },
        "yaxis4": {
         "anchor": "x4",
         "domain": [
          0.8025,
          1
         ],
         "gridcolor": "#E1E5ED",
         "showgrid": false,
         "tickfont": {
          "color": "#4D5663"
         },
         "title": {
          "font": {
           "color": "#4D5663"
          },
          "text": ""
         },
         "zerolinecolor": "#E1E5ED"
        },
        "yaxis5": {
         "anchor": "x5",
         "domain": [
          0.535,
          0.7325
         ],
         "gridcolor": "#E1E5ED",
         "showgrid": false,
         "tickfont": {
          "color": "#4D5663"
         },
         "title": {
          "font": {
           "color": "#4D5663"
          },
          "text": ""
         },
         "zerolinecolor": "#E1E5ED"
        },
        "yaxis6": {
         "anchor": "x6",
         "domain": [
          0.535,
          0.7325
         ],
         "gridcolor": "#E1E5ED",
         "showgrid": false,
         "tickfont": {
          "color": "#4D5663"
         },
         "title": {
          "font": {
           "color": "#4D5663"
          },
          "text": ""
         },
         "zerolinecolor": "#E1E5ED"
        },
        "yaxis7": {
         "anchor": "x7",
         "domain": [
          0.535,
          0.7325
         ],
         "gridcolor": "#E1E5ED",
         "showgrid": false,
         "tickfont": {
          "color": "#4D5663"
         },
         "title": {
          "font": {
           "color": "#4D5663"
          },
          "text": ""
         },
         "zerolinecolor": "#E1E5ED"
        },
        "yaxis8": {
         "anchor": "x8",
         "domain": [
          0.535,
          0.7325
         ],
         "gridcolor": "#E1E5ED",
         "showgrid": false,
         "tickfont": {
          "color": "#4D5663"
         },
         "title": {
          "font": {
           "color": "#4D5663"
          },
          "text": ""
         },
         "zerolinecolor": "#E1E5ED"
        },
        "yaxis9": {
         "anchor": "x9",
         "domain": [
          0.2675,
          0.465
         ],
         "gridcolor": "#E1E5ED",
         "showgrid": false,
         "tickfont": {
          "color": "#4D5663"
         },
         "title": {
          "font": {
           "color": "#4D5663"
          },
          "text": ""
         },
         "zerolinecolor": "#E1E5ED"
        }
       }
      },
      "text/html": [
       "<div>\n",
       "        \n",
       "        \n",
       "            <div id=\"5945243f-417e-4e33-9f94-b32b7b2600cc\" class=\"plotly-graph-div\" style=\"height:525px; width:100%;\"></div>\n",
       "            <script type=\"text/javascript\">\n",
       "                require([\"plotly\"], function(Plotly) {\n",
       "                    window.PLOTLYENV=window.PLOTLYENV || {};\n",
       "                    window.PLOTLYENV.BASE_URL='https://plot.ly';\n",
       "                    \n",
       "                if (document.getElementById(\"5945243f-417e-4e33-9f94-b32b7b2600cc\")) {\n",
       "                    Plotly.newPlot(\n",
       "                        '5945243f-417e-4e33-9f94-b32b7b2600cc',\n",
       "                        [{\"histfunc\": \"count\", \"histnorm\": \"\", \"marker\": {\"color\": \"rgba(255, 153, 51, 1.0)\", \"line\": {\"color\": \"#4D5663\", \"width\": 1.3}}, \"name\": \"A\", \"nbinsx\": 10, \"opacity\": 0.8, \"orientation\": \"v\", \"type\": \"histogram\", \"x\": [1.0449692502051247, 1.4014865892350301, 0.2777510317952268, -1.0406765670657876, 0.006359873179908175, 0.12397386661141808, 1.4994280432956189, -1.9346238092149068, 0.35775705631885724, -0.34733273139125354, -1.3373498970995634, 0.5091515021663505, 1.6830219082728322, 0.10537667311719211, -2.5140060263209567, -0.7889335872294903, -0.0793938247201161, 1.0581598354422561, -0.30745406708624323, -0.9734821005483372, -0.7606620447650821, 0.021183267166173587, -1.7574711218864698, -0.9512855259494061, 0.276338353437027, 1.0802903181292332, 0.08603908044689187, 0.1758005729081879, -0.9834799312375738, 1.2317154884736348, -0.38431628365933634, -1.3881384191043795, -0.9125394169049456, -0.06794122752929284, -1.0022938850420355, -0.5095861337124544, -0.2145016229316288, -0.1943220846212686, -0.06818560747550947, -0.11897249361823674, -0.6495429422228579, 0.06269089056141017, 0.7860879064361281, -0.02466660086278837, -1.0398428437836782, 1.961276736519445, -0.75184757764632, -1.0454232300948676, 0.08359602149063225, -0.044816813695500904, -1.857736593010825, -0.32146990193714037, 1.2739521892455514, -0.0681200681829437, 0.05565804637859506, -0.9692222211336554, 0.38286724571536196, -0.2831006200212324, 2.763018694518891, -0.2431284914703938, 0.6895516333352446, -0.9594802988637272, -0.36534172808055654, 0.6370985113662331, -0.8755116726783624, -0.3281051711722991, -0.25980975372081383, -0.02807393604023754, 1.773774961703449, 0.22301815139047637, 0.32490702837345103, 0.5769192199507911, -0.3559427830466943, -0.30962702682606874, 0.6877374686393355, 0.4729623462551443, -1.3761942534956288, -0.36096947072820446, 0.5562044076399122, 1.2584082074658807, 0.45376062650949156, 1.2140873967387038, 0.5732739119550228, 2.3621996474302356, 0.30980883930255376, -1.3104375373247683, -0.3006239722533239, 0.4473291641086172, 0.45413611270862947, 1.0204039525647968, -1.0879414724793888, 0.28759734847120055, 0.10519796793009067, -0.5789700813247838, 0.10266167172467248, 0.0396210104831097, -0.3224039898722025, 0.4844161425061551, 0.8549570449938488, -0.5909057407999417], \"xaxis\": \"x\", \"yaxis\": \"y\"}, {\"line\": {\"color\": \"rgba(128, 128, 128, 1.0)\", \"dash\": \"solid\", \"shape\": \"linear\", \"width\": 1.3}, \"marker\": {\"size\": 2, \"symbol\": \"circle\"}, \"mode\": \"markers\", \"name\": \"A\", \"text\": \"\", \"type\": \"scatter\", \"x\": [-0.6122871493742158, 1.1081871772883127, 0.07237326664240411, 1.406695566419615, 2.677619031027863, 1.112007896315254, -0.042717243892368036, 0.7591151319917263, 1.0556520331963073, 1.2870160271112958, 1.0403960791303974, 0.3389096166665409, -0.8704406299249163, -0.05277500029748561, -0.36939451035933046, 0.021989699598618934, 1.1444382793684356, -0.8927764162249062, -0.1628051853947566, -0.5432752677219072, -1.240592684049764, -1.7721162352992212, 1.9328913219273787, 2.5947345249856943, 0.039314714721758216, -0.3116962358433378, -0.2601966610359773, -0.5615995471631422, 2.8799163670262224, 0.15733010475255726, -0.10534874143218677, 1.9020147526179778, -1.8874958202687249, 0.2701239367297032, -0.4623567400425783, -0.9465296338310447, -1.306966472110278, 0.0460281332075379, -0.42391723840307133, 0.32106132358339107, -1.357774815758448, -0.1983057429079247, 0.5394666356832476, 0.27345282349426914, 1.7115369034552415, 1.3539777900604741, 0.41853317042274557, 0.42272832867468335, 1.7478578513191985, 0.2103817558651291, -1.1263253595684382, -0.20054913121668919, -0.44667446570921543, 0.3582952961244712, -0.205638127832226, -0.5058332125899551, 0.046587499309992404, -1.1411642331240202, 2.3549815303843684, -1.3147166480097907, -1.11288153984668, -2.0500677731421284, 0.21388936815754106, 0.809410971577199, 1.8446996235700726, -0.3183719938850659, -0.38613673683138866, -0.5626146532545004, 0.33272738668322926, -0.7360737680381293, -0.07820086788220298, -0.9239854599721813, -0.3422751447747376, -0.27439983203656493, 0.8789170986350728, -0.7653109466860576, -1.0293486730547823, -1.7521978262212234, 0.22988231823569452, 0.3452925830352003, 0.6636820763451339, -0.4905628916181519, -0.9596968706279292, -1.0899108329787122, 0.21527711643708103, 0.38782001222417123, -2.3328215385791, 0.2751742167113534, 1.1775728381813217, 0.6919533953962174, -0.3615718797962593, -0.7504278081657234, 0.3403032080793858, -0.839800460389345, -0.06837495898684512, 0.877458070792261, 0.6542370835529798, -0.3644351488624026, 0.250900416278955, -0.5321225014239536], \"xaxis\": \"x2\", \"y\": [1.0449692502051247, 1.4014865892350301, 0.2777510317952268, -1.0406765670657876, 0.006359873179908175, 0.12397386661141808, 1.4994280432956189, -1.9346238092149068, 0.35775705631885724, -0.34733273139125354, -1.3373498970995634, 0.5091515021663505, 1.6830219082728322, 0.10537667311719211, -2.5140060263209567, -0.7889335872294903, -0.0793938247201161, 1.0581598354422561, -0.30745406708624323, -0.9734821005483372, -0.7606620447650821, 0.021183267166173587, -1.7574711218864698, -0.9512855259494061, 0.276338353437027, 1.0802903181292332, 0.08603908044689187, 0.1758005729081879, -0.9834799312375738, 1.2317154884736348, -0.38431628365933634, -1.3881384191043795, -0.9125394169049456, -0.06794122752929284, -1.0022938850420355, -0.5095861337124544, -0.2145016229316288, -0.1943220846212686, -0.06818560747550947, -0.11897249361823674, -0.6495429422228579, 0.06269089056141017, 0.7860879064361281, -0.02466660086278837, -1.0398428437836782, 1.961276736519445, -0.75184757764632, -1.0454232300948676, 0.08359602149063225, -0.044816813695500904, -1.857736593010825, -0.32146990193714037, 1.2739521892455514, -0.0681200681829437, 0.05565804637859506, -0.9692222211336554, 0.38286724571536196, -0.2831006200212324, 2.763018694518891, -0.2431284914703938, 0.6895516333352446, -0.9594802988637272, -0.36534172808055654, 0.6370985113662331, -0.8755116726783624, -0.3281051711722991, -0.25980975372081383, -0.02807393604023754, 1.773774961703449, 0.22301815139047637, 0.32490702837345103, 0.5769192199507911, -0.3559427830466943, -0.30962702682606874, 0.6877374686393355, 0.4729623462551443, -1.3761942534956288, -0.36096947072820446, 0.5562044076399122, 1.2584082074658807, 0.45376062650949156, 1.2140873967387038, 0.5732739119550228, 2.3621996474302356, 0.30980883930255376, -1.3104375373247683, -0.3006239722533239, 0.4473291641086172, 0.45413611270862947, 1.0204039525647968, -1.0879414724793888, 0.28759734847120055, 0.10519796793009067, -0.5789700813247838, 0.10266167172467248, 0.0396210104831097, -0.3224039898722025, 0.4844161425061551, 0.8549570449938488, -0.5909057407999417], \"yaxis\": \"y2\"}, {\"line\": {\"color\": \"rgba(128, 128, 128, 1.0)\", \"dash\": \"solid\", \"shape\": \"linear\", \"width\": 1.3}, \"marker\": {\"size\": 2, \"symbol\": \"circle\"}, \"mode\": \"markers\", \"name\": \"A\", \"text\": \"\", \"type\": \"scatter\", \"x\": [-0.5142528913325504, 0.5060266865794251, -1.6199583518120624, 1.8520587261057713, -0.06554062187242882, -2.1193259871211962, -0.10312402452617933, -0.2823173400730764, -0.13713805337433913, 1.509537357938146, 0.0699150051150181, 0.5380126201309465, 0.11584461685786844, -0.02464492557676752, -0.22670330406721462, 0.521216649227666, -0.9283242198794059, 0.4257681693106232, 1.6531025440167102, -0.11088716206043903, 0.34115325011588266, 0.19120740879670203, -0.8868759049564396, -1.7665115973106773, 0.04659283029643008, -0.26264009433781116, -0.7071677499191127, -1.8156573055356273, -0.9597661977627481, 0.6346750081123061, -1.2170687733038335, -0.09503170353552087, 1.2235524605060015, -2.483961254402522, -1.7769248644839108, -1.167942537919844, -1.7195038202017292, 2.0000000659066908, 0.735208684860714, -0.9902315523103511, -0.24048213191664183, 1.684530587039095, -0.8388205164133292, -1.5105035457517466, -0.7217585881068305, -1.672436399800455, -2.173498116671171, -1.0121748883082924, -1.9379300516043922, -0.8103204539085346, 0.9602618744081481, 0.29108361202828015, 0.6632213083854124, -0.6377180059935375, 0.5950516126316518, 0.6459072036021757, 1.5733916420969902, -1.3755776322637125, -2.9636502997862815, 0.5909172534700501, -1.6584566371411256, 1.5220899668785541, 0.7437572068187299, 0.5385883569246949, -0.017830962906104177, 0.2739753391236766, -0.4897537917204501, 0.4337635052628477, 0.42096938113998467, 0.15157774948474637, 0.8303928356370296, -1.4641096801019973, -0.9886301086830224, -0.5259368596049694, -1.5161897653064285, -0.2593709607188089, 0.4846766662224007, -0.021870174420385715, 2.1037454743733743, -0.45287066592680886, -1.3146233749916059, 0.9802479499305575, 0.955092541257332, -0.8880568724131004, -0.7377153152834167, -1.0184162487167085, 1.4042890541610809, -0.42940422485424895, 0.15116426244474643, 0.9652533091065145, -0.8508199097895947, 2.6216476630924896, -0.32293649151183895, -0.2391850956188257, 0.949598408520094, -0.044902526507576285, -0.4449347958761696, 1.004093561405033, 0.5596332142497225, 1.035489733390435], \"xaxis\": \"x3\", \"y\": [1.0449692502051247, 1.4014865892350301, 0.2777510317952268, -1.0406765670657876, 0.006359873179908175, 0.12397386661141808, 1.4994280432956189, -1.9346238092149068, 0.35775705631885724, -0.34733273139125354, -1.3373498970995634, 0.5091515021663505, 1.6830219082728322, 0.10537667311719211, -2.5140060263209567, -0.7889335872294903, -0.0793938247201161, 1.0581598354422561, -0.30745406708624323, -0.9734821005483372, -0.7606620447650821, 0.021183267166173587, -1.7574711218864698, -0.9512855259494061, 0.276338353437027, 1.0802903181292332, 0.08603908044689187, 0.1758005729081879, -0.9834799312375738, 1.2317154884736348, -0.38431628365933634, -1.3881384191043795, -0.9125394169049456, -0.06794122752929284, -1.0022938850420355, -0.5095861337124544, -0.2145016229316288, -0.1943220846212686, -0.06818560747550947, -0.11897249361823674, -0.6495429422228579, 0.06269089056141017, 0.7860879064361281, -0.02466660086278837, -1.0398428437836782, 1.961276736519445, -0.75184757764632, -1.0454232300948676, 0.08359602149063225, -0.044816813695500904, -1.857736593010825, -0.32146990193714037, 1.2739521892455514, -0.0681200681829437, 0.05565804637859506, -0.9692222211336554, 0.38286724571536196, -0.2831006200212324, 2.763018694518891, -0.2431284914703938, 0.6895516333352446, -0.9594802988637272, -0.36534172808055654, 0.6370985113662331, -0.8755116726783624, -0.3281051711722991, -0.25980975372081383, -0.02807393604023754, 1.773774961703449, 0.22301815139047637, 0.32490702837345103, 0.5769192199507911, -0.3559427830466943, -0.30962702682606874, 0.6877374686393355, 0.4729623462551443, -1.3761942534956288, -0.36096947072820446, 0.5562044076399122, 1.2584082074658807, 0.45376062650949156, 1.2140873967387038, 0.5732739119550228, 2.3621996474302356, 0.30980883930255376, -1.3104375373247683, -0.3006239722533239, 0.4473291641086172, 0.45413611270862947, 1.0204039525647968, -1.0879414724793888, 0.28759734847120055, 0.10519796793009067, -0.5789700813247838, 0.10266167172467248, 0.0396210104831097, -0.3224039898722025, 0.4844161425061551, 0.8549570449938488, -0.5909057407999417], \"yaxis\": \"y3\"}, {\"line\": {\"color\": \"rgba(128, 128, 128, 1.0)\", \"dash\": \"solid\", \"shape\": \"linear\", \"width\": 1.3}, \"marker\": {\"size\": 2, \"symbol\": \"circle\"}, \"mode\": \"markers\", \"name\": \"A\", \"text\": \"\", \"type\": \"scatter\", \"x\": [0.6050867298924966, -0.6165866449072356, 1.9487979965437259, -0.9098734933847339, -2.492192741530579, -1.155198957029045, -1.4929999744628006, -0.6040682200297907, 1.1366377934624625, 2.1513349584751413, 0.3947866509168756, -1.1929820842826453, 1.6634720580878073, 1.7738426060724652, 1.8529184726392016, -0.3840859492385011, 0.6038579823541418, 0.4131455954870885, 0.7068497108506195, 1.147749500892832, 2.299835378399439, -1.8717147301126826, -0.034324380922480635, 0.35695342673173813, -0.8910845826111833, -0.8890807680339394, -0.24555389023033755, 1.3487161260272114, 2.461602113678832, -0.4219196891101721, 1.7757603921594751, -0.8626667040522148, 0.9644720228180006, -0.13709347296471658, 0.9061307234417265, 1.1182669714111269, -1.5151919116851684, 1.6096394845501398, 1.4515306958753844, 1.0129930988439324, 0.5254220174243576, -0.5902563173223, -1.17734244009965, -0.14499224358899587, 0.5338044465845787, 1.3902763025357754, -0.6241152889181363, -0.3038129866665245, 1.4541004147160546, 0.8350250449168365, 0.6964153508844321, 0.012566751083774863, -0.47338180272236235, 1.210613945217184, -1.0854061797739847, -1.697645227564379, 1.0491560820021897, -0.29289990375255287, 0.5307495504562542, -0.23667795131555489, 1.2434324239684833, -1.0955154658686839, -0.14252294279495933, 0.3537686407349682, -0.9139176186616194, 2.0992388874678136, 0.2167135194987622, -0.9942562488323905, 0.400285751143757, -1.114634278308162, 0.40071764923934294, 0.4505972499639887, -0.3474045765052524, -1.2267801096715627, 0.11872707312681956, -0.9861172624062554, 1.1492273572779284, 1.1799550068207683, -2.30264447691568, -1.3466731136426056, 0.5911496226492886, 1.1129518683146158, -0.645887328395313, 0.5774811909153283, -0.5390165554972535, -1.3728921095139972, -0.07932798925006247, -0.15377014478816045, 0.06026333694448666, 0.31048323905397635, -0.07043280832010015, -1.7914880877152701, -0.9447671861317545, -0.420201609792276, 0.6595591715995851, -0.6347356068008602, -0.6959153846895623, 1.6557390912262673, 1.4502044430567527, -0.46731655681490564], \"xaxis\": \"x4\", \"y\": [1.0449692502051247, 1.4014865892350301, 0.2777510317952268, -1.0406765670657876, 0.006359873179908175, 0.12397386661141808, 1.4994280432956189, -1.9346238092149068, 0.35775705631885724, -0.34733273139125354, -1.3373498970995634, 0.5091515021663505, 1.6830219082728322, 0.10537667311719211, -2.5140060263209567, -0.7889335872294903, -0.0793938247201161, 1.0581598354422561, -0.30745406708624323, -0.9734821005483372, -0.7606620447650821, 0.021183267166173587, -1.7574711218864698, -0.9512855259494061, 0.276338353437027, 1.0802903181292332, 0.08603908044689187, 0.1758005729081879, -0.9834799312375738, 1.2317154884736348, -0.38431628365933634, -1.3881384191043795, -0.9125394169049456, -0.06794122752929284, -1.0022938850420355, -0.5095861337124544, -0.2145016229316288, -0.1943220846212686, -0.06818560747550947, -0.11897249361823674, -0.6495429422228579, 0.06269089056141017, 0.7860879064361281, -0.02466660086278837, -1.0398428437836782, 1.961276736519445, -0.75184757764632, -1.0454232300948676, 0.08359602149063225, -0.044816813695500904, -1.857736593010825, -0.32146990193714037, 1.2739521892455514, -0.0681200681829437, 0.05565804637859506, -0.9692222211336554, 0.38286724571536196, -0.2831006200212324, 2.763018694518891, -0.2431284914703938, 0.6895516333352446, -0.9594802988637272, -0.36534172808055654, 0.6370985113662331, -0.8755116726783624, -0.3281051711722991, -0.25980975372081383, -0.02807393604023754, 1.773774961703449, 0.22301815139047637, 0.32490702837345103, 0.5769192199507911, -0.3559427830466943, -0.30962702682606874, 0.6877374686393355, 0.4729623462551443, -1.3761942534956288, -0.36096947072820446, 0.5562044076399122, 1.2584082074658807, 0.45376062650949156, 1.2140873967387038, 0.5732739119550228, 2.3621996474302356, 0.30980883930255376, -1.3104375373247683, -0.3006239722533239, 0.4473291641086172, 0.45413611270862947, 1.0204039525647968, -1.0879414724793888, 0.28759734847120055, 0.10519796793009067, -0.5789700813247838, 0.10266167172467248, 0.0396210104831097, -0.3224039898722025, 0.4844161425061551, 0.8549570449938488, -0.5909057407999417], \"yaxis\": \"y4\"}, {\"line\": {\"color\": \"rgba(128, 128, 128, 1.0)\", \"dash\": \"solid\", \"shape\": \"linear\", \"width\": 1.3}, \"marker\": {\"size\": 2, \"symbol\": \"circle\"}, \"mode\": \"markers\", \"name\": \"B\", \"text\": \"\", \"type\": \"scatter\", \"x\": [1.0449692502051247, 1.4014865892350301, 0.2777510317952268, -1.0406765670657876, 0.006359873179908175, 0.12397386661141808, 1.4994280432956189, -1.9346238092149068, 0.35775705631885724, -0.34733273139125354, -1.3373498970995634, 0.5091515021663505, 1.6830219082728322, 0.10537667311719211, -2.5140060263209567, -0.7889335872294903, -0.0793938247201161, 1.0581598354422561, -0.30745406708624323, -0.9734821005483372, -0.7606620447650821, 0.021183267166173587, -1.7574711218864698, -0.9512855259494061, 0.276338353437027, 1.0802903181292332, 0.08603908044689187, 0.1758005729081879, -0.9834799312375738, 1.2317154884736348, -0.38431628365933634, -1.3881384191043795, -0.9125394169049456, -0.06794122752929284, -1.0022938850420355, -0.5095861337124544, -0.2145016229316288, -0.1943220846212686, -0.06818560747550947, -0.11897249361823674, -0.6495429422228579, 0.06269089056141017, 0.7860879064361281, -0.02466660086278837, -1.0398428437836782, 1.961276736519445, -0.75184757764632, -1.0454232300948676, 0.08359602149063225, -0.044816813695500904, -1.857736593010825, -0.32146990193714037, 1.2739521892455514, -0.0681200681829437, 0.05565804637859506, -0.9692222211336554, 0.38286724571536196, -0.2831006200212324, 2.763018694518891, -0.2431284914703938, 0.6895516333352446, -0.9594802988637272, -0.36534172808055654, 0.6370985113662331, -0.8755116726783624, -0.3281051711722991, -0.25980975372081383, -0.02807393604023754, 1.773774961703449, 0.22301815139047637, 0.32490702837345103, 0.5769192199507911, -0.3559427830466943, -0.30962702682606874, 0.6877374686393355, 0.4729623462551443, -1.3761942534956288, -0.36096947072820446, 0.5562044076399122, 1.2584082074658807, 0.45376062650949156, 1.2140873967387038, 0.5732739119550228, 2.3621996474302356, 0.30980883930255376, -1.3104375373247683, -0.3006239722533239, 0.4473291641086172, 0.45413611270862947, 1.0204039525647968, -1.0879414724793888, 0.28759734847120055, 0.10519796793009067, -0.5789700813247838, 0.10266167172467248, 0.0396210104831097, -0.3224039898722025, 0.4844161425061551, 0.8549570449938488, -0.5909057407999417], \"xaxis\": \"x5\", \"y\": [-0.6122871493742158, 1.1081871772883127, 0.07237326664240411, 1.406695566419615, 2.677619031027863, 1.112007896315254, -0.042717243892368036, 0.7591151319917263, 1.0556520331963073, 1.2870160271112958, 1.0403960791303974, 0.3389096166665409, -0.8704406299249163, -0.05277500029748561, -0.36939451035933046, 0.021989699598618934, 1.1444382793684356, -0.8927764162249062, -0.1628051853947566, -0.5432752677219072, -1.240592684049764, -1.7721162352992212, 1.9328913219273787, 2.5947345249856943, 0.039314714721758216, -0.3116962358433378, -0.2601966610359773, -0.5615995471631422, 2.8799163670262224, 0.15733010475255726, -0.10534874143218677, 1.9020147526179778, -1.8874958202687249, 0.2701239367297032, -0.4623567400425783, -0.9465296338310447, -1.306966472110278, 0.0460281332075379, -0.42391723840307133, 0.32106132358339107, -1.357774815758448, -0.1983057429079247, 0.5394666356832476, 0.27345282349426914, 1.7115369034552415, 1.3539777900604741, 0.41853317042274557, 0.42272832867468335, 1.7478578513191985, 0.2103817558651291, -1.1263253595684382, -0.20054913121668919, -0.44667446570921543, 0.3582952961244712, -0.205638127832226, -0.5058332125899551, 0.046587499309992404, -1.1411642331240202, 2.3549815303843684, -1.3147166480097907, -1.11288153984668, -2.0500677731421284, 0.21388936815754106, 0.809410971577199, 1.8446996235700726, -0.3183719938850659, -0.38613673683138866, -0.5626146532545004, 0.33272738668322926, -0.7360737680381293, -0.07820086788220298, -0.9239854599721813, -0.3422751447747376, -0.27439983203656493, 0.8789170986350728, -0.7653109466860576, -1.0293486730547823, -1.7521978262212234, 0.22988231823569452, 0.3452925830352003, 0.6636820763451339, -0.4905628916181519, -0.9596968706279292, -1.0899108329787122, 0.21527711643708103, 0.38782001222417123, -2.3328215385791, 0.2751742167113534, 1.1775728381813217, 0.6919533953962174, -0.3615718797962593, -0.7504278081657234, 0.3403032080793858, -0.839800460389345, -0.06837495898684512, 0.877458070792261, 0.6542370835529798, -0.3644351488624026, 0.250900416278955, -0.5321225014239536], \"yaxis\": \"y5\"}, {\"histfunc\": \"count\", \"histnorm\": \"\", \"marker\": {\"color\": \"rgba(55, 128, 191, 1.0)\", \"line\": {\"color\": \"#4D5663\", \"width\": 1.3}}, \"name\": \"B\", \"nbinsx\": 10, \"opacity\": 0.8, \"orientation\": \"v\", \"type\": \"histogram\", \"x\": [-0.6122871493742158, 1.1081871772883127, 0.07237326664240411, 1.406695566419615, 2.677619031027863, 1.112007896315254, -0.042717243892368036, 0.7591151319917263, 1.0556520331963073, 1.2870160271112958, 1.0403960791303974, 0.3389096166665409, -0.8704406299249163, -0.05277500029748561, -0.36939451035933046, 0.021989699598618934, 1.1444382793684356, -0.8927764162249062, -0.1628051853947566, -0.5432752677219072, -1.240592684049764, -1.7721162352992212, 1.9328913219273787, 2.5947345249856943, 0.039314714721758216, -0.3116962358433378, -0.2601966610359773, -0.5615995471631422, 2.8799163670262224, 0.15733010475255726, -0.10534874143218677, 1.9020147526179778, -1.8874958202687249, 0.2701239367297032, -0.4623567400425783, -0.9465296338310447, -1.306966472110278, 0.0460281332075379, -0.42391723840307133, 0.32106132358339107, -1.357774815758448, -0.1983057429079247, 0.5394666356832476, 0.27345282349426914, 1.7115369034552415, 1.3539777900604741, 0.41853317042274557, 0.42272832867468335, 1.7478578513191985, 0.2103817558651291, -1.1263253595684382, -0.20054913121668919, -0.44667446570921543, 0.3582952961244712, -0.205638127832226, -0.5058332125899551, 0.046587499309992404, -1.1411642331240202, 2.3549815303843684, -1.3147166480097907, -1.11288153984668, -2.0500677731421284, 0.21388936815754106, 0.809410971577199, 1.8446996235700726, -0.3183719938850659, -0.38613673683138866, -0.5626146532545004, 0.33272738668322926, -0.7360737680381293, -0.07820086788220298, -0.9239854599721813, -0.3422751447747376, -0.27439983203656493, 0.8789170986350728, -0.7653109466860576, -1.0293486730547823, -1.7521978262212234, 0.22988231823569452, 0.3452925830352003, 0.6636820763451339, -0.4905628916181519, -0.9596968706279292, -1.0899108329787122, 0.21527711643708103, 0.38782001222417123, -2.3328215385791, 0.2751742167113534, 1.1775728381813217, 0.6919533953962174, -0.3615718797962593, -0.7504278081657234, 0.3403032080793858, -0.839800460389345, -0.06837495898684512, 0.877458070792261, 0.6542370835529798, -0.3644351488624026, 0.250900416278955, -0.5321225014239536], \"xaxis\": \"x6\", \"yaxis\": \"y6\"}, {\"line\": {\"color\": \"rgba(128, 128, 128, 1.0)\", \"dash\": \"solid\", \"shape\": \"linear\", \"width\": 1.3}, \"marker\": {\"size\": 2, \"symbol\": \"circle\"}, \"mode\": \"markers\", \"name\": \"B\", \"text\": \"\", \"type\": \"scatter\", \"x\": [-0.5142528913325504, 0.5060266865794251, -1.6199583518120624, 1.8520587261057713, -0.06554062187242882, -2.1193259871211962, -0.10312402452617933, -0.2823173400730764, -0.13713805337433913, 1.509537357938146, 0.0699150051150181, 0.5380126201309465, 0.11584461685786844, -0.02464492557676752, -0.22670330406721462, 0.521216649227666, -0.9283242198794059, 0.4257681693106232, 1.6531025440167102, -0.11088716206043903, 0.34115325011588266, 0.19120740879670203, -0.8868759049564396, -1.7665115973106773, 0.04659283029643008, -0.26264009433781116, -0.7071677499191127, -1.8156573055356273, -0.9597661977627481, 0.6346750081123061, -1.2170687733038335, -0.09503170353552087, 1.2235524605060015, -2.483961254402522, -1.7769248644839108, -1.167942537919844, -1.7195038202017292, 2.0000000659066908, 0.735208684860714, -0.9902315523103511, -0.24048213191664183, 1.684530587039095, -0.8388205164133292, -1.5105035457517466, -0.7217585881068305, -1.672436399800455, -2.173498116671171, -1.0121748883082924, -1.9379300516043922, -0.8103204539085346, 0.9602618744081481, 0.29108361202828015, 0.6632213083854124, -0.6377180059935375, 0.5950516126316518, 0.6459072036021757, 1.5733916420969902, -1.3755776322637125, -2.9636502997862815, 0.5909172534700501, -1.6584566371411256, 1.5220899668785541, 0.7437572068187299, 0.5385883569246949, -0.017830962906104177, 0.2739753391236766, -0.4897537917204501, 0.4337635052628477, 0.42096938113998467, 0.15157774948474637, 0.8303928356370296, -1.4641096801019973, -0.9886301086830224, -0.5259368596049694, -1.5161897653064285, -0.2593709607188089, 0.4846766662224007, -0.021870174420385715, 2.1037454743733743, -0.45287066592680886, -1.3146233749916059, 0.9802479499305575, 0.955092541257332, -0.8880568724131004, -0.7377153152834167, -1.0184162487167085, 1.4042890541610809, -0.42940422485424895, 0.15116426244474643, 0.9652533091065145, -0.8508199097895947, 2.6216476630924896, -0.32293649151183895, -0.2391850956188257, 0.949598408520094, -0.044902526507576285, -0.4449347958761696, 1.004093561405033, 0.5596332142497225, 1.035489733390435], \"xaxis\": \"x7\", \"y\": [-0.6122871493742158, 1.1081871772883127, 0.07237326664240411, 1.406695566419615, 2.677619031027863, 1.112007896315254, -0.042717243892368036, 0.7591151319917263, 1.0556520331963073, 1.2870160271112958, 1.0403960791303974, 0.3389096166665409, -0.8704406299249163, -0.05277500029748561, -0.36939451035933046, 0.021989699598618934, 1.1444382793684356, -0.8927764162249062, -0.1628051853947566, -0.5432752677219072, -1.240592684049764, -1.7721162352992212, 1.9328913219273787, 2.5947345249856943, 0.039314714721758216, -0.3116962358433378, -0.2601966610359773, -0.5615995471631422, 2.8799163670262224, 0.15733010475255726, -0.10534874143218677, 1.9020147526179778, -1.8874958202687249, 0.2701239367297032, -0.4623567400425783, -0.9465296338310447, -1.306966472110278, 0.0460281332075379, -0.42391723840307133, 0.32106132358339107, -1.357774815758448, -0.1983057429079247, 0.5394666356832476, 0.27345282349426914, 1.7115369034552415, 1.3539777900604741, 0.41853317042274557, 0.42272832867468335, 1.7478578513191985, 0.2103817558651291, -1.1263253595684382, -0.20054913121668919, -0.44667446570921543, 0.3582952961244712, -0.205638127832226, -0.5058332125899551, 0.046587499309992404, -1.1411642331240202, 2.3549815303843684, -1.3147166480097907, -1.11288153984668, -2.0500677731421284, 0.21388936815754106, 0.809410971577199, 1.8446996235700726, -0.3183719938850659, -0.38613673683138866, -0.5626146532545004, 0.33272738668322926, -0.7360737680381293, -0.07820086788220298, -0.9239854599721813, -0.3422751447747376, -0.27439983203656493, 0.8789170986350728, -0.7653109466860576, -1.0293486730547823, -1.7521978262212234, 0.22988231823569452, 0.3452925830352003, 0.6636820763451339, -0.4905628916181519, -0.9596968706279292, -1.0899108329787122, 0.21527711643708103, 0.38782001222417123, -2.3328215385791, 0.2751742167113534, 1.1775728381813217, 0.6919533953962174, -0.3615718797962593, -0.7504278081657234, 0.3403032080793858, -0.839800460389345, -0.06837495898684512, 0.877458070792261, 0.6542370835529798, -0.3644351488624026, 0.250900416278955, -0.5321225014239536], \"yaxis\": \"y7\"}, {\"line\": {\"color\": \"rgba(128, 128, 128, 1.0)\", \"dash\": \"solid\", \"shape\": \"linear\", \"width\": 1.3}, \"marker\": {\"size\": 2, \"symbol\": \"circle\"}, \"mode\": \"markers\", \"name\": \"B\", \"text\": \"\", \"type\": \"scatter\", \"x\": [0.6050867298924966, -0.6165866449072356, 1.9487979965437259, -0.9098734933847339, -2.492192741530579, -1.155198957029045, -1.4929999744628006, -0.6040682200297907, 1.1366377934624625, 2.1513349584751413, 0.3947866509168756, -1.1929820842826453, 1.6634720580878073, 1.7738426060724652, 1.8529184726392016, -0.3840859492385011, 0.6038579823541418, 0.4131455954870885, 0.7068497108506195, 1.147749500892832, 2.299835378399439, -1.8717147301126826, -0.034324380922480635, 0.35695342673173813, -0.8910845826111833, -0.8890807680339394, -0.24555389023033755, 1.3487161260272114, 2.461602113678832, -0.4219196891101721, 1.7757603921594751, -0.8626667040522148, 0.9644720228180006, -0.13709347296471658, 0.9061307234417265, 1.1182669714111269, -1.5151919116851684, 1.6096394845501398, 1.4515306958753844, 1.0129930988439324, 0.5254220174243576, -0.5902563173223, -1.17734244009965, -0.14499224358899587, 0.5338044465845787, 1.3902763025357754, -0.6241152889181363, -0.3038129866665245, 1.4541004147160546, 0.8350250449168365, 0.6964153508844321, 0.012566751083774863, -0.47338180272236235, 1.210613945217184, -1.0854061797739847, -1.697645227564379, 1.0491560820021897, -0.29289990375255287, 0.5307495504562542, -0.23667795131555489, 1.2434324239684833, -1.0955154658686839, -0.14252294279495933, 0.3537686407349682, -0.9139176186616194, 2.0992388874678136, 0.2167135194987622, -0.9942562488323905, 0.400285751143757, -1.114634278308162, 0.40071764923934294, 0.4505972499639887, -0.3474045765052524, -1.2267801096715627, 0.11872707312681956, -0.9861172624062554, 1.1492273572779284, 1.1799550068207683, -2.30264447691568, -1.3466731136426056, 0.5911496226492886, 1.1129518683146158, -0.645887328395313, 0.5774811909153283, -0.5390165554972535, -1.3728921095139972, -0.07932798925006247, -0.15377014478816045, 0.06026333694448666, 0.31048323905397635, -0.07043280832010015, -1.7914880877152701, -0.9447671861317545, -0.420201609792276, 0.6595591715995851, -0.6347356068008602, -0.6959153846895623, 1.6557390912262673, 1.4502044430567527, -0.46731655681490564], \"xaxis\": \"x8\", \"y\": [-0.6122871493742158, 1.1081871772883127, 0.07237326664240411, 1.406695566419615, 2.677619031027863, 1.112007896315254, -0.042717243892368036, 0.7591151319917263, 1.0556520331963073, 1.2870160271112958, 1.0403960791303974, 0.3389096166665409, -0.8704406299249163, -0.05277500029748561, -0.36939451035933046, 0.021989699598618934, 1.1444382793684356, -0.8927764162249062, -0.1628051853947566, -0.5432752677219072, -1.240592684049764, -1.7721162352992212, 1.9328913219273787, 2.5947345249856943, 0.039314714721758216, -0.3116962358433378, -0.2601966610359773, -0.5615995471631422, 2.8799163670262224, 0.15733010475255726, -0.10534874143218677, 1.9020147526179778, -1.8874958202687249, 0.2701239367297032, -0.4623567400425783, -0.9465296338310447, -1.306966472110278, 0.0460281332075379, -0.42391723840307133, 0.32106132358339107, -1.357774815758448, -0.1983057429079247, 0.5394666356832476, 0.27345282349426914, 1.7115369034552415, 1.3539777900604741, 0.41853317042274557, 0.42272832867468335, 1.7478578513191985, 0.2103817558651291, -1.1263253595684382, -0.20054913121668919, -0.44667446570921543, 0.3582952961244712, -0.205638127832226, -0.5058332125899551, 0.046587499309992404, -1.1411642331240202, 2.3549815303843684, -1.3147166480097907, -1.11288153984668, -2.0500677731421284, 0.21388936815754106, 0.809410971577199, 1.8446996235700726, -0.3183719938850659, -0.38613673683138866, -0.5626146532545004, 0.33272738668322926, -0.7360737680381293, -0.07820086788220298, -0.9239854599721813, -0.3422751447747376, -0.27439983203656493, 0.8789170986350728, -0.7653109466860576, -1.0293486730547823, -1.7521978262212234, 0.22988231823569452, 0.3452925830352003, 0.6636820763451339, -0.4905628916181519, -0.9596968706279292, -1.0899108329787122, 0.21527711643708103, 0.38782001222417123, -2.3328215385791, 0.2751742167113534, 1.1775728381813217, 0.6919533953962174, -0.3615718797962593, -0.7504278081657234, 0.3403032080793858, -0.839800460389345, -0.06837495898684512, 0.877458070792261, 0.6542370835529798, -0.3644351488624026, 0.250900416278955, -0.5321225014239536], \"yaxis\": \"y8\"}, {\"line\": {\"color\": \"rgba(128, 128, 128, 1.0)\", \"dash\": \"solid\", \"shape\": \"linear\", \"width\": 1.3}, \"marker\": {\"size\": 2, \"symbol\": \"circle\"}, \"mode\": \"markers\", \"name\": \"C\", \"text\": \"\", \"type\": \"scatter\", \"x\": [1.0449692502051247, 1.4014865892350301, 0.2777510317952268, -1.0406765670657876, 0.006359873179908175, 0.12397386661141808, 1.4994280432956189, -1.9346238092149068, 0.35775705631885724, -0.34733273139125354, -1.3373498970995634, 0.5091515021663505, 1.6830219082728322, 0.10537667311719211, -2.5140060263209567, -0.7889335872294903, -0.0793938247201161, 1.0581598354422561, -0.30745406708624323, -0.9734821005483372, -0.7606620447650821, 0.021183267166173587, -1.7574711218864698, -0.9512855259494061, 0.276338353437027, 1.0802903181292332, 0.08603908044689187, 0.1758005729081879, -0.9834799312375738, 1.2317154884736348, -0.38431628365933634, -1.3881384191043795, -0.9125394169049456, -0.06794122752929284, -1.0022938850420355, -0.5095861337124544, -0.2145016229316288, -0.1943220846212686, -0.06818560747550947, -0.11897249361823674, -0.6495429422228579, 0.06269089056141017, 0.7860879064361281, -0.02466660086278837, -1.0398428437836782, 1.961276736519445, -0.75184757764632, -1.0454232300948676, 0.08359602149063225, -0.044816813695500904, -1.857736593010825, -0.32146990193714037, 1.2739521892455514, -0.0681200681829437, 0.05565804637859506, -0.9692222211336554, 0.38286724571536196, -0.2831006200212324, 2.763018694518891, -0.2431284914703938, 0.6895516333352446, -0.9594802988637272, -0.36534172808055654, 0.6370985113662331, -0.8755116726783624, -0.3281051711722991, -0.25980975372081383, -0.02807393604023754, 1.773774961703449, 0.22301815139047637, 0.32490702837345103, 0.5769192199507911, -0.3559427830466943, -0.30962702682606874, 0.6877374686393355, 0.4729623462551443, -1.3761942534956288, -0.36096947072820446, 0.5562044076399122, 1.2584082074658807, 0.45376062650949156, 1.2140873967387038, 0.5732739119550228, 2.3621996474302356, 0.30980883930255376, -1.3104375373247683, -0.3006239722533239, 0.4473291641086172, 0.45413611270862947, 1.0204039525647968, -1.0879414724793888, 0.28759734847120055, 0.10519796793009067, -0.5789700813247838, 0.10266167172467248, 0.0396210104831097, -0.3224039898722025, 0.4844161425061551, 0.8549570449938488, -0.5909057407999417], \"xaxis\": \"x9\", \"y\": [-0.5142528913325504, 0.5060266865794251, -1.6199583518120624, 1.8520587261057713, -0.06554062187242882, -2.1193259871211962, -0.10312402452617933, -0.2823173400730764, -0.13713805337433913, 1.509537357938146, 0.0699150051150181, 0.5380126201309465, 0.11584461685786844, -0.02464492557676752, -0.22670330406721462, 0.521216649227666, -0.9283242198794059, 0.4257681693106232, 1.6531025440167102, -0.11088716206043903, 0.34115325011588266, 0.19120740879670203, -0.8868759049564396, -1.7665115973106773, 0.04659283029643008, -0.26264009433781116, -0.7071677499191127, -1.8156573055356273, -0.9597661977627481, 0.6346750081123061, -1.2170687733038335, -0.09503170353552087, 1.2235524605060015, -2.483961254402522, -1.7769248644839108, -1.167942537919844, -1.7195038202017292, 2.0000000659066908, 0.735208684860714, -0.9902315523103511, -0.24048213191664183, 1.684530587039095, -0.8388205164133292, -1.5105035457517466, -0.7217585881068305, -1.672436399800455, -2.173498116671171, -1.0121748883082924, -1.9379300516043922, -0.8103204539085346, 0.9602618744081481, 0.29108361202828015, 0.6632213083854124, -0.6377180059935375, 0.5950516126316518, 0.6459072036021757, 1.5733916420969902, -1.3755776322637125, -2.9636502997862815, 0.5909172534700501, -1.6584566371411256, 1.5220899668785541, 0.7437572068187299, 0.5385883569246949, -0.017830962906104177, 0.2739753391236766, -0.4897537917204501, 0.4337635052628477, 0.42096938113998467, 0.15157774948474637, 0.8303928356370296, -1.4641096801019973, -0.9886301086830224, -0.5259368596049694, -1.5161897653064285, -0.2593709607188089, 0.4846766662224007, -0.021870174420385715, 2.1037454743733743, -0.45287066592680886, -1.3146233749916059, 0.9802479499305575, 0.955092541257332, -0.8880568724131004, -0.7377153152834167, -1.0184162487167085, 1.4042890541610809, -0.42940422485424895, 0.15116426244474643, 0.9652533091065145, -0.8508199097895947, 2.6216476630924896, -0.32293649151183895, -0.2391850956188257, 0.949598408520094, -0.044902526507576285, -0.4449347958761696, 1.004093561405033, 0.5596332142497225, 1.035489733390435], \"yaxis\": \"y9\"}, {\"line\": {\"color\": \"rgba(128, 128, 128, 1.0)\", \"dash\": \"solid\", \"shape\": \"linear\", \"width\": 1.3}, \"marker\": {\"size\": 2, \"symbol\": \"circle\"}, \"mode\": \"markers\", \"name\": \"C\", \"text\": \"\", \"type\": \"scatter\", \"x\": [-0.6122871493742158, 1.1081871772883127, 0.07237326664240411, 1.406695566419615, 2.677619031027863, 1.112007896315254, -0.042717243892368036, 0.7591151319917263, 1.0556520331963073, 1.2870160271112958, 1.0403960791303974, 0.3389096166665409, -0.8704406299249163, -0.05277500029748561, -0.36939451035933046, 0.021989699598618934, 1.1444382793684356, -0.8927764162249062, -0.1628051853947566, -0.5432752677219072, -1.240592684049764, -1.7721162352992212, 1.9328913219273787, 2.5947345249856943, 0.039314714721758216, -0.3116962358433378, -0.2601966610359773, -0.5615995471631422, 2.8799163670262224, 0.15733010475255726, -0.10534874143218677, 1.9020147526179778, -1.8874958202687249, 0.2701239367297032, -0.4623567400425783, -0.9465296338310447, -1.306966472110278, 0.0460281332075379, -0.42391723840307133, 0.32106132358339107, -1.357774815758448, -0.1983057429079247, 0.5394666356832476, 0.27345282349426914, 1.7115369034552415, 1.3539777900604741, 0.41853317042274557, 0.42272832867468335, 1.7478578513191985, 0.2103817558651291, -1.1263253595684382, -0.20054913121668919, -0.44667446570921543, 0.3582952961244712, -0.205638127832226, -0.5058332125899551, 0.046587499309992404, -1.1411642331240202, 2.3549815303843684, -1.3147166480097907, -1.11288153984668, -2.0500677731421284, 0.21388936815754106, 0.809410971577199, 1.8446996235700726, -0.3183719938850659, -0.38613673683138866, -0.5626146532545004, 0.33272738668322926, -0.7360737680381293, -0.07820086788220298, -0.9239854599721813, -0.3422751447747376, -0.27439983203656493, 0.8789170986350728, -0.7653109466860576, -1.0293486730547823, -1.7521978262212234, 0.22988231823569452, 0.3452925830352003, 0.6636820763451339, -0.4905628916181519, -0.9596968706279292, -1.0899108329787122, 0.21527711643708103, 0.38782001222417123, -2.3328215385791, 0.2751742167113534, 1.1775728381813217, 0.6919533953962174, -0.3615718797962593, -0.7504278081657234, 0.3403032080793858, -0.839800460389345, -0.06837495898684512, 0.877458070792261, 0.6542370835529798, -0.3644351488624026, 0.250900416278955, -0.5321225014239536], \"xaxis\": \"x10\", \"y\": [-0.5142528913325504, 0.5060266865794251, -1.6199583518120624, 1.8520587261057713, -0.06554062187242882, -2.1193259871211962, -0.10312402452617933, -0.2823173400730764, -0.13713805337433913, 1.509537357938146, 0.0699150051150181, 0.5380126201309465, 0.11584461685786844, -0.02464492557676752, -0.22670330406721462, 0.521216649227666, -0.9283242198794059, 0.4257681693106232, 1.6531025440167102, -0.11088716206043903, 0.34115325011588266, 0.19120740879670203, -0.8868759049564396, -1.7665115973106773, 0.04659283029643008, -0.26264009433781116, -0.7071677499191127, -1.8156573055356273, -0.9597661977627481, 0.6346750081123061, -1.2170687733038335, -0.09503170353552087, 1.2235524605060015, -2.483961254402522, -1.7769248644839108, -1.167942537919844, -1.7195038202017292, 2.0000000659066908, 0.735208684860714, -0.9902315523103511, -0.24048213191664183, 1.684530587039095, -0.8388205164133292, -1.5105035457517466, -0.7217585881068305, -1.672436399800455, -2.173498116671171, -1.0121748883082924, -1.9379300516043922, -0.8103204539085346, 0.9602618744081481, 0.29108361202828015, 0.6632213083854124, -0.6377180059935375, 0.5950516126316518, 0.6459072036021757, 1.5733916420969902, -1.3755776322637125, -2.9636502997862815, 0.5909172534700501, -1.6584566371411256, 1.5220899668785541, 0.7437572068187299, 0.5385883569246949, -0.017830962906104177, 0.2739753391236766, -0.4897537917204501, 0.4337635052628477, 0.42096938113998467, 0.15157774948474637, 0.8303928356370296, -1.4641096801019973, -0.9886301086830224, -0.5259368596049694, -1.5161897653064285, -0.2593709607188089, 0.4846766662224007, -0.021870174420385715, 2.1037454743733743, -0.45287066592680886, -1.3146233749916059, 0.9802479499305575, 0.955092541257332, -0.8880568724131004, -0.7377153152834167, -1.0184162487167085, 1.4042890541610809, -0.42940422485424895, 0.15116426244474643, 0.9652533091065145, -0.8508199097895947, 2.6216476630924896, -0.32293649151183895, -0.2391850956188257, 0.949598408520094, -0.044902526507576285, -0.4449347958761696, 1.004093561405033, 0.5596332142497225, 1.035489733390435], \"yaxis\": \"y10\"}, {\"histfunc\": \"count\", \"histnorm\": \"\", \"marker\": {\"color\": \"rgba(50, 171, 96, 1.0)\", \"line\": {\"color\": \"#4D5663\", \"width\": 1.3}}, \"name\": \"C\", \"nbinsx\": 10, \"opacity\": 0.8, \"orientation\": \"v\", \"type\": \"histogram\", \"x\": [-0.5142528913325504, 0.5060266865794251, -1.6199583518120624, 1.8520587261057713, -0.06554062187242882, -2.1193259871211962, -0.10312402452617933, -0.2823173400730764, -0.13713805337433913, 1.509537357938146, 0.0699150051150181, 0.5380126201309465, 0.11584461685786844, -0.02464492557676752, -0.22670330406721462, 0.521216649227666, -0.9283242198794059, 0.4257681693106232, 1.6531025440167102, -0.11088716206043903, 0.34115325011588266, 0.19120740879670203, -0.8868759049564396, -1.7665115973106773, 0.04659283029643008, -0.26264009433781116, -0.7071677499191127, -1.8156573055356273, -0.9597661977627481, 0.6346750081123061, -1.2170687733038335, -0.09503170353552087, 1.2235524605060015, -2.483961254402522, -1.7769248644839108, -1.167942537919844, -1.7195038202017292, 2.0000000659066908, 0.735208684860714, -0.9902315523103511, -0.24048213191664183, 1.684530587039095, -0.8388205164133292, -1.5105035457517466, -0.7217585881068305, -1.672436399800455, -2.173498116671171, -1.0121748883082924, -1.9379300516043922, -0.8103204539085346, 0.9602618744081481, 0.29108361202828015, 0.6632213083854124, -0.6377180059935375, 0.5950516126316518, 0.6459072036021757, 1.5733916420969902, -1.3755776322637125, -2.9636502997862815, 0.5909172534700501, -1.6584566371411256, 1.5220899668785541, 0.7437572068187299, 0.5385883569246949, -0.017830962906104177, 0.2739753391236766, -0.4897537917204501, 0.4337635052628477, 0.42096938113998467, 0.15157774948474637, 0.8303928356370296, -1.4641096801019973, -0.9886301086830224, -0.5259368596049694, -1.5161897653064285, -0.2593709607188089, 0.4846766662224007, -0.021870174420385715, 2.1037454743733743, -0.45287066592680886, -1.3146233749916059, 0.9802479499305575, 0.955092541257332, -0.8880568724131004, -0.7377153152834167, -1.0184162487167085, 1.4042890541610809, -0.42940422485424895, 0.15116426244474643, 0.9652533091065145, -0.8508199097895947, 2.6216476630924896, -0.32293649151183895, -0.2391850956188257, 0.949598408520094, -0.044902526507576285, -0.4449347958761696, 1.004093561405033, 0.5596332142497225, 1.035489733390435], \"xaxis\": \"x11\", \"yaxis\": \"y11\"}, {\"line\": {\"color\": \"rgba(128, 128, 128, 1.0)\", \"dash\": \"solid\", \"shape\": \"linear\", \"width\": 1.3}, \"marker\": {\"size\": 2, \"symbol\": \"circle\"}, \"mode\": \"markers\", \"name\": \"C\", \"text\": \"\", \"type\": \"scatter\", \"x\": [0.6050867298924966, -0.6165866449072356, 1.9487979965437259, -0.9098734933847339, -2.492192741530579, -1.155198957029045, -1.4929999744628006, -0.6040682200297907, 1.1366377934624625, 2.1513349584751413, 0.3947866509168756, -1.1929820842826453, 1.6634720580878073, 1.7738426060724652, 1.8529184726392016, -0.3840859492385011, 0.6038579823541418, 0.4131455954870885, 0.7068497108506195, 1.147749500892832, 2.299835378399439, -1.8717147301126826, -0.034324380922480635, 0.35695342673173813, -0.8910845826111833, -0.8890807680339394, -0.24555389023033755, 1.3487161260272114, 2.461602113678832, -0.4219196891101721, 1.7757603921594751, -0.8626667040522148, 0.9644720228180006, -0.13709347296471658, 0.9061307234417265, 1.1182669714111269, -1.5151919116851684, 1.6096394845501398, 1.4515306958753844, 1.0129930988439324, 0.5254220174243576, -0.5902563173223, -1.17734244009965, -0.14499224358899587, 0.5338044465845787, 1.3902763025357754, -0.6241152889181363, -0.3038129866665245, 1.4541004147160546, 0.8350250449168365, 0.6964153508844321, 0.012566751083774863, -0.47338180272236235, 1.210613945217184, -1.0854061797739847, -1.697645227564379, 1.0491560820021897, -0.29289990375255287, 0.5307495504562542, -0.23667795131555489, 1.2434324239684833, -1.0955154658686839, -0.14252294279495933, 0.3537686407349682, -0.9139176186616194, 2.0992388874678136, 0.2167135194987622, -0.9942562488323905, 0.400285751143757, -1.114634278308162, 0.40071764923934294, 0.4505972499639887, -0.3474045765052524, -1.2267801096715627, 0.11872707312681956, -0.9861172624062554, 1.1492273572779284, 1.1799550068207683, -2.30264447691568, -1.3466731136426056, 0.5911496226492886, 1.1129518683146158, -0.645887328395313, 0.5774811909153283, -0.5390165554972535, -1.3728921095139972, -0.07932798925006247, -0.15377014478816045, 0.06026333694448666, 0.31048323905397635, -0.07043280832010015, -1.7914880877152701, -0.9447671861317545, -0.420201609792276, 0.6595591715995851, -0.6347356068008602, -0.6959153846895623, 1.6557390912262673, 1.4502044430567527, -0.46731655681490564], \"xaxis\": \"x12\", \"y\": [-0.5142528913325504, 0.5060266865794251, -1.6199583518120624, 1.8520587261057713, -0.06554062187242882, -2.1193259871211962, -0.10312402452617933, -0.2823173400730764, -0.13713805337433913, 1.509537357938146, 0.0699150051150181, 0.5380126201309465, 0.11584461685786844, -0.02464492557676752, -0.22670330406721462, 0.521216649227666, -0.9283242198794059, 0.4257681693106232, 1.6531025440167102, -0.11088716206043903, 0.34115325011588266, 0.19120740879670203, -0.8868759049564396, -1.7665115973106773, 0.04659283029643008, -0.26264009433781116, -0.7071677499191127, -1.8156573055356273, -0.9597661977627481, 0.6346750081123061, -1.2170687733038335, -0.09503170353552087, 1.2235524605060015, -2.483961254402522, -1.7769248644839108, -1.167942537919844, -1.7195038202017292, 2.0000000659066908, 0.735208684860714, -0.9902315523103511, -0.24048213191664183, 1.684530587039095, -0.8388205164133292, -1.5105035457517466, -0.7217585881068305, -1.672436399800455, -2.173498116671171, -1.0121748883082924, -1.9379300516043922, -0.8103204539085346, 0.9602618744081481, 0.29108361202828015, 0.6632213083854124, -0.6377180059935375, 0.5950516126316518, 0.6459072036021757, 1.5733916420969902, -1.3755776322637125, -2.9636502997862815, 0.5909172534700501, -1.6584566371411256, 1.5220899668785541, 0.7437572068187299, 0.5385883569246949, -0.017830962906104177, 0.2739753391236766, -0.4897537917204501, 0.4337635052628477, 0.42096938113998467, 0.15157774948474637, 0.8303928356370296, -1.4641096801019973, -0.9886301086830224, -0.5259368596049694, -1.5161897653064285, -0.2593709607188089, 0.4846766662224007, -0.021870174420385715, 2.1037454743733743, -0.45287066592680886, -1.3146233749916059, 0.9802479499305575, 0.955092541257332, -0.8880568724131004, -0.7377153152834167, -1.0184162487167085, 1.4042890541610809, -0.42940422485424895, 0.15116426244474643, 0.9652533091065145, -0.8508199097895947, 2.6216476630924896, -0.32293649151183895, -0.2391850956188257, 0.949598408520094, -0.044902526507576285, -0.4449347958761696, 1.004093561405033, 0.5596332142497225, 1.035489733390435], \"yaxis\": \"y12\"}, {\"line\": {\"color\": \"rgba(128, 128, 128, 1.0)\", \"dash\": \"solid\", \"shape\": \"linear\", \"width\": 1.3}, \"marker\": {\"size\": 2, \"symbol\": \"circle\"}, \"mode\": \"markers\", \"name\": \"D\", \"text\": \"\", \"type\": \"scatter\", \"x\": [1.0449692502051247, 1.4014865892350301, 0.2777510317952268, -1.0406765670657876, 0.006359873179908175, 0.12397386661141808, 1.4994280432956189, -1.9346238092149068, 0.35775705631885724, -0.34733273139125354, -1.3373498970995634, 0.5091515021663505, 1.6830219082728322, 0.10537667311719211, -2.5140060263209567, -0.7889335872294903, -0.0793938247201161, 1.0581598354422561, -0.30745406708624323, -0.9734821005483372, -0.7606620447650821, 0.021183267166173587, -1.7574711218864698, -0.9512855259494061, 0.276338353437027, 1.0802903181292332, 0.08603908044689187, 0.1758005729081879, -0.9834799312375738, 1.2317154884736348, -0.38431628365933634, -1.3881384191043795, -0.9125394169049456, -0.06794122752929284, -1.0022938850420355, -0.5095861337124544, -0.2145016229316288, -0.1943220846212686, -0.06818560747550947, -0.11897249361823674, -0.6495429422228579, 0.06269089056141017, 0.7860879064361281, -0.02466660086278837, -1.0398428437836782, 1.961276736519445, -0.75184757764632, -1.0454232300948676, 0.08359602149063225, -0.044816813695500904, -1.857736593010825, -0.32146990193714037, 1.2739521892455514, -0.0681200681829437, 0.05565804637859506, -0.9692222211336554, 0.38286724571536196, -0.2831006200212324, 2.763018694518891, -0.2431284914703938, 0.6895516333352446, -0.9594802988637272, -0.36534172808055654, 0.6370985113662331, -0.8755116726783624, -0.3281051711722991, -0.25980975372081383, -0.02807393604023754, 1.773774961703449, 0.22301815139047637, 0.32490702837345103, 0.5769192199507911, -0.3559427830466943, -0.30962702682606874, 0.6877374686393355, 0.4729623462551443, -1.3761942534956288, -0.36096947072820446, 0.5562044076399122, 1.2584082074658807, 0.45376062650949156, 1.2140873967387038, 0.5732739119550228, 2.3621996474302356, 0.30980883930255376, -1.3104375373247683, -0.3006239722533239, 0.4473291641086172, 0.45413611270862947, 1.0204039525647968, -1.0879414724793888, 0.28759734847120055, 0.10519796793009067, -0.5789700813247838, 0.10266167172467248, 0.0396210104831097, -0.3224039898722025, 0.4844161425061551, 0.8549570449938488, -0.5909057407999417], \"xaxis\": \"x13\", \"y\": [0.6050867298924966, -0.6165866449072356, 1.9487979965437259, -0.9098734933847339, -2.492192741530579, -1.155198957029045, -1.4929999744628006, -0.6040682200297907, 1.1366377934624625, 2.1513349584751413, 0.3947866509168756, -1.1929820842826453, 1.6634720580878073, 1.7738426060724652, 1.8529184726392016, -0.3840859492385011, 0.6038579823541418, 0.4131455954870885, 0.7068497108506195, 1.147749500892832, 2.299835378399439, -1.8717147301126826, -0.034324380922480635, 0.35695342673173813, -0.8910845826111833, -0.8890807680339394, -0.24555389023033755, 1.3487161260272114, 2.461602113678832, -0.4219196891101721, 1.7757603921594751, -0.8626667040522148, 0.9644720228180006, -0.13709347296471658, 0.9061307234417265, 1.1182669714111269, -1.5151919116851684, 1.6096394845501398, 1.4515306958753844, 1.0129930988439324, 0.5254220174243576, -0.5902563173223, -1.17734244009965, -0.14499224358899587, 0.5338044465845787, 1.3902763025357754, -0.6241152889181363, -0.3038129866665245, 1.4541004147160546, 0.8350250449168365, 0.6964153508844321, 0.012566751083774863, -0.47338180272236235, 1.210613945217184, -1.0854061797739847, -1.697645227564379, 1.0491560820021897, -0.29289990375255287, 0.5307495504562542, -0.23667795131555489, 1.2434324239684833, -1.0955154658686839, -0.14252294279495933, 0.3537686407349682, -0.9139176186616194, 2.0992388874678136, 0.2167135194987622, -0.9942562488323905, 0.400285751143757, -1.114634278308162, 0.40071764923934294, 0.4505972499639887, -0.3474045765052524, -1.2267801096715627, 0.11872707312681956, -0.9861172624062554, 1.1492273572779284, 1.1799550068207683, -2.30264447691568, -1.3466731136426056, 0.5911496226492886, 1.1129518683146158, -0.645887328395313, 0.5774811909153283, -0.5390165554972535, -1.3728921095139972, -0.07932798925006247, -0.15377014478816045, 0.06026333694448666, 0.31048323905397635, -0.07043280832010015, -1.7914880877152701, -0.9447671861317545, -0.420201609792276, 0.6595591715995851, -0.6347356068008602, -0.6959153846895623, 1.6557390912262673, 1.4502044430567527, -0.46731655681490564], \"yaxis\": \"y13\"}, {\"line\": {\"color\": \"rgba(128, 128, 128, 1.0)\", \"dash\": \"solid\", \"shape\": \"linear\", \"width\": 1.3}, \"marker\": {\"size\": 2, \"symbol\": \"circle\"}, \"mode\": \"markers\", \"name\": \"D\", \"text\": \"\", \"type\": \"scatter\", \"x\": [-0.6122871493742158, 1.1081871772883127, 0.07237326664240411, 1.406695566419615, 2.677619031027863, 1.112007896315254, -0.042717243892368036, 0.7591151319917263, 1.0556520331963073, 1.2870160271112958, 1.0403960791303974, 0.3389096166665409, -0.8704406299249163, -0.05277500029748561, -0.36939451035933046, 0.021989699598618934, 1.1444382793684356, -0.8927764162249062, -0.1628051853947566, -0.5432752677219072, -1.240592684049764, -1.7721162352992212, 1.9328913219273787, 2.5947345249856943, 0.039314714721758216, -0.3116962358433378, -0.2601966610359773, -0.5615995471631422, 2.8799163670262224, 0.15733010475255726, -0.10534874143218677, 1.9020147526179778, -1.8874958202687249, 0.2701239367297032, -0.4623567400425783, -0.9465296338310447, -1.306966472110278, 0.0460281332075379, -0.42391723840307133, 0.32106132358339107, -1.357774815758448, -0.1983057429079247, 0.5394666356832476, 0.27345282349426914, 1.7115369034552415, 1.3539777900604741, 0.41853317042274557, 0.42272832867468335, 1.7478578513191985, 0.2103817558651291, -1.1263253595684382, -0.20054913121668919, -0.44667446570921543, 0.3582952961244712, -0.205638127832226, -0.5058332125899551, 0.046587499309992404, -1.1411642331240202, 2.3549815303843684, -1.3147166480097907, -1.11288153984668, -2.0500677731421284, 0.21388936815754106, 0.809410971577199, 1.8446996235700726, -0.3183719938850659, -0.38613673683138866, -0.5626146532545004, 0.33272738668322926, -0.7360737680381293, -0.07820086788220298, -0.9239854599721813, -0.3422751447747376, -0.27439983203656493, 0.8789170986350728, -0.7653109466860576, -1.0293486730547823, -1.7521978262212234, 0.22988231823569452, 0.3452925830352003, 0.6636820763451339, -0.4905628916181519, -0.9596968706279292, -1.0899108329787122, 0.21527711643708103, 0.38782001222417123, -2.3328215385791, 0.2751742167113534, 1.1775728381813217, 0.6919533953962174, -0.3615718797962593, -0.7504278081657234, 0.3403032080793858, -0.839800460389345, -0.06837495898684512, 0.877458070792261, 0.6542370835529798, -0.3644351488624026, 0.250900416278955, -0.5321225014239536], \"xaxis\": \"x14\", \"y\": [0.6050867298924966, -0.6165866449072356, 1.9487979965437259, -0.9098734933847339, -2.492192741530579, -1.155198957029045, -1.4929999744628006, -0.6040682200297907, 1.1366377934624625, 2.1513349584751413, 0.3947866509168756, -1.1929820842826453, 1.6634720580878073, 1.7738426060724652, 1.8529184726392016, -0.3840859492385011, 0.6038579823541418, 0.4131455954870885, 0.7068497108506195, 1.147749500892832, 2.299835378399439, -1.8717147301126826, -0.034324380922480635, 0.35695342673173813, -0.8910845826111833, -0.8890807680339394, -0.24555389023033755, 1.3487161260272114, 2.461602113678832, -0.4219196891101721, 1.7757603921594751, -0.8626667040522148, 0.9644720228180006, -0.13709347296471658, 0.9061307234417265, 1.1182669714111269, -1.5151919116851684, 1.6096394845501398, 1.4515306958753844, 1.0129930988439324, 0.5254220174243576, -0.5902563173223, -1.17734244009965, -0.14499224358899587, 0.5338044465845787, 1.3902763025357754, -0.6241152889181363, -0.3038129866665245, 1.4541004147160546, 0.8350250449168365, 0.6964153508844321, 0.012566751083774863, -0.47338180272236235, 1.210613945217184, -1.0854061797739847, -1.697645227564379, 1.0491560820021897, -0.29289990375255287, 0.5307495504562542, -0.23667795131555489, 1.2434324239684833, -1.0955154658686839, -0.14252294279495933, 0.3537686407349682, -0.9139176186616194, 2.0992388874678136, 0.2167135194987622, -0.9942562488323905, 0.400285751143757, -1.114634278308162, 0.40071764923934294, 0.4505972499639887, -0.3474045765052524, -1.2267801096715627, 0.11872707312681956, -0.9861172624062554, 1.1492273572779284, 1.1799550068207683, -2.30264447691568, -1.3466731136426056, 0.5911496226492886, 1.1129518683146158, -0.645887328395313, 0.5774811909153283, -0.5390165554972535, -1.3728921095139972, -0.07932798925006247, -0.15377014478816045, 0.06026333694448666, 0.31048323905397635, -0.07043280832010015, -1.7914880877152701, -0.9447671861317545, -0.420201609792276, 0.6595591715995851, -0.6347356068008602, -0.6959153846895623, 1.6557390912262673, 1.4502044430567527, -0.46731655681490564], \"yaxis\": \"y14\"}, {\"line\": {\"color\": \"rgba(128, 128, 128, 1.0)\", \"dash\": \"solid\", \"shape\": \"linear\", \"width\": 1.3}, \"marker\": {\"size\": 2, \"symbol\": \"circle\"}, \"mode\": \"markers\", \"name\": \"D\", \"text\": \"\", \"type\": \"scatter\", \"x\": [-0.5142528913325504, 0.5060266865794251, -1.6199583518120624, 1.8520587261057713, -0.06554062187242882, -2.1193259871211962, -0.10312402452617933, -0.2823173400730764, -0.13713805337433913, 1.509537357938146, 0.0699150051150181, 0.5380126201309465, 0.11584461685786844, -0.02464492557676752, -0.22670330406721462, 0.521216649227666, -0.9283242198794059, 0.4257681693106232, 1.6531025440167102, -0.11088716206043903, 0.34115325011588266, 0.19120740879670203, -0.8868759049564396, -1.7665115973106773, 0.04659283029643008, -0.26264009433781116, -0.7071677499191127, -1.8156573055356273, -0.9597661977627481, 0.6346750081123061, -1.2170687733038335, -0.09503170353552087, 1.2235524605060015, -2.483961254402522, -1.7769248644839108, -1.167942537919844, -1.7195038202017292, 2.0000000659066908, 0.735208684860714, -0.9902315523103511, -0.24048213191664183, 1.684530587039095, -0.8388205164133292, -1.5105035457517466, -0.7217585881068305, -1.672436399800455, -2.173498116671171, -1.0121748883082924, -1.9379300516043922, -0.8103204539085346, 0.9602618744081481, 0.29108361202828015, 0.6632213083854124, -0.6377180059935375, 0.5950516126316518, 0.6459072036021757, 1.5733916420969902, -1.3755776322637125, -2.9636502997862815, 0.5909172534700501, -1.6584566371411256, 1.5220899668785541, 0.7437572068187299, 0.5385883569246949, -0.017830962906104177, 0.2739753391236766, -0.4897537917204501, 0.4337635052628477, 0.42096938113998467, 0.15157774948474637, 0.8303928356370296, -1.4641096801019973, -0.9886301086830224, -0.5259368596049694, -1.5161897653064285, -0.2593709607188089, 0.4846766662224007, -0.021870174420385715, 2.1037454743733743, -0.45287066592680886, -1.3146233749916059, 0.9802479499305575, 0.955092541257332, -0.8880568724131004, -0.7377153152834167, -1.0184162487167085, 1.4042890541610809, -0.42940422485424895, 0.15116426244474643, 0.9652533091065145, -0.8508199097895947, 2.6216476630924896, -0.32293649151183895, -0.2391850956188257, 0.949598408520094, -0.044902526507576285, -0.4449347958761696, 1.004093561405033, 0.5596332142497225, 1.035489733390435], \"xaxis\": \"x15\", \"y\": [0.6050867298924966, -0.6165866449072356, 1.9487979965437259, -0.9098734933847339, -2.492192741530579, -1.155198957029045, -1.4929999744628006, -0.6040682200297907, 1.1366377934624625, 2.1513349584751413, 0.3947866509168756, -1.1929820842826453, 1.6634720580878073, 1.7738426060724652, 1.8529184726392016, -0.3840859492385011, 0.6038579823541418, 0.4131455954870885, 0.7068497108506195, 1.147749500892832, 2.299835378399439, -1.8717147301126826, -0.034324380922480635, 0.35695342673173813, -0.8910845826111833, -0.8890807680339394, -0.24555389023033755, 1.3487161260272114, 2.461602113678832, -0.4219196891101721, 1.7757603921594751, -0.8626667040522148, 0.9644720228180006, -0.13709347296471658, 0.9061307234417265, 1.1182669714111269, -1.5151919116851684, 1.6096394845501398, 1.4515306958753844, 1.0129930988439324, 0.5254220174243576, -0.5902563173223, -1.17734244009965, -0.14499224358899587, 0.5338044465845787, 1.3902763025357754, -0.6241152889181363, -0.3038129866665245, 1.4541004147160546, 0.8350250449168365, 0.6964153508844321, 0.012566751083774863, -0.47338180272236235, 1.210613945217184, -1.0854061797739847, -1.697645227564379, 1.0491560820021897, -0.29289990375255287, 0.5307495504562542, -0.23667795131555489, 1.2434324239684833, -1.0955154658686839, -0.14252294279495933, 0.3537686407349682, -0.9139176186616194, 2.0992388874678136, 0.2167135194987622, -0.9942562488323905, 0.400285751143757, -1.114634278308162, 0.40071764923934294, 0.4505972499639887, -0.3474045765052524, -1.2267801096715627, 0.11872707312681956, -0.9861172624062554, 1.1492273572779284, 1.1799550068207683, -2.30264447691568, -1.3466731136426056, 0.5911496226492886, 1.1129518683146158, -0.645887328395313, 0.5774811909153283, -0.5390165554972535, -1.3728921095139972, -0.07932798925006247, -0.15377014478816045, 0.06026333694448666, 0.31048323905397635, -0.07043280832010015, -1.7914880877152701, -0.9447671861317545, -0.420201609792276, 0.6595591715995851, -0.6347356068008602, -0.6959153846895623, 1.6557390912262673, 1.4502044430567527, -0.46731655681490564], \"yaxis\": \"y15\"}, {\"histfunc\": \"count\", \"histnorm\": \"\", \"marker\": {\"color\": \"rgba(128, 0, 128, 1.0)\", \"line\": {\"color\": \"#4D5663\", \"width\": 1.3}}, \"name\": \"D\", \"nbinsx\": 10, \"opacity\": 0.8, \"orientation\": \"v\", \"type\": \"histogram\", \"x\": [0.6050867298924966, -0.6165866449072356, 1.9487979965437259, -0.9098734933847339, -2.492192741530579, -1.155198957029045, -1.4929999744628006, -0.6040682200297907, 1.1366377934624625, 2.1513349584751413, 0.3947866509168756, -1.1929820842826453, 1.6634720580878073, 1.7738426060724652, 1.8529184726392016, -0.3840859492385011, 0.6038579823541418, 0.4131455954870885, 0.7068497108506195, 1.147749500892832, 2.299835378399439, -1.8717147301126826, -0.034324380922480635, 0.35695342673173813, -0.8910845826111833, -0.8890807680339394, -0.24555389023033755, 1.3487161260272114, 2.461602113678832, -0.4219196891101721, 1.7757603921594751, -0.8626667040522148, 0.9644720228180006, -0.13709347296471658, 0.9061307234417265, 1.1182669714111269, -1.5151919116851684, 1.6096394845501398, 1.4515306958753844, 1.0129930988439324, 0.5254220174243576, -0.5902563173223, -1.17734244009965, -0.14499224358899587, 0.5338044465845787, 1.3902763025357754, -0.6241152889181363, -0.3038129866665245, 1.4541004147160546, 0.8350250449168365, 0.6964153508844321, 0.012566751083774863, -0.47338180272236235, 1.210613945217184, -1.0854061797739847, -1.697645227564379, 1.0491560820021897, -0.29289990375255287, 0.5307495504562542, -0.23667795131555489, 1.2434324239684833, -1.0955154658686839, -0.14252294279495933, 0.3537686407349682, -0.9139176186616194, 2.0992388874678136, 0.2167135194987622, -0.9942562488323905, 0.400285751143757, -1.114634278308162, 0.40071764923934294, 0.4505972499639887, -0.3474045765052524, -1.2267801096715627, 0.11872707312681956, -0.9861172624062554, 1.1492273572779284, 1.1799550068207683, -2.30264447691568, -1.3466731136426056, 0.5911496226492886, 1.1129518683146158, -0.645887328395313, 0.5774811909153283, -0.5390165554972535, -1.3728921095139972, -0.07932798925006247, -0.15377014478816045, 0.06026333694448666, 0.31048323905397635, -0.07043280832010015, -1.7914880877152701, -0.9447671861317545, -0.420201609792276, 0.6595591715995851, -0.6347356068008602, -0.6959153846895623, 1.6557390912262673, 1.4502044430567527, -0.46731655681490564], \"xaxis\": \"x16\", \"yaxis\": \"y16\"}],\n",
       "                        {\"bargap\": 0.02, \"legend\": {\"bgcolor\": \"#F5F6F9\", \"font\": {\"color\": \"#4D5663\"}}, \"paper_bgcolor\": \"#F5F6F9\", \"plot_bgcolor\": \"#F5F6F9\", \"showlegend\": false, \"template\": {\"data\": {\"bar\": [{\"error_x\": {\"color\": \"#2a3f5f\"}, \"error_y\": {\"color\": \"#2a3f5f\"}, \"marker\": {\"line\": {\"color\": \"#E5ECF6\", \"width\": 0.5}}, \"type\": \"bar\"}], \"barpolar\": [{\"marker\": {\"line\": {\"color\": \"#E5ECF6\", \"width\": 0.5}}, \"type\": \"barpolar\"}], \"carpet\": [{\"aaxis\": {\"endlinecolor\": \"#2a3f5f\", \"gridcolor\": \"white\", \"linecolor\": \"white\", \"minorgridcolor\": \"white\", \"startlinecolor\": \"#2a3f5f\"}, \"baxis\": {\"endlinecolor\": \"#2a3f5f\", \"gridcolor\": \"white\", \"linecolor\": \"white\", \"minorgridcolor\": \"white\", \"startlinecolor\": \"#2a3f5f\"}, \"type\": \"carpet\"}], \"choropleth\": [{\"colorbar\": {\"outlinewidth\": 0, \"ticks\": \"\"}, \"type\": \"choropleth\"}], \"contour\": [{\"colorbar\": {\"outlinewidth\": 0, \"ticks\": \"\"}, \"colorscale\": [[0.0, \"#0d0887\"], [0.1111111111111111, \"#46039f\"], [0.2222222222222222, \"#7201a8\"], [0.3333333333333333, \"#9c179e\"], [0.4444444444444444, \"#bd3786\"], [0.5555555555555556, \"#d8576b\"], [0.6666666666666666, \"#ed7953\"], [0.7777777777777778, \"#fb9f3a\"], [0.8888888888888888, \"#fdca26\"], [1.0, \"#f0f921\"]], \"type\": \"contour\"}], \"contourcarpet\": [{\"colorbar\": {\"outlinewidth\": 0, \"ticks\": \"\"}, \"type\": \"contourcarpet\"}], \"heatmap\": [{\"colorbar\": {\"outlinewidth\": 0, \"ticks\": \"\"}, \"colorscale\": [[0.0, \"#0d0887\"], [0.1111111111111111, \"#46039f\"], [0.2222222222222222, \"#7201a8\"], [0.3333333333333333, \"#9c179e\"], [0.4444444444444444, \"#bd3786\"], [0.5555555555555556, \"#d8576b\"], [0.6666666666666666, \"#ed7953\"], [0.7777777777777778, \"#fb9f3a\"], [0.8888888888888888, \"#fdca26\"], [1.0, \"#f0f921\"]], \"type\": \"heatmap\"}], \"heatmapgl\": [{\"colorbar\": {\"outlinewidth\": 0, \"ticks\": \"\"}, \"colorscale\": [[0.0, \"#0d0887\"], [0.1111111111111111, \"#46039f\"], [0.2222222222222222, \"#7201a8\"], [0.3333333333333333, \"#9c179e\"], [0.4444444444444444, \"#bd3786\"], [0.5555555555555556, \"#d8576b\"], [0.6666666666666666, \"#ed7953\"], [0.7777777777777778, \"#fb9f3a\"], [0.8888888888888888, \"#fdca26\"], [1.0, \"#f0f921\"]], \"type\": \"heatmapgl\"}], \"histogram\": [{\"marker\": {\"colorbar\": {\"outlinewidth\": 0, \"ticks\": \"\"}}, \"type\": \"histogram\"}], \"histogram2d\": [{\"colorbar\": {\"outlinewidth\": 0, \"ticks\": \"\"}, \"colorscale\": [[0.0, \"#0d0887\"], [0.1111111111111111, \"#46039f\"], [0.2222222222222222, \"#7201a8\"], [0.3333333333333333, \"#9c179e\"], [0.4444444444444444, \"#bd3786\"], [0.5555555555555556, \"#d8576b\"], [0.6666666666666666, \"#ed7953\"], [0.7777777777777778, \"#fb9f3a\"], [0.8888888888888888, \"#fdca26\"], [1.0, \"#f0f921\"]], \"type\": \"histogram2d\"}], \"histogram2dcontour\": [{\"colorbar\": {\"outlinewidth\": 0, \"ticks\": \"\"}, \"colorscale\": [[0.0, \"#0d0887\"], [0.1111111111111111, \"#46039f\"], [0.2222222222222222, \"#7201a8\"], [0.3333333333333333, \"#9c179e\"], [0.4444444444444444, \"#bd3786\"], [0.5555555555555556, \"#d8576b\"], [0.6666666666666666, \"#ed7953\"], [0.7777777777777778, \"#fb9f3a\"], [0.8888888888888888, \"#fdca26\"], [1.0, \"#f0f921\"]], \"type\": \"histogram2dcontour\"}], \"mesh3d\": [{\"colorbar\": {\"outlinewidth\": 0, \"ticks\": \"\"}, \"type\": \"mesh3d\"}], \"parcoords\": [{\"line\": {\"colorbar\": {\"outlinewidth\": 0, \"ticks\": \"\"}}, \"type\": \"parcoords\"}], \"scatter\": [{\"marker\": {\"colorbar\": {\"outlinewidth\": 0, \"ticks\": \"\"}}, \"type\": \"scatter\"}], \"scatter3d\": [{\"line\": {\"colorbar\": {\"outlinewidth\": 0, \"ticks\": \"\"}}, \"marker\": {\"colorbar\": {\"outlinewidth\": 0, \"ticks\": \"\"}}, \"type\": \"scatter3d\"}], \"scattercarpet\": [{\"marker\": {\"colorbar\": {\"outlinewidth\": 0, \"ticks\": \"\"}}, \"type\": \"scattercarpet\"}], \"scattergeo\": [{\"marker\": {\"colorbar\": {\"outlinewidth\": 0, \"ticks\": \"\"}}, \"type\": \"scattergeo\"}], \"scattergl\": [{\"marker\": {\"colorbar\": {\"outlinewidth\": 0, \"ticks\": \"\"}}, \"type\": \"scattergl\"}], \"scattermapbox\": [{\"marker\": {\"colorbar\": {\"outlinewidth\": 0, \"ticks\": \"\"}}, \"type\": \"scattermapbox\"}], \"scatterpolar\": [{\"marker\": {\"colorbar\": {\"outlinewidth\": 0, \"ticks\": \"\"}}, \"type\": \"scatterpolar\"}], \"scatterpolargl\": [{\"marker\": {\"colorbar\": {\"outlinewidth\": 0, \"ticks\": \"\"}}, \"type\": \"scatterpolargl\"}], \"scatterternary\": [{\"marker\": {\"colorbar\": {\"outlinewidth\": 0, \"ticks\": \"\"}}, \"type\": \"scatterternary\"}], \"surface\": [{\"colorbar\": {\"outlinewidth\": 0, \"ticks\": \"\"}, \"colorscale\": [[0.0, \"#0d0887\"], [0.1111111111111111, \"#46039f\"], [0.2222222222222222, \"#7201a8\"], [0.3333333333333333, \"#9c179e\"], [0.4444444444444444, \"#bd3786\"], [0.5555555555555556, \"#d8576b\"], [0.6666666666666666, \"#ed7953\"], [0.7777777777777778, \"#fb9f3a\"], [0.8888888888888888, \"#fdca26\"], [1.0, \"#f0f921\"]], \"type\": \"surface\"}], \"table\": [{\"cells\": {\"fill\": {\"color\": \"#EBF0F8\"}, \"line\": {\"color\": \"white\"}}, \"header\": {\"fill\": {\"color\": \"#C8D4E3\"}, \"line\": {\"color\": \"white\"}}, \"type\": \"table\"}]}, \"layout\": {\"annotationdefaults\": {\"arrowcolor\": \"#2a3f5f\", \"arrowhead\": 0, \"arrowwidth\": 1}, \"colorscale\": {\"diverging\": [[0, \"#8e0152\"], [0.1, \"#c51b7d\"], [0.2, \"#de77ae\"], [0.3, \"#f1b6da\"], [0.4, \"#fde0ef\"], [0.5, \"#f7f7f7\"], [0.6, \"#e6f5d0\"], [0.7, \"#b8e186\"], [0.8, \"#7fbc41\"], [0.9, \"#4d9221\"], [1, \"#276419\"]], \"sequential\": [[0.0, \"#0d0887\"], [0.1111111111111111, \"#46039f\"], [0.2222222222222222, \"#7201a8\"], [0.3333333333333333, \"#9c179e\"], [0.4444444444444444, \"#bd3786\"], [0.5555555555555556, \"#d8576b\"], [0.6666666666666666, \"#ed7953\"], [0.7777777777777778, \"#fb9f3a\"], [0.8888888888888888, \"#fdca26\"], [1.0, \"#f0f921\"]], \"sequentialminus\": [[0.0, \"#0d0887\"], [0.1111111111111111, \"#46039f\"], [0.2222222222222222, \"#7201a8\"], [0.3333333333333333, \"#9c179e\"], [0.4444444444444444, \"#bd3786\"], [0.5555555555555556, \"#d8576b\"], [0.6666666666666666, \"#ed7953\"], [0.7777777777777778, \"#fb9f3a\"], [0.8888888888888888, \"#fdca26\"], [1.0, \"#f0f921\"]]}, \"colorway\": [\"#636efa\", \"#EF553B\", \"#00cc96\", \"#ab63fa\", \"#FFA15A\", \"#19d3f3\", \"#FF6692\", \"#B6E880\", \"#FF97FF\", \"#FECB52\"], \"font\": {\"color\": \"#2a3f5f\"}, \"geo\": {\"bgcolor\": \"white\", \"lakecolor\": \"white\", \"landcolor\": \"#E5ECF6\", \"showlakes\": true, \"showland\": true, \"subunitcolor\": \"white\"}, \"hoverlabel\": {\"align\": \"left\"}, \"hovermode\": \"closest\", \"mapbox\": {\"style\": \"light\"}, \"paper_bgcolor\": \"white\", \"plot_bgcolor\": \"#E5ECF6\", \"polar\": {\"angularaxis\": {\"gridcolor\": \"white\", \"linecolor\": \"white\", \"ticks\": \"\"}, \"bgcolor\": \"#E5ECF6\", \"radialaxis\": {\"gridcolor\": \"white\", \"linecolor\": \"white\", \"ticks\": \"\"}}, \"scene\": {\"xaxis\": {\"backgroundcolor\": \"#E5ECF6\", \"gridcolor\": \"white\", \"gridwidth\": 2, \"linecolor\": \"white\", \"showbackground\": true, \"ticks\": \"\", \"zerolinecolor\": \"white\"}, \"yaxis\": {\"backgroundcolor\": \"#E5ECF6\", \"gridcolor\": \"white\", \"gridwidth\": 2, \"linecolor\": \"white\", \"showbackground\": true, \"ticks\": \"\", \"zerolinecolor\": \"white\"}, \"zaxis\": {\"backgroundcolor\": \"#E5ECF6\", \"gridcolor\": \"white\", \"gridwidth\": 2, \"linecolor\": \"white\", \"showbackground\": true, \"ticks\": \"\", \"zerolinecolor\": \"white\"}}, \"shapedefaults\": {\"line\": {\"color\": \"#2a3f5f\"}}, \"ternary\": {\"aaxis\": {\"gridcolor\": \"white\", \"linecolor\": \"white\", \"ticks\": \"\"}, \"baxis\": {\"gridcolor\": \"white\", \"linecolor\": \"white\", \"ticks\": \"\"}, \"bgcolor\": \"#E5ECF6\", \"caxis\": {\"gridcolor\": \"white\", \"linecolor\": \"white\", \"ticks\": \"\"}}, \"title\": {\"x\": 0.05}, \"xaxis\": {\"automargin\": true, \"gridcolor\": \"white\", \"linecolor\": \"white\", \"ticks\": \"\", \"zerolinecolor\": \"white\", \"zerolinewidth\": 2}, \"yaxis\": {\"automargin\": true, \"gridcolor\": \"white\", \"linecolor\": \"white\", \"ticks\": \"\", \"zerolinecolor\": \"white\", \"zerolinewidth\": 2}}}, \"title\": {\"font\": {\"color\": \"#4D5663\"}}, \"xaxis\": {\"anchor\": \"y\", \"domain\": [0.0, 0.2125], \"gridcolor\": \"#E1E5ED\", \"showgrid\": false, \"tickfont\": {\"color\": \"#4D5663\"}, \"title\": {\"font\": {\"color\": \"#4D5663\"}, \"text\": \"\"}, \"zerolinecolor\": \"#E1E5ED\"}, \"xaxis10\": {\"anchor\": \"y10\", \"domain\": [0.2625, 0.475], \"gridcolor\": \"#E1E5ED\", \"showgrid\": false, \"tickfont\": {\"color\": \"#4D5663\"}, \"title\": {\"font\": {\"color\": \"#4D5663\"}, \"text\": \"\"}, \"zerolinecolor\": \"#E1E5ED\"}, \"xaxis11\": {\"anchor\": \"y11\", \"domain\": [0.525, 0.7375], \"gridcolor\": \"#E1E5ED\", \"showgrid\": false, \"tickfont\": {\"color\": \"#4D5663\"}, \"title\": {\"font\": {\"color\": \"#4D5663\"}, \"text\": \"\"}, \"zerolinecolor\": \"#E1E5ED\"}, \"xaxis12\": {\"anchor\": \"y12\", \"domain\": [0.7875, 1.0], \"gridcolor\": \"#E1E5ED\", \"showgrid\": false, \"tickfont\": {\"color\": \"#4D5663\"}, \"title\": {\"font\": {\"color\": \"#4D5663\"}, \"text\": \"\"}, \"zerolinecolor\": \"#E1E5ED\"}, \"xaxis13\": {\"anchor\": \"y13\", \"domain\": [0.0, 0.2125], \"gridcolor\": \"#E1E5ED\", \"showgrid\": false, \"tickfont\": {\"color\": \"#4D5663\"}, \"title\": {\"font\": {\"color\": \"#4D5663\"}, \"text\": \"\"}, \"zerolinecolor\": \"#E1E5ED\"}, \"xaxis14\": {\"anchor\": \"y14\", \"domain\": [0.2625, 0.475], \"gridcolor\": \"#E1E5ED\", \"showgrid\": false, \"tickfont\": {\"color\": \"#4D5663\"}, \"title\": {\"font\": {\"color\": \"#4D5663\"}, \"text\": \"\"}, \"zerolinecolor\": \"#E1E5ED\"}, \"xaxis15\": {\"anchor\": \"y15\", \"domain\": [0.525, 0.7375], \"gridcolor\": \"#E1E5ED\", \"showgrid\": false, \"tickfont\": {\"color\": \"#4D5663\"}, \"title\": {\"font\": {\"color\": \"#4D5663\"}, \"text\": \"\"}, \"zerolinecolor\": \"#E1E5ED\"}, \"xaxis16\": {\"anchor\": \"y16\", \"domain\": [0.7875, 1.0], \"gridcolor\": \"#E1E5ED\", \"showgrid\": false, \"tickfont\": {\"color\": \"#4D5663\"}, \"title\": {\"font\": {\"color\": \"#4D5663\"}, \"text\": \"\"}, \"zerolinecolor\": \"#E1E5ED\"}, \"xaxis2\": {\"anchor\": \"y2\", \"domain\": [0.2625, 0.475], \"gridcolor\": \"#E1E5ED\", \"showgrid\": false, \"tickfont\": {\"color\": \"#4D5663\"}, \"title\": {\"font\": {\"color\": \"#4D5663\"}, \"text\": \"\"}, \"zerolinecolor\": \"#E1E5ED\"}, \"xaxis3\": {\"anchor\": \"y3\", \"domain\": [0.525, 0.7375], \"gridcolor\": \"#E1E5ED\", \"showgrid\": false, \"tickfont\": {\"color\": \"#4D5663\"}, \"title\": {\"font\": {\"color\": \"#4D5663\"}, \"text\": \"\"}, \"zerolinecolor\": \"#E1E5ED\"}, \"xaxis4\": {\"anchor\": \"y4\", \"domain\": [0.7875, 1.0], \"gridcolor\": \"#E1E5ED\", \"showgrid\": false, \"tickfont\": {\"color\": \"#4D5663\"}, \"title\": {\"font\": {\"color\": \"#4D5663\"}, \"text\": \"\"}, \"zerolinecolor\": \"#E1E5ED\"}, \"xaxis5\": {\"anchor\": \"y5\", \"domain\": [0.0, 0.2125], \"gridcolor\": \"#E1E5ED\", \"showgrid\": false, \"tickfont\": {\"color\": \"#4D5663\"}, \"title\": {\"font\": {\"color\": \"#4D5663\"}, \"text\": \"\"}, \"zerolinecolor\": \"#E1E5ED\"}, \"xaxis6\": {\"anchor\": \"y6\", \"domain\": [0.2625, 0.475], \"gridcolor\": \"#E1E5ED\", \"showgrid\": false, \"tickfont\": {\"color\": \"#4D5663\"}, \"title\": {\"font\": {\"color\": \"#4D5663\"}, \"text\": \"\"}, \"zerolinecolor\": \"#E1E5ED\"}, \"xaxis7\": {\"anchor\": \"y7\", \"domain\": [0.525, 0.7375], \"gridcolor\": \"#E1E5ED\", \"showgrid\": false, \"tickfont\": {\"color\": \"#4D5663\"}, \"title\": {\"font\": {\"color\": \"#4D5663\"}, \"text\": \"\"}, \"zerolinecolor\": \"#E1E5ED\"}, \"xaxis8\": {\"anchor\": \"y8\", \"domain\": [0.7875, 1.0], \"gridcolor\": \"#E1E5ED\", \"showgrid\": false, \"tickfont\": {\"color\": \"#4D5663\"}, \"title\": {\"font\": {\"color\": \"#4D5663\"}, \"text\": \"\"}, \"zerolinecolor\": \"#E1E5ED\"}, \"xaxis9\": {\"anchor\": \"y9\", \"domain\": [0.0, 0.2125], \"gridcolor\": \"#E1E5ED\", \"showgrid\": false, \"tickfont\": {\"color\": \"#4D5663\"}, \"title\": {\"font\": {\"color\": \"#4D5663\"}, \"text\": \"\"}, \"zerolinecolor\": \"#E1E5ED\"}, \"yaxis\": {\"anchor\": \"x\", \"domain\": [0.8025, 1.0], \"gridcolor\": \"#E1E5ED\", \"showgrid\": false, \"tickfont\": {\"color\": \"#4D5663\"}, \"title\": {\"font\": {\"color\": \"#4D5663\"}, \"text\": \"\"}, \"zerolinecolor\": \"#E1E5ED\"}, \"yaxis10\": {\"anchor\": \"x10\", \"domain\": [0.2675, 0.465], \"gridcolor\": \"#E1E5ED\", \"showgrid\": false, \"tickfont\": {\"color\": \"#4D5663\"}, \"title\": {\"font\": {\"color\": \"#4D5663\"}, \"text\": \"\"}, \"zerolinecolor\": \"#E1E5ED\"}, \"yaxis11\": {\"anchor\": \"x11\", \"domain\": [0.2675, 0.465], \"gridcolor\": \"#E1E5ED\", \"showgrid\": false, \"tickfont\": {\"color\": \"#4D5663\"}, \"title\": {\"font\": {\"color\": \"#4D5663\"}, \"text\": \"\"}, \"zerolinecolor\": \"#E1E5ED\"}, \"yaxis12\": {\"anchor\": \"x12\", \"domain\": [0.2675, 0.465], \"gridcolor\": \"#E1E5ED\", \"showgrid\": false, \"tickfont\": {\"color\": \"#4D5663\"}, \"title\": {\"font\": {\"color\": \"#4D5663\"}, \"text\": \"\"}, \"zerolinecolor\": \"#E1E5ED\"}, \"yaxis13\": {\"anchor\": \"x13\", \"domain\": [0.0, 0.1975], \"gridcolor\": \"#E1E5ED\", \"showgrid\": false, \"tickfont\": {\"color\": \"#4D5663\"}, \"title\": {\"font\": {\"color\": \"#4D5663\"}, \"text\": \"\"}, \"zerolinecolor\": \"#E1E5ED\"}, \"yaxis14\": {\"anchor\": \"x14\", \"domain\": [0.0, 0.1975], \"gridcolor\": \"#E1E5ED\", \"showgrid\": false, \"tickfont\": {\"color\": \"#4D5663\"}, \"title\": {\"font\": {\"color\": \"#4D5663\"}, \"text\": \"\"}, \"zerolinecolor\": \"#E1E5ED\"}, \"yaxis15\": {\"anchor\": \"x15\", \"domain\": [0.0, 0.1975], \"gridcolor\": \"#E1E5ED\", \"showgrid\": false, \"tickfont\": {\"color\": \"#4D5663\"}, \"title\": {\"font\": {\"color\": \"#4D5663\"}, \"text\": \"\"}, \"zerolinecolor\": \"#E1E5ED\"}, \"yaxis16\": {\"anchor\": \"x16\", \"domain\": [0.0, 0.1975], \"gridcolor\": \"#E1E5ED\", \"showgrid\": false, \"tickfont\": {\"color\": \"#4D5663\"}, \"title\": {\"font\": {\"color\": \"#4D5663\"}, \"text\": \"\"}, \"zerolinecolor\": \"#E1E5ED\"}, \"yaxis2\": {\"anchor\": \"x2\", \"domain\": [0.8025, 1.0], \"gridcolor\": \"#E1E5ED\", \"showgrid\": false, \"tickfont\": {\"color\": \"#4D5663\"}, \"title\": {\"font\": {\"color\": \"#4D5663\"}, \"text\": \"\"}, \"zerolinecolor\": \"#E1E5ED\"}, \"yaxis3\": {\"anchor\": \"x3\", \"domain\": [0.8025, 1.0], \"gridcolor\": \"#E1E5ED\", \"showgrid\": false, \"tickfont\": {\"color\": \"#4D5663\"}, \"title\": {\"font\": {\"color\": \"#4D5663\"}, \"text\": \"\"}, \"zerolinecolor\": \"#E1E5ED\"}, \"yaxis4\": {\"anchor\": \"x4\", \"domain\": [0.8025, 1.0], \"gridcolor\": \"#E1E5ED\", \"showgrid\": false, \"tickfont\": {\"color\": \"#4D5663\"}, \"title\": {\"font\": {\"color\": \"#4D5663\"}, \"text\": \"\"}, \"zerolinecolor\": \"#E1E5ED\"}, \"yaxis5\": {\"anchor\": \"x5\", \"domain\": [0.535, 0.7325], \"gridcolor\": \"#E1E5ED\", \"showgrid\": false, \"tickfont\": {\"color\": \"#4D5663\"}, \"title\": {\"font\": {\"color\": \"#4D5663\"}, \"text\": \"\"}, \"zerolinecolor\": \"#E1E5ED\"}, \"yaxis6\": {\"anchor\": \"x6\", \"domain\": [0.535, 0.7325], \"gridcolor\": \"#E1E5ED\", \"showgrid\": false, \"tickfont\": {\"color\": \"#4D5663\"}, \"title\": {\"font\": {\"color\": \"#4D5663\"}, \"text\": \"\"}, \"zerolinecolor\": \"#E1E5ED\"}, \"yaxis7\": {\"anchor\": \"x7\", \"domain\": [0.535, 0.7325], \"gridcolor\": \"#E1E5ED\", \"showgrid\": false, \"tickfont\": {\"color\": \"#4D5663\"}, \"title\": {\"font\": {\"color\": \"#4D5663\"}, \"text\": \"\"}, \"zerolinecolor\": \"#E1E5ED\"}, \"yaxis8\": {\"anchor\": \"x8\", \"domain\": [0.535, 0.7325], \"gridcolor\": \"#E1E5ED\", \"showgrid\": false, \"tickfont\": {\"color\": \"#4D5663\"}, \"title\": {\"font\": {\"color\": \"#4D5663\"}, \"text\": \"\"}, \"zerolinecolor\": \"#E1E5ED\"}, \"yaxis9\": {\"anchor\": \"x9\", \"domain\": [0.2675, 0.465], \"gridcolor\": \"#E1E5ED\", \"showgrid\": false, \"tickfont\": {\"color\": \"#4D5663\"}, \"title\": {\"font\": {\"color\": \"#4D5663\"}, \"text\": \"\"}, \"zerolinecolor\": \"#E1E5ED\"}},\n",
       "                        {\"showLink\": true, \"linkText\": \"Export to plot.ly\", \"plotlyServerURL\": \"https://plot.ly\", \"responsive\": true}\n",
       "                    ).then(function(){\n",
       "                            \n",
       "var gd = document.getElementById('5945243f-417e-4e33-9f94-b32b7b2600cc');\n",
       "var x = new MutationObserver(function (mutations, observer) {{\n",
       "        var display = window.getComputedStyle(gd).display;\n",
       "        if (!display || display === 'none') {{\n",
       "            console.log([gd, 'removed!']);\n",
       "            Plotly.purge(gd);\n",
       "            observer.disconnect();\n",
       "        }}\n",
       "}});\n",
       "\n",
       "// Listen for the removal of the full notebook cells\n",
       "var notebookContainer = gd.closest('#notebook-container');\n",
       "if (notebookContainer) {{\n",
       "    x.observe(notebookContainer, {childList: true});\n",
       "}}\n",
       "\n",
       "// Listen for the clearing of the current output cell\n",
       "var outputEl = gd.closest('.output');\n",
       "if (outputEl) {{\n",
       "    x.observe(outputEl, {childList: true});\n",
       "}}\n",
       "\n",
       "                        })\n",
       "                };\n",
       "                });\n",
       "            </script>\n",
       "        </div>"
      ]
     },
     "metadata": {},
     "output_type": "display_data"
    }
   ],
   "source": [
    "df.scatter_matrix()"
   ]
  }
 ],
 "metadata": {
  "kernelspec": {
   "display_name": "Python 3",
   "language": "python",
   "name": "python3"
  },
  "language_info": {
   "codemirror_mode": {
    "name": "ipython",
    "version": 3
   },
   "file_extension": ".py",
   "mimetype": "text/x-python",
   "name": "python",
   "nbconvert_exporter": "python",
   "pygments_lexer": "ipython3",
   "version": "3.7.5"
  }
 },
 "nbformat": 4,
 "nbformat_minor": 1
}
